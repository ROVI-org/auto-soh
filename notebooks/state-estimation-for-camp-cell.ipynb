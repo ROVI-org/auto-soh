{
 "cells": [
  {
   "cell_type": "markdown",
   "id": "1a4c6405-3c35-4919-a2e3-a857b4630b8b",
   "metadata": {},
   "source": [
    "# State Estimation for NMC Battery Data\n",
    "This notebook demonstrates the process of state estimation from battery data collected from the [CAMP Facility](https://www.anl.gov/cse/cell-analysis-modeling-and-prototyping-camp-facility) and published at the [Materials Data Facility](https://doi.org/10.18126/fdxq-7yul)."
   ]
  },
  {
   "cell_type": "code",
   "execution_count": 4,
   "id": "370d0763-589f-43b2-a133-99bcd0406433",
   "metadata": {},
   "outputs": [],
   "source": [
    "%matplotlib inline\n",
    "from moirae.estimators.online.joint import JointEstimator\n",
    "from moirae.estimators.offline.loss import MeanSquaredLoss\n",
    "from moirae.estimators.offline.scipy import ScipyMinimizer, ScipyDifferentialEvolution\n",
    "from moirae.models.ecm import EquivalentCircuitModel as ECM\n",
    "from moirae.models.ecm.components import Resistance, OpenCircuitVoltage, MaxTheoreticalCapacity, ReferenceOCV\n",
    "from moirae.simulator import Simulator\n",
    "from moirae.models.ecm import ECMASOH, ECMTransientVector, ECMInput, ECMMeasurement\n",
    "from moirae.interface import run_online_estimate\n",
    "from matplotlib import pyplot as plt\n",
    "from scipy.interpolate import interp1d\n",
    "from batdata.data import BatteryDataset\n",
    "from shutil import copyfileobj\n",
    "from pathlib import Path\n",
    "import numpy as np\n",
    "import requests"
   ]
  },
  {
   "cell_type": "markdown",
   "id": "7f2f15e2-fc5e-4619-89be-5239b3b851d0",
   "metadata": {},
   "source": [
    "Configuration"
   ]
  },
  {
   "cell_type": "code",
   "execution_count": 5,
   "id": "a05e7ebd-c5bc-40b0-84b7-77e83fbdabd7",
   "metadata": {},
   "outputs": [],
   "source": [
    "data_url = 'https://data.materialsdatafacility.org/mdf_open/camp_2023_v3.5/hdf5/refined/batch_B10A_cell_3.h5'\n",
    "num_soc_steps: int = 9  # Number of interpolation steps in the OCV measurements\n",
    "data_dir = Path('data')"
   ]
  },
  {
   "cell_type": "code",
   "execution_count": 6,
   "id": "f7c31634-2789-464c-a4ff-2a27f274899d",
   "metadata": {},
   "outputs": [],
   "source": [
    "data_dir.mkdir(exist_ok=True)"
   ]
  },
  {
   "cell_type": "markdown",
   "id": "f98fba0d-cc8a-4288-aafe-a53acb287adc",
   "metadata": {},
   "source": [
    "## Download and Parse the Data\n",
    "Download the data using HTTP and store locally"
   ]
  },
  {
   "cell_type": "code",
   "execution_count": 7,
   "id": "a364f83e-146d-42ce-bad9-9d3a154af168",
   "metadata": {},
   "outputs": [
    {
     "name": "stdout",
     "output_type": "stream",
     "text": [
      "Saving data to data/batch_B10A_cell_3.h5\n"
     ]
    }
   ],
   "source": [
    "data_path = data_dir / data_url.split(\"/\")[-1]\n",
    "print(f'Saving data to {data_path}')"
   ]
  },
  {
   "cell_type": "markdown",
   "id": "1b1ed8ed-51fc-4c02-af0c-15a43bb13024",
   "metadata": {},
   "source": [
    "Download if not present"
   ]
  },
  {
   "cell_type": "code",
   "execution_count": 8,
   "id": "ba583578-20d6-43c5-881d-4d9222ff47c2",
   "metadata": {},
   "outputs": [],
   "source": [
    "if not data_path.exists():\n",
    "    with data_path.open('wb') as fp:\n",
    "        copyfileobj(requests.get(data_url, stream=True).raw, fp)"
   ]
  },
  {
   "cell_type": "code",
   "execution_count": 9,
   "id": "661c3da3-164b-42e5-9832-b7b51cd8ef30",
   "metadata": {},
   "outputs": [],
   "source": [
    "dataset = BatteryDataset.from_batdata_hdf(data_path)"
   ]
  },
  {
   "cell_type": "code",
   "execution_count": 10,
   "id": "730aa61c-c68b-48db-866b-6be53881ca8c",
   "metadata": {},
   "outputs": [
    {
     "data": {
      "text/plain": [
       "{'name': 'CAMP_batch_B10A_cell_3',\n",
       " 'battery': {'layer_count': 2,\n",
       "  'anode': {'name': 'C',\n",
       "   'supplier': 'Commercial',\n",
       "   'product': 'Graphite',\n",
       "   'thickness': 92.0,\n",
       "   'loading': 6.75,\n",
       "   'porosity': 32.2},\n",
       "  'cathode': {'name': 'NMC532',\n",
       "   'supplier': 'Commercial',\n",
       "   'thickness': 94.0,\n",
       "   'area': 785.1199999999999,\n",
       "   'loading': 12.7,\n",
       "   'porosity': 33.8},\n",
       "  'electrolyte': {'name': 'Gen 2'},\n",
       "  'nominal_capacity': 1.5},\n",
       " 'dataset_name': 'camp_2023',\n",
       " 'authors': [('Logan', 'Ward'),\n",
       "  ('Joseph', 'Kubal'),\n",
       "  ('Susan J.', 'Babinec'),\n",
       "  ('Wenquan', 'Lu'),\n",
       "  ('Allison', 'Dunlop'),\n",
       "  ('Steve', 'Trask'),\n",
       "  ('Andrew', 'Jansen'),\n",
       "  ('Noah H.', 'Paulson')],\n",
       " 'associated_ids': [Url('https://doi.org/10.1016/j.jpowsour.2022.231127')]}"
      ]
     },
     "execution_count": 10,
     "metadata": {},
     "output_type": "execute_result"
    }
   ],
   "source": [
    "dataset.metadata.model_dump(exclude_defaults=True)"
   ]
  },
  {
   "cell_type": "markdown",
   "id": "cd24d9b1-a645-482c-95ac-ab17449f08ca",
   "metadata": {},
   "source": [
    "## Get Initial Parameter Estimates for Equivalent Circuit Parameters\n",
    "Let's start with some educated guesses for the parameters. \n",
    "\n",
    "First up, make a model for the open circuit voltage using a regular cycle"
   ]
  },
  {
   "cell_type": "code",
   "execution_count": 11,
   "id": "1bc419aa-cdd7-4374-bc42-15273ebe00d3",
   "metadata": {},
   "outputs": [],
   "source": [
    "initial_cycles = dataset.raw_data.query('816 < cycle_number < 840')  # Get cycles after some initial tests"
   ]
  },
  {
   "cell_type": "code",
   "execution_count": 12,
   "id": "b45e8e3e-2b21-4db8-a6e3-22d00ced2d3b",
   "metadata": {},
   "outputs": [
    {
     "data": {
      "image/png": "[encoded data removed]",
      "text/plain": [
       "<Figure size 350x210 with 1 Axes>"
      ]
     },
     "metadata": {},
     "output_type": "display_data"
    }
   ],
   "source": [
    "fig, ax = plt.subplots(figsize=(3.5, 2.1))\n",
    "\n",
    "ax.plot(initial_cycles['test_time'] / 3600, -initial_cycles['cycle_capacity'])\n",
    "\n",
    "ax.set_xlabel('Test Time (hr)')\n",
    "ax.set_ylabel('$\\Delta$ Charge (A-hr)')\n",
    "fig.tight_layout()"
   ]
  },
  {
   "cell_type": "markdown",
   "id": "f2540a7f-0625-47da-82fc-092d09105b43",
   "metadata": {},
   "source": [
    "Estimate a capacity by getting the maximum amount of energy added to the battery"
   ]
  },
  {
   "cell_type": "code",
   "execution_count": 13,
   "id": "206471d9-5dc0-4b3d-91ab-a93f2a27dfd1",
   "metadata": {},
   "outputs": [
    {
     "data": {
      "text/plain": [
       "count    23.000000\n",
       "mean      0.823703\n",
       "std       0.180185\n",
       "min      -0.000000\n",
       "25%       0.854375\n",
       "50%       0.858214\n",
       "75%       0.860809\n",
       "max       0.924829\n",
       "Name: cycle_capacity, dtype: float64"
      ]
     },
     "execution_count": 13,
     "metadata": {},
     "output_type": "execute_result"
    }
   ],
   "source": [
    "cycle_capacities = -initial_cycles.groupby('cycle_number')['cycle_capacity'].min()\n",
    "cycle_capacities.describe()"
   ]
  },
  {
   "cell_type": "code",
   "execution_count": 14,
   "id": "f9a9c904-be07-496a-aa55-9c46abc629c5",
   "metadata": {},
   "outputs": [
    {
     "name": "stdout",
     "output_type": "stream",
     "text": [
      "Initial capacity estimate is 0.86 A-hr\n"
     ]
    }
   ],
   "source": [
    "initial_capacity = cycle_capacities.median()\n",
    "print(f'Initial capacity estimate is {initial_capacity:.2f} A-hr')"
   ]
  },
  {
   "cell_type": "markdown",
   "id": "e24656bf-3fba-4228-9558-f4aaa9c31047",
   "metadata": {},
   "source": [
    "Estimate the Open Circuit Voltage by measuring the voltage at different states of charge during both charge and discharge"
   ]
  },
  {
   "cell_type": "code",
   "execution_count": 15,
   "id": "97c9f020-e7ec-4541-8d29-6f19cfcc69bf",
   "metadata": {},
   "outputs": [],
   "source": [
    "discharging = initial_cycles.query('state == \"discharging\"')\n",
    "charging = initial_cycles.query('state == \"charging\"')"
   ]
  },
  {
   "cell_type": "code",
   "execution_count": 16,
   "id": "8130b110-e518-46c3-8ca5-79e9417dcd41",
   "metadata": {},
   "outputs": [],
   "source": [
    "def get_voltage_measurments(subset):\n",
    "    \"\"\"Determine measurements at different SOCs\"\"\"\n",
    "\n",
    "    voltage_steps = np.zeros((len(set(subset['cycle_number'])), num_soc_steps))\n",
    "    for i, (_, group) in enumerate(subset.groupby('cycle_number')):\n",
    "        group = group.sort_values('cycle_capacity')\n",
    "        f = interp1d(-group['cycle_capacity'], group['voltage'])\n",
    "        steps = np.linspace(\n",
    "            -group['cycle_capacity'].max(), \n",
    "            -group['cycle_capacity'].min(),\n",
    "            num_soc_steps\n",
    "        )\n",
    "        voltage_steps[i, :] = f(steps)\n",
    "    return voltage_steps.mean(axis=0)"
   ]
  },
  {
   "cell_type": "code",
   "execution_count": 17,
   "id": "89b13703-02dd-4b76-85fb-e62e60c5a164",
   "metadata": {},
   "outputs": [],
   "source": [
    "discharge_volt = get_voltage_measurments(discharging)\n",
    "charge_volt = get_voltage_measurments(charging)\n",
    "ocv = 0.5 * (discharge_volt + charge_volt)"
   ]
  },
  {
   "cell_type": "code",
   "execution_count": 18,
   "id": "eae01b6d-2abe-4497-a995-4ec42895479e",
   "metadata": {},
   "outputs": [
    {
     "data": {
      "image/png": "[encoded data removed]",
      "text/plain": [
       "<Figure size 350x210 with 1 Axes>"
      ]
     },
     "metadata": {},
     "output_type": "display_data"
    }
   ],
   "source": [
    "fig, ax = plt.subplots(figsize=(3.5, 2.1))\n",
    "\n",
    "soc_values = np.linspace(0, 1, num_soc_steps)\n",
    "for subset, points, color in [(discharging, discharge_volt, 'blue'), (charging, charge_volt, 'red')]:\n",
    "    for gid, group in subset.groupby('cycle_number'):\n",
    "        ax.plot(-group['cycle_capacity'] / initial_capacity, group['voltage'], alpha=0.1, color=color)\n",
    "    ax.scatter(soc_values, points, marker='o', color=color)\n",
    "ax.plot(soc_values, ocv, '--x', color='purple')\n",
    "\n",
    "ax.set_xlabel('SOC')\n",
    "ax.set_ylabel('V')\n",
    "fig.tight_layout()"
   ]
  },
  {
   "cell_type": "markdown",
   "id": "c4cd6140-fa07-4d16-973f-fc60e14f46c1",
   "metadata": {},
   "source": [
    "Estimate a SOC-dependent series resistance based on the difference in voltage between charge and discharge and the charge difference\n",
    "\n",
    "$V_c - V_d = OCV + I_c R - (OCV - I_d R) = (I_c + I_d)R$"
   ]
  },
  {
   "cell_type": "code",
   "execution_count": 19,
   "id": "d8698b25-9663-4683-89e8-4208db6b6ddb",
   "metadata": {},
   "outputs": [
    {
     "name": "stdout",
     "output_type": "stream",
     "text": [
      "Charge current 0.9 A. Discharge current 1.0 A\n"
     ]
    }
   ],
   "source": [
    "charge_current = charging['current'].abs().mean()\n",
    "discharge_current = discharging['current'].abs().mean()\n",
    "print(f'Charge current {charge_current:.1f} A. Discharge current {discharge_current:.1f} A')"
   ]
  },
  {
   "cell_type": "code",
   "execution_count": 20,
   "id": "4731bcdd-f5ff-48b6-ba6d-fbf8705a6681",
   "metadata": {},
   "outputs": [],
   "source": [
    "r_serial = (charge_volt - discharge_volt) / (discharge_current + charge_current)"
   ]
  },
  {
   "cell_type": "markdown",
   "id": "b5f09f27-5684-4ba5-9ea0-6ae33715d1f2",
   "metadata": {},
   "source": [
    "## Create a ECM Model\n",
    "Models in Moirae require definine the parameters of the system as type of `HealthVariable` class which corresponds to a certain `CellModel`."
   ]
  },
  {
   "cell_type": "code",
   "execution_count": 21,
   "id": "763cd01c-8fda-440e-865a-62723945ac8a",
   "metadata": {},
   "outputs": [],
   "source": [
    "asoh = ECMASOH(\n",
    "    q_t=MaxTheoreticalCapacity(base_values=initial_capacity),\n",
    "    r0=Resistance(base_values=r_serial),\n",
    "    ocv=OpenCircuitVoltage(\n",
    "        ocv_ref=ReferenceOCV(base_values=ocv),\n",
    "        ocv_ent={'base_values': 0}\n",
    "    )\n",
    ")"
   ]
  },
  {
   "cell_type": "markdown",
   "id": "d9eab7fd-79bd-4d22-9235-9e14fcc8d7a9",
   "metadata": {},
   "source": [
    "The transient state of the battery system (e.g., its state of charge) is represented by a `ECMTransientVector` class."
   ]
  },
  {
   "cell_type": "code",
   "execution_count": 22,
   "id": "1a5c36b0-88a1-4648-bf64-a18e35eb190a",
   "metadata": {},
   "outputs": [],
   "source": [
    "ecm_start = ECMTransientVector(soc=0.)"
   ]
  },
  {
   "cell_type": "markdown",
   "id": "1fee97a2-4ffc-4318-b804-202810fec17e",
   "metadata": {},
   "source": [
    "Let's simulate a cycle then show it's pretty similar to supplied data. It will also need to now the starting inputs applied to the circuit (rest at 25C at the time at the beginning of the test)."
   ]
  },
  {
   "cell_type": "code",
   "execution_count": 23,
   "id": "19614357-c69c-40ff-a15c-582d47ee46fc",
   "metadata": {},
   "outputs": [],
   "source": [
    "simulator = Simulator(\n",
    "    cell_model=ECM(),\n",
    "    asoh=asoh,\n",
    "    transient_state=ecm_start,\n",
    "    initial_input=ECMInput(time=initial_cycles.test_time.min(), current=0, temperature=25)\n",
    ")"
   ]
  },
  {
   "cell_type": "code",
   "execution_count": 24,
   "id": "71c884ba-2266-40f9-a0eb-58eaefb10a60",
   "metadata": {},
   "outputs": [
    {
     "name": "stdout",
     "output_type": "stream",
     "text": [
      "CPU times: user 923 ms, sys: 0 ns, total: 923 ms\n",
      "Wall time: 918 ms\n"
     ]
    }
   ],
   "source": [
    "%%time\n",
    "sim_voltages = np.zeros((len(initial_cycles),))\n",
    "sim_soc = np.zeros((len(initial_cycles),))\n",
    "for j, (t, i) in enumerate(zip(initial_cycles['test_time'], initial_cycles['current'])):\n",
    "    state, outputs = simulator.step(ECMInput(time=t, current=-i, temperature=25.))  # Moirae \n",
    "    sim_voltages[j] = outputs.terminal_voltage.item()  # terminal voltage is a (1, 1) array\n",
    "    sim_soc[j] = state.soc.item()"
   ]
  },
  {
   "cell_type": "code",
   "execution_count": 25,
   "id": "ca85cfc0-34a3-4619-b895-8f3b3578c1bd",
   "metadata": {},
   "outputs": [
    {
     "data": {
      "text/plain": [
       "Text(0, 0.5, 'Voltage')"
      ]
     },
     "execution_count": 25,
     "metadata": {},
     "output_type": "execute_result"
    },
    {
     "data": {
      "image/png": "[encoded data removed]",
      "text/plain": [
       "<Figure size 350x210 with 1 Axes>"
      ]
     },
     "metadata": {},
     "output_type": "display_data"
    }
   ],
   "source": [
    "fig, ax = plt.subplots(figsize=(3.5, 2.1))\n",
    "\n",
    "ax.plot(initial_cycles['test_time'] / 3600, initial_cycles['voltage'], 'k')\n",
    "ax.plot(initial_cycles['test_time'] / 3600, sim_voltages, 'r', alpha=0.75)\n",
    "\n",
    "ax.set_xlabel('Time (hr)')\n",
    "ax.set_ylabel('Voltage')"
   ]
  },
  {
   "cell_type": "markdown",
   "id": "a29f068d-cc5f-465a-b6b5-86eb13a922d1",
   "metadata": {},
   "source": [
    "The simulator recreates the observed voltage decently but diverges from observations over time. Online parameter estimation will ensure the simulated physics model stays more consistant."
   ]
  },
  {
   "cell_type": "markdown",
   "id": "983ef9b9-0041-4950-bd26-14f7dda7697a",
   "metadata": {},
   "source": [
    "## Refine Estimates Using Scipy Optimizer\n",
    "Our initial guesses are defined using simple rules, and we can do better by fitting them to the available data.\n",
    "\n",
    "The first step is to define a loss function, which requires:\n",
    "- The physics models\n",
    "- A guess for the initial transient state\n",
    "- A guess for the ASOH parameters\n",
    "- The data used to estimate parameters"
   ]
  },
  {
   "cell_type": "code",
   "execution_count": 26,
   "id": "2979a238-c2ae-41f0-9365-14b4c722812b",
   "metadata": {},
   "outputs": [
    {
     "name": "stdout",
     "output_type": "stream",
     "text": [
      "Made 9 parameters updatable\n"
     ]
    }
   ],
   "source": [
    "for p in ['r0.base_values']:\n",
    "    asoh.mark_updatable(p) \n",
    "print(f'Made {asoh.num_updatable} parameters updatable')"
   ]
  },
  {
   "cell_type": "code",
   "execution_count": 27,
   "id": "df44ba12-651a-4503-ad53-db7fb001b032",
   "metadata": {},
   "outputs": [],
   "source": [
    "loss = MeanSquaredLoss(\n",
    "    cell_model=ECM(),\n",
    "    transient_state=ecm_start,\n",
    "    asoh=asoh,\n",
    "    observations=BatteryDataset(raw_data=initial_cycles)\n",
    ")"
   ]
  },
  {
   "cell_type": "markdown",
   "id": "5c0727fe-7d13-467c-af19-7764c26be579",
   "metadata": {},
   "source": [
    "Then define the optimizer. We'll use Scipy's minimize function using the Nedler-Mead optimizer, a optimizer that completes iterations quickly.\n",
    "\n",
    "> WARNING: We use only 4 iterations because too much fitting leads to overfitting to these limited cycles. The solution to this issue is something we're still pondering."
   ]
  },
  {
   "cell_type": "code",
   "execution_count": 28,
   "id": "902ab548-e7df-4553-85b8-e9c2b9ace7c3",
   "metadata": {},
   "outputs": [
    {
     "name": "stdout",
     "output_type": "stream",
     "text": [
      "CPU times: user 19.2 s, sys: 0 ns, total: 19.2 s\n",
      "Wall time: 19.2 s\n"
     ]
    },
    {
     "data": {
      "text/plain": [
       "       message: Maximum number of iterations has been exceeded.\n",
       "       success: False\n",
       "        status: 2\n",
       "           fun: 0.9930528540480106\n",
       "             x: [ 6.818e-05  6.818e-05  9.510e-02  1.118e-01  1.029e-01\n",
       "                  1.129e-01  1.150e-01  1.153e-01  1.126e-01  9.287e-02\n",
       "                  3.825e-02]\n",
       "           nit: 4\n",
       "          nfev: 16\n",
       " final_simplex: (array([[ 6.818e-05,  6.818e-05, ...,  9.287e-02,\n",
       "                         3.825e-02],\n",
       "                       [-3.080e-05, -2.271e-04, ...,  1.010e-01,\n",
       "                         3.825e-02],\n",
       "                       ...,\n",
       "                       [ 0.000e+00,  0.000e+00, ...,  1.032e-01,\n",
       "                         3.773e-02],\n",
       "                       [ 0.000e+00,  0.000e+00, ...,  1.032e-01,\n",
       "                         3.773e-02]]), array([ 9.931e-01,  9.965e-01,  9.970e-01,  9.976e-01,\n",
       "                        9.999e-01,  1.000e+00,  1.000e+00,  1.000e+00,\n",
       "                        1.000e+00,  1.000e+00,  1.000e+00,  1.000e+00]))"
      ]
     },
     "execution_count": 28,
     "metadata": {},
     "output_type": "execute_result"
    }
   ],
   "source": [
    "%%time\n",
    "opt = ScipyMinimizer(loss, method='Nelder-Mead', options=dict(maxiter=4))\n",
    "fit_state, fit_asoh, result = opt.estimate()\n",
    "result"
   ]
  },
  {
   "cell_type": "markdown",
   "id": "325ab5f3-28dc-4c3d-9dd4-7a4ebcd85452",
   "metadata": {},
   "source": [
    "Plot the changes"
   ]
  },
  {
   "cell_type": "code",
   "execution_count": 29,
   "id": "fb846bf4-58dc-468e-a2f4-8a98a707e79c",
   "metadata": {},
   "outputs": [
    {
     "data": {
      "image/png": "[encoded data removed]",
      "text/plain": [
       "<Figure size 350x250 with 1 Axes>"
      ]
     },
     "metadata": {},
     "output_type": "display_data"
    }
   ],
   "source": [
    "fig, ax = plt.subplots(figsize=(3.5, 2.5))\n",
    "\n",
    "change = 100 * (np.divide(fit_asoh.get_parameters(), asoh.get_parameters())[0, :] - 1)\n",
    "x = np.arange(len(change))\n",
    "ax.bar(x, change)\n",
    "\n",
    "ax.set_ylabel('Change (%)')\n",
    "ax.set_xticks(x)\n",
    "ax.set_xticklabels(\n",
    "    [x.replace('.base_values', '').replace('ocv_ref', '') for x in asoh.expand_names(asoh.updatable_names)],\n",
    "    fontsize=9,\n",
    "    rotation='vertical'\n",
    ")\n",
    "fig.tight_layout()"
   ]
  },
  {
   "cell_type": "markdown",
   "id": "f5d8c343-4385-4d12-9235-aaf15608e6ee",
   "metadata": {},
   "source": [
    "Show the changes on the predicted cycle life"
   ]
  },
  {
   "cell_type": "code",
   "execution_count": 30,
   "id": "67b13b0c-ed02-4576-9aa2-e69f932ef28f",
   "metadata": {},
   "outputs": [],
   "source": [
    "simulator = Simulator(\n",
    "    cell_model=ECM(),\n",
    "    asoh=fit_asoh,\n",
    "    transient_state=fit_state,\n",
    "    initial_input=ECMInput(time=initial_cycles.test_time.min(), current=0, temperature=25)\n",
    ")"
   ]
  },
  {
   "cell_type": "code",
   "execution_count": 31,
   "id": "9bb62be4-8853-480a-8b1b-f3df0c8a1692",
   "metadata": {},
   "outputs": [
    {
     "name": "stdout",
     "output_type": "stream",
     "text": [
      "CPU times: user 971 ms, sys: 0 ns, total: 971 ms\n",
      "Wall time: 963 ms\n"
     ]
    }
   ],
   "source": [
    "%%time\n",
    "fit_sim_voltages = np.zeros((len(initial_cycles),))\n",
    "fit_sim_soc = np.zeros((len(initial_cycles),))\n",
    "for j, (t, i) in enumerate(zip(initial_cycles['test_time'], initial_cycles['current'])):\n",
    "    state, outputs = simulator.step(ECMInput(time=t, current=-i, temperature=25.))  # Moirae \n",
    "    fit_sim_voltages[j] = outputs.terminal_voltage.item()  # terminal voltage is a (1, 1) array\n",
    "    fit_sim_soc[j] = state.soc.item()"
   ]
  },
  {
   "cell_type": "code",
   "execution_count": 32,
   "id": "3391ea14-7098-43fe-b4c1-011d69fe0604",
   "metadata": {},
   "outputs": [
    {
     "data": {
      "text/plain": [
       "ECMTransientVector(soc=array([[6.81818182e-05]]), q0=None, i_rc=array([], shape=(1, 0), dtype=float64), hyst=array([[6.81818182e-05]]))"
      ]
     },
     "execution_count": 32,
     "metadata": {},
     "output_type": "execute_result"
    }
   ],
   "source": [
    "fit_state"
   ]
  },
  {
   "cell_type": "code",
   "execution_count": 33,
   "id": "d4f68650-5f9d-4ce4-bcf7-7d74d60bd9aa",
   "metadata": {},
   "outputs": [
    {
     "data": {
      "text/plain": [
       "Text(0, 0.5, 'Voltage')"
      ]
     },
     "execution_count": 33,
     "metadata": {},
     "output_type": "execute_result"
    },
    {
     "data": {
      "image/png": "[encoded data removed]",
      "text/plain": [
       "<Figure size 350x210 with 1 Axes>"
      ]
     },
     "metadata": {},
     "output_type": "display_data"
    }
   ],
   "source": [
    "fig, ax = plt.subplots(figsize=(3.5, 2.1))\n",
    "\n",
    "ax.plot(initial_cycles['test_time'] / 3600, initial_cycles['voltage'], 'k')\n",
    "ax.plot(initial_cycles['test_time'] / 3600, fit_sim_voltages, 'r', alpha=0.75)\n",
    "\n",
    "ax.set_xlabel('Time (hr)')\n",
    "ax.set_ylabel('Voltage')"
   ]
  },
  {
   "cell_type": "markdown",
   "id": "4d01a290-8b74-4ac8-9e43-c7e20f39a247",
   "metadata": {},
   "source": [
    "## Use Global Optimizer as Comparsion\n",
    "This time, let's try using a global optimizer and see if we get a better fitting result"
   ]
  },
  {
   "cell_type": "code",
   "execution_count": 39,
   "id": "5f15dc42-e292-4cd6-b380-912ff34dc77b",
   "metadata": {},
   "outputs": [
    {
     "name": "stdout",
     "output_type": "stream",
     "text": [
      "CPU times: user 11min 55s, sys: 356 ms, total: 11min 55s\n",
      "Wall time: 11min 54s\n"
     ]
    },
    {
     "data": {
      "text/plain": [
       "             message: Maximum number of iterations has been exceeded.\n",
       "             success: False\n",
       "                 fun: 0.9223838233582755\n",
       "                   x: [ 0.000e+00  0.000e+00  1.674e-01  1.037e-01\n",
       "                        1.186e-01  9.050e-02  1.215e-01  9.288e-02\n",
       "                        1.246e-01  5.942e-02  1.328e-01]\n",
       "                 nit: 1\n",
       "                nfev: 558\n",
       "          population: [[ 2.436e-04  1.522e-05 ...  3.736e-02  1.218e-01]\n",
       "                       [ 2.088e-04  2.088e-04 ...  2.506e-01  4.068e-02]\n",
       "                       ...\n",
       "                       [ 1.592e-04  1.492e-04 ...  2.362e-02  8.314e-02]\n",
       "                       [ 9.414e-05  9.138e-06 ...  4.718e-02  1.805e-01]]\n",
       " population_energies: [ 9.224e-01  1.562e+00 ...  1.411e+00  9.875e-01]\n",
       "                 jac: [ 6.043e+00  5.104e+00  8.993e-07 -8.215e-05\n",
       "                        2.920e-06  1.282e-05 -3.213e-05  2.661e-05\n",
       "                        2.170e-05  1.923e-04 -3.007e-04]"
      ]
     },
     "execution_count": 39,
     "metadata": {},
     "output_type": "execute_result"
    }
   ],
   "source": [
    "%%time\n",
    "# estimate crude bounds for the optimization based on the previously optimized parameters\n",
    "bounds = np.zeros((result.x.size, 2))\n",
    "bounds[:, 1] = 5*result.x\n",
    "opt = ScipyDifferentialEvolution(loss, bounds=bounds, maxiter=1)\n",
    "fit_state, fit_asoh, result = opt.estimate()\n",
    "result"
   ]
  },
  {
   "cell_type": "code",
   "execution_count": 40,
   "id": "87cecda0-947e-4f68-9759-3e56bc557d9a",
   "metadata": {},
   "outputs": [],
   "source": [
    "simulator = Simulator(\n",
    "    cell_model=ECM(),\n",
    "    asoh=fit_asoh,\n",
    "    transient_state=fit_state,\n",
    "    initial_input=ECMInput(time=initial_cycles.test_time.min(), current=0, temperature=25)\n",
    ")"
   ]
  },
  {
   "cell_type": "code",
   "execution_count": 41,
   "id": "07110791-b1ba-46bd-80b6-94ced5a2e67d",
   "metadata": {},
   "outputs": [
    {
     "name": "stdout",
     "output_type": "stream",
     "text": [
      "CPU times: user 1.14 s, sys: 5 μs, total: 1.14 s\n",
      "Wall time: 1.13 s\n"
     ]
    }
   ],
   "source": [
    "%%time\n",
    "fit_sim_voltages = np.zeros((len(initial_cycles),))\n",
    "fit_sim_soc = np.zeros((len(initial_cycles),))\n",
    "for j, (t, i) in enumerate(zip(initial_cycles['test_time'], initial_cycles['current'])):\n",
    "    state, outputs = simulator.step(ECMInput(time=t, current=-i, temperature=25.))  # Moirae \n",
    "    fit_sim_voltages[j] = outputs.terminal_voltage.item()  # terminal voltage is a (1, 1) array\n",
    "    fit_sim_soc[j] = state.soc.item()"
   ]
  },
  {
   "cell_type": "code",
   "execution_count": 42,
   "id": "0a436edc-6aa5-420c-b1ef-4ff6eb4d4d37",
   "metadata": {},
   "outputs": [
    {
     "data": {
      "text/plain": [
       "ECMTransientVector(soc=array([[0.]]), q0=None, i_rc=array([], shape=(1, 0), dtype=float64), hyst=array([[0.]]))"
      ]
     },
     "execution_count": 42,
     "metadata": {},
     "output_type": "execute_result"
    }
   ],
   "source": [
    "fit_state"
   ]
  },
  {
   "cell_type": "code",
   "execution_count": 43,
   "id": "bc5237c8-d08b-4293-8a3c-1392f6c5d5cf",
   "metadata": {},
   "outputs": [
    {
     "data": {
      "text/plain": [
       "Text(0, 0.5, 'Voltage')"
      ]
     },
     "execution_count": 43,
     "metadata": {},
     "output_type": "execute_result"
    },
    {
     "data": {
      "image/png": "[encoded data removed]",
      "text/plain": [
       "<Figure size 350x210 with 1 Axes>"
      ]
     },
     "metadata": {},
     "output_type": "display_data"
    }
   ],
   "source": [
    "fig, ax = plt.subplots(figsize=(3.5, 2.1))\n",
    "\n",
    "ax.plot(initial_cycles['test_time'] / 3600, initial_cycles['voltage'], 'k')\n",
    "ax.plot(initial_cycles['test_time'] / 3600, fit_sim_voltages, 'r', alpha=0.75)\n",
    "\n",
    "ax.set_xlabel('Time (hr)')\n",
    "ax.set_ylabel('Voltage')"
   ]
  },
  {
   "cell_type": "markdown",
   "id": "194756ff-9eba-440a-9277-ff98d83e1887",
   "metadata": {},
   "source": [
    "## Use a Unscented Kalman Filter (UKF) to Estimate Battery State\n",
    "A online estimator updates estimates for the \"state\" of a system (here: the state of charge) each time a new measurement is available.\n",
    "The UKF is one of many algorithms and a particularly useful one because it works with any model for the system performance"
   ]
  },
  {
   "cell_type": "code",
   "execution_count": null,
   "id": "f75134d4-5361-4ed1-b259-0d6714a000b1",
   "metadata": {},
   "outputs": [],
   "source": [
    "fit_asoh.mark_all_fixed()"
   ]
  },
  {
   "cell_type": "code",
   "execution_count": null,
   "id": "19d09aed-b4d9-4637-a792-62c2d080cf70",
   "metadata": {},
   "outputs": [],
   "source": [
    "ukf = JointEstimator.initialize_unscented_kalman_filter(\n",
    "    cell_model=ECM(),\n",
    "    initial_asoh=fit_asoh,\n",
    "    initial_inputs=ECMInput(time=0., current=0, temperature=25),\n",
    "    initial_transients=ECMTransientVector(soc=0.),\n",
    "    covariance_joint=np.diag([0.1, 0.1])  # Two variables: soc and a hysteresis term we don't use\n",
    ")"
   ]
  },
  {
   "cell_type": "markdown",
   "id": "e5692f3a-23fb-4a0d-8618-35440b58b8af",
   "metadata": {},
   "source": [
    "Let's test it first using the subset of cycles above"
   ]
  },
  {
   "cell_type": "code",
   "execution_count": null,
   "id": "c4d2e6a4-c36b-4572-beab-3c86b8a0c83e",
   "metadata": {},
   "outputs": [],
   "source": [
    "%%time\n",
    "ukf_sim_voltages = np.zeros((len(initial_cycles),))\n",
    "ukf_sim_soc = np.zeros_like(ukf_sim_voltages)\n",
    "for j, (t, i, v) in enumerate(zip(initial_cycles['test_time'], initial_cycles['current'], initial_cycles['voltage'])):\n",
    "    state, outputs = ukf.step(\n",
    "        ECMInput(time=t, current=-i, temperature=25),\n",
    "        ECMMeasurement(terminal_voltage=v)\n",
    "    )  # Moirae \n",
    "    ukf_sim_voltages[j] = outputs.get_mean().item()\n",
    "    ukf_sim_soc[j] = state.get_mean()[0]"
   ]
  },
  {
   "cell_type": "code",
   "execution_count": null,
   "id": "d6e1ab3c-b533-4c8d-ba2c-22dec47078f6",
   "metadata": {},
   "outputs": [],
   "source": [
    "fig, ax = plt.subplots(figsize=(3.5, 2.1))\n",
    "\n",
    "ax.plot(initial_cycles['test_time'] / 3600, initial_cycles['voltage'], 'k')\n",
    "ax.plot(initial_cycles['test_time'] / 3600, ukf_sim_voltages, 'b', alpha=0.75)\n",
    "\n",
    "ax.set_xlabel('Time (hr)')\n",
    "ax.set_ylabel('Voltage')"
   ]
  },
  {
   "cell_type": "markdown",
   "id": "0866ea00-7054-42cf-9c5e-ef6410c6b84f",
   "metadata": {},
   "source": [
    "The UKF adjusts the evolution of the model simulating the battery such it better matches observations.\n",
    "In our case, it asjusting the estimated state of charge"
   ]
  },
  {
   "cell_type": "code",
   "execution_count": null,
   "id": "6009d161-aa4f-4d3c-a1cb-466baf9df3b8",
   "metadata": {},
   "outputs": [],
   "source": [
    "fig, ax = plt.subplots(figsize=(3.5, 2.1))\n",
    "\n",
    "ax.plot(initial_cycles['test_time'] / 3600, sim_soc, 'r', label='Simulator')\n",
    "ax.plot(initial_cycles['test_time'] / 3600, ukf_sim_soc, 'b', alpha=0.75, label='UKF')\n",
    "\n",
    "ax.set_xlabel('Time (hr)')\n",
    "ax.set_ylabel('SOC, estimated')\n",
    "ax.legend(ncols=2, fontsize=8)"
   ]
  },
  {
   "cell_type": "markdown",
   "id": "92483f38-327c-4fd6-b67f-f0527eec72ab",
   "metadata": {},
   "source": [
    "Note how the simulator suggests that the state-of-charge of the battery must be far greater than one given the observed current.\n",
    "The UKF, instead, reports that the SOC is closer to 1 given the observed current _and voltage_."
   ]
  },
  {
   "cell_type": "markdown",
   "id": "02b0f4bf-b55c-462c-bffb-f76558bc8516",
   "metadata": {},
   "source": [
    "## Estimating Advanced State of Health\n",
    "We don't need to assume that the parameters of the battery model state fixed over time.\n",
    "Rather, we can treat the values of parameters as an Advanced State of Health metric and estimate how they evolve over time.\n",
    "\n",
    "The first step in doing so with Moirae is to mark the health parameters as \"updatable.\" We'll mark the theoretical capacity as one of those parameters"
   ]
  },
  {
   "cell_type": "code",
   "execution_count": null,
   "id": "5487b0ef-c859-4abf-861c-7ab33db86036",
   "metadata": {},
   "outputs": [],
   "source": [
    "fit_asoh.mark_updatable('q_t.base_values')\n",
    "fit_asoh.updatable_names"
   ]
  },
  {
   "cell_type": "markdown",
   "id": "f3fd3a99-6ca8-4380-bf40-35250b37177e",
   "metadata": {},
   "source": [
    "There ~~are~~ will be numerous ways in Moirae to learn how the health parameters vary over time. \n",
    "A simple one is to treat them the same as any other state of the system, which we refer to as a \"joint\" estimation (hence the Joint in JointUnscentedKalmanFilter)"
   ]
  },
  {
   "cell_type": "code",
   "execution_count": null,
   "id": "6c717175-034b-48e4-864a-8463441ac697",
   "metadata": {},
   "outputs": [],
   "source": [
    "ukf = JointEstimator.initialize_unscented_kalman_filter(\n",
    "    cell_model=ECM(),\n",
    "    initial_asoh=fit_asoh,\n",
    "    initial_inputs=ECMInput(time=0., current=0, temperature=25),\n",
    "    initial_transients=ECMTransientVector(soc=0.),\n",
    "    covariance_joint=np.diag([0.1, 0.1, 0.001])  # We add another parameter to account for the new variable\n",
    ")"
   ]
  },
  {
   "cell_type": "code",
   "execution_count": null,
   "id": "c2b6c23d-b56e-41c0-bf2f-e6d3e16d92ab",
   "metadata": {},
   "outputs": [],
   "source": [
    "ukf.state_names"
   ]
  },
  {
   "cell_type": "markdown",
   "id": "0de98c81-7c32-43ed-b914-1359d28391f7",
   "metadata": {},
   "source": [
    "Let's run with the entire dataset"
   ]
  },
  {
   "cell_type": "code",
   "execution_count": null,
   "id": "100b779d-30ea-4bc3-bdfc-b198d5b2e0fc",
   "metadata": {},
   "outputs": [],
   "source": [
    "%%time\n",
    "states, _ = run_online_estimate(dataset, ukf, pbar=True)"
   ]
  },
  {
   "cell_type": "code",
   "execution_count": null,
   "id": "e2c565d2-9116-4838-abe3-4251994f9ffd",
   "metadata": {},
   "outputs": [],
   "source": [
    "fig, ax = plt.subplots(figsize=(3.5, 2.2))\n",
    "\n",
    "ax.plot(dataset.raw_data['test_time'] / 3600, states['q_t.base_values'], lw=1, label='UKF')\n",
    "ax.scatter(dataset.cycle_stats['cycle_start'] / 3600, dataset.cycle_stats['capacity_charge'], color='k', s=5, label='Measured')\n",
    "\n",
    "ax.legend(fontsize=8)\n",
    "ax.set_ylabel('$Q_t$ (A-hr)')\n",
    "ax.set_xlabel('Time (hr)')\n",
    "\n",
    "fig.tight_layout()"
   ]
  },
  {
   "cell_type": "markdown",
   "id": "9807f2b0-c92e-4f77-ba53-7a033ae29840",
   "metadata": {},
   "source": [
    "It works, but the joint estimator leaves for improvement. The capacity parameter of the model ($Q_t$) changes over short timescales, which is unrealistic and something we'll improve upon in more advanced estimators."
   ]
  },
  {
   "cell_type": "code",
   "execution_count": null,
   "id": "3f78d3b2-f01c-42fd-9c4f-7a28fe479c03",
   "metadata": {},
   "outputs": [],
   "source": []
  }
 ],
 "metadata": {
  "kernelspec": {
   "display_name": "Python 3 (ipykernel)",
   "language": "python",
   "name": "python3"
  },
  "language_info": {
   "codemirror_mode": {
    "name": "ipython",
    "version": 3
   },
   "file_extension": ".py",
   "mimetype": "text/x-python",
   "name": "python",
   "nbconvert_exporter": "python",
   "pygments_lexer": "ipython3",
   "version": "3.10.14"
  }
 },
 "nbformat": 4,
 "nbformat_minor": 5
}

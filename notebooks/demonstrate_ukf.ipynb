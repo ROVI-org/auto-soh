{
 "cells": [
  {
   "cell_type": "markdown",
   "metadata": {},
   "source": [
    "# Demonstrate Unscented Kálmán Filter (UKF)\n",
    "Show using a Kálmán filter to estimate the transient state of a Equivalent Circuit Model (ECM) of a batter."
   ]
  },
  {
   "cell_type": "code",
   "execution_count": null,
   "metadata": {},
   "outputs": [],
   "source": [
    "import numpy as np\n",
    "import pandas as pd\n",
    "from tqdm import tqdm\n",
    "import matplotlib.pyplot as plt\n",
    "\n",
    "from moirae.models.ecm import EquivalentCircuitModel as ECM\n",
    "from moirae.simulator import Simulator\n",
    "from moirae.models.ecm.advancedSOH import ECMASOH\n",
    "from moirae.models.ecm.ins_outs import ECMInput\n",
    "from moirae.models.ecm.transient import ECMTransientVector\n",
    "from moirae.estimators.online.filters.distributions import DeltaDistribution\n",
    "from moirae.estimators.online.filters.kalman.unscented import UnscentedKalmanFilter as UKF"
   ]
  },
  {
   "cell_type": "markdown",
   "metadata": {},
   "source": [
    "## Problem Setup\n",
    "We will demonstrate the UKF using a single RC Thenevin ECM where we maintain its parameters, which we refer to as the Advanced State of Health (ASOH), fixed over time.\n",
    "\n",
    "Let's start by instantiating the default A-SOH for it."
   ]
  },
  {
   "cell_type": "code",
   "execution_count": null,
   "metadata": {},
   "outputs": [],
   "source": [
    "asoh = ECMASOH.provide_template(has_C0=False, num_RC=1)"
   ]
  },
  {
   "cell_type": "markdown",
   "metadata": {},
   "source": [
    "Then define an initial transient vector of the system, the state of health at the beginning."
   ]
  },
  {
   "cell_type": "code",
   "execution_count": null,
   "metadata": {},
   "outputs": [],
   "source": [
    "transient0 = ECMTransientVector.provide_template(has_C0=False, num_RC=1, soc=0.5)"
   ]
  },
  {
   "cell_type": "code",
   "execution_count": null,
   "metadata": {},
   "outputs": [],
   "source": [
    "initial_inputs = ECMInput(time=0., current=0.)"
   ]
  },
  {
   "cell_type": "markdown",
   "metadata": {},
   "source": [
    "We will assume the cells starts at 50% SOC. We will establish the following test protocol (sampling rate of ~1 second):\n",
    "1. Charge the cell to 100% SOC at a C/2 rate for 1 hour.\n",
    "2. Rest the cell for 10 minutes.\n",
    "3. Discharge the cell to 0% SOC at a 2C rate for 30 minutes\n",
    "4. Rest the cell for 10 minutes. \n",
    "5. Charge the cell to 50% SOC at 1C rate for 30 minutes. \n",
    "6. Rest the cell for 10 minutes. "
   ]
  },
  {
   "cell_type": "code",
   "execution_count": null,
   "metadata": {},
   "outputs": [],
   "source": [
    "# Get theoretical capacity to determine currents\n",
    "Qt = asoh.q_t.amp_hour\n",
    "\n",
    "# Step 1: charge at C/2 for 1 hour to 100% SOC\n",
    "size = 3600\n",
    "timestamps = size * np.sort(np.random.random(size=size))\n",
    "currents = [Qt / 2] * size\n",
    "# Step 2: rest\n",
    "size = 600\n",
    "timestamps = np.append(timestamps, timestamps[-1] + size * np.sort(np.random.random(size=size)))\n",
    "currents += [0.0] * size\n",
    "# Step 3: discharge at 2C for 30 minutes to 0% SOC\n",
    "size = 1800\n",
    "timestamps = np.append(timestamps, timestamps[-1] + size * np.sort(np.random.random(size=size)))\n",
    "currents += [-2 * Qt] * size\n",
    "# Step 4: rest\n",
    "size = 600\n",
    "timestamps = np.append(timestamps, timestamps[-1] + size * np.sort(np.random.random(size=size)))\n",
    "currents += [0.0] * size\n",
    "# Step 5: charge at 1C for 1 hour to 100% SOC\n",
    "size = 1800\n",
    "timestamps = np.append(timestamps, timestamps[-1] + size * np.sort(np.random.random(size=size)))\n",
    "currents += [Qt] * size\n",
    "\n",
    "# Step 6: rest\n",
    "size = 600\n",
    "timestamps = np.append(timestamps, timestamps[-1] + size * np.sort(np.random.random(size=size)))\n",
    "currents += [0.0] * size\n",
    "\n",
    "# Checking to make sure we have the currents we want\n",
    "fig, ax = plt.subplots(figsize=(6,3))\n",
    "ax.plot(timestamps/3600, currents)\n",
    "ax.set_xlabel('Time [hr]')\n",
    "_ = ax.set_ylabel('Current [A]')"
   ]
  },
  {
   "cell_type": "markdown",
   "metadata": {},
   "source": [
    "The next step is to create a simulator which will create the data we'll use to fit the UKF."
   ]
  },
  {
   "cell_type": "code",
   "execution_count": null,
   "metadata": {},
   "outputs": [],
   "source": [
    "simulator = Simulator(cell_model=ECM(),\n",
    "                      asoh=asoh,\n",
    "                      transient_state=transient0,\n",
    "                      initial_input=ECMInput(),\n",
    "                      keep_history=True)"
   ]
  },
  {
   "cell_type": "markdown",
   "metadata": {},
   "source": [
    "In order to prepare the UKF, we need to understand the statistics of all relevant variables, which, in this case, are\n",
    "the SOC, hysteresis voltage, I_RC on the transient state side, and voltage on the measurement side. "
   ]
  },
  {
   "cell_type": "code",
   "execution_count": null,
   "metadata": {},
   "outputs": [],
   "source": [
    "# For the SOC variance, let's assume it is a uniform distribution between 0 and 1. \n",
    "# Recall that the variance of the uniform distribution U[a,b] is given by ((b-a)**2)/12\n",
    "soc_var = 1.0/12\n",
    "# Similarly, for the hysteresis voltage, we will (wrongly) assume a uniform distribution from -M to M\n",
    "hyst_max = asoh.h0.get_value(soc=0.5)\n",
    "hyst_var = (4 * hyst_max * hyst_max) / 12\n",
    "# For the current in the RC element, we will approximate it as the variance of the total current\n",
    "irc_var = np.var(currents)"
   ]
  },
  {
   "cell_type": "markdown",
   "metadata": {},
   "source": [
    "We will maintain the UKF process noise at its default value of 1.0e-08 for all variables, but set the sensor noise to a \n",
    "more realistic value corresponding to a voltage error of 1.0e-03 V (1 mV). \n",
    "\n",
    "We will also provide an initial state that is a bit off from the real initial state. "
   ]
  },
  {
   "cell_type": "code",
   "execution_count": null,
   "metadata": {},
   "outputs": [],
   "source": [
    "# Calculating sensor noise. \n",
    "volt_err = 1.0e-03\n",
    "sensor_noise = (volt_err / 2) ** 2\n",
    "\n",
    "# Assembling UKF\n",
    "initial_state = transient0.to_numpy() + \\\n",
    "    np.random.multivariate_normal(mean=np.zeros(3),\n",
    "                                  cov=np.diag([soc_var, irc_var, hyst_var])\n",
    "                                  )\n",
    "print('Initial state provided to UKF: ', initial_state)\n",
    "\n",
    "ukf = UKF(model=ECM(),\n",
    "          initial_asoh=asoh,\n",
    "          initial_transients=transient0,\n",
    "          initial_inputs=ECMInput(time=0, current=0),\n",
    "          initial_covariance=np.diag([soc_var, irc_var, hyst_var]),\n",
    "          covariance_sensor_noise=sensor_noise*np.eye(1))"
   ]
  },
  {
   "cell_type": "markdown",
   "metadata": {},
   "source": [
    "Now, let's simulate the ECM and evolve the UKF concurrently. We will draw errors for voltage values from a white noise distribution to mimic a 1 mV error-level."
   ]
  },
  {
   "cell_type": "code",
   "execution_count": null,
   "metadata": {},
   "outputs": [],
   "source": [
    "# Container for UKF predictions\n",
    "noisy_voltage = []\n",
    "ukf_predictions = {'transient': [], 'output': []}\n",
    "\n",
    "for time, current in tqdm(zip(timestamps, currents), total=len(timestamps)):\n",
    "    # Assemble simulator and UKF inputs\n",
    "    sim_in = ECMInput(time=time, current=current)\n",
    "    ukf_control = DeltaDistribution(mean=np.array([time, current, 25.]))\n",
    "    # Step simulator\n",
    "    transient, measurement = simulator.step(new_inputs=sim_in)\n",
    "    # Prepare measurement for UKF and store noisy voltage\n",
    "    vt = measurement.terminal_voltage.item() + np.random.normal(scale=(volt_err / 2))\n",
    "    noisy_voltage += [vt]\n",
    "    ukf_meas = DeltaDistribution(mean=np.array([vt]))\n",
    "    ukf_prediction, ukf_transient = ukf.step(u=ukf_control, y=ukf_meas)\n",
    "    ukf_predictions['transient'].append(ukf_transient)\n",
    "    ukf_predictions['output'].append(ukf_prediction)"
   ]
  },
  {
   "cell_type": "markdown",
   "metadata": {},
   "source": [
    "Now, let's plot these results!"
   ]
  },
  {
   "cell_type": "code",
   "execution_count": null,
   "metadata": {},
   "outputs": [],
   "source": [
    "# Converting predictions to arrays for plotting\n",
    "ukf_mean = pd.concat([\n",
    "    pd.DataFrame([pred.mean.flatten() for pred in ukf_predictions['output']], columns=ukf.output_names),\n",
    "    pd.DataFrame([pred.mean.flatten() for pred in ukf_predictions['transient']], columns=ukf.state_names)\n",
    "], axis=1)\n",
    "ukf_std = pd.concat([\n",
    "    pd.DataFrame([np.sqrt(np.diag(pred.covariance)) for pred in ukf_predictions['output']], columns=ukf.output_names),\n",
    "    pd.DataFrame([np.sqrt(np.diag(pred.covariance)) for pred in ukf_predictions['transient']], columns=ukf.state_names),\n",
    "], axis=1)\n",
    "\n",
    "# Voltages\n",
    "fig, ax = plt.subplots(figsize=(10,3))\n",
    "ax.plot(timestamps / 3600,\n",
    "        [out.terminal_voltage.item() for out in simulator.measurement_history[1:]],\n",
    "        color='green',\n",
    "        label='True values')\n",
    "ax.plot(timestamps / 3600,\n",
    "        noisy_voltage,\n",
    "        color='blue',\n",
    "        label='Noisy data')\n",
    "ax.plot(timestamps / 3600,\n",
    "        ukf_mean['terminal_voltage'],\n",
    "        color='orange',\n",
    "        linestyle='--',\n",
    "        label='UKF predictions')\n",
    "ax.fill_between(timestamps[1:] / 3600,  # very high initial uncertainty due to bad initialization (delta_SOC = 35%!)\n",
    "                (ukf_mean['terminal_voltage'] + 2 * ukf_std['terminal_voltage'])[1:],\n",
    "                (ukf_mean['terminal_voltage'] + 2 * ukf_std['terminal_voltage'])[1:],\n",
    "                color='orange', \n",
    "                alpha=0.2)\n",
    "ax.legend()\n",
    "ax.set_ylabel('Voltage [V]')\n",
    "_ = ax.set_xlabel('Time [hr]')"
   ]
  },
  {
   "cell_type": "code",
   "execution_count": null,
   "metadata": {},
   "outputs": [],
   "source": [
    "# SOC, I_RC, Hyst\n",
    "fig, ax = plt.subplots(3, 1, figsize=(10,10), sharex='col')\n",
    "ax[0].plot(timestamps / 3600,\n",
    "           100 * np.array([transient.soc.item() for transient in simulator.transient_history[1:]]),\n",
    "           color='green',\n",
    "           label='True values')\n",
    "ax[0].plot(timestamps / 3600,\n",
    "           100 * ukf_mean['soc'],\n",
    "           linestyle='--',\n",
    "           color='orange',\n",
    "           label='UKF predictions')\n",
    "ax[0].fill_between(timestamps / 3600,\n",
    "                   100 * (ukf_mean['soc'] + 2 * ukf_std['soc']),\n",
    "                   100 * (ukf_mean['soc'] - 2 * ukf_std['soc']),\n",
    "                   color='orange',\n",
    "                   alpha=0.5)\n",
    "ax[1].plot(timestamps / 3600,\n",
    "           [transient.i_rc[0] for transient in simulator.transient_history[1:]],\n",
    "           color='green',\n",
    "           label='True values')\n",
    "ax[1].plot(timestamps / 3600,\n",
    "           ukf_mean['i_rc'],\n",
    "           color='orange',\n",
    "           linestyle='--',\n",
    "           label='UKF predictions')\n",
    "ax[1].fill_between(timestamps / 3600,\n",
    "                   ukf_mean['i_rc'] + 2 * ukf_std['i_rc'],\n",
    "                   ukf_mean['i_rc'] - 2 * ukf_std['i_rc'],\n",
    "                   color='orange',\n",
    "                   alpha=0.5)\n",
    "ax[2].plot(timestamps / 3600,\n",
    "           [transient.hyst.item() for transient in simulator.transient_history[1:]],\n",
    "           color='green',\n",
    "           label='True values')\n",
    "ax[2].plot(timestamps / 3600,\n",
    "           ukf_mean['hyst'],\n",
    "           color='orange',\n",
    "           linestyle='--',\n",
    "           label='UKF predictions')\n",
    "ax[2].fill_between(timestamps[60:] / 3600,  # for the first 1 minute, uncertainty dominates in hysteresis\n",
    "                   (ukf_mean['hyst'] + 2 * ukf_std['hyst'])[60:],\n",
    "                   (ukf_mean['hyst'] - 2 * ukf_std['hyst'])[60:],\n",
    "                   color='orange',\n",
    "                   alpha=0.5)\n",
    "ax[0].legend()\n",
    "ax[1].legend()\n",
    "ax[2].legend()\n",
    "ax[0].set_ylabel('SOC [%]')\n",
    "ax[1].set_ylabel(r'$I_{RC}$ [A]')\n",
    "ax[2].set_ylabel('Hysteresis voltage [V]')\n",
    "_ = ax[2].set_xlabel('Time [hr]')"
   ]
  }
 ],
 "metadata": {
  "kernelspec": {
   "display_name": "Python 3 (ipykernel)",
   "language": "python",
   "name": "python3"
  },
  "language_info": {
   "codemirror_mode": {
    "name": "ipython",
    "version": 3
   },
   "file_extension": ".py",
   "mimetype": "text/x-python",
   "name": "python",
   "nbconvert_exporter": "python",
   "pygments_lexer": "ipython3",
   "version": "3.9.6"
  }
 },
 "nbformat": 4,
 "nbformat_minor": 4
}

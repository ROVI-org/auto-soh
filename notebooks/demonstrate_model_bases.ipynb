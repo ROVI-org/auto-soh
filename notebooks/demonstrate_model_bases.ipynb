{
 "cells": [
  {
   "cell_type": "code",
   "execution_count": 1,
   "metadata": {},
   "outputs": [],
   "source": [
    "import numpy as np\n",
    "from asoh.models.base import *"
   ]
  },
  {
   "cell_type": "markdown",
   "metadata": {},
   "source": [
    "Demonstrate InputQuantities class with single values per variable"
   ]
  },
  {
   "cell_type": "code",
   "execution_count": 2,
   "metadata": {},
   "outputs": [
    {
     "data": {
      "text/plain": [
       "array([[0., 0.]])"
      ]
     },
     "execution_count": 2,
     "metadata": {},
     "output_type": "execute_result"
    }
   ],
   "source": [
    "time = 0.\n",
    "current = 0.\n",
    "input_vector = InputQuantities(time = time, current = current)\n",
    "input_vector.to_numpy()\n"
   ]
  },
  {
   "cell_type": "markdown",
   "metadata": {},
   "source": [
    "Demonstrate InputQuantities class with arrays"
   ]
  },
  {
   "cell_type": "code",
   "execution_count": 3,
   "metadata": {},
   "outputs": [
    {
     "data": {
      "text/plain": [
       "array([[ 0.        ,  2.5       , 29.68359434],\n",
       "       [ 1.        ,  2.5       , 28.85920392],\n",
       "       [ 2.        ,  2.5       , 28.59258081],\n",
       "       [ 3.        ,  2.5       , 29.82035499],\n",
       "       [ 4.        ,  2.5       , 28.83393329],\n",
       "       [ 5.        , -2.5       , 28.19072296],\n",
       "       [ 6.        , -2.5       , 28.53667808],\n",
       "       [ 7.        , -2.5       , 29.51457025],\n",
       "       [ 8.        , -2.5       , 26.11021682],\n",
       "       [ 9.        , -2.5       , 27.59891573]])"
      ]
     },
     "execution_count": 3,
     "metadata": {},
     "output_type": "execute_result"
    }
   ],
   "source": [
    "time = np.arange(10)\n",
    "current = 2.5 * np.hstack((np.ones(5), -np.ones(5)))\n",
    "temperature = 25 + 5 * np.random.rand(10)\n",
    "input_vector = InputQuantities(time = time, \n",
    "                               current = current, \n",
    "                               temperature = temperature                               )\n",
    "input_vector.to_numpy()"
   ]
  },
  {
   "cell_type": "markdown",
   "metadata": {},
   "source": [
    "Demonstrate OutputMeasurements"
   ]
  },
  {
   "cell_type": "code",
   "execution_count": 7,
   "metadata": {},
   "outputs": [
    {
     "data": {
      "text/plain": [
       "array([3.  , 3.25, 3.5 , 3.75, 4.  , 4.  , 3.75, 3.5 , 3.25, 3.  ])"
      ]
     },
     "execution_count": 7,
     "metadata": {},
     "output_type": "execute_result"
    }
   ],
   "source": [
    "volts = np.hstack((np.linspace(3,4,5), np.linspace(4,3,5)))\n",
    "output = OutputMeasurements(terminal_voltage = volts)\n",
    "output.to_numpy()"
   ]
  },
  {
   "cell_type": "code",
   "execution_count": null,
   "metadata": {},
   "outputs": [],
   "source": []
  }
 ],
 "metadata": {
  "kernelspec": {
   "display_name": "ASOH_Diagnostics",
   "language": "python",
   "name": "python3"
  },
  "language_info": {
   "codemirror_mode": {
    "name": "ipython",
    "version": 3
   },
   "file_extension": ".py",
   "mimetype": "text/x-python",
   "name": "python",
   "nbconvert_exporter": "python",
   "pygments_lexer": "ipython3",
   "version": "3.9.6"
  }
 },
 "nbformat": 4,
 "nbformat_minor": 2
}

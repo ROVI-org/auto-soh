{
 "cells": [
  {
   "cell_type": "markdown",
   "metadata": {},
   "source": [
    "# Demonstrate Joint UKF Estimation"
   ]
  },
  {
   "cell_type": "code",
   "execution_count": 1,
   "metadata": {},
   "outputs": [],
   "source": [
    "from typing import List\n",
    "\n",
    "import numpy as np\n",
    "import matplotlib.pyplot as plt\n",
    "\n",
    "from asoh.models.ecm.advancedSOH import ECMASOH\n",
    "from asoh.models.ecm.ins_outs import ECMInput, ECMMeasurement\n",
    "from asoh.models.ecm.transient import ECMTransientVector\n",
    "from asoh.models.ecm.simulator import ECMSimulator\n",
    "from asoh.estimators.online.joint.ecm.unscented import ECMJointUKF, ECMJointUKFInterface"
   ]
  },
  {
   "cell_type": "markdown",
   "metadata": {},
   "source": [
    "First, let's define a random number generator for consistency."
   ]
  },
  {
   "cell_type": "code",
   "execution_count": 2,
   "metadata": {},
   "outputs": [],
   "source": [
    "# Initialize RNG\n",
    "rng = np.random.default_rng(seed=1001001) # np.random.default_rng(seed=1001000) # "
   ]
  },
  {
   "cell_type": "markdown",
   "metadata": {},
   "source": [
    "In this example, we will start by establishing a cycling protocol which assumes every cycle starts with the cell at 100%\n",
    "SOC. This protocol follows the procedure below: \n",
    "1. rest the cell for 5-10 minutes\n",
    "2. discharge the cell at a C-rate between 1.5 and 2.5 C\n",
    "3. rest the cell for 10-20 minutes\n",
    "4. charge the cell at a C-rate between 0.5 and 1.5 C\n",
    "5. rest the cell for 5-10 minutes\n",
    "\n",
    "We will create a helper function to specify timestamps and currents for a given cycle. These will be reported at \n",
    "approximately every second. "
   ]
  },
  {
   "cell_type": "code",
   "execution_count": 3,
   "metadata": {},
   "outputs": [],
   "source": [
    "\n",
    "def cycle_protocol(asoh: ECMASOH, start_time:float = 0.0) -> List[ECMInput]:\n",
    "    \"\"\"\n",
    "    Function to return list of ECMInputs corresponding to a new cycle\n",
    "\n",
    "    Args: \n",
    "        asoh: A-SOH object to be used\n",
    "        start_time: time at which to start this cycle in seconds\n",
    "    \n",
    "    Returns:\n",
    "        ecm_inputs: list of ECMInput objects corresponding to this cycle\n",
    "    \"\"\"\n",
    "    # initialize main lists to be used\n",
    "    timestamps = []\n",
    "    currents = []\n",
    "\n",
    "    # Get the Qt and CE, which will help determine the currents\n",
    "    qt = asoh.q_t.amp_hour\n",
    "    ce = asoh.ce\n",
    "\n",
    "    # Now, let's choose rest durations and C-rates\n",
    "    rest0, rest1, rest2 = rng.integers(low=5, high=10, size=3)\n",
    "    rest0 *= 60\n",
    "    rest1 *= 2 * 60\n",
    "    rest2 *= 60\n",
    "    dischg_rate, chg_rate = np.array([1.5, 0.5]) + rng.random(size=2)\n",
    "\n",
    "    def update_timestamps_curr(duration: float, curr: float) -> None:\n",
    "        \"\"\"\n",
    "        Helper to populate timestamps and currents.\n",
    "\n",
    "        Args:\n",
    "            duration: duration of segment in seconds\n",
    "            curr: value of current to be used. \n",
    "        \"\"\"\n",
    "        # specify binds to nearest variables \n",
    "        nonlocal currents\n",
    "        nonlocal timestamps\n",
    "        new_len = int(np.ceil(duration))\n",
    "        currents += [curr] * new_len\n",
    "        new_times = np.sort(rng.random(size=new_len)) * duration\n",
    "        if len(timestamps) == 0:\n",
    "            new_times += start_time\n",
    "        else:\n",
    "            new_times += timestamps[-1] + (1.0e-03)\n",
    "        timestamps += new_times.tolist()\n",
    "\n",
    "    # Rest 0\n",
    "    update_timestamps_curr(duration=rest0, curr=0.0)\n",
    "\n",
    "    # Discharge\n",
    "    dischg_duration = 3600.0 / dischg_rate\n",
    "    dischg_curr = -(qt * dischg_rate)\n",
    "    update_timestamps_curr(duration=dischg_duration, curr=dischg_curr)\n",
    "\n",
    "    # Rest 1\n",
    "    update_timestamps_curr(duration=rest1, curr=0.0)\n",
    "\n",
    "    # Charge\n",
    "    chg_duration = 3600.0 / chg_rate\n",
    "    chg_curr = (qt * chg_rate) / ce\n",
    "    update_timestamps_curr(duration=chg_duration, curr=chg_curr)\n",
    "\n",
    "    # Rest 2\n",
    "    update_timestamps_curr(duration=rest2, curr=0.0)\n",
    "\n",
    "    # Finally, assemble the ECMInputs\n",
    "    ecm_inputs = [ECMInput(time=time, current=current) for time, current in zip(timestamps, currents)]\n",
    "    return ecm_inputs"
   ]
  },
  {
   "cell_type": "markdown",
   "metadata": {},
   "source": [
    "For this example, we will look at a single RC element Thenevin model. Only the series resistance $R_0$ and OCV will be \n",
    "functions of SOC. We will assume the R0 follows a quadratic profile with SOC, with the values increasing as SOC approaches\n",
    "0% or 100%. \n",
    "\n",
    "We will maintain the OCV fixed, and allow the maximum theoretical discharge capacity $Q_t$, the coulombic efficiency CE, the series resistant $R_0$, and RC components to change with cycling. More \n",
    "specifically, we will assume that they are all constant within a cycle, but will degrade from cycle to cycle in the \n",
    "following manner:\n",
    "1. $Q_t$ will go down by a factor of 0.05% with each new cycle: $\\left(Q_{t, k+1} = 0.9995 Q_{t,k}\\right)$\n",
    "2. the CE will decrease linearly by 0.005% at every cycle \n",
    "3. $R_0$ will increase linearly by $1.0\\times10^{-6}\\Omega$ at every new cycle\n",
    "4. the resistance of the RC resistor will go up by a factor of 0.01% at every cycle: \n",
    "$R_{RC_1, k+1} = 1.0001 * R_{RC_1,k}$\n",
    "5. the capacitance of the RC capacitor will got down by a factor of 0.001% at every cycle: \n",
    "$c_{RC_1, k+1} = 0.99999 * C_{RC_1,k}$"
   ]
  },
  {
   "cell_type": "code",
   "execution_count": 4,
   "metadata": {},
   "outputs": [],
   "source": [
    "# Function to help with A-SOH degradation established above\n",
    "def degrade_asoh(asoh: ECMASOH,\n",
    "                 qt_deg_factor: float = 0.0005,\n",
    "                 ce_deg_factor: float = 0.005,\n",
    "                 r0_deg_factor: float = 1.0e-06,\n",
    "                 r_rc_deg_factor: float = 0.0001,\n",
    "                 c_rc_deg_factor: float = 0.00001) -> ECMASOH:\n",
    "    asoh_deg = asoh.model_copy(deep=True)\n",
    "    # Calculate new values\n",
    "    qt_deg = (1 - qt_deg_factor) * asoh_deg.q_t.base_values\n",
    "    ce_deg = asoh_deg.ce - ce_deg_factor\n",
    "    r0_deg = asoh_deg.r0.base_values + r0_deg_factor\n",
    "    r_rc_deg = (1 + r_rc_deg_factor) * asoh_deg.rc_elements[0].r.base_values\n",
    "    c_rc_deg = (1 - c_rc_deg_factor) * asoh_deg.rc_elements[0].c.base_values\n",
    "    # Set new values\n",
    "    asoh_deg.q_t.base_values = qt_deg\n",
    "    asoh_deg.ce = ce_deg\n",
    "    asoh_deg.r0.base_values = r0_deg\n",
    "    asoh_deg.rc_elements[0].r.base_values = r_rc_deg\n",
    "    asoh_deg.rc_elements[0].c.base_values = c_rc_deg\n",
    "    return asoh_deg"
   ]
  },
  {
   "cell_type": "markdown",
   "metadata": {},
   "source": [
    "Let's define the Beginning of Life (BOL) A-SOH."
   ]
  },
  {
   "cell_type": "code",
   "execution_count": 5,
   "metadata": {},
   "outputs": [
    {
     "data": {
      "image/png": "[encoded data removed]",
      "text/plain": [
       "<Figure size 300x200 with 1 Axes>"
      ]
     },
     "metadata": {},
     "output_type": "display_data"
    }
   ],
   "source": [
    "# Define the values of R0 to use\n",
    "r0_vals = np.array([5,4,6]) * 1.0e-02\n",
    "\n",
    "# Get A-SOH and set R0 values and interpolation style\n",
    "asoh_bol = ECMASOH.provide_template(has_C0=False, num_RC=1, R0=r0_vals)\n",
    "asoh_bol.r0.interpolation_style = 'quadratic'\n",
    "\n",
    "# Check R0 profile\n",
    "test_socs = np.arange(-0.05, 1.06, 0.01)\n",
    "fig, ax = plt.subplots(figsize=(3,2))\n",
    "ax.plot(100 * test_socs, 1000 * asoh_bol.r0.get_value(soc=test_socs))\n",
    "ax.set_xlabel('SOC [%]')\n",
    "_ = ax.set_ylabel(r'$R_0$ $[m\\Omega]$')"
   ]
  },
  {
   "cell_type": "markdown",
   "metadata": {},
   "source": [
    "Now, let's start preparations for the co-simulation of this cell alongside its joint estimation.\n",
    "\n",
    "First, let us create a new A-SOH ground truth object with the proper updatable parameters set to help with the simulator and joint estimator. "
   ]
  },
  {
   "cell_type": "code",
   "execution_count": 6,
   "metadata": {},
   "outputs": [
    {
     "name": "stdout",
     "output_type": "stream",
     "text": [
      "Initial updatable parameters:  []\n",
      "New updatable parameters:  [1.0e+01 1.0e+00 5.0e-02 4.0e-02 6.0e-02 1.0e-02 2.5e+03 5.0e-02]\n"
     ]
    }
   ],
   "source": [
    "asoh_gt = asoh_bol.model_copy(deep=True)\n",
    "# Check that nothing is updatable yet:\n",
    "print('Initial updatable parameters: ', asoh_gt.get_parameters())\n",
    "asoh_gt.mark_updatable(name='q_t.base_values')\n",
    "asoh_gt.mark_updatable(name='ce')\n",
    "asoh_gt.mark_updatable(name='r0.base_values')\n",
    "asoh_gt.mark_updatable(name='rc_elements.0.r.base_values')\n",
    "asoh_gt.mark_updatable(name='rc_elements.0.c.base_values')\n",
    "asoh_gt.mark_updatable(name='h0.base_values')\n",
    "# Make sure we have all that is updatable\n",
    "print('New updatable parameters: ', asoh_gt.get_parameters())"
   ]
  },
  {
   "cell_type": "markdown",
   "metadata": {},
   "source": [
    "Now, let's initialize the transient state to 100% SOC and create the simulator"
   ]
  },
  {
   "cell_type": "code",
   "execution_count": 7,
   "metadata": {},
   "outputs": [],
   "source": [
    "transient0_gt = ECMTransientVector.provide_template(has_C0=False, num_RC=1, soc=1.0)\n",
    "simulator = ECMSimulator(asoh=asoh_gt, transient_state=transient0_gt, keep_history=True)"
   ]
  },
  {
   "cell_type": "markdown",
   "metadata": {},
   "source": [
    "Let us now perturb both the transient state and the A-SOH to initialize the joint estimation. In order to perturb them appropriately, we should also establish their covariances, which will be needed for the UKF anyway.\n",
    "\n",
    "For the transient state, we will assume that\n",
    "1. the SOC variance is equivalent to that of a uniform distribution between 0 and 1\n",
    "2. the i_RC variance is equivalent to that of a uniform distribution whose ranges are dependent on the C-values\n",
    "3. the hysteresis variance is equivalent to a uniform distribution from +M to -M (max hysteresis value)\n",
    "\n",
    "For the A-SOH, we will assume that\n",
    "1. the standard deviation of Qt is of 0.05 Amp-hour: $2\\sigma=0.05\\implies\\sigma=2.5\\times10^{-2}\\implies\\sigma^2=6.25\\times10^{-4}$\n",
    "2. the variance of coulombic efficiency is equivalent to that of a uniform distribution between 0.999 and 1\n",
    "3. the standard deviation of all R0 base values is $2\\sigma=1\\times 10^{-2}\\Omega\\implies\\sigma^2=2.5\\times10^{-5}$\n",
    "4. the standard deviation of the resistance in the RC element is of $1m\\Omega$\n",
    "5. the standard deviation of the capacitance in the RC element if of 50 F\n",
    "6. while not relevant, the hysteresis standard deviation if of 1 mV as well\n",
    "\n",
    "We should also print these perturbed values to make sure they are not too far out there (for instance, we would not want the SOC to be larger than 105%)"
   ]
  },
  {
   "cell_type": "code",
   "execution_count": 8,
   "metadata": {},
   "outputs": [
    {
     "name": "stdout",
     "output_type": "stream",
     "text": [
      "Perturbed initial transient state:  [ 1.13024349 11.8067439  -0.0493474 ]\n",
      "Perturbed A-SOH parameters:  [1.00036349e+01 9.99999986e-01 4.19473539e-02 4.12887432e-02\n",
      " 6.00846737e-02 1.05661325e-02 2.39026813e+03 4.77928437e-02]\n"
     ]
    }
   ],
   "source": [
    "# Start with the A-SOH\n",
    "cov_asoh = [6.25e-04] # Qt: +/- 0.05 Amp-hour\n",
    "cov_asoh += [(1.0e-06) / 12] # CE\n",
    "cov_asoh += (2.5e-05 * np.ones(3)).tolist() # R0\n",
    "cov_asoh += [1.0e-06, 2.5e03] # RC\n",
    "cov_asoh += [1.0e-06] # hysteresis\n",
    "cov_asoh = np.diag(cov_asoh)\n",
    "\n",
    "# Now, the transient\n",
    "cov_tran = [1./12] # SOC\n",
    "cov_tran += [(4 * asoh_gt.q_t.amp_hour) ** 2 / 12] # I_RC\n",
    "cov_tran += [4 * (asoh_gt.h0.base_values)**2 / 12] # hyst\n",
    "cov_tran = np.diag(cov_tran)\n",
    "\n",
    "# Generate perturbed values\n",
    "tran_off_array = rng.multivariate_normal(mean=transient0_gt.to_numpy(), cov=cov_tran)\n",
    "asoh_off_array = rng.multivariate_normal(mean=asoh_gt.get_parameters(), cov=cov_asoh)\n",
    "# Let's just correct the Coulombic efficient, which cannot be larger than 1.\n",
    "while asoh_off_array[1] > 1:\n",
    "    asoh_off_array[1] = rng.normal(loc=1., scale=cov_asoh[1,1])\n",
    "\n",
    "# Finally, prepare the objects for the joint estimation\n",
    "asoh_off = asoh_gt.model_copy(deep=True)\n",
    "transient0_off = transient0_gt.model_copy(deep=True)\n",
    "asoh_off.update_parameters(asoh_off_array)\n",
    "transient0_off.from_numpy(tran_off_array)\n",
    "\n",
    "# Check to make sure these were updated\n",
    "print('Perturbed initial transient state: ', transient0_off.to_numpy())\n",
    "print('Perturbed A-SOH parameters: ', asoh_off.get_parameters())\n",
    "\n",
    "# Create joint estimator by setting very small noise terms for the A-SOH parameters\n",
    "voltage_err = 1.0e-03 # mV voltage error\n",
    "noise_sensor = ((voltage_err / 2) ** 2) * np.eye(1)\n",
    "noise_asoh = 1.0e-10 * np.eye(len(asoh_off_array))\n",
    "noise_asoh[0, 0] = 6.25e-04 # Qt value is 10 Amp-hour, so +/- 0.05 Amp-hour is reasonable\n",
    "noise_asoh[-2, -2] = 1.0e02 # C_RC value is 2500 afterall...\n",
    "noise_tran = 1.0e-08 * np.eye(3)\n",
    "joint_ukf = ECMJointUKF(initial_transient=transient0_off,\n",
    "                        initial_asoh=asoh_off,\n",
    "                        initial_control=simulator.previous_input.model_copy(deep=True),\n",
    "                        covariance_transient=cov_tran,\n",
    "                        covariance_asoh=cov_asoh,\n",
    "                        transient_noise=noise_tran,\n",
    "                        asoh_noise=noise_asoh,\n",
    "                        sensor_noise=noise_sensor,\n",
    "                        normalize_asoh=True\n",
    "                        )"
   ]
  },
  {
   "cell_type": "markdown",
   "metadata": {},
   "source": [
    "We can now co-simulate the ECM and update the joint UKF! Let's do so for 1000 cycles."
   ]
  },
  {
   "cell_type": "code",
   "execution_count": 9,
   "metadata": {},
   "outputs": [
    {
     "ename": "KeyboardInterrupt",
     "evalue": "",
     "output_type": "error",
     "traceback": [
      "\u001b[0;31m---------------------------------------------------------------------------\u001b[0m",
      "\u001b[0;31mKeyboardInterrupt\u001b[0m                         Traceback (most recent call last)",
      "Cell \u001b[0;32mIn[9], line 25\u001b[0m\n\u001b[1;32m     23\u001b[0m \u001b[38;5;66;03m# Step the joint estimator\u001b[39;00m\n\u001b[1;32m     24\u001b[0m measurement \u001b[38;5;241m=\u001b[39m ECMMeasurement(terminal_voltage\u001b[38;5;241m=\u001b[39mvt)\n\u001b[0;32m---> 25\u001b[0m pred_measure, est_hidden \u001b[38;5;241m=\u001b[39m \u001b[43mjoint_ukf\u001b[49m\u001b[38;5;241;43m.\u001b[39;49m\u001b[43mstep\u001b[49m\u001b[43m(\u001b[49m\u001b[43mu\u001b[49m\u001b[38;5;241;43m=\u001b[39;49m\u001b[43mnew_input\u001b[49m\u001b[43m,\u001b[49m\u001b[43m \u001b[49m\u001b[43my\u001b[49m\u001b[38;5;241;43m=\u001b[39;49m\u001b[43mmeasurement\u001b[49m\u001b[43m)\u001b[49m\n\u001b[1;32m     26\u001b[0m \u001b[38;5;66;03m# Save to the dictionary\u001b[39;00m\n\u001b[1;32m     27\u001b[0m joint_ukf_predictions[\u001b[38;5;124m'\u001b[39m\u001b[38;5;124mjoint_states\u001b[39m\u001b[38;5;124m'\u001b[39m] \u001b[38;5;241m+\u001b[39m\u001b[38;5;241m=\u001b[39m [est_hidden\u001b[38;5;241m.\u001b[39mmodel_copy(deep\u001b[38;5;241m=\u001b[39m\u001b[38;5;28;01mTrue\u001b[39;00m)]\n",
      "File \u001b[0;32m~/Library/CloudStorage/Dropbox/Argonne/Code/auto-soh/asoh/estimators/online/joint/unscented.py:154\u001b[0m, in \u001b[0;36mJointUKFEstimator.step\u001b[0;34m(self, u, y)\u001b[0m\n\u001b[1;32m    143\u001b[0m \u001b[38;5;250m\u001b[39m\u001b[38;5;124;03m\"\"\"\u001b[39;00m\n\u001b[1;32m    144\u001b[0m \u001b[38;5;124;03mFunction to step the estimator, provided new control variables and output measurements.\u001b[39;00m\n\u001b[1;32m    145\u001b[0m \n\u001b[0;32m   (...)\u001b[0m\n\u001b[1;32m    151\u001b[0m \u001b[38;5;124;03m    Corrected estimate of the hidden state of the system\u001b[39;00m\n\u001b[1;32m    152\u001b[0m \u001b[38;5;124;03m\"\"\"\u001b[39;00m\n\u001b[1;32m    153\u001b[0m \u001b[38;5;66;03m# Perform the estimation\u001b[39;00m\n\u001b[0;32m--> 154\u001b[0m estimator_prediction, estimator_hidden \u001b[38;5;241m=\u001b[39m \u001b[38;5;28;43msuper\u001b[39;49m\u001b[43m(\u001b[49m\u001b[43m)\u001b[49m\u001b[38;5;241;43m.\u001b[39;49m\u001b[43mstep\u001b[49m\u001b[43m(\u001b[49m\u001b[43mu\u001b[49m\u001b[38;5;241;43m=\u001b[39;49m\u001b[43mu\u001b[49m\u001b[43m,\u001b[49m\u001b[43m \u001b[49m\u001b[43my\u001b[49m\u001b[38;5;241;43m=\u001b[39;49m\u001b[43my\u001b[49m\u001b[43m)\u001b[49m\n\u001b[1;32m    156\u001b[0m \u001b[38;5;66;03m# Remember to adequately correct the mean and covariance of the hidden state based on normalization\u001b[39;00m\n\u001b[1;32m    157\u001b[0m estimator_hidden\u001b[38;5;241m.\u001b[39mmean \u001b[38;5;241m*\u001b[39m\u001b[38;5;241m=\u001b[39m \u001b[38;5;28mself\u001b[39m\u001b[38;5;241m.\u001b[39minterface\u001b[38;5;241m.\u001b[39mjoint_normalization_factor\n",
      "File \u001b[0;32m~/Library/CloudStorage/Dropbox/Argonne/Code/auto-soh/asoh/estimators/online/joint/__init__.py:178\u001b[0m, in \u001b[0;36mJointOnlineEstimator.step\u001b[0;34m(self, u, y)\u001b[0m\n\u001b[1;32m    176\u001b[0m y_estimator \u001b[38;5;241m=\u001b[39m OutputMeasurements(mean\u001b[38;5;241m=\u001b[39my\u001b[38;5;241m.\u001b[39mto_numpy())\n\u001b[1;32m    177\u001b[0m \u001b[38;5;66;03m# Get the measurement predictions and hidden state from estimator\u001b[39;00m\n\u001b[0;32m--> 178\u001b[0m estimator_prediction, estimator_hidden \u001b[38;5;241m=\u001b[39m \u001b[38;5;28;43mself\u001b[39;49m\u001b[38;5;241;43m.\u001b[39;49m\u001b[43mestimator\u001b[49m\u001b[38;5;241;43m.\u001b[39;49m\u001b[43mstep\u001b[49m\u001b[43m(\u001b[49m\u001b[43mu\u001b[49m\u001b[38;5;241;43m=\u001b[39;49m\u001b[43mu_estimator\u001b[49m\u001b[43m,\u001b[49m\u001b[43m \u001b[49m\u001b[43my\u001b[49m\u001b[38;5;241;43m=\u001b[39;49m\u001b[43my_estimator\u001b[49m\u001b[43m)\u001b[49m\n\u001b[1;32m    180\u001b[0m \u001b[38;5;66;03m# Update the transient state and A-SOH in the interface\u001b[39;00m\n\u001b[1;32m    181\u001b[0m \u001b[38;5;28mself\u001b[39m\u001b[38;5;241m.\u001b[39minterface\u001b[38;5;241m.\u001b[39mupdate_from_joint(joint_state\u001b[38;5;241m=\u001b[39mestimator_hidden\u001b[38;5;241m.\u001b[39mmean)\n",
      "File \u001b[0;32m~/Library/CloudStorage/Dropbox/Argonne/Code/auto-soh/asoh/estimators/online/general/kalman/unscented.py:124\u001b[0m, in \u001b[0;36mUnscentedKalmanFilter.step\u001b[0;34m(self, u, y)\u001b[0m\n\u001b[1;32m    122\u001b[0m sigma_pts \u001b[38;5;241m=\u001b[39m \u001b[38;5;28mself\u001b[39m\u001b[38;5;241m.\u001b[39mbuild_sigma_points()\n\u001b[1;32m    123\u001b[0m \u001b[38;5;66;03m# Step 1: perform estimation update\u001b[39;00m\n\u001b[0;32m--> 124\u001b[0m x_k_minus, y_k, cov_xy \u001b[38;5;241m=\u001b[39m \u001b[38;5;28;43mself\u001b[39;49m\u001b[38;5;241;43m.\u001b[39;49m\u001b[43mestimation_update\u001b[49m\u001b[43m(\u001b[49m\u001b[43msigma_pts\u001b[49m\u001b[38;5;241;43m=\u001b[39;49m\u001b[43msigma_pts\u001b[49m\u001b[43m,\u001b[49m\u001b[43m \u001b[49m\u001b[43mu\u001b[49m\u001b[38;5;241;43m=\u001b[39;49m\u001b[43mu\u001b[49m\u001b[43m)\u001b[49m\n\u001b[1;32m    125\u001b[0m \u001b[38;5;66;03m# Step 2: correction step, adjust hidden states based on new measurement\u001b[39;00m\n\u001b[1;32m    126\u001b[0m \u001b[38;5;28mself\u001b[39m\u001b[38;5;241m.\u001b[39mcorrection_update(x_k_minus\u001b[38;5;241m=\u001b[39mx_k_minus, y_hat\u001b[38;5;241m=\u001b[39my_k, cov_xy\u001b[38;5;241m=\u001b[39mcov_xy, y\u001b[38;5;241m=\u001b[39my)\n",
      "File \u001b[0;32m~/Library/CloudStorage/Dropbox/Argonne/Code/auto-soh/asoh/estimators/online/general/kalman/unscented.py:268\u001b[0m, in \u001b[0;36mUnscentedKalmanFilter.estimation_update\u001b[0;34m(self, sigma_pts, u)\u001b[0m\n\u001b[1;32m    265\u001b[0m x_k_minus \u001b[38;5;241m=\u001b[39m KalmanHiddenState\u001b[38;5;241m.\u001b[39mmodel_validate(x_k_minus_info)\n\u001b[1;32m    267\u001b[0m \u001b[38;5;66;03m# Step 1c: use updated hidden states to predict outpus\u001b[39;00m\n\u001b[0;32m--> 268\u001b[0m y_preds \u001b[38;5;241m=\u001b[39m \u001b[38;5;28;43mself\u001b[39;49m\u001b[38;5;241;43m.\u001b[39;49m\u001b[43m_predict_outputs\u001b[49m\u001b[43m(\u001b[49m\u001b[43mupdated_hidden_states\u001b[49m\u001b[38;5;241;43m=\u001b[39;49m\u001b[43mx_updated\u001b[49m\u001b[43m,\u001b[49m\u001b[43m \u001b[49m\u001b[43mcontrol\u001b[49m\u001b[38;5;241;43m=\u001b[39;49m\u001b[43mu\u001b[49m\u001b[43m)\u001b[49m\n\u001b[1;32m    269\u001b[0m \u001b[38;5;66;03m# Don't forget to include sensor noise!\u001b[39;00m\n\u001b[1;32m    270\u001b[0m y_preds \u001b[38;5;241m+\u001b[39m\u001b[38;5;241m=\u001b[39m v_hid\n",
      "File \u001b[0;32m~/Library/CloudStorage/Dropbox/Argonne/Code/auto-soh/asoh/estimators/online/general/kalman/unscented.py:238\u001b[0m, in \u001b[0;36mUnscentedKalmanFilter._predict_outputs\u001b[0;34m(self, updated_hidden_states, control)\u001b[0m\n\u001b[1;32m    225\u001b[0m \u001b[38;5;28;01mdef\u001b[39;00m \u001b[38;5;21m_predict_outputs\u001b[39m(\u001b[38;5;28mself\u001b[39m,\n\u001b[1;32m    226\u001b[0m                      updated_hidden_states: np\u001b[38;5;241m.\u001b[39mndarray,\n\u001b[1;32m    227\u001b[0m                      control: ControlVariables) \u001b[38;5;241m-\u001b[39m\u001b[38;5;241m>\u001b[39m np\u001b[38;5;241m.\u001b[39mndarray:\n\u001b[1;32m    228\u001b[0m \u001b[38;5;250m    \u001b[39m\u001b[38;5;124;03m\"\"\"\u001b[39;00m\n\u001b[1;32m    229\u001b[0m \u001b[38;5;124;03m    Function to predict outputs from evolved Sigma points.\u001b[39;00m\n\u001b[1;32m    230\u001b[0m \n\u001b[0;32m   (...)\u001b[0m\n\u001b[1;32m    236\u001b[0m \u001b[38;5;124;03m        y_preds: predicted outputs based on provided hidden states and control\u001b[39;00m\n\u001b[1;32m    237\u001b[0m \u001b[38;5;124;03m    \"\"\"\u001b[39;00m\n\u001b[0;32m--> 238\u001b[0m     y_preds \u001b[38;5;241m=\u001b[39m \u001b[38;5;28;43mself\u001b[39;49m\u001b[38;5;241;43m.\u001b[39;49m\u001b[43mmodel\u001b[49m\u001b[38;5;241;43m.\u001b[39;49m\u001b[43mpredict_measurement\u001b[49m\u001b[43m(\u001b[49m\u001b[43mhidden_states\u001b[49m\u001b[38;5;241;43m=\u001b[39;49m\u001b[43mupdated_hidden_states\u001b[49m\u001b[43m,\u001b[49m\u001b[43m \u001b[49m\u001b[43mcontrols\u001b[49m\u001b[38;5;241;43m=\u001b[39;49m\u001b[43mcontrol\u001b[49m\u001b[43m)\u001b[49m\n\u001b[1;32m    239\u001b[0m     \u001b[38;5;28;01mreturn\u001b[39;00m y_preds\n",
      "File \u001b[0;32m~/Library/CloudStorage/Dropbox/Argonne/Code/auto-soh/asoh/estimators/online/joint/ecm/unscented.py:107\u001b[0m, in \u001b[0;36mECMJointUKFInterface.predict_measurement\u001b[0;34m(self, hidden_states, controls)\u001b[0m\n\u001b[1;32m    105\u001b[0m \u001b[38;5;28;01mfor\u001b[39;00m joint_state \u001b[38;5;129;01min\u001b[39;00m hidden_states:\n\u001b[1;32m    106\u001b[0m     \u001b[38;5;28mself\u001b[39m\u001b[38;5;241m.\u001b[39mupdate_from_joint(joint_state\u001b[38;5;241m=\u001b[39mjoint_state)\n\u001b[0;32m--> 107\u001b[0m     ecm_out \u001b[38;5;241m=\u001b[39m \u001b[43mECM\u001b[49m\u001b[38;5;241;43m.\u001b[39;49m\u001b[43mcalculate_terminal_voltage\u001b[49m\u001b[43m(\u001b[49m\u001b[43mnew_input\u001b[49m\u001b[38;5;241;43m=\u001b[39;49m\u001b[43mecm_input\u001b[49m\u001b[43m,\u001b[49m\n\u001b[1;32m    108\u001b[0m \u001b[43m                                             \u001b[49m\u001b[43mtransient_state\u001b[49m\u001b[38;5;241;43m=\u001b[39;49m\u001b[38;5;28;43mself\u001b[39;49m\u001b[38;5;241;43m.\u001b[39;49m\u001b[43mtransient\u001b[49m\u001b[43m,\u001b[49m\n\u001b[1;32m    109\u001b[0m \u001b[43m                                             \u001b[49m\u001b[43masoh\u001b[49m\u001b[38;5;241;43m=\u001b[39;49m\u001b[38;5;28;43mself\u001b[39;49m\u001b[38;5;241;43m.\u001b[39;49m\u001b[43masoh\u001b[49m\u001b[43m)\u001b[49m\n\u001b[1;32m    110\u001b[0m     pred_measurement \u001b[38;5;241m+\u001b[39m\u001b[38;5;241m=\u001b[39m [ecm_out\u001b[38;5;241m.\u001b[39mto_numpy()]\n\u001b[1;32m    112\u001b[0m \u001b[38;5;28;01mreturn\u001b[39;00m np\u001b[38;5;241m.\u001b[39marray(pred_measurement)\n",
      "File \u001b[0;32m~/Library/CloudStorage/Dropbox/Argonne/Code/auto-soh/asoh/models/ecm/__init__.py:133\u001b[0m, in \u001b[0;36mEquivalentCircuitModel.calculate_terminal_voltage\u001b[0;34m(new_input, transient_state, asoh)\u001b[0m\n\u001b[1;32m    123\u001b[0m \u001b[38;5;250m\u001b[39m\u001b[38;5;124;03m\"\"\"\u001b[39;00m\n\u001b[1;32m    124\u001b[0m \u001b[38;5;124;03mCompute expected output (terminal voltage, etc.) of a the model.\u001b[39;00m\n\u001b[1;32m    125\u001b[0m \u001b[38;5;124;03mRecall the calculation of terminal voltage:\u001b[39;00m\n\u001b[0;32m   (...)\u001b[0m\n\u001b[1;32m    130\u001b[0m \u001b[38;5;124;03m        + hyst(SOC,T)\u001b[39;00m\n\u001b[1;32m    131\u001b[0m \u001b[38;5;124;03m\"\"\"\u001b[39;00m\n\u001b[1;32m    132\u001b[0m \u001b[38;5;66;03m# Start with OCV\u001b[39;00m\n\u001b[0;32m--> 133\u001b[0m Vt \u001b[38;5;241m=\u001b[39m \u001b[43masoh\u001b[49m\u001b[38;5;241;43m.\u001b[39;49m\u001b[43mocv\u001b[49m\u001b[43m(\u001b[49m\u001b[43msoc\u001b[49m\u001b[38;5;241;43m=\u001b[39;49m\u001b[43mtransient_state\u001b[49m\u001b[38;5;241;43m.\u001b[39;49m\u001b[43msoc\u001b[49m\u001b[43m,\u001b[49m\u001b[43m \u001b[49m\u001b[43mtemp\u001b[49m\u001b[38;5;241;43m=\u001b[39;49m\u001b[43mnew_input\u001b[49m\u001b[38;5;241;43m.\u001b[39;49m\u001b[43mtemperature\u001b[49m\u001b[43m)\u001b[49m\n\u001b[1;32m    135\u001b[0m \u001b[38;5;66;03m# Add I*R drop ('DCIR')\u001b[39;00m\n\u001b[1;32m    136\u001b[0m Vt \u001b[38;5;241m+\u001b[39m\u001b[38;5;241m=\u001b[39m new_input\u001b[38;5;241m.\u001b[39mcurrent \u001b[38;5;241m*\u001b[39m asoh\u001b[38;5;241m.\u001b[39mr0\u001b[38;5;241m.\u001b[39mget_value(soc\u001b[38;5;241m=\u001b[39mtransient_state\u001b[38;5;241m.\u001b[39msoc,\n\u001b[1;32m    137\u001b[0m                                             temp\u001b[38;5;241m=\u001b[39mnew_input\u001b[38;5;241m.\u001b[39mtemperature)\n",
      "File \u001b[0;32m~/Library/CloudStorage/Dropbox/Argonne/Code/auto-soh/asoh/models/ecm/components.py:152\u001b[0m, in \u001b[0;36mOpenCircuitVoltage.__call__\u001b[0;34m(self, soc, temp)\u001b[0m\n\u001b[1;32m    145\u001b[0m \u001b[38;5;28;01mdef\u001b[39;00m \u001b[38;5;21m__call__\u001b[39m(\u001b[38;5;28mself\u001b[39m,\n\u001b[1;32m    146\u001b[0m              soc: Union[\u001b[38;5;28mfloat\u001b[39m, List, np\u001b[38;5;241m.\u001b[39mndarray],\n\u001b[1;32m    147\u001b[0m              temp: Union[\u001b[38;5;28mfloat\u001b[39m, List, np\u001b[38;5;241m.\u001b[39mndarray, \u001b[38;5;28;01mNone\u001b[39;00m] \u001b[38;5;241m=\u001b[39m \u001b[38;5;28;01mNone\u001b[39;00m\n\u001b[1;32m    148\u001b[0m              ) \u001b[38;5;241m-\u001b[39m\u001b[38;5;241m>\u001b[39m Union[\u001b[38;5;28mfloat\u001b[39m, np\u001b[38;5;241m.\u001b[39mndarray]:\n\u001b[1;32m    149\u001b[0m \u001b[38;5;250m    \u001b[39m\u001b[38;5;124;03m\"\"\"\u001b[39;00m\n\u001b[1;32m    150\u001b[0m \u001b[38;5;124;03m    Allows this to be called and used as a function\u001b[39;00m\n\u001b[1;32m    151\u001b[0m \u001b[38;5;124;03m    \"\"\"\u001b[39;00m\n\u001b[0;32m--> 152\u001b[0m     \u001b[38;5;28;01mreturn\u001b[39;00m \u001b[38;5;28;43mself\u001b[39;49m\u001b[38;5;241;43m.\u001b[39;49m\u001b[43mget_value\u001b[49m\u001b[43m(\u001b[49m\u001b[43msoc\u001b[49m\u001b[38;5;241;43m=\u001b[39;49m\u001b[43msoc\u001b[49m\u001b[43m,\u001b[49m\u001b[43m \u001b[49m\u001b[43mtemp\u001b[49m\u001b[38;5;241;43m=\u001b[39;49m\u001b[43mtemp\u001b[49m\u001b[43m)\u001b[49m\n",
      "File \u001b[0;32m~/python_envs/ASOH_Diagnostics/lib/python3.9/site-packages/pydantic/validate_call_decorator.py:59\u001b[0m, in \u001b[0;36mvalidate_call.<locals>.validate.<locals>.wrapper_function\u001b[0;34m(*args, **kwargs)\u001b[0m\n\u001b[1;32m     57\u001b[0m \u001b[38;5;129m@functools\u001b[39m\u001b[38;5;241m.\u001b[39mwraps(function)\n\u001b[1;32m     58\u001b[0m \u001b[38;5;28;01mdef\u001b[39;00m \u001b[38;5;21mwrapper_function\u001b[39m(\u001b[38;5;241m*\u001b[39margs, \u001b[38;5;241m*\u001b[39m\u001b[38;5;241m*\u001b[39mkwargs):\n\u001b[0;32m---> 59\u001b[0m     \u001b[38;5;28;01mreturn\u001b[39;00m \u001b[43mvalidate_call_wrapper\u001b[49m\u001b[43m(\u001b[49m\u001b[38;5;241;43m*\u001b[39;49m\u001b[43margs\u001b[49m\u001b[43m,\u001b[49m\u001b[43m \u001b[49m\u001b[38;5;241;43m*\u001b[39;49m\u001b[38;5;241;43m*\u001b[39;49m\u001b[43mkwargs\u001b[49m\u001b[43m)\u001b[49m\n",
      "File \u001b[0;32m~/python_envs/ASOH_Diagnostics/lib/python3.9/site-packages/pydantic/_internal/_validate_call.py:81\u001b[0m, in \u001b[0;36mValidateCallWrapper.__call__\u001b[0;34m(self, *args, **kwargs)\u001b[0m\n\u001b[1;32m     80\u001b[0m \u001b[38;5;28;01mdef\u001b[39;00m \u001b[38;5;21m__call__\u001b[39m(\u001b[38;5;28mself\u001b[39m, \u001b[38;5;241m*\u001b[39margs: Any, \u001b[38;5;241m*\u001b[39m\u001b[38;5;241m*\u001b[39mkwargs: Any) \u001b[38;5;241m-\u001b[39m\u001b[38;5;241m>\u001b[39m Any:\n\u001b[0;32m---> 81\u001b[0m     res \u001b[38;5;241m=\u001b[39m \u001b[38;5;28;43mself\u001b[39;49m\u001b[38;5;241;43m.\u001b[39;49m\u001b[43m__pydantic_validator__\u001b[49m\u001b[38;5;241;43m.\u001b[39;49m\u001b[43mvalidate_python\u001b[49m\u001b[43m(\u001b[49m\u001b[43mpydantic_core\u001b[49m\u001b[38;5;241;43m.\u001b[39;49m\u001b[43mArgsKwargs\u001b[49m\u001b[43m(\u001b[49m\u001b[43margs\u001b[49m\u001b[43m,\u001b[49m\u001b[43m \u001b[49m\u001b[43mkwargs\u001b[49m\u001b[43m)\u001b[49m\u001b[43m)\u001b[49m\n\u001b[1;32m     82\u001b[0m     \u001b[38;5;28;01mif\u001b[39;00m \u001b[38;5;28mself\u001b[39m\u001b[38;5;241m.\u001b[39m__return_pydantic_validator__:\n\u001b[1;32m     83\u001b[0m         \u001b[38;5;28;01mreturn\u001b[39;00m \u001b[38;5;28mself\u001b[39m\u001b[38;5;241m.\u001b[39m__return_pydantic_validator__(res)\n",
      "File \u001b[0;32m~/Library/CloudStorage/Dropbox/Argonne/Code/auto-soh/asoh/models/ecm/components.py:138\u001b[0m, in \u001b[0;36mOpenCircuitVoltage.get_value\u001b[0;34m(self, soc, temp)\u001b[0m\n\u001b[1;32m    130\u001b[0m \u001b[38;5;129m@validate_call\u001b[39m(config\u001b[38;5;241m=\u001b[39mConfigDict(arbitrary_types_allowed\u001b[38;5;241m=\u001b[39m\u001b[38;5;28;01mTrue\u001b[39;00m))\n\u001b[1;32m    131\u001b[0m \u001b[38;5;28;01mdef\u001b[39;00m \u001b[38;5;21mget_value\u001b[39m(\u001b[38;5;28mself\u001b[39m,\n\u001b[1;32m    132\u001b[0m               soc: Union[\u001b[38;5;28mfloat\u001b[39m, List, np\u001b[38;5;241m.\u001b[39mndarray],\n\u001b[1;32m    133\u001b[0m               temp: Union[\u001b[38;5;28mfloat\u001b[39m, List, np\u001b[38;5;241m.\u001b[39mndarray, \u001b[38;5;28;01mNone\u001b[39;00m] \u001b[38;5;241m=\u001b[39m \u001b[38;5;28;01mNone\u001b[39;00m\n\u001b[1;32m    134\u001b[0m               ) \u001b[38;5;241m-\u001b[39m\u001b[38;5;241m>\u001b[39m Union[\u001b[38;5;28mfloat\u001b[39m, np\u001b[38;5;241m.\u001b[39mndarray]:\n\u001b[1;32m    135\u001b[0m \u001b[38;5;250m    \u001b[39m\u001b[38;5;124;03m\"\"\"\u001b[39;00m\n\u001b[1;32m    136\u001b[0m \u001b[38;5;124;03m    Returns values of OCV at given SOC(s) and temperature(s).\u001b[39;00m\n\u001b[1;32m    137\u001b[0m \u001b[38;5;124;03m    \"\"\"\u001b[39;00m\n\u001b[0;32m--> 138\u001b[0m     ocv \u001b[38;5;241m=\u001b[39m \u001b[38;5;28;43mself\u001b[39;49m\u001b[38;5;241;43m.\u001b[39;49m\u001b[43mocv_ref\u001b[49m\u001b[38;5;241;43m.\u001b[39;49m\u001b[43mget_value\u001b[49m\u001b[43m(\u001b[49m\u001b[43msoc\u001b[49m\u001b[38;5;241;43m=\u001b[39;49m\u001b[43msoc\u001b[49m\u001b[43m)\u001b[49m\n\u001b[1;32m    139\u001b[0m     \u001b[38;5;28;01mif\u001b[39;00m temp \u001b[38;5;129;01mis\u001b[39;00m \u001b[38;5;129;01mnot\u001b[39;00m \u001b[38;5;28;01mNone\u001b[39;00m:\n\u001b[1;32m    140\u001b[0m         T_ref \u001b[38;5;241m=\u001b[39m \u001b[38;5;28mself\u001b[39m\u001b[38;5;241m.\u001b[39mocv_ref\u001b[38;5;241m.\u001b[39mreference_temperature\n",
      "File \u001b[0;32m~/python_envs/ASOH_Diagnostics/lib/python3.9/site-packages/pydantic/validate_call_decorator.py:59\u001b[0m, in \u001b[0;36mvalidate_call.<locals>.validate.<locals>.wrapper_function\u001b[0;34m(*args, **kwargs)\u001b[0m\n\u001b[1;32m     57\u001b[0m \u001b[38;5;129m@functools\u001b[39m\u001b[38;5;241m.\u001b[39mwraps(function)\n\u001b[1;32m     58\u001b[0m \u001b[38;5;28;01mdef\u001b[39;00m \u001b[38;5;21mwrapper_function\u001b[39m(\u001b[38;5;241m*\u001b[39margs, \u001b[38;5;241m*\u001b[39m\u001b[38;5;241m*\u001b[39mkwargs):\n\u001b[0;32m---> 59\u001b[0m     \u001b[38;5;28;01mreturn\u001b[39;00m \u001b[43mvalidate_call_wrapper\u001b[49m\u001b[43m(\u001b[49m\u001b[38;5;241;43m*\u001b[39;49m\u001b[43margs\u001b[49m\u001b[43m,\u001b[49m\u001b[43m \u001b[49m\u001b[38;5;241;43m*\u001b[39;49m\u001b[38;5;241;43m*\u001b[39;49m\u001b[43mkwargs\u001b[49m\u001b[43m)\u001b[49m\n",
      "File \u001b[0;32m~/python_envs/ASOH_Diagnostics/lib/python3.9/site-packages/pydantic/_internal/_validate_call.py:81\u001b[0m, in \u001b[0;36mValidateCallWrapper.__call__\u001b[0;34m(self, *args, **kwargs)\u001b[0m\n\u001b[1;32m     80\u001b[0m \u001b[38;5;28;01mdef\u001b[39;00m \u001b[38;5;21m__call__\u001b[39m(\u001b[38;5;28mself\u001b[39m, \u001b[38;5;241m*\u001b[39margs: Any, \u001b[38;5;241m*\u001b[39m\u001b[38;5;241m*\u001b[39mkwargs: Any) \u001b[38;5;241m-\u001b[39m\u001b[38;5;241m>\u001b[39m Any:\n\u001b[0;32m---> 81\u001b[0m     res \u001b[38;5;241m=\u001b[39m \u001b[38;5;28;43mself\u001b[39;49m\u001b[38;5;241;43m.\u001b[39;49m\u001b[43m__pydantic_validator__\u001b[49m\u001b[38;5;241;43m.\u001b[39;49m\u001b[43mvalidate_python\u001b[49m\u001b[43m(\u001b[49m\u001b[43mpydantic_core\u001b[49m\u001b[38;5;241;43m.\u001b[39;49m\u001b[43mArgsKwargs\u001b[49m\u001b[43m(\u001b[49m\u001b[43margs\u001b[49m\u001b[43m,\u001b[49m\u001b[43m \u001b[49m\u001b[43mkwargs\u001b[49m\u001b[43m)\u001b[49m\u001b[43m)\u001b[49m\n\u001b[1;32m     82\u001b[0m     \u001b[38;5;28;01mif\u001b[39;00m \u001b[38;5;28mself\u001b[39m\u001b[38;5;241m.\u001b[39m__return_pydantic_validator__:\n\u001b[1;32m     83\u001b[0m         \u001b[38;5;28;01mreturn\u001b[39;00m \u001b[38;5;28mself\u001b[39m\u001b[38;5;241m.\u001b[39m__return_pydantic_validator__(res)\n",
      "File \u001b[0;32m~/Library/CloudStorage/Dropbox/Argonne/Code/auto-soh/asoh/models/ecm/utils.py:65\u001b[0m, in \u001b[0;36mSOCInterpolatedHealth.get_value\u001b[0;34m(self, soc)\u001b[0m\n\u001b[1;32m     63\u001b[0m \u001b[38;5;28;01mif\u001b[39;00m \u001b[38;5;28misinstance\u001b[39m(\u001b[38;5;28mself\u001b[39m\u001b[38;5;241m.\u001b[39mbase_values, Number):\n\u001b[1;32m     64\u001b[0m     \u001b[38;5;28;01mreturn\u001b[39;00m \u001b[38;5;28mself\u001b[39m\u001b[38;5;241m.\u001b[39mbase_values\n\u001b[0;32m---> 65\u001b[0m \u001b[38;5;28;01mreturn\u001b[39;00m \u001b[38;5;28;43mself\u001b[39;49m\u001b[38;5;241;43m.\u001b[39;49m\u001b[43m_interp_func\u001b[49m(soc)\n",
      "File \u001b[0;32m~/Library/CloudStorage/Dropbox/Argonne/Code/auto-soh/asoh/models/ecm/utils.py:46\u001b[0m, in \u001b[0;36mSOCInterpolatedHealth._interp_func\u001b[0;34m(self)\u001b[0m\n\u001b[1;32m     44\u001b[0m \u001b[38;5;28;01mif\u001b[39;00m \u001b[38;5;28mself\u001b[39m\u001b[38;5;241m.\u001b[39msoc_pinpoints \u001b[38;5;129;01mis\u001b[39;00m \u001b[38;5;28;01mNone\u001b[39;00m:\n\u001b[1;32m     45\u001b[0m     \u001b[38;5;28mself\u001b[39m\u001b[38;5;241m.\u001b[39msoc_pinpoints \u001b[38;5;241m=\u001b[39m np\u001b[38;5;241m.\u001b[39mlinspace(\u001b[38;5;241m0\u001b[39m, \u001b[38;5;241m1\u001b[39m, \u001b[38;5;28mlen\u001b[39m(\u001b[38;5;28mself\u001b[39m\u001b[38;5;241m.\u001b[39mbase_values))\n\u001b[0;32m---> 46\u001b[0m func \u001b[38;5;241m=\u001b[39m \u001b[43minterp1d\u001b[49m\u001b[43m(\u001b[49m\u001b[38;5;28;43mself\u001b[39;49m\u001b[38;5;241;43m.\u001b[39;49m\u001b[43msoc_pinpoints\u001b[49m\u001b[43m,\u001b[49m\n\u001b[1;32m     47\u001b[0m \u001b[43m                \u001b[49m\u001b[38;5;28;43mself\u001b[39;49m\u001b[38;5;241;43m.\u001b[39;49m\u001b[43mbase_values\u001b[49m\u001b[43m,\u001b[49m\n\u001b[1;32m     48\u001b[0m \u001b[43m                \u001b[49m\u001b[43mkind\u001b[49m\u001b[38;5;241;43m=\u001b[39;49m\u001b[38;5;28;43mself\u001b[39;49m\u001b[38;5;241;43m.\u001b[39;49m\u001b[43minterpolation_style\u001b[49m\u001b[43m,\u001b[49m\n\u001b[1;32m     49\u001b[0m \u001b[43m                \u001b[49m\u001b[43mbounds_error\u001b[49m\u001b[38;5;241;43m=\u001b[39;49m\u001b[38;5;28;43;01mFalse\u001b[39;49;00m\u001b[43m,\u001b[49m\n\u001b[1;32m     50\u001b[0m \u001b[43m                \u001b[49m\u001b[43mfill_value\u001b[49m\u001b[38;5;241;43m=\u001b[39;49m\u001b[38;5;124;43m'\u001b[39;49m\u001b[38;5;124;43mextrapolate\u001b[39;49m\u001b[38;5;124;43m'\u001b[39;49m\u001b[43m)\u001b[49m\n\u001b[1;32m     51\u001b[0m \u001b[38;5;28;01mreturn\u001b[39;00m func\n",
      "File \u001b[0;32m~/python_envs/ASOH_Diagnostics/lib/python3.9/site-packages/scipy/interpolate/_interpolate.py:525\u001b[0m, in \u001b[0;36minterp1d.__init__\u001b[0;34m(self, x, y, kind, axis, copy, bounds_error, fill_value, assume_sorted)\u001b[0m\n\u001b[1;32m    522\u001b[0m y \u001b[38;5;241m=\u001b[39m array(y, copy\u001b[38;5;241m=\u001b[39m\u001b[38;5;28mself\u001b[39m\u001b[38;5;241m.\u001b[39mcopy)\n\u001b[1;32m    524\u001b[0m \u001b[38;5;28;01mif\u001b[39;00m \u001b[38;5;129;01mnot\u001b[39;00m assume_sorted:\n\u001b[0;32m--> 525\u001b[0m     ind \u001b[38;5;241m=\u001b[39m \u001b[43mnp\u001b[49m\u001b[38;5;241;43m.\u001b[39;49m\u001b[43margsort\u001b[49m\u001b[43m(\u001b[49m\u001b[43mx\u001b[49m\u001b[43m,\u001b[49m\u001b[43m \u001b[49m\u001b[43mkind\u001b[49m\u001b[38;5;241;43m=\u001b[39;49m\u001b[38;5;124;43m\"\u001b[39;49m\u001b[38;5;124;43mmergesort\u001b[39;49m\u001b[38;5;124;43m\"\u001b[39;49m\u001b[43m)\u001b[49m\n\u001b[1;32m    526\u001b[0m     x \u001b[38;5;241m=\u001b[39m x[ind]\n\u001b[1;32m    527\u001b[0m     y \u001b[38;5;241m=\u001b[39m np\u001b[38;5;241m.\u001b[39mtake(y, ind, axis\u001b[38;5;241m=\u001b[39maxis)\n",
      "File \u001b[0;32m~/python_envs/ASOH_Diagnostics/lib/python3.9/site-packages/numpy/_core/fromnumeric.py:1200\u001b[0m, in \u001b[0;36margsort\u001b[0;34m(a, axis, kind, order, stable)\u001b[0m\n\u001b[1;32m   1085\u001b[0m \u001b[38;5;129m@array_function_dispatch\u001b[39m(_argsort_dispatcher)\n\u001b[1;32m   1086\u001b[0m \u001b[38;5;28;01mdef\u001b[39;00m \u001b[38;5;21margsort\u001b[39m(a, axis\u001b[38;5;241m=\u001b[39m\u001b[38;5;241m-\u001b[39m\u001b[38;5;241m1\u001b[39m, kind\u001b[38;5;241m=\u001b[39m\u001b[38;5;28;01mNone\u001b[39;00m, order\u001b[38;5;241m=\u001b[39m\u001b[38;5;28;01mNone\u001b[39;00m, \u001b[38;5;241m*\u001b[39m, stable\u001b[38;5;241m=\u001b[39m\u001b[38;5;28;01mNone\u001b[39;00m):\n\u001b[1;32m   1087\u001b[0m \u001b[38;5;250m    \u001b[39m\u001b[38;5;124;03m\"\"\"\u001b[39;00m\n\u001b[1;32m   1088\u001b[0m \u001b[38;5;124;03m    Returns the indices that would sort an array.\u001b[39;00m\n\u001b[1;32m   1089\u001b[0m \n\u001b[0;32m   (...)\u001b[0m\n\u001b[1;32m   1198\u001b[0m \n\u001b[1;32m   1199\u001b[0m \u001b[38;5;124;03m    \"\"\"\u001b[39;00m\n\u001b[0;32m-> 1200\u001b[0m     \u001b[38;5;28;01mreturn\u001b[39;00m \u001b[43m_wrapfunc\u001b[49m\u001b[43m(\u001b[49m\n\u001b[1;32m   1201\u001b[0m \u001b[43m        \u001b[49m\u001b[43ma\u001b[49m\u001b[43m,\u001b[49m\u001b[43m \u001b[49m\u001b[38;5;124;43m'\u001b[39;49m\u001b[38;5;124;43margsort\u001b[39;49m\u001b[38;5;124;43m'\u001b[39;49m\u001b[43m,\u001b[49m\u001b[43m \u001b[49m\u001b[43maxis\u001b[49m\u001b[38;5;241;43m=\u001b[39;49m\u001b[43maxis\u001b[49m\u001b[43m,\u001b[49m\u001b[43m \u001b[49m\u001b[43mkind\u001b[49m\u001b[38;5;241;43m=\u001b[39;49m\u001b[43mkind\u001b[49m\u001b[43m,\u001b[49m\u001b[43m \u001b[49m\u001b[43morder\u001b[49m\u001b[38;5;241;43m=\u001b[39;49m\u001b[43morder\u001b[49m\u001b[43m,\u001b[49m\u001b[43m \u001b[49m\u001b[43mstable\u001b[49m\u001b[38;5;241;43m=\u001b[39;49m\u001b[43mstable\u001b[49m\n\u001b[1;32m   1202\u001b[0m \u001b[43m    \u001b[49m\u001b[43m)\u001b[49m\n",
      "File \u001b[0;32m~/python_envs/ASOH_Diagnostics/lib/python3.9/site-packages/numpy/_core/fromnumeric.py:51\u001b[0m, in \u001b[0;36m_wrapfunc\u001b[0;34m(obj, method, *args, **kwds)\u001b[0m\n\u001b[1;32m     46\u001b[0m     result \u001b[38;5;241m=\u001b[39m \u001b[38;5;28mgetattr\u001b[39m(arr, method)(\u001b[38;5;241m*\u001b[39margs, \u001b[38;5;241m*\u001b[39m\u001b[38;5;241m*\u001b[39mkwds)\n\u001b[1;32m     48\u001b[0m     \u001b[38;5;28;01mreturn\u001b[39;00m conv\u001b[38;5;241m.\u001b[39mwrap(result, to_scalar\u001b[38;5;241m=\u001b[39m\u001b[38;5;28;01mFalse\u001b[39;00m)\n\u001b[0;32m---> 51\u001b[0m \u001b[38;5;28;01mdef\u001b[39;00m \u001b[38;5;21m_wrapfunc\u001b[39m(obj, method, \u001b[38;5;241m*\u001b[39margs, \u001b[38;5;241m*\u001b[39m\u001b[38;5;241m*\u001b[39mkwds):\n\u001b[1;32m     52\u001b[0m     bound \u001b[38;5;241m=\u001b[39m \u001b[38;5;28mgetattr\u001b[39m(obj, method, \u001b[38;5;28;01mNone\u001b[39;00m)\n\u001b[1;32m     53\u001b[0m     \u001b[38;5;28;01mif\u001b[39;00m bound \u001b[38;5;129;01mis\u001b[39;00m \u001b[38;5;28;01mNone\u001b[39;00m:\n",
      "\u001b[0;31mKeyboardInterrupt\u001b[0m: "
     ]
    }
   ],
   "source": [
    "# Total number of cycles to simulate\n",
    "num_cycles = 1000\n",
    "\n",
    "# Let's also create a simple ways to store UKF predictions and estimates, as well as the inputs provided\n",
    "noisy_voltage = []\n",
    "controls = []\n",
    "joint_ukf_predictions = {'joint_states': [], 'voltages': []}\n",
    "\n",
    "# Specify the start time of the simulation\n",
    "start_time = 0.0\n",
    "\n",
    "for _ in range(num_cycles):\n",
    "    # Generate list of inputs and store them in the controls\n",
    "    protocol = cycle_protocol(asoh=simulator.asoh, start_time=start_time)\n",
    "    controls += protocol\n",
    "\n",
    "    for new_input in protocol:\n",
    "        # Simulate (useful for also getting the real terminal voltage :) )\n",
    "        _, cell_response = simulator.step(new_input=new_input)\n",
    "        # Add noise to give to the UKF and store it\n",
    "        vt = cell_response.terminal_voltage + rng.normal(loc=0.0, scale=voltage_err / 2)\n",
    "        noisy_voltage += [vt]\n",
    "        # Step the joint estimator\n",
    "        measurement = ECMMeasurement(terminal_voltage=vt)\n",
    "        pred_measure, est_hidden = joint_ukf.step(u=new_input, y=measurement)\n",
    "        # Save to the dictionary\n",
    "        joint_ukf_predictions['joint_states'] += [est_hidden.model_copy(deep=True)]\n",
    "        joint_ukf_predictions['voltages'] += [pred_measure.model_copy(deep=True)]\n",
    "    \n",
    "    # TODO: degrade asoh\n",
    "\n",
    "    # Update the start time of the next cycle\n",
    "    start_time = protocol[-1].time + 1.0e-03\n"
   ]
  },
  {
   "cell_type": "markdown",
   "metadata": {},
   "source": [
    "Let's take a look at the results. First, we need to properly collect and process them. "
   ]
  },
  {
   "cell_type": "code",
   "execution_count": null,
   "metadata": {},
   "outputs": [],
   "source": []
  },
  {
   "cell_type": "code",
   "execution_count": 11,
   "metadata": {},
   "outputs": [
    {
     "data": {
      "text/plain": [
       "[<matplotlib.lines.Line2D at 0x161887760>]"
      ]
     },
     "execution_count": 11,
     "metadata": {},
     "output_type": "execute_result"
    },
    {
     "data": {
      "image/png": "[encoded data removed]",
      "text/plain": [
       "<Figure size 640x480 with 1 Axes>"
      ]
     },
     "metadata": {},
     "output_type": "display_data"
    }
   ],
   "source": [
    "num_points = len(joint_ukf_predictions['voltages'])\n",
    "timestamps = np.array([control.time for control in controls])\n",
    "plt.plot(timestamps[:len(noisy_voltage)]/ 3600, \n",
    "         noisy_voltage,\n",
    "         color='blue')\n",
    "plt.plot(timestamps[:num_points]/ 3600, \n",
    "         [pred.mean for pred in joint_ukf_predictions['voltages']],\n",
    "         linestyle=':',\n",
    "         color='red')"
   ]
  },
  {
   "cell_type": "code",
   "execution_count": 21,
   "metadata": {},
   "outputs": [
    {
     "data": {
      "text/plain": [
       "[<matplotlib.lines.Line2D at 0x165dd32e0>]"
      ]
     },
     "execution_count": 21,
     "metadata": {},
     "output_type": "execute_result"
    },
    {
     "data": {
      "image/png": "[encoded data removed]",
      "text/plain": [
       "<Figure size 640x480 with 1 Axes>"
      ]
     },
     "metadata": {},
     "output_type": "display_data"
    }
   ],
   "source": [
    "# Get the joint states\n",
    "joint_mean = np.array([joint.mean for joint in joint_ukf_predictions['joint_states']])\n",
    "joint_cov = np.array([joint.covariance for joint in joint_ukf_predictions['joint_states']])\n",
    "plt.plot(timestamps[:num_points], joint_mean[:,10])"
   ]
  },
  {
   "cell_type": "code",
   "execution_count": 22,
   "metadata": {},
   "outputs": [
    {
     "data": {
      "text/plain": [
       "0.05"
      ]
     },
     "execution_count": 22,
     "metadata": {},
     "output_type": "execute_result"
    }
   ],
   "source": [
    "simulator.asoh.h0.base_values"
   ]
  },
  {
   "cell_type": "code",
   "execution_count": null,
   "metadata": {},
   "outputs": [
    {
     "data": {
      "text/plain": [
       "np.float64(525.7252133957435)"
      ]
     },
     "execution_count": 28,
     "metadata": {},
     "output_type": "execute_result"
    }
   ],
   "source": [
    "np.sqrt(276387)"
   ]
  },
  {
   "cell_type": "code",
   "execution_count": null,
   "metadata": {},
   "outputs": [
    {
     "name": "stdout",
     "output_type": "stream",
     "text": [
      "[ 7.40000417e-01 -2.07691874e+34  6.10740964e-03  1.02834400e+00\n",
      "  1.00000111e+00  1.49589724e+00  8.96968487e-01  9.64842108e-01\n",
      "  1.03141240e+00  1.13130646e+00  1.00532939e+00]\n",
      "[[ 3.43386651e+82  3.11545707e+34 -1.04770100e+82  1.06830305e+83\n",
      "   1.92415509e+79  8.52922631e+82 -2.31439972e+82 -7.41117695e+81\n",
      "  -5.25476796e+82  1.24330715e+86  2.80991651e+81]\n",
      " [ 3.43386651e+82 -1.24330809e+86 -1.04770100e+82  1.06830305e+83\n",
      "   1.92415509e+79  8.52922631e+82 -2.31439972e+82 -7.41117695e+81\n",
      "  -5.25476796e+82  1.24330715e+86  2.80991651e+81]\n",
      " [ 3.43386651e+82  3.11592657e+34 -1.04770100e+82  1.06830305e+83\n",
      "   1.92415509e+79  8.52922631e+82 -2.31439972e+82 -7.41117695e+81\n",
      "  -5.25476796e+82  1.24330715e+86  2.80991651e+81]\n",
      " [ 3.43386651e+82  3.11998496e+34 -1.04770100e+82  1.06830305e+83\n",
      "   1.92415509e+79  8.52922631e+82 -2.31439972e+82 -7.41117695e+81\n",
      "  -5.25476796e+82  1.24330715e+86  2.80991651e+81]\n",
      " [ 3.43386651e+82  3.11617103e+34 -1.04770100e+82  1.06830305e+83\n",
      "   1.92415509e+79  8.52922631e+82 -2.31439972e+82 -7.41117695e+81\n",
      "  -5.25476796e+82  1.24330715e+86  2.80991651e+81]\n",
      " [ 3.43386651e+82  3.13979856e+34 -1.04770100e+82  1.06830305e+83\n",
      "   1.92415509e+79  8.52922631e+82 -2.31439972e+82 -7.41117695e+81\n",
      "  -5.25476796e+82  1.24330715e+86  2.80991651e+81]\n",
      " [ 3.43386651e+82  3.11365189e+34 -1.04770100e+82  1.06830305e+83\n",
      "   1.92415509e+79  8.52922631e+82 -2.31439972e+82 -7.41117695e+81\n",
      "  -5.25476796e+82  1.24330715e+86  2.80991651e+81]\n",
      " [ 3.43386651e+82  3.13030980e+34 -1.04770100e+82  1.06830305e+83\n",
      "   1.92415509e+79  8.52922631e+82 -2.31439972e+82 -7.41117695e+81\n",
      "  -5.25476796e+82  1.24330715e+86  2.80991651e+81]\n",
      " [ 3.43386651e+82  3.12747749e+34 -1.04770100e+82  1.06830305e+83\n",
      "   1.92415509e+79  8.52922631e+82 -2.31439972e+82 -7.41117695e+81\n",
      "  -5.25476796e+82  1.24330715e+86  2.80991651e+81]\n",
      " [ 3.43386651e+82  5.71227733e+34 -1.04770100e+82  1.06830305e+83\n",
      "   1.92415509e+79  8.52922631e+82 -2.31439972e+82 -7.41117695e+81\n",
      "  -5.25476796e+82  1.24330715e+86  2.80991651e+81]\n",
      " [ 3.43386651e+82  3.11524154e+34 -1.04770100e+82  1.06830305e+83\n",
      "   1.92415509e+79  8.52922631e+82 -2.31439972e+82 -7.41117695e+81\n",
      "  -5.25476796e+82  1.24330715e+86  2.80991651e+81]]\n"
     ]
    }
   ],
   "source": [
    "print(joint_ukf.estimator.state.get_mean())\n",
    "print(joint_ukf.estimator.state.get_covariance())"
   ]
  },
  {
   "cell_type": "code",
   "execution_count": null,
   "metadata": {},
   "outputs": [
    {
     "data": {
      "text/plain": [
       "array([7.39903220e-01, 9.38190653e+00, 6.10374108e-03, 1.02871779e+01,\n",
       "       1.00000109e+00, 5.07029996e-02, 3.81906636e-02, 5.80539200e-02,\n",
       "       1.08980401e-02, 2.52623034e+03, 4.80475156e-02])"
      ]
     },
     "execution_count": 29,
     "metadata": {},
     "output_type": "execute_result"
    }
   ],
   "source": [
    "joint_mean[-2]"
   ]
  },
  {
   "cell_type": "code",
   "execution_count": null,
   "metadata": {},
   "outputs": [
    {
     "data": {
      "text/plain": [
       "array([[ 1.06907983e+85,  1.92485448e+80,  2.89200716e+82,\n",
       "        -9.85771416e+81, -4.46087770e+81, -5.55427562e+81,\n",
       "         2.83643769e+90,  1.34342715e+81],\n",
       "       [ 1.06869135e+84,  1.92415504e+79,  2.89095629e+81,\n",
       "        -9.85413214e+80, -4.45925674e+80, -5.55225735e+80,\n",
       "         2.83540701e+89,  1.34293899e+80],\n",
       "       [ 3.62229815e+82,  6.52186735e+77,  9.79881198e+79,\n",
       "        -3.34002933e+79, -1.51145206e+79, -1.88192143e+79,\n",
       "         9.61052931e+87,  4.55185251e+78],\n",
       "       [ 4.55021922e+82,  8.19256861e+77,  1.23089654e+80,\n",
       "        -4.19564183e+79, -1.89863946e+79, -2.36401165e+79,\n",
       "         1.20724505e+88,  5.71789673e+78],\n",
       "       [ 6.43024621e+82,  1.15775155e+78,  1.73946956e+80,\n",
       "        -5.92916709e+79, -2.68310572e+79, -3.34075706e+79,\n",
       "         1.70604592e+88,  8.08037636e+78],\n",
       "       [ 1.12919345e+82,  2.03308773e+77,  3.05462275e+79,\n",
       "        -1.04120067e+79, -4.71170981e+78, -5.86658874e+78,\n",
       "         2.99592864e+87,  1.41896714e+78],\n",
       "       [ 2.43718941e+87,  4.38810540e+82,  6.59293074e+84,\n",
       "        -2.24727060e+84, -1.01694968e+84, -1.26621244e+84,\n",
       "         6.46624859e+92,  3.06262110e+83],\n",
       "       [ 5.10757994e+82,  9.19608421e+77,  1.38167024e+80,\n",
       "        -4.70957003e+79, -2.13120563e+79, -2.65358171e+79,\n",
       "         1.35512166e+88,  6.41828739e+78]])"
      ]
     },
     "execution_count": 37,
     "metadata": {},
     "output_type": "execute_result"
    }
   ],
   "source": [
    "joint_cov[-1][3:, 3:]"
   ]
  },
  {
   "cell_type": "code",
   "execution_count": null,
   "metadata": {},
   "outputs": [],
   "source": []
  }
 ],
 "metadata": {
  "kernelspec": {
   "display_name": "ASOH_Diagnostics",
   "language": "python",
   "name": "python3"
  },
  "language_info": {
   "codemirror_mode": {
    "name": "ipython",
    "version": 3
   },
   "file_extension": ".py",
   "mimetype": "text/x-python",
   "name": "python",
   "nbconvert_exporter": "python",
   "pygments_lexer": "ipython3",
   "version": "3.9.6"
  }
 },
 "nbformat": 4,
 "nbformat_minor": 2
}

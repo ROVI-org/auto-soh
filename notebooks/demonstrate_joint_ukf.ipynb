{
 "cells": [
  {
   "cell_type": "markdown",
   "metadata": {},
   "source": [
    "# Demonstrate Joint UKF Estimation"
   ]
  },
  {
   "cell_type": "code",
   "execution_count": 1,
   "metadata": {},
   "outputs": [],
   "source": [
    "from typing import List\n",
    "\n",
    "from tqdm import tqdm\n",
    "import numpy as np\n",
    "import matplotlib.pyplot as plt\n",
    "from scipy.linalg import block_diag\n",
    "\n",
    "from moirae.models.ecm import EquivalentCircuitModel as ECM\n",
    "from moirae.models.ecm.advancedSOH import ECMASOH\n",
    "from moirae.models.ecm.ins_outs import ECMInput, ECMMeasurement\n",
    "from moirae.models.ecm.transient import ECMTransientVector\n",
    "from moirae.models.ecm.simulator import ECMSimulator\n",
    "from moirae.estimators.online import ControlVariables, OutputMeasurements\n",
    "from moirae.estimators.online.kalman.unscented import KalmanHiddenState\n",
    "from moirae.estimators.online.kalman.unscented import JointUnscentedKalmanFilter as JointUKF"
   ]
  },
  {
   "cell_type": "markdown",
   "metadata": {},
   "source": [
    "First, let's define a random number generator for consistency."
   ]
  },
  {
   "cell_type": "code",
   "execution_count": 2,
   "metadata": {},
   "outputs": [],
   "source": [
    "# Initialize RNG\n",
    "rng = np.random.default_rng(seed=1001001)"
   ]
  },
  {
   "cell_type": "markdown",
   "metadata": {},
   "source": [
    "All examples in this notebook will use the same cycling protocol, which assumes every cycle starts with the cell at 100% SOC. This protocol follows the procedure below: \n",
    "1. rest the cell for 5-10 minutes\n",
    "2. discharge the cell at a C-rate between 1.5 and 2.5 C\n",
    "3. rest the cell for 10-20 minutes\n",
    "4. charge the cell at a C-rate between 0.5 and 1.5 C\n",
    "5. rest the cell for 5-10 minutes\n",
    "\n",
    "We will create a helper function to specify timestamps and currents for a given cycle. These will be reported at \n",
    "approximately every second. "
   ]
  },
  {
   "cell_type": "code",
   "execution_count": 3,
   "metadata": {},
   "outputs": [],
   "source": [
    "def cycle_protocol(asoh: ECMASOH, start_time:float = 0.0) -> List[ECMInput]:\n",
    "    \"\"\"\n",
    "    Function to return list of ECMInputs corresponding to a new cycle\n",
    "\n",
    "    Args: \n",
    "        asoh: A-SOH object to be used\n",
    "        start_time: time at which to start this cycle in seconds\n",
    "    \n",
    "    Returns:\n",
    "        ecm_inputs: list of ECMInput objects corresponding to this cycle\n",
    "    \"\"\"\n",
    "    # initialize main lists to be used\n",
    "    timestamps = []\n",
    "    currents = []\n",
    "\n",
    "    # Get the Qt and CE, which will help determine the currents\n",
    "    qt = asoh.q_t.amp_hour\n",
    "    ce = asoh.ce\n",
    "\n",
    "    # Now, let's choose rest durations and C-rates\n",
    "    rest0, rest1, rest2 = rng.integers(low=5, high=10, size=3)\n",
    "    rest0 *= 60\n",
    "    rest1 *= 2 * 60\n",
    "    rest2 *= 60\n",
    "    dischg_rate, chg_rate = np.array([1.5, 0.5]) + rng.random(size=2)\n",
    "\n",
    "    def update_timestamps_curr(duration: float, curr: float) -> None:\n",
    "        \"\"\"\n",
    "        Helper to populate timestamps and currents.\n",
    "\n",
    "        Args:\n",
    "            duration: duration of segment in seconds\n",
    "            curr: value of current to be used. \n",
    "        \"\"\"\n",
    "        # specify binds to nearest variables \n",
    "        nonlocal currents\n",
    "        nonlocal timestamps\n",
    "        new_len = int(np.ceil(duration))\n",
    "        currents += [curr] * new_len\n",
    "        new_times = np.sort(rng.random(size=new_len)) * duration\n",
    "        if len(timestamps) == 0:\n",
    "            new_times += start_time\n",
    "        else:\n",
    "            new_times += timestamps[-1] + (1.0e-03)\n",
    "        timestamps += new_times.tolist()\n",
    "\n",
    "    # Rest 0\n",
    "    update_timestamps_curr(duration=rest0, curr=0.0)\n",
    "\n",
    "    # Discharge\n",
    "    dischg_duration = 3600.0 / dischg_rate\n",
    "    dischg_curr = -(qt * dischg_rate)\n",
    "    update_timestamps_curr(duration=dischg_duration, curr=dischg_curr)\n",
    "\n",
    "    # Rest 1\n",
    "    update_timestamps_curr(duration=rest1, curr=0.0)\n",
    "\n",
    "    # Charge\n",
    "    chg_duration = 3600.0 / chg_rate\n",
    "    chg_curr = (qt * chg_rate) / ce\n",
    "    update_timestamps_curr(duration=chg_duration, curr=chg_curr)\n",
    "\n",
    "    # Rest 2\n",
    "    update_timestamps_curr(duration=rest2, curr=0.0)\n",
    "\n",
    "    # Finally, assemble the ECMInputs\n",
    "    ecm_inputs = [ECMInput(time=time, current=current) for time, current in zip(timestamps, currents)]\n",
    "    return ecm_inputs"
   ]
  },
  {
   "cell_type": "markdown",
   "metadata": {},
   "source": [
    "## Example 1: Rint with no degration"
   ]
  },
  {
   "cell_type": "markdown",
   "metadata": {},
   "source": [
    "In our first example, we use a Rint model that does not degrade over time. For some additionaly complexity and demonstration purposes, we will use a SOC varying $R_0$, as shown below, where we prepare the Beginning of Life (BOL) A-SOH."
   ]
  },
  {
   "cell_type": "code",
   "execution_count": 4,
   "metadata": {},
   "outputs": [
    {
     "data": {
      "image/png": "[encoded data removed]",
      "text/plain": [
       "<Figure size 300x200 with 1 Axes>"
      ]
     },
     "metadata": {},
     "output_type": "display_data"
    }
   ],
   "source": [
    "# Define the values of R0 to use\n",
    "r0_vals = np.array([5,4,6]) * 1.0e-02\n",
    "\n",
    "# Get A-SOH and set R0 values and interpolation style\n",
    "asoh_rint_bol = ECMASOH.provide_template(has_C0=False, num_RC=0, R0=r0_vals)\n",
    "asoh_rint_bol.r0.interpolation_style = 'quadratic'\n",
    "\n",
    "# Check R0 profile\n",
    "test_socs = np.arange(-0.05, 1.06, 0.01)\n",
    "fig, ax = plt.subplots(figsize=(3,2))\n",
    "ax.plot(100 * test_socs, 1000 * asoh_rint_bol.r0.get_value(soc=test_socs))\n",
    "ax.set_xlabel('SOC [%]')\n",
    "_ = ax.set_ylabel(r'$R_0$ $[m\\Omega]$')"
   ]
  },
  {
   "cell_type": "markdown",
   "metadata": {},
   "source": [
    "Now, let's start preparations for the co-simulation of this cell alongside its joint estimation.\n",
    "\n",
    "First, let us create a new A-SOH ground truth object with the proper updatable parameters set to help with the simulator and joint estimator. "
   ]
  },
  {
   "cell_type": "code",
   "execution_count": 5,
   "metadata": {},
   "outputs": [
    {
     "name": "stdout",
     "output_type": "stream",
     "text": [
      "Initial updatable parameters:  []\n",
      "New updatable parameters:  [10.    1.    0.05  0.04  0.06  0.05]\n"
     ]
    }
   ],
   "source": [
    "asoh_rint_gt = asoh_rint_bol.model_copy(deep=True)\n",
    "# Check that nothing is updatable yet:\n",
    "print('Initial updatable parameters: ', asoh_rint_gt.get_parameters())\n",
    "asoh_rint_gt.mark_updatable(name='q_t.base_values')\n",
    "asoh_rint_gt.mark_updatable(name='ce')\n",
    "asoh_rint_gt.mark_updatable(name='r0.base_values')\n",
    "asoh_rint_gt.mark_updatable(name='h0.base_values')\n",
    "# Make sure we have all that is updatable\n",
    "\n",
    "print('New updatable parameters: ', asoh_rint_gt.get_parameters())"
   ]
  },
  {
   "cell_type": "markdown",
   "metadata": {},
   "source": [
    "Now, let's initialize the transient state to 100% SOC and create the simulator"
   ]
  },
  {
   "cell_type": "code",
   "execution_count": 6,
   "metadata": {},
   "outputs": [],
   "source": [
    "transient0_rint_gt = ECMTransientVector.provide_template(has_C0=False, num_RC=0, soc=1.0)\n",
    "rint_sim = ECMSimulator(asoh=asoh_rint_gt, transient_state=transient0_rint_gt, keep_history=True)"
   ]
  },
  {
   "cell_type": "markdown",
   "metadata": {},
   "source": [
    "Since, in a real world setting, we don't exactly know the conditions of the cell when the estimator starts, we will perturb the transient state and the A-SOH to initialize the joint estimation. In order to perturb them appropriately, we should also establish their covariances, which will be needed for the UKF anyway.\n",
    "\n",
    "For the transient state, we will assume that\n",
    "1. the SOC variance is equivalent to that of a uniform distribution between 0 and 1\n",
    "2. the hysteresis variance is equivalent to a uniform distribution from +M to -M (max hysteresis value)\n",
    "\n",
    "For the A-SOH, we will assume that\n",
    "1. the standard deviation of Qt is of 0.05 Amp-hour: $2\\sigma=0.05\\implies\\sigma=2.5\\times10^{-2}\\implies\\sigma^2=6.25\\times10^{-4}$\n",
    "2. the variance of coulombic efficiency is equivalent to that of a uniform distribution between 0.999 and 1\n",
    "3. the standard deviation of all R0 base values is $2\\sigma=1\\times 10^{-2}\\Omega\\implies\\sigma^2=2.5\\times10^{-5}$\n",
    "4. the hysteresis standard deviation if of 1 mV \n",
    "\n",
    "We should also print these perturbed values to make sure they are not too far out there (for instance, we would not want the SOC to be much larger than 105%)"
   ]
  },
  {
   "cell_type": "code",
   "execution_count": 7,
   "metadata": {},
   "outputs": [
    {
     "name": "stdout",
     "output_type": "stream",
     "text": [
      "Perturbed initial transient state:  [1.0471777  0.01302435]\n",
      "Perturbed A-SOH parameters:  [9.9572639  0.99953508 0.03902681 0.04072698 0.06128874 0.05001693]\n"
     ]
    }
   ],
   "source": [
    "# Start with the A-SOH\n",
    "cov_asoh_rint = [6.25e-04] # Qt: +/- 0.05 Amp-hour\n",
    "cov_asoh_rint += [(1.0e-06) / 12] # CE\n",
    "cov_asoh_rint += (2.5e-05 * np.ones(3)).tolist() # R0\n",
    "cov_asoh_rint += [1.0e-06] # hysteresis\n",
    "cov_asoh_rint = np.diag(cov_asoh_rint)\n",
    "\n",
    "# Now, the transient\n",
    "cov_tran_rint = [1./12] # SOC\n",
    "cov_tran_rint += [4 * (asoh_rint_gt.h0.base_values)**2 / 12] # hyst\n",
    "cov_tran_rint = np.diag(cov_tran_rint)\n",
    "\n",
    "# Generate perturbed values\n",
    "tran_rint_off_array = rng.multivariate_normal(mean=transient0_rint_gt.to_numpy(), cov=cov_tran_rint)\n",
    "asoh_rint_off_array = rng.multivariate_normal(mean=asoh_rint_gt.get_parameters(), cov=cov_asoh_rint)\n",
    "# Make sure the initial SOC is not too off-base\n",
    "while tran_rint_off_array[0] > 1.05:\n",
    "    tran_rint_off_array[0] = rng.normal(loc=1.0, scale=cov_tran_rint[0,0])\n",
    "# Let's also correct the Coulombic efficient, which cannot be larger than 1.\n",
    "while asoh_rint_off_array[1] > 1:\n",
    "    asoh_rint_off_array[1] = rng.normal(loc=1., scale=cov_asoh_rint[1,1])\n",
    "\n",
    "# Finally, prepare the objects for the joint estimation\n",
    "asoh_rint_off = asoh_rint_gt.model_copy(deep=True)\n",
    "transient0_rint_off = transient0_rint_gt.model_copy(deep=True)\n",
    "asoh_rint_off.update_parameters(asoh_rint_off_array)\n",
    "transient0_rint_off.from_numpy(tran_rint_off_array)\n",
    "\n",
    "# Check to make sure these were updated\n",
    "print('Perturbed initial transient state: ', transient0_rint_off.to_numpy())\n",
    "print('Perturbed A-SOH parameters: ', asoh_rint_off.get_parameters())\n",
    "\n",
    "# Create joint estimator by setting very small noise terms for the A-SOH parameters\n",
    "voltage_err = 1.0e-03 # mV voltage error\n",
    "noise_sensor = ((voltage_err / 2) ** 2) * np.eye(1)\n",
    "noise_asoh = 1.0e-10 * np.eye(len(asoh_rint_off_array))\n",
    "noise_asoh[0, 0] = 6.25e-04 # Qt value is 10 Amp-hour, so +/- 0.05 Amp-hour is reasonable\n",
    "noise_tran = 1.0e-08 * np.eye(2)\n",
    "rint_joint_ukf = JointUKF(\n",
    "    model=ECM(),\n",
    "    initial_transients=transient0_rint_off,\n",
    "    initial_asoh=asoh_rint_off,\n",
    "    initial_inputs=rint_sim.previous_input.model_copy(deep=True),\n",
    "    initial_covariance=block_diag(cov_tran_rint, cov_asoh_rint),  # TODO (wardlt): Consider keeping ASOH and transients as separate kwargs\n",
    "    covariance_process_noise=block_diag(noise_tran, noise_asoh),\n",
    "    covariance_sensor_noise=noise_sensor,\n",
    "    normalize_asoh=False\n",
    ")"
   ]
  },
  {
   "cell_type": "markdown",
   "metadata": {},
   "source": [
    "We can now co-simulate the ECM and update the joint UKF!"
   ]
  },
  {
   "cell_type": "code",
   "execution_count": null,
   "metadata": {},
   "outputs": [
    {
     "name": "stderr",
     "output_type": "stream",
     "text": [
      "  3%|████▊                                                                                                                                                                    | 1/35 [02:22<1:20:28, 142.01s/it]"
     ]
    }
   ],
   "source": [
    "# Total number of cycles to simulate\n",
    "num_cycles = 35\n",
    "\n",
    "# Let's also create a simple ways to store UKF predictions and estimates, as well as the inputs provided\n",
    "noisy_voltage = []\n",
    "controls = []\n",
    "joint_ukf_predictions = {'joint_states': [], 'voltages': []}\n",
    "\n",
    "# Specify the start time of the simulation\n",
    "start_time = 0.0\n",
    "\n",
    "for _ in tqdm(range(num_cycles)):\n",
    "    # Generate list of inputs and store them in the controls\n",
    "    protocol = cycle_protocol(asoh=rint_sim.asoh, start_time=start_time)\n",
    "    controls += protocol\n",
    "\n",
    "    for new_input in protocol:\n",
    "        # Simulate (useful for also getting the real terminal voltage :) )\n",
    "        _, cell_response = rint_sim.step(new_input=new_input)\n",
    "        # Add noise to give to the UKF and store it\n",
    "        vt = cell_response.terminal_voltage + rng.normal(loc=0.0, scale=voltage_err / 2)\n",
    "        noisy_voltage += [vt]\n",
    "        # Step the joint estimator``\n",
    "        measurement = ECMMeasurement(terminal_voltage=vt)\n",
    "        pred_measure, est_hidden = rint_joint_ukf.step(\n",
    "            u=ControlVariables(mean=new_input.to_numpy()),\n",
    "            y=OutputMeasurements(mean=measurement.to_numpy())\n",
    "        )\n",
    "        # Save to the dictionary\n",
    "        joint_ukf_predictions['joint_states'] += [est_hidden.model_copy(deep=True)]\n",
    "        joint_ukf_predictions['voltages'] += [pred_measure.model_copy(deep=True)]\n",
    "\n",
    "    # Update the start time of the next cycle\n",
    "    start_time = protocol[-1].time + 1.0e-03"
   ]
  },
  {
   "cell_type": "markdown",
   "metadata": {},
   "source": [
    "Now, collect and process the results for visualization"
   ]
  },
  {
   "cell_type": "code",
   "execution_count": null,
   "metadata": {},
   "outputs": [],
   "source": [
    "# Controls\n",
    "timestamps = np.array([control.time for control in controls]) / 3600\n",
    "currents = np.array([control.current for control in controls])\n",
    "\n",
    "# Get real values\n",
    "real_soc = np.array([transient.soc for transient in rint_sim.transient_history])\n",
    "real_hyst = np.array([transient.hyst for transient in rint_sim.transient_history])\n",
    "\n",
    "# Estimate values and their corresponding uncertainty\n",
    "estimated_soc = np.array([estimate.mean[0] for estimate in joint_ukf_predictions['joint_states']])\n",
    "estimated_hyst = np.array([estimate.mean[1] for estimate in joint_ukf_predictions['joint_states']])\n",
    "estimated_Qt = np.array([estimate.mean[2] for estimate in joint_ukf_predictions['joint_states']])\n",
    "estimated_CE = np.array([estimate.mean[3] for estimate in joint_ukf_predictions['joint_states']])\n",
    "estimated_R0 = np.array([estimate.mean[4:7] for estimate in joint_ukf_predictions['joint_states']])\n",
    "estimated_H0 = np.array([estimate.mean[7] for estimate in joint_ukf_predictions['joint_states']])\n",
    "estimated_soc_std = np.sqrt(np.array([estimate.covariance[0,0] for estimate in joint_ukf_predictions['joint_states']]))\n",
    "estimated_hyst_std = np.sqrt(np.array([estimate.covariance[1,1] for estimate in joint_ukf_predictions['joint_states']]))\n",
    "estimated_Qt_std = np.sqrt(np.array([estimate.covariance[2,2] for estimate in joint_ukf_predictions['joint_states']]))\n",
    "estimated_CE_std = np.sqrt(np.array([estimate.covariance[3,3] for estimate in joint_ukf_predictions['joint_states']]))\n",
    "estimated_R0_std = np.sqrt(np.array([estimate.covariance[4:7, 4:7] for estimate in joint_ukf_predictions['joint_states']]))\n",
    "estimated_H0_std = np.sqrt(np.array([estimate.covariance[7,7] for estimate in joint_ukf_predictions['joint_states']]))\n",
    "predicted_Vt = np.array([prediction.mean[0] for prediction in joint_ukf_predictions['voltages']])\n",
    "predicted_Vt_std = np.sqrt(np.array([prediction.covariance[0,0] for prediction in joint_ukf_predictions['voltages']]))"
   ]
  },
  {
   "cell_type": "markdown",
   "metadata": {},
   "source": [
    "First, let's check that the voltage predictions are acceptable."
   ]
  },
  {
   "cell_type": "code",
   "execution_count": null,
   "metadata": {},
   "outputs": [],
   "source": [
    "# Choose the first and last entries to plot for clarity\n",
    "first_entries = 36000\n",
    "last_entries = 36000\n",
    "\n",
    "fig, axes = plt.subplots(1,2,figsize=(12,3))\n",
    "axes[0].plot(timestamps[:first_entries],\n",
    "             noisy_voltage[:first_entries],\n",
    "             color='blue',\n",
    "             label='Measurements')\n",
    "axes[0].plot(timestamps[:first_entries],\n",
    "             predicted_Vt[:first_entries],\n",
    "             linestyle='--',\n",
    "             color='orange',\n",
    "             label='Predictions')\n",
    "axes[0].fill_between(timestamps[5:first_entries],\n",
    "                     (predicted_Vt + 2*predicted_Vt_std)[5:first_entries],\n",
    "                     (predicted_Vt - 2*predicted_Vt_std)[5:first_entries],\n",
    "                     color='orange',\n",
    "                     alpha=0.5,\n",
    "                     zorder=0)\n",
    "axes[1].plot(timestamps[-last_entries:],\n",
    "             noisy_voltage[-last_entries:],\n",
    "             color='blue',\n",
    "             label='Measurements')\n",
    "axes[1].plot(timestamps[-last_entries:],\n",
    "             predicted_Vt[-last_entries:],\n",
    "             linestyle='--',\n",
    "             color='orange',\n",
    "             label='Predictions')\n",
    "axes[1].fill_between(timestamps[-last_entries:],\n",
    "                     (predicted_Vt + 2*predicted_Vt_std)[-last_entries:],\n",
    "                     (predicted_Vt - 2*predicted_Vt_std)[-last_entries:],\n",
    "                     color='orange',\n",
    "                     alpha=0.5,\n",
    "                     zorder=0)\n",
    "\n",
    "for ax in axes:\n",
    "    ax.legend()\n",
    "    ax.set_xlabel('Time [hr]')\n",
    "    ax.set_ylabel('Terminal voltage [V]')\n"
   ]
  },
  {
   "cell_type": "markdown",
   "metadata": {},
   "source": [
    "Now, let's take a look at the progression of the physical transient hidden vector."
   ]
  },
  {
   "cell_type": "code",
   "execution_count": null,
   "metadata": {},
   "outputs": [],
   "source": [
    "fig, axes = plt.subplots(2, 1, sharex='col', figsize=(12,3))\n",
    "axes[0].plot(timestamps,\n",
    "             real_soc[1:],\n",
    "             color='blue',\n",
    "             label='Real')\n",
    "axes[0].plot(timestamps[:len(estimated_soc)],\n",
    "             estimated_soc,\n",
    "             linestyle='--',\n",
    "             color='orange',\n",
    "             label='Estimated')\n",
    "axes[0].fill_between(timestamps[:len(estimated_soc)],\n",
    "                     (estimated_soc + 2*estimated_soc_std),\n",
    "                     (estimated_soc - 2*estimated_soc_std),\n",
    "                     color='orange',\n",
    "                     alpha=0.5,\n",
    "                     zorder=0)\n",
    "axes[1].plot(timestamps,\n",
    "             real_hyst[1:],\n",
    "             color='blue',\n",
    "             label='Real')\n",
    "axes[1].plot(timestamps[:len(estimated_hyst)],\n",
    "             estimated_hyst,\n",
    "             linestyle='--',\n",
    "             color='orange',\n",
    "             label='Estimated')\n",
    "axes[1].fill_between(timestamps[:len(estimated_hyst)],\n",
    "                     (estimated_hyst + 2*estimated_hyst_std),\n",
    "                     (estimated_hyst - 2*estimated_hyst_std),\n",
    "                     color='orange',\n",
    "                     alpha=0.5,\n",
    "                     zorder=0)\n",
    "\n",
    "axes[0].set_ylabel('SOC')\n",
    "axes[1].set_ylabel('Hysteresis [V]')\n",
    "axes[-1].set_xlabel('Time [hr]')\n",
    "for ax in axes:\n",
    "    ax.legend()"
   ]
  },
  {
   "cell_type": "markdown",
   "metadata": {},
   "source": [
    "Finally, let's see if the A-SOH parameters reached a correct, stable value."
   ]
  },
  {
   "cell_type": "code",
   "execution_count": null,
   "metadata": {},
   "outputs": [],
   "source": [
    "fig, axes = plt.subplots(6, 1, sharex='col', figsize=(12,12))\n",
    "\n",
    "# Let us simplify plotting\n",
    "real_parameter_values = asoh_rint_gt.get_parameters()\n",
    "estimated_parameters = [estimated_Qt, estimated_CE]\n",
    "estimated_parameters += [estimated_R0[:,0]]\n",
    "estimated_parameters += [estimated_R0[:,1]]\n",
    "estimated_parameters += [estimated_R0[:,2]]\n",
    "estimated_parameters += [estimated_H0]\n",
    "estimated_uncertainties = [2 * estimated_Qt_std, 2 * estimated_CE_std]\n",
    "estimated_uncertainties += [2 * estimated_R0_std[:,0,0]]\n",
    "estimated_uncertainties += [2 * estimated_R0_std[:,1,1]]\n",
    "estimated_uncertainties += [2 * estimated_R0_std[:,2,2]]\n",
    "estimated_uncertainties += [2 * estimated_H0_std]\n",
    "parameter_names = [r'$Q_t$ [Amp-hour]', 'Coul. Eff.', \\\n",
    "                   r'$R_{0,0\\%} [\\Omega]$', r'$R_{0,50\\%} [\\Omega]$', r'$R_{0,100\\%} [\\Omega]$', 'Max hysteresis [V]']\n",
    "\n",
    "axes[-1].set_xlabel('Time [hr]')\n",
    "\n",
    "for i, ax in enumerate(axes):\n",
    "    param_val = real_parameter_values[i]\n",
    "    ax.plot(timestamps[:len(estimated_Qt)],\n",
    "            [param_val] * len(estimated_Qt),\n",
    "            color='blue',\n",
    "            label='Real')\n",
    "    ax.plot(timestamps[:len(estimated_Qt)],\n",
    "            estimated_parameters[i],\n",
    "            color='orange',\n",
    "            linestyle='--',\n",
    "            label='Estimated')\n",
    "    ax.fill_between(timestamps[:len(estimated_Qt)],\n",
    "                    (estimated_parameters[i] + estimated_uncertainties[i]),\n",
    "                    (estimated_parameters[i] - estimated_uncertainties[i]),\n",
    "                    color='orange',\n",
    "                    alpha=0.5)\n",
    "    ax.legend()\n",
    "    ax.set_ylabel(parameter_names[i])"
   ]
  },
  {
   "cell_type": "markdown",
   "metadata": {},
   "source": [
    "## Example 2: Thenevin with cycle-by-cycle, stressor-independent, degradation"
   ]
  },
  {
   "cell_type": "markdown",
   "metadata": {},
   "source": [
    "Now, we will look at a single RC element Thenevin model. Only the series resistance $R_0$ and OCV will be \n",
    "functions of SOC. We will assume the R0 follows a quadratic profile with SOC, with the values increasing as SOC approaches\n",
    "0% or 100%. \n",
    "\n",
    "We will maintain the OCV fixed, and allow the maximum theoretical discharge capacity $Q_t$, the coulombic efficiency CE, the series resistant $R_0$, and RC components to change with cycling. More \n",
    "specifically, we will assume that they are all constant within a cycle, but will degrade from cycle to cycle in the \n",
    "following manner:\n",
    "1. $Q_t$ will go down by a factor of 0.05% with each new cycle: $\\left(Q_{t, k+1} = 0.9995 Q_{t,k}\\right)$\n",
    "2. the CE will decrease linearly by 0.005% at every cycle \n",
    "3. $R_0$ will increase linearly by $1.0\\times10^{-6}\\Omega$ at every new cycle\n",
    "4. the resistance of the RC resistor will go up by a factor of 0.01% at every cycle: \n",
    "$R_{RC_1, k+1} = 1.0001 * R_{RC_1,k}$\n",
    "5. the capacitance of the RC capacitor will got down by a factor of 0.001% at every cycle: \n",
    "$c_{RC_1, k+1} = 0.99999 * C_{RC_1,k}$"
   ]
  },
  {
   "cell_type": "code",
   "execution_count": null,
   "metadata": {},
   "outputs": [],
   "source": [
    "# Function to help with A-SOH degradation established above\n",
    "def degrade_asoh(asoh: ECMASOH,\n",
    "                 qt_deg_factor: float = 0.0005,\n",
    "                 ce_deg_factor: float = 0.005,\n",
    "                 r0_deg_factor: float = 1.0e-06,\n",
    "                 r_rc_deg_factor: float = 0.0001,\n",
    "                 c_rc_deg_factor: float = 0.00001) -> ECMASOH:\n",
    "    asoh_deg = asoh.model_copy(deep=True)\n",
    "    # Calculate new values\n",
    "    qt_deg = (1 - qt_deg_factor) * asoh_deg.q_t.base_values\n",
    "    ce_deg = asoh_deg.ce - ce_deg_factor\n",
    "    r0_deg = asoh_deg.r0.base_values + r0_deg_factor\n",
    "    r_rc_deg = (1 + r_rc_deg_factor) * asoh_deg.rc_elements[0].r.base_values\n",
    "    c_rc_deg = (1 - c_rc_deg_factor) * asoh_deg.rc_elements[0].c.base_values\n",
    "    # Set new values\n",
    "    asoh_deg.q_t.base_values = qt_deg\n",
    "    asoh_deg.ce = ce_deg\n",
    "    asoh_deg.r0.base_values = r0_deg\n",
    "    asoh_deg.rc_elements[0].r.base_values = r_rc_deg\n",
    "    asoh_deg.rc_elements[0].c.base_values = c_rc_deg\n",
    "    return asoh_deg"
   ]
  },
  {
   "cell_type": "markdown",
   "metadata": {},
   "source": [
    "Let us instantiate the BOL and ground-truth A-SOH with a similar $R_0$ profile as the Rint model above. "
   ]
  },
  {
   "cell_type": "code",
   "execution_count": null,
   "metadata": {},
   "outputs": [],
   "source": [
    "# Define the values of R0 to use\n",
    "r0_vals = np.array([5,4,6]) * 1.0e-02\n",
    "\n",
    "# Get A-SOH and set R0 values and interpolation style\n",
    "asoh_thenevin_bol = ECMASOH.provide_template(has_C0=False, num_RC=1, R0=r0_vals)\n",
    "asoh_thenevin_bol.r0.interpolation_style = 'quadratic'\n",
    "\n",
    "# Check R0 profile\n",
    "test_socs = np.arange(-0.05, 1.06, 0.01)\n",
    "fig, ax = plt.subplots(figsize=(3,2))\n",
    "ax.plot(100 * test_socs, 1000 * asoh_thenevin_bol.r0.get_value(soc=test_socs))\n",
    "ax.set_xlabel('SOC [%]')\n",
    "_ = ax.set_ylabel(r'$R_0$ $[m\\Omega]$')"
   ]
  },
  {
   "cell_type": "markdown",
   "metadata": {},
   "source": [
    "Copy A-SOH to mark things as updatable and initialize transient state and simulator."
   ]
  },
  {
   "cell_type": "code",
   "execution_count": null,
   "metadata": {},
   "outputs": [],
   "source": [
    "# Check that nothing is updatable yet:\n",
    "asoh_gt = asoh_thenevin_bol.model_copy(deep=True)\n",
    "\n",
    "print('Initial updatable parameters: ', asoh_gt.get_parameters())\n",
    "asoh_gt.mark_updatable(name='q_t.base_values')\n",
    "asoh_gt.mark_updatable(name='ce')\n",
    "asoh_gt.mark_updatable(name='r0.base_values')\n",
    "asoh_gt.mark_updatable(name='rc_elements.0.r.base_values')\n",
    "asoh_gt.mark_updatable(name='rc_elements.0.c.base_values')\n",
    "asoh_gt.mark_updatable(name='h0.base_values')\n",
    "\n",
    "# Make sure we have all that is updatable\n",
    "print('New updatable parameters: ', asoh_gt.get_parameters())\n",
    "\n",
    "transient0_gt = ECMTransientVector.provide_template(has_C0=False, num_RC=1, soc=1.0)\n",
    "simulator = ECMSimulator(asoh=asoh_gt, transient_state=transient0_gt, keep_history=True)"
   ]
  },
  {
   "cell_type": "markdown",
   "metadata": {},
   "source": [
    "Let us now perturb both the transient state and the A-SOH to initialize the joint estimation. In order to perturb them appropriately, we should also establish their covariances, which will be needed for the UKF anyway.\n",
    "\n",
    "For the transient state, we will assume that\n",
    "1. the SOC variance is equivalent to that of a uniform distribution between 0 and 1\n",
    "2. the i_RC variance is equivalent to that of a uniform distribution whose ranges are dependent on the C-values\n",
    "3. the hysteresis variance is equivalent to a uniform distribution from +M to -M (max hysteresis value)\n",
    "\n",
    "For the A-SOH, we will assume that\n",
    "1. the standard deviation of Qt is of 0.05 Amp-hour: $2\\sigma=0.05\\implies\\sigma=2.5\\times10^{-2}\\implies\\sigma^2=6.25\\times10^{-4}$\n",
    "2. the variance of coulombic efficiency is equivalent to that of a uniform distribution between 0.999 and 1\n",
    "3. the standard deviation of all R0 base values is $2\\sigma=1\\times 10^{-2}\\Omega\\implies\\sigma^2=2.5\\times10^{-5}$\n",
    "4. the standard deviation of the resistance in the RC element is of $1m\\Omega$\n",
    "5. the standard deviation of the capacitance in the RC element if of 50 F\n",
    "6. while not relevant, the hysteresis standard deviation if of 1 mV as well\n",
    "\n",
    "We should also print these perturbed values to make sure they are not too far out there (for instance, we would not want the SOC to be larger than 105%)"
   ]
  },
  {
   "cell_type": "code",
   "execution_count": null,
   "metadata": {},
   "outputs": [],
   "source": [
    "# Start with the A-SOH\n",
    "cov_asoh = [6.25e-04] # Qt: +/- 0.05 Amp-hour\n",
    "cov_asoh += [(1.0e-06) / 12] # CE\n",
    "cov_asoh += (2.5e-05 * np.ones(3)).tolist() # R0\n",
    "cov_asoh += [1.0e-06, 2.5e03] # RC\n",
    "cov_asoh += [1.0e-06] # hysteresis\n",
    "cov_asoh = np.diag(cov_asoh)\n",
    "\n",
    "# Now, the transient\n",
    "cov_tran = [1./12] # SOC\n",
    "cov_tran += [(4 * asoh_gt.q_t.amp_hour) ** 2 / 12] # I_RC\n",
    "cov_tran += [4 * (asoh_gt.h0.base_values)**2 / 12] # hyst\n",
    "cov_tran = np.diag(cov_tran)\n",
    "\n",
    "# Generate perturbed values\n",
    "tran_off_array = rng.multivariate_normal(mean=transient0_gt.to_numpy(), cov=cov_tran)\n",
    "asoh_off_array = rng.multivariate_normal(mean=asoh_gt.get_parameters(), cov=cov_asoh)\n",
    "# Let's just correct the Coulombic efficient, which cannot be larger than 1.\n",
    "while asoh_off_array[1] > 1:\n",
    "    asoh_off_array[1] = rng.normal(loc=1., scale=cov_asoh[1,1])\n",
    "\n",
    "# Finally, prepare the objects for the joint estimation\n",
    "asoh_off = asoh_gt.model_copy(deep=True)\n",
    "transient0_off = transient0_gt.model_copy(deep=True)\n",
    "asoh_off.update_parameters(asoh_off_array)\n",
    "transient0_off.from_numpy(tran_off_array)\n",
    "\n",
    "# Check to make sure these were updated\n",
    "print('Perturbed initial transient state: ', transient0_off.to_numpy())\n",
    "print('Perturbed A-SOH parameters: ', asoh_off.get_parameters())\n",
    "\n",
    "# Create joint estimator by setting very small noise terms for the A-SOH parameters\n",
    "voltage_err = 1.0e-03 # mV voltage error\n",
    "noise_sensor = ((voltage_err / 2) ** 2) * np.eye(1)\n",
    "noise_asoh = 1.0e-10 * np.eye(len(asoh_off_array))\n",
    "noise_asoh[0, 0] = 6.25e-04 # Qt value is 10 Amp-hour, so +/- 0.05 Amp-hour is reasonable\n",
    "noise_asoh[-2, -2] = 1.0e02 # C_RC value is 2500 afterall...\n",
    "noise_tran = 1.0e-08 * np.eye(3)\n",
    "joint_ukf = ECMJointUKF(initial_transient=transient0_off,\n",
    "                        initial_asoh=asoh_off,\n",
    "                        initial_control=simulator.previous_input.model_copy(deep=True),\n",
    "                        covariance_transient=cov_tran,\n",
    "                        covariance_asoh=cov_asoh,\n",
    "                        transient_noise=noise_tran,\n",
    "                        asoh_noise=noise_asoh,\n",
    "                        sensor_noise=noise_sensor,\n",
    "                        normalize_asoh=True\n",
    "                        )"
   ]
  },
  {
   "cell_type": "markdown",
   "metadata": {},
   "source": [
    "We can now co-simulate the ECM and update the joint UKF! Let's do so for 1000 cycles."
   ]
  },
  {
   "cell_type": "code",
   "execution_count": null,
   "metadata": {},
   "outputs": [],
   "source": [
    "# Total number of cycles to simulate\n",
    "num_cycles = 1000\n",
    "\n",
    "# Let's also create a simple ways to store UKF predictions and estimates, as well as the inputs provided\n",
    "noisy_voltage = []\n",
    "controls = []\n",
    "joint_ukf_predictions = {'joint_states': [], 'voltages': []}\n",
    "\n",
    "# Specify the start time of the simulation\n",
    "start_time = 0.0\n",
    "\n",
    "for _ in range(num_cycles):\n",
    "    # Generate list of inputs and store them in the controls\n",
    "    protocol = cycle_protocol(asoh=simulator.asoh, start_time=start_time)\n",
    "    controls += protocol\n",
    "\n",
    "    for new_input in protocol:\n",
    "        # Simulate (useful for also getting the real terminal voltage :) )\n",
    "        _, cell_response = simulator.step(new_input=new_input)\n",
    "        # Add noise to give to the UKF and store it\n",
    "        vt = cell_response.terminal_voltage + rng.normal(loc=0.0, scale=voltage_err / 2)\n",
    "        noisy_voltage += [vt]\n",
    "        # # Step the joint estimator\n",
    "        # measurement = ECMMeasurement(terminal_voltage=vt)\n",
    "        # pred_measure, est_hidden = joint_ukf.step(u=new_input, y=measurement)\n",
    "        # # Save to the dictionary\n",
    "        # joint_ukf_predictions['joint_states'] += [est_hidden.model_copy(deep=True)]\n",
    "        # joint_ukf_predictions['voltages'] += [pred_measure.model_copy(deep=True)]\n",
    "    \n",
    "    # TODO: degrade asoh\n",
    "\n",
    "    # Update the start time of the next cycle\n",
    "    start_time = protocol[-1].time + 1.0e-03\n"
   ]
  },
  {
   "cell_type": "markdown",
   "metadata": {},
   "source": [
    "Let's take a look at the results. First, we need to properly collect and process them. "
   ]
  },
  {
   "cell_type": "code",
   "execution_count": null,
   "metadata": {},
   "outputs": [],
   "source": []
  },
  {
   "cell_type": "code",
   "execution_count": null,
   "metadata": {},
   "outputs": [],
   "source": [
    "num_points = len(joint_ukf_predictions['voltages'])\n",
    "timestamps = np.array([control.time for control in controls])\n",
    "plt.plot(timestamps[:len(noisy_voltage)]/ 3600, \n",
    "         noisy_voltage,\n",
    "         color='blue')\n",
    "# plt.plot(timestamps[:num_points]/ 3600, \n",
    "#          [pred.mean for pred in joint_ukf_predictions['voltages']],\n",
    "#          linestyle=':',\n",
    "#          color='red')"
   ]
  },
  {
   "cell_type": "code",
   "execution_count": null,
   "metadata": {},
   "outputs": [],
   "source": [
    "# Get the joint states\n",
    "joint_mean = np.array([joint.mean for joint in joint_ukf_predictions['joint_states']])\n",
    "joint_cov = np.array([joint.covariance for joint in joint_ukf_predictions['joint_states']])\n",
    "plt.plot(timestamps[:num_points], joint_mean[:,10])"
   ]
  },
  {
   "cell_type": "code",
   "execution_count": null,
   "metadata": {},
   "outputs": [],
   "source": [
    "np.sqrt(276387)"
   ]
  },
  {
   "cell_type": "code",
   "execution_count": null,
   "metadata": {},
   "outputs": [],
   "source": [
    "print(joint_ukf.estimator.state.get_mean())\n",
    "print(joint_ukf.estimator.state.get_covariance())"
   ]
  }
 ],
 "metadata": {
  "kernelspec": {
   "display_name": "Python 3 (ipykernel)",
   "language": "python",
   "name": "python3"
  },
  "language_info": {
   "codemirror_mode": {
    "name": "ipython",
    "version": 3
   },
   "file_extension": ".py",
   "mimetype": "text/x-python",
   "name": "python",
   "nbconvert_exporter": "python",
   "pygments_lexer": "ipython3",
   "version": "3.9.19"
  }
 },
 "nbformat": 4,
 "nbformat_minor": 4
}

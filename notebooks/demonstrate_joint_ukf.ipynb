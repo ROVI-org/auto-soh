{
 "cells": [
  {
   "cell_type": "markdown",
   "metadata": {},
   "source": [
    "# Demonstrate Joint UKF Estimation"
   ]
  },
  {
   "cell_type": "code",
   "execution_count": 1,
   "metadata": {},
   "outputs": [],
   "source": [
    "from typing import List\n",
    "\n",
    "import numpy as np\n",
    "import matplotlib.pyplot as plt\n",
    "\n",
    "from asoh.models.ecm.advancedSOH import ECMASOH\n",
    "from asoh.models.ecm.ins_outs import ECMInput, ECMMeasurement\n",
    "from asoh.models.ecm.transient import ECMTransientVector\n",
    "from asoh.models.ecm.simulator import ECMSimulator\n",
    "from asoh.estimators.online.joint.ecm.unscented import ECMJointUKF, ECMJointUKFInterface"
   ]
  },
  {
   "cell_type": "markdown",
   "metadata": {},
   "source": [
    "First, let's define a random number generator for consistency."
   ]
  },
  {
   "cell_type": "code",
   "execution_count": 2,
   "metadata": {},
   "outputs": [],
   "source": [
    "# Initialize RNG\n",
    "rng = np.random.default_rng(seed=1001000) # np.random.default_rng(seed=1001001) #"
   ]
  },
  {
   "cell_type": "markdown",
   "metadata": {},
   "source": [
    "In this example, we will start by establishing a cycling protocol which assumes every cycle starts with the cell at 100%\n",
    "SOC. This protocol follows the procedure below: \n",
    "1. rest the cell for 5-10 minutes\n",
    "2. discharge the cell at a C-rate between 1.5 and 2.5 C\n",
    "3. rest the cell for 10-20 minutes\n",
    "4. charge the cell at a C-rate between 0.5 and 1.5 C\n",
    "5. rest the cell for 5-10 minutes\n",
    "\n",
    "We will create a helper function to specify timestamps and currents for a given cycle. These will be reported at \n",
    "approximately every second. "
   ]
  },
  {
   "cell_type": "code",
   "execution_count": 3,
   "metadata": {},
   "outputs": [],
   "source": [
    "\n",
    "def cycle_protocol(asoh: ECMASOH, start_time:float = 0.0) -> List[ECMInput]:\n",
    "    \"\"\"\n",
    "    Function to return list of ECMInputs corresponding to a new cycle\n",
    "\n",
    "    Args: \n",
    "        asoh: A-SOH object to be used\n",
    "        start_time: time at which to start this cycle in seconds\n",
    "    \n",
    "    Returns:\n",
    "        ecm_inputs: list of ECMInput objects corresponding to this cycle\n",
    "    \"\"\"\n",
    "    # initialize main lists to be used\n",
    "    timestamps = []\n",
    "    currents = []\n",
    "\n",
    "    # Get the Qt and CE, which will help determine the currents\n",
    "    qt = asoh.q_t.amp_hour\n",
    "    ce = asoh.ce\n",
    "\n",
    "    # Now, let's choose rest durations and C-rates\n",
    "    rest0, rest1, rest2 = rng.integers(low=5, high=10, size=3)\n",
    "    rest0 *= 60\n",
    "    rest1 *= 2 * 60\n",
    "    rest2 *= 60\n",
    "    dischg_rate, chg_rate = np.array([1.5, 0.5]) + rng.random(size=2)\n",
    "\n",
    "    def update_timestamps_curr(duration: float, curr: float) -> None:\n",
    "        \"\"\"\n",
    "        Helper to populate timestamps and currents.\n",
    "\n",
    "        Args:\n",
    "            duration: duration of segment in seconds\n",
    "            curr: value of current to be used. \n",
    "        \"\"\"\n",
    "        # specify binds to nearest variables \n",
    "        nonlocal currents\n",
    "        nonlocal timestamps\n",
    "        new_len = int(np.ceil(duration))\n",
    "        currents += [curr] * new_len\n",
    "        new_times = np.sort(rng.random(size=new_len)) * duration\n",
    "        if len(timestamps) == 0:\n",
    "            new_times += start_time\n",
    "        else:\n",
    "            new_times += timestamps[-1] + (1.0e-03)\n",
    "        timestamps += new_times.tolist()\n",
    "\n",
    "    # Rest 0\n",
    "    update_timestamps_curr(duration=rest0, curr=0.0)\n",
    "\n",
    "    # Discharge\n",
    "    dischg_duration = 3600.0 / dischg_rate\n",
    "    dischg_curr = -(qt * dischg_rate)\n",
    "    update_timestamps_curr(duration=dischg_duration, curr=dischg_curr)\n",
    "\n",
    "    # Rest 1\n",
    "    update_timestamps_curr(duration=rest1, curr=0.0)\n",
    "\n",
    "    # Charge\n",
    "    chg_duration = 3600.0 / chg_rate\n",
    "    chg_curr = (qt * chg_rate) / ce\n",
    "    update_timestamps_curr(duration=chg_duration, curr=chg_curr)\n",
    "\n",
    "    # Rest 2\n",
    "    update_timestamps_curr(duration=rest2, curr=0.0)\n",
    "\n",
    "    # Finally, assemble the ECMInputs\n",
    "    ecm_inputs = [ECMInput(time=time, current=current) for time, current in zip(timestamps, currents)]\n",
    "    return ecm_inputs"
   ]
  },
  {
   "cell_type": "markdown",
   "metadata": {},
   "source": [
    "For this example, we will look at a single RC element Thenevin model. Only the series resistance $R_0$ and OCV will be \n",
    "functions of SOC. We will assume the R0 follows a quadratic profile with SOC, with the values increasing as SOC approaches\n",
    "0% or 100%. \n",
    "\n",
    "We will maintain the OCV fixed, and allow the maximum theoretical discharge capacity $Q_t$, the coulombic efficiency CE, the series resistant $R_0$, and RC components to change with cycling. More \n",
    "specifically, we will assume that they are all constant within a cycle, but will degrade from cycle to cycle in the \n",
    "following manner:\n",
    "1. $Q_t$ will go down by a factor of 0.05% with each new cycle: $\\left(Q_{t, k+1} = 0.9995 Q_{t,k}\\right)$\n",
    "2. the CE will decrease linearly by 0.005% at every cycle \n",
    "3. $R_0$ will increase linearly by $1.0\\times10^{-6}\\Omega$ at every new cycle\n",
    "4. the resistance of the RC resistor will go up by a factor of 0.01% at every cycle: \n",
    "$R_{RC_1, k+1} = 1.0001 * R_{RC_1,k}$\n",
    "5. the capacitance of the RC capacitor will got down by a factor of 0.001% at every cycle: \n",
    "$c_{RC_1, k+1} = 0.99999 * C_{RC_1,k}$"
   ]
  },
  {
   "cell_type": "code",
   "execution_count": 4,
   "metadata": {},
   "outputs": [],
   "source": [
    "# Function to help with A-SOH degradation established above\n",
    "def degrade_asoh(asoh: ECMASOH,\n",
    "                 qt_deg_factor: float = 0.0005,\n",
    "                 ce_deg_factor: float = 0.005,\n",
    "                 r0_deg_factor: float = 1.0e-06,\n",
    "                 r_rc_deg_factor: float = 0.0001,\n",
    "                 c_rc_deg_factor: float = 0.00001) -> ECMASOH:\n",
    "    asoh_deg = asoh.model_copy(deep=True)\n",
    "    # Calculate new values\n",
    "    qt_deg = (1 - qt_deg_factor) * asoh_deg.q_t.base_values\n",
    "    ce_deg = asoh_deg.ce - ce_deg_factor\n",
    "    r0_deg = asoh_deg.r0.base_values + r0_deg_factor\n",
    "    r_rc_deg = (1 + r_rc_deg_factor) * asoh_deg.rc_elements[0].r.base_values\n",
    "    c_rc_deg = (1 - c_rc_deg_factor) * asoh_deg.rc_elements[0].c.base_values\n",
    "    # Set new values\n",
    "    asoh_deg.q_t.base_values = qt_deg\n",
    "    asoh_deg.ce = ce_deg\n",
    "    asoh_deg.r0.base_values = r0_deg\n",
    "    asoh_deg.rc_elements[0].r.base_values = r_rc_deg\n",
    "    asoh_deg.rc_elements[0].c.base_values = c_rc_deg\n",
    "    return asoh_deg"
   ]
  },
  {
   "cell_type": "markdown",
   "metadata": {},
   "source": [
    "Let's define the Beginning of Life (BOL) A-SOH."
   ]
  },
  {
   "cell_type": "code",
   "execution_count": 5,
   "metadata": {},
   "outputs": [
    {
     "data": {
      "image/png": "[encoded data removed]",
      "text/plain": [
       "<Figure size 300x200 with 1 Axes>"
      ]
     },
     "metadata": {},
     "output_type": "display_data"
    }
   ],
   "source": [
    "# Define the values of R0 to use\n",
    "r0_vals = np.array([5,4,6]) * 1.0e-02\n",
    "\n",
    "# Get A-SOH and set R0 values and interpolation style\n",
    "asoh_bol = ECMASOH.provide_template(has_C0=False, num_RC=1, R0=r0_vals)\n",
    "asoh_bol.r0.interpolation_style = 'quadratic'\n",
    "\n",
    "# Check R0 profile\n",
    "test_socs = np.arange(-0.05, 1.06, 0.01)\n",
    "fig, ax = plt.subplots(figsize=(3,2))\n",
    "ax.plot(100 * test_socs, 1000 * asoh_bol.r0.get_value(soc=test_socs))\n",
    "ax.set_xlabel('SOC [%]')\n",
    "_ = ax.set_ylabel(r'$R_0$ $[m\\Omega]$')"
   ]
  },
  {
   "cell_type": "markdown",
   "metadata": {},
   "source": [
    "Now, let's start preparations for the co-simulation of this cell alongside its joint estimation.\n",
    "\n",
    "First, let us create a new A-SOH ground truth object with the proper updatable parameters set to help with the simulator and joint estimator. "
   ]
  },
  {
   "cell_type": "code",
   "execution_count": 6,
   "metadata": {},
   "outputs": [
    {
     "name": "stdout",
     "output_type": "stream",
     "text": [
      "Initial updatable parameters:  []\n",
      "New updatable parameters:  [1.0e+01 1.0e+00 5.0e-02 4.0e-02 6.0e-02 1.0e-02 2.5e+03 5.0e-02]\n"
     ]
    }
   ],
   "source": [
    "asoh_gt = asoh_bol.model_copy(deep=True)\n",
    "# Check that nothing is updatable yet:\n",
    "print('Initial updatable parameters: ', asoh_gt.get_parameters())\n",
    "asoh_gt.mark_updatable(name='q_t.base_values')\n",
    "asoh_gt.mark_updatable(name='ce')\n",
    "asoh_gt.mark_updatable(name='r0.base_values')\n",
    "asoh_gt.mark_updatable(name='rc_elements.0.r.base_values')\n",
    "asoh_gt.mark_updatable(name='rc_elements.0.c.base_values')\n",
    "asoh_gt.mark_updatable(name='h0.base_values')\n",
    "# Make sure we have all that is updatable\n",
    "print('New updatable parameters: ', asoh_gt.get_parameters())"
   ]
  },
  {
   "cell_type": "markdown",
   "metadata": {},
   "source": [
    "Now, let's initialize the transient state to 100% SOC and create the simulator"
   ]
  },
  {
   "cell_type": "code",
   "execution_count": 7,
   "metadata": {},
   "outputs": [],
   "source": [
    "transient0_gt = ECMTransientVector.provide_template(has_C0=False, num_RC=1, soc=1.0)\n",
    "simulator = ECMSimulator(asoh=asoh_gt, transient_state=transient0_gt, keep_history=True)"
   ]
  },
  {
   "cell_type": "markdown",
   "metadata": {},
   "source": [
    "Let us now perturb both the transient state and the A-SOH to initialize the joint estimation. In order to perturb them appropriately, we should also establish their covariances, which will be needed for the UKF anyway.\n",
    "\n",
    "For the transient state, we will assume that\n",
    "1. the SOC variance is equivalent to that of a uniform distribution between 0 and 1\n",
    "2. the i_RC variance is equivalent to that of a uniform distribution whose ranges are dependent on the C-values\n",
    "3. the hysteresis variance is equivalent to a uniform distribution from +M to -M (max hysteresis value)\n",
    "\n",
    "For the A-SOH, we will assume that\n",
    "1. the variance of Qt is of 0.01 Amp-hour\n",
    "2. the variance of coulombic efficiency is equivalent to that of a uniform distribution between 0.999 and 1\n",
    "3. the variance of all R0 base values is $1\\times 10^{-4}\\Omega$\n",
    "4. the variance of the resistance in the RC element is of $1\\times 10^{-6}\\Omega^2$\n",
    "5. the variance of the capacitance in the RC element if of $1\\times 10^4 F^2$\n",
    "6. while not relevant, the hysteresis standard deviation if of 1 mV as well\n",
    "\n",
    "We should also print these perturbed values to make sure they are not too far out there (for instance, we would not want the SOC to be larger than 105%)"
   ]
  },
  {
   "cell_type": "code",
   "execution_count": 8,
   "metadata": {},
   "outputs": [
    {
     "name": "stdout",
     "output_type": "stream",
     "text": [
      "Perturbed initial transient state:  [ 0.91587168 -1.12716484  0.03037109]\n",
      "Perturbed A-SOH parameters:  [1.00824049e+01 9.99999932e-01 5.48734186e-02 4.27594168e-02\n",
      " 5.39207032e-02 9.86565425e-03 2.39207506e+03 4.95135010e-02]\n"
     ]
    }
   ],
   "source": [
    "# Start with the A-SOH\n",
    "cov_asoh = [0.01] # Qt\n",
    "cov_asoh += [(1.0e-06) / 12] # CE\n",
    "cov_asoh += (1.0e-04 * np.ones(3)).tolist() # R0\n",
    "cov_asoh += [1.0e-06, 1.0e04] # RC\n",
    "cov_asoh += [1.0e-06] # hysteresis\n",
    "cov_asoh = np.diag(cov_asoh)\n",
    "\n",
    "# Now, the transient\n",
    "cov_tran = [1./12] # SOC\n",
    "cov_tran += [(4 * asoh_gt.q_t.amp_hour) ** 2 / 12] # I_RC\n",
    "cov_tran += [4 * (asoh_gt.h0.base_values)**2 / 12] # hyst\n",
    "cov_tran = np.diag(cov_tran)\n",
    "\n",
    "# Generate perturbed values\n",
    "tran_off_array = rng.multivariate_normal(mean=transient0_gt.to_numpy(), cov=cov_tran)\n",
    "asoh_off_array = rng.multivariate_normal(mean=asoh_gt.get_parameters(), cov=cov_asoh)\n",
    "# Let's just correct the Coulombic efficient, which cannot be larger than 1.\n",
    "while asoh_off_array[1] > 1:\n",
    "    asoh_off_array[1] = rng.normal(loc=1., scale=cov_asoh[1,1])\n",
    "\n",
    "# Finally, prepare the objects for the joint estimation\n",
    "asoh_off = asoh_gt.model_copy(deep=True)\n",
    "transient0_off = transient0_gt.model_copy(deep=True)\n",
    "asoh_off.update_parameters(asoh_off_array)\n",
    "transient0_off.from_numpy(tran_off_array)\n",
    "\n",
    "# Check to make sure these were updated\n",
    "print('Perturbed initial transient state: ', transient0_off.to_numpy())\n",
    "print('Perturbed A-SOH parameters: ', asoh_off.get_parameters())\n",
    "\n",
    "# Create joint estimator by setting very small noise terms for the A-SOH parameters\n",
    "voltage_err = 1.0e-03 # mV voltage error\n",
    "noise_sensor = ((voltage_err / 2) ** 2) * np.eye(1)\n",
    "noise_asoh = 1.0e-10 * np.eye(len(asoh_off_array))\n",
    "noise_asoh[0, 0] = 6.25e-04 # Qt value is 10 Amp-hour, so +/- 0.05 Amp-hour is reasonable\n",
    "noise_asoh[-2, -2] = 1.0e02 # C_RC value is 2500 afterall...\n",
    "noise_tran = 1.0e-08 * np.eye(3)\n",
    "joint_ukf = ECMJointUKF(initial_transient=transient0_off,\n",
    "                        initial_asoh=asoh_off,\n",
    "                        initial_control=simulator.previous_input.model_copy(deep=True),\n",
    "                        covariance_transient=cov_tran,\n",
    "                        covariance_asoh=cov_asoh,\n",
    "                        transient_noise=noise_tran,\n",
    "                        asoh_noise=noise_asoh,\n",
    "                        sensor_noise=noise_sensor\n",
    "                        )"
   ]
  },
  {
   "cell_type": "markdown",
   "metadata": {},
   "source": [
    "We can now co-simulate the ECM and update the joint UKF! Let's do so for 1000 cycles."
   ]
  },
  {
   "cell_type": "code",
   "execution_count": 9,
   "metadata": {},
   "outputs": [
    {
     "ename": "LinAlgError",
     "evalue": "Matrix is not positive definite",
     "output_type": "error",
     "traceback": [
      "\u001b[0;31m---------------------------------------------------------------------------\u001b[0m",
      "\u001b[0;31mLinAlgError\u001b[0m                               Traceback (most recent call last)",
      "Cell \u001b[0;32mIn[9], line 25\u001b[0m\n\u001b[1;32m     23\u001b[0m \u001b[38;5;66;03m# Step the joint estimator\u001b[39;00m\n\u001b[1;32m     24\u001b[0m measurement \u001b[38;5;241m=\u001b[39m ECMMeasurement(terminal_voltage\u001b[38;5;241m=\u001b[39mvt)\n\u001b[0;32m---> 25\u001b[0m pred_measure, est_hidden \u001b[38;5;241m=\u001b[39m \u001b[43mjoint_ukf\u001b[49m\u001b[38;5;241;43m.\u001b[39;49m\u001b[43mstep\u001b[49m\u001b[43m(\u001b[49m\u001b[43mu\u001b[49m\u001b[38;5;241;43m=\u001b[39;49m\u001b[43mnew_input\u001b[49m\u001b[43m,\u001b[49m\u001b[43m \u001b[49m\u001b[43my\u001b[49m\u001b[38;5;241;43m=\u001b[39;49m\u001b[43mmeasurement\u001b[49m\u001b[43m)\u001b[49m\n\u001b[1;32m     26\u001b[0m \u001b[38;5;66;03m# Save to the dictionary\u001b[39;00m\n\u001b[1;32m     27\u001b[0m joint_ukf_predictions[\u001b[38;5;124m'\u001b[39m\u001b[38;5;124mjoint_states\u001b[39m\u001b[38;5;124m'\u001b[39m] \u001b[38;5;241m+\u001b[39m\u001b[38;5;241m=\u001b[39m [est_hidden\u001b[38;5;241m.\u001b[39mmodel_copy(deep\u001b[38;5;241m=\u001b[39m\u001b[38;5;28;01mTrue\u001b[39;00m)]\n",
      "File \u001b[0;32m~/Library/CloudStorage/Dropbox/Argonne/Code/auto-soh/asoh/estimators/online/joint/__init__.py:156\u001b[0m, in \u001b[0;36mJointOnlineEstimator.step\u001b[0;34m(self, u, y)\u001b[0m\n\u001b[1;32m    154\u001b[0m y_estimator \u001b[38;5;241m=\u001b[39m OutputMeasurements(mean\u001b[38;5;241m=\u001b[39my\u001b[38;5;241m.\u001b[39mto_numpy())\n\u001b[1;32m    155\u001b[0m \u001b[38;5;66;03m# Get the measurement predictions and hidden state from estimator\u001b[39;00m\n\u001b[0;32m--> 156\u001b[0m estimator_prediction, estimator_hidden \u001b[38;5;241m=\u001b[39m \u001b[38;5;28;43mself\u001b[39;49m\u001b[38;5;241;43m.\u001b[39;49m\u001b[43mestimator\u001b[49m\u001b[38;5;241;43m.\u001b[39;49m\u001b[43mstep\u001b[49m\u001b[43m(\u001b[49m\u001b[43mu\u001b[49m\u001b[38;5;241;43m=\u001b[39;49m\u001b[43mu_estimator\u001b[49m\u001b[43m,\u001b[49m\u001b[43m \u001b[49m\u001b[43my\u001b[49m\u001b[38;5;241;43m=\u001b[39;49m\u001b[43my_estimator\u001b[49m\u001b[43m)\u001b[49m\n\u001b[1;32m    158\u001b[0m \u001b[38;5;66;03m# Update the transient state and A-SOH in the interface\u001b[39;00m\n\u001b[1;32m    159\u001b[0m \u001b[38;5;28mself\u001b[39m\u001b[38;5;241m.\u001b[39minterface\u001b[38;5;241m.\u001b[39mupdate_from_joint(joint_state\u001b[38;5;241m=\u001b[39mestimator_hidden\u001b[38;5;241m.\u001b[39mmean)\n",
      "File \u001b[0;32m~/Library/CloudStorage/Dropbox/Argonne/Code/auto-soh/asoh/estimators/online/general/kalman/unscented.py:122\u001b[0m, in \u001b[0;36mUnscentedKalmanFilter.step\u001b[0;34m(self, u, y)\u001b[0m\n\u001b[1;32m    111\u001b[0m \u001b[38;5;250m\u001b[39m\u001b[38;5;124;03m\"\"\"\u001b[39;00m\n\u001b[1;32m    112\u001b[0m \u001b[38;5;124;03mSteps the UKF\u001b[39;00m\n\u001b[1;32m    113\u001b[0m \n\u001b[0;32m   (...)\u001b[0m\n\u001b[1;32m    119\u001b[0m \u001b[38;5;124;03m    Predicted output based on model evolution, as well as corrected hidden state\u001b[39;00m\n\u001b[1;32m    120\u001b[0m \u001b[38;5;124;03m\"\"\"\u001b[39;00m\n\u001b[1;32m    121\u001b[0m \u001b[38;5;66;03m# Step 0: build Sigma points\u001b[39;00m\n\u001b[0;32m--> 122\u001b[0m sigma_pts \u001b[38;5;241m=\u001b[39m \u001b[38;5;28;43mself\u001b[39;49m\u001b[38;5;241;43m.\u001b[39;49m\u001b[43mbuild_sigma_points\u001b[49m\u001b[43m(\u001b[49m\u001b[43m)\u001b[49m\n\u001b[1;32m    123\u001b[0m \u001b[38;5;66;03m# Step 1: perform estimation update\u001b[39;00m\n\u001b[1;32m    124\u001b[0m x_k_minus, y_k, cov_xy \u001b[38;5;241m=\u001b[39m \u001b[38;5;28mself\u001b[39m\u001b[38;5;241m.\u001b[39mestimation_update(sigma_pts\u001b[38;5;241m=\u001b[39msigma_pts, u\u001b[38;5;241m=\u001b[39mu)\n",
      "File \u001b[0;32m~/Library/CloudStorage/Dropbox/Argonne/Code/auto-soh/asoh/estimators/online/general/kalman/unscented.py:151\u001b[0m, in \u001b[0;36mUnscentedKalmanFilter.build_sigma_points\u001b[0;34m(self)\u001b[0m\n\u001b[1;32m    147\u001b[0m cov_aug \u001b[38;5;241m=\u001b[39m ensure_positive_semi_definite(cov_aug)\n\u001b[1;32m    149\u001b[0m \u001b[38;5;66;03m# Sigma points are the augmented \"mean\" + each individual row of the transpose of the Cholesky decomposition of\u001b[39;00m\n\u001b[1;32m    150\u001b[0m \u001b[38;5;66;03m# Cov_aug, with a weighing factor of plus and minus gamma_param\u001b[39;00m\n\u001b[0;32m--> 151\u001b[0m sqrt_cov_aug \u001b[38;5;241m=\u001b[39m \u001b[43mnp\u001b[49m\u001b[38;5;241;43m.\u001b[39;49m\u001b[43mlinalg\u001b[49m\u001b[38;5;241;43m.\u001b[39;49m\u001b[43mcholesky\u001b[49m\u001b[43m(\u001b[49m\u001b[43mcov_aug\u001b[49m\u001b[43m)\u001b[49m\u001b[38;5;241m.\u001b[39mT\n\u001b[1;32m    152\u001b[0m aux_sigma_pts \u001b[38;5;241m=\u001b[39m np\u001b[38;5;241m.\u001b[39mvstack((np\u001b[38;5;241m.\u001b[39mzeros((\u001b[38;5;28mself\u001b[39m\u001b[38;5;241m.\u001b[39m_aug_len,)),\n\u001b[1;32m    153\u001b[0m                            \u001b[38;5;28mself\u001b[39m\u001b[38;5;241m.\u001b[39mgamma_param \u001b[38;5;241m*\u001b[39m sqrt_cov_aug,\n\u001b[1;32m    154\u001b[0m                            \u001b[38;5;241m-\u001b[39m\u001b[38;5;28mself\u001b[39m\u001b[38;5;241m.\u001b[39mgamma_param \u001b[38;5;241m*\u001b[39m sqrt_cov_aug))\n\u001b[1;32m    155\u001b[0m sigma_pts \u001b[38;5;241m=\u001b[39m x_aug \u001b[38;5;241m+\u001b[39m aux_sigma_pts\n",
      "File \u001b[0;32m~/python_envs/ASOH_Diagnostics/lib/python3.9/site-packages/numpy/linalg/_linalg.py:839\u001b[0m, in \u001b[0;36mcholesky\u001b[0;34m(a, upper)\u001b[0m\n\u001b[1;32m    836\u001b[0m signature \u001b[38;5;241m=\u001b[39m \u001b[38;5;124m'\u001b[39m\u001b[38;5;124mD->D\u001b[39m\u001b[38;5;124m'\u001b[39m \u001b[38;5;28;01mif\u001b[39;00m isComplexType(t) \u001b[38;5;28;01melse\u001b[39;00m \u001b[38;5;124m'\u001b[39m\u001b[38;5;124md->d\u001b[39m\u001b[38;5;124m'\u001b[39m\n\u001b[1;32m    837\u001b[0m \u001b[38;5;28;01mwith\u001b[39;00m errstate(call\u001b[38;5;241m=\u001b[39m_raise_linalgerror_nonposdef, invalid\u001b[38;5;241m=\u001b[39m\u001b[38;5;124m'\u001b[39m\u001b[38;5;124mcall\u001b[39m\u001b[38;5;124m'\u001b[39m,\n\u001b[1;32m    838\u001b[0m               over\u001b[38;5;241m=\u001b[39m\u001b[38;5;124m'\u001b[39m\u001b[38;5;124mignore\u001b[39m\u001b[38;5;124m'\u001b[39m, divide\u001b[38;5;241m=\u001b[39m\u001b[38;5;124m'\u001b[39m\u001b[38;5;124mignore\u001b[39m\u001b[38;5;124m'\u001b[39m, under\u001b[38;5;241m=\u001b[39m\u001b[38;5;124m'\u001b[39m\u001b[38;5;124mignore\u001b[39m\u001b[38;5;124m'\u001b[39m):\n\u001b[0;32m--> 839\u001b[0m     r \u001b[38;5;241m=\u001b[39m \u001b[43mgufunc\u001b[49m\u001b[43m(\u001b[49m\u001b[43ma\u001b[49m\u001b[43m,\u001b[49m\u001b[43m \u001b[49m\u001b[43msignature\u001b[49m\u001b[38;5;241;43m=\u001b[39;49m\u001b[43msignature\u001b[49m\u001b[43m)\u001b[49m\n\u001b[1;32m    840\u001b[0m \u001b[38;5;28;01mreturn\u001b[39;00m wrap(r\u001b[38;5;241m.\u001b[39mastype(result_t, copy\u001b[38;5;241m=\u001b[39m\u001b[38;5;28;01mFalse\u001b[39;00m))\n",
      "File \u001b[0;32m~/python_envs/ASOH_Diagnostics/lib/python3.9/site-packages/numpy/linalg/_linalg.py:107\u001b[0m, in \u001b[0;36m_raise_linalgerror_nonposdef\u001b[0;34m(err, flag)\u001b[0m\n\u001b[1;32m    106\u001b[0m \u001b[38;5;28;01mdef\u001b[39;00m \u001b[38;5;21m_raise_linalgerror_nonposdef\u001b[39m(err, flag):\n\u001b[0;32m--> 107\u001b[0m     \u001b[38;5;28;01mraise\u001b[39;00m LinAlgError(\u001b[38;5;124m\"\u001b[39m\u001b[38;5;124mMatrix is not positive definite\u001b[39m\u001b[38;5;124m\"\u001b[39m)\n",
      "\u001b[0;31mLinAlgError\u001b[0m: Matrix is not positive definite"
     ]
    }
   ],
   "source": [
    "# Total number of cycles to simulate\n",
    "num_cycles = 1000\n",
    "\n",
    "# Let's also create a simple ways to store UKF predictions and estimates, as well as the inputs provided\n",
    "noisy_voltage = []\n",
    "controls = []\n",
    "joint_ukf_predictions = {'joint_states': [], 'voltages': []}\n",
    "\n",
    "# Specify the start time of the simulation\n",
    "start_time = 0.0\n",
    "\n",
    "for _ in range(num_cycles):\n",
    "    # Generate list of inputs and store them in the controls\n",
    "    protocol = cycle_protocol(asoh=simulator.asoh, start_time=start_time)\n",
    "    controls += protocol\n",
    "\n",
    "    for new_input in protocol:\n",
    "        # Simulate (useful for also getting the real terminal voltage :) )\n",
    "        _, cell_response = simulator.step(new_input=new_input)\n",
    "        # Add noise to give to the UKF and store it\n",
    "        vt = cell_response.terminal_voltage + rng.normal(loc=0.0, scale=voltage_err / 2)\n",
    "        noisy_voltage += [vt]\n",
    "        # Step the joint estimator\n",
    "        measurement = ECMMeasurement(terminal_voltage=vt)\n",
    "        pred_measure, est_hidden = joint_ukf.step(u=new_input, y=measurement)\n",
    "        # Save to the dictionary\n",
    "        joint_ukf_predictions['joint_states'] += [est_hidden.model_copy(deep=True)]\n",
    "        joint_ukf_predictions['voltages'] += [pred_measure.model_copy(deep=True)]\n",
    "    \n",
    "    # TODO: degrade asoh\n",
    "\n",
    "    # Update the start time of the next cycle\n",
    "    start_time = protocol[-1].time + 1.0e-03\n"
   ]
  },
  {
   "cell_type": "code",
   "execution_count": 10,
   "metadata": {},
   "outputs": [
    {
     "data": {
      "text/plain": [
       "[<matplotlib.lines.Line2D at 0x13700f100>]"
      ]
     },
     "execution_count": 10,
     "metadata": {},
     "output_type": "execute_result"
    },
    {
     "data": {
      "image/png": "[encoded data removed]",
      "text/plain": [
       "<Figure size 640x480 with 1 Axes>"
      ]
     },
     "metadata": {},
     "output_type": "display_data"
    }
   ],
   "source": [
    "num_points = len(joint_ukf_predictions['voltages'])\n",
    "timestamps = np.array([control.time for control in controls])\n",
    "plt.plot(timestamps[:len(noisy_voltage)]/ 3600, \n",
    "         noisy_voltage,\n",
    "         color='blue')\n",
    "plt.plot(timestamps[:num_points-1]/ 3600, \n",
    "         [pred.mean for pred in joint_ukf_predictions['voltages'][:-1]],\n",
    "         linestyle=':',\n",
    "         color='red')\n"
   ]
  },
  {
   "cell_type": "code",
   "execution_count": 24,
   "metadata": {},
   "outputs": [
    {
     "data": {
      "text/plain": [
       "[<matplotlib.lines.Line2D at 0x1564b9e20>]"
      ]
     },
     "execution_count": 24,
     "metadata": {},
     "output_type": "execute_result"
    },
    {
     "data": {
      "image/png": "[encoded data removed]",
      "text/plain": [
       "<Figure size 640x480 with 1 Axes>"
      ]
     },
     "metadata": {},
     "output_type": "display_data"
    }
   ],
   "source": [
    "# Get the joint states\n",
    "joint_mean = np.array([joint.mean for joint in joint_ukf_predictions['joint_states']])\n",
    "joint_cov = np.array([joint.covariance for joint in joint_ukf_predictions['joint_states']])\n",
    "plt.plot(timestamps[:num_points], joint_mean[:,10])"
   ]
  },
  {
   "cell_type": "code",
   "execution_count": null,
   "metadata": {},
   "outputs": [
    {
     "data": {
      "text/plain": [
       "np.float64(276287.860055896)"
      ]
     },
     "execution_count": 15,
     "metadata": {},
     "output_type": "execute_result"
    }
   ],
   "source": [
    "np.max(abs(joint_ukf_predictions['joint_states'][-2].covariance))"
   ]
  },
  {
   "cell_type": "code",
   "execution_count": null,
   "metadata": {},
   "outputs": [
    {
     "data": {
      "text/plain": [
       "np.float64(525.7252133957435)"
      ]
     },
     "execution_count": 28,
     "metadata": {},
     "output_type": "execute_result"
    }
   ],
   "source": [
    "np.sqrt(276387)"
   ]
  },
  {
   "cell_type": "code",
   "execution_count": null,
   "metadata": {},
   "outputs": [
    {
     "name": "stdout",
     "output_type": "stream",
     "text": [
      "[[ 9. 12. 15.]\n",
      " [12. 16. 20.]\n",
      " [15. 20. 25.]]\n"
     ]
    }
   ],
   "source": [
    "a = np.diag([3,4,5])\n",
    "b = np.ones((3,3))\n",
    "c = np.matmul(a, b)\n",
    "d = np.matmul(b, a)\n",
    "print(c * d)\n"
   ]
  },
  {
   "cell_type": "code",
   "execution_count": null,
   "metadata": {},
   "outputs": [],
   "source": []
  }
 ],
 "metadata": {
  "kernelspec": {
   "display_name": "ASOH_Diagnostics",
   "language": "python",
   "name": "python3"
  },
  "language_info": {
   "codemirror_mode": {
    "name": "ipython",
    "version": 3
   },
   "file_extension": ".py",
   "mimetype": "text/x-python",
   "name": "python",
   "nbconvert_exporter": "python",
   "pygments_lexer": "ipython3",
   "version": "3.9.6"
  }
 },
 "nbformat": 4,
 "nbformat_minor": 2
}

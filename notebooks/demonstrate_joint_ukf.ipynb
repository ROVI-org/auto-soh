{
 "cells": [
  {
   "cell_type": "markdown",
   "metadata": {},
   "source": [
    "# Demonstrate Joint UKF Estimation"
   ]
  },
  {
   "cell_type": "code",
   "execution_count": 1,
   "metadata": {},
   "outputs": [],
   "source": [
    "from typing import List\n",
    "\n",
    "import numpy as np\n",
    "import matplotlib.pyplot as plt\n",
    "\n",
    "from asoh.models.ecm.advancedSOH import ECMASOH\n",
    "from asoh.models.ecm.ins_outs import ECMInput\n",
    "from asoh.estimators.online.joint.ecm.unscented import ECMJointUKF, ECMJointUKFInterface"
   ]
  },
  {
   "cell_type": "markdown",
   "metadata": {},
   "source": [
    "First, let's define a random number generator for consistency."
   ]
  },
  {
   "cell_type": "code",
   "execution_count": 2,
   "metadata": {},
   "outputs": [],
   "source": [
    "# Initialize RNG\n",
    "rng = np.random.default_rng(seed=1001001)"
   ]
  },
  {
   "cell_type": "markdown",
   "metadata": {},
   "source": [
    "In this example, we will start by establishing a cycling protocol which assumes every cycle starts with the cell at 100%\n",
    "SOC. This protocol follows the procedure below: \n",
    "1. rest the cell for 5-10 minutes\n",
    "2. discharge the cell at a C-rate between 1.5 and 2.5 C\n",
    "3. rest the cell for 10-20 minutes\n",
    "4. charge the cell at a C-rate between 0.5 and 1.5 C\n",
    "5. rest the cell for 5-10 minutes\n",
    "\n",
    "We will create a helper function to specify timestamps and currents for a given cycle. These will be reported at \n",
    "approximately every second. "
   ]
  },
  {
   "cell_type": "code",
   "execution_count": 3,
   "metadata": {},
   "outputs": [],
   "source": [
    "\n",
    "def cycle_protocol(asoh: ECMASOH, start_time:float = 0.0) -> List[ECMInput]:\n",
    "    \"\"\"\n",
    "    Function to return list of ECMInputs corresponding to a new cycle\n",
    "\n",
    "    Args: \n",
    "        asoh: A-SOH object to be used\n",
    "        start_time: time at which to start this cycle in seconds\n",
    "    \n",
    "    Returns:\n",
    "        ecm_inputs: list of ECMInput objects corresponding to this cycle\n",
    "    \"\"\"\n",
    "    # initialize main lists to be used\n",
    "    timestamps = []\n",
    "    currents = []\n",
    "\n",
    "    # Get the Qt and CE, which will help determine the currents\n",
    "    qt = asoh.q_t.amp_hour\n",
    "    ce = asoh.ce\n",
    "\n",
    "    # Now, let's choose rest durations and C-rates\n",
    "    rest0, rest1, rest2 = rng.integers(low=5, high=10, size=3)\n",
    "    rest0 *= 60\n",
    "    rest1 *= 2 * 60\n",
    "    rest2 *= 60\n",
    "    dischg_rate, chg_rate = np.array([1.5, 0.5]) + rng.random(size=2)\n",
    "\n",
    "    def update_timestamps_curr(duration: float, curr: float) -> None:\n",
    "        \"\"\"\n",
    "        Helper to populate timestamps and currents.\n",
    "\n",
    "        Args:\n",
    "            duration: duration of segment in seconds\n",
    "            curr: value of current to be used. \n",
    "        \"\"\"\n",
    "        # specify binds to nearest variables \n",
    "        nonlocal currents\n",
    "        nonlocal timestamps\n",
    "        new_len = int(np.ceil(duration))\n",
    "        currents += [curr] * new_len\n",
    "        new_times = np.sort(rng.random(size=new_len)) * duration\n",
    "        if len(timestamps) == 0:\n",
    "            new_times += start_time\n",
    "        else:\n",
    "            new_times += timestamps[-1] + (1.0e-03)\n",
    "        timestamps += new_times.tolist()\n",
    "\n",
    "    # Rest 0\n",
    "    update_timestamps_curr(duration=rest0, curr=0.0)\n",
    "\n",
    "    # Discharge\n",
    "    dischg_duration = 3600.0 / dischg_rate\n",
    "    dischg_curr = -(qt * dischg_rate)\n",
    "    update_timestamps_curr(duration=dischg_duration, curr=dischg_curr)\n",
    "\n",
    "    # Rest 1\n",
    "    update_timestamps_curr(duration=rest1, curr=0.0)\n",
    "\n",
    "    # Charge\n",
    "    chg_duration = 3600.0 / chg_rate\n",
    "    chg_curr = (qt * dischg_rate) / ce\n",
    "    update_timestamps_curr(duration=chg_duration, curr=chg_curr)\n",
    "\n",
    "    # Rest 2\n",
    "    update_timestamps_curr(duration=rest2, curr=0.0)\n",
    "\n",
    "    # Finally, assemble the ECMInputs\n",
    "    ecm_inputs = [ECMInput(time=time, current=current) for time, current in zip(timestamps, currents)]\n",
    "    return ecm_inputs"
   ]
  },
  {
   "cell_type": "markdown",
   "metadata": {},
   "source": [
    "For this example, we will look at a single RC element Thenevin model. Only the series resistance $R_0$ and OCV will be \n",
    "functions of SOC. We will assume the R0 follows a quadratic profile with SOC, with the values increasing as SOC approaches\n",
    "0% or 100%. \n",
    "\n",
    "We will maintain the OCV fixed, and allow the maximum theoretical discharge capacity $Q_t$, the coulombic efficiency CE, the series resistant $R_0$, and RC components to change with cycling. More \n",
    "specifically, we will assume that they are all constant within a cycle, but will degrade from cycle to cycle in the \n",
    "following manner:\n",
    "1. $Q_t$ will go down by a factor of 0.05% with each new cycle: $\\left(Q_{t, k+1} = 0.9995 Q_{t,k}\\right)$\n",
    "2. the CE will decrease linearly by 0.005% at every cycle \n",
    "3. $R_0$ will increase linearly by $1.0\\times10^{-6}\\Omega$ at every new cycle\n",
    "4. the resistance of the RC resistor will go up by a factor of 0.01% at every cycle: \n",
    "$R_{RC_1, k+1} = 1.0001 * R_{RC_1,k}$\n",
    "5. the capacitance of the RC capacitor will got down by a factor of 0.001% at every cycle: \n",
    "$c_{RC_1, k+1} = 0.99999 * C_{RC_1,k}$"
   ]
  },
  {
   "cell_type": "code",
   "execution_count": 4,
   "metadata": {},
   "outputs": [],
   "source": [
    "# Function to help with A-SOH degradation established above\n",
    "def degrade_asoh(asoh: ECMASOH,\n",
    "                 qt_deg_factor: float = 0.0005,\n",
    "                 ce_deg_factor: float = 0.005,\n",
    "                 r0_deg_factor: float = 1.0e-06,\n",
    "                 r_rc_deg_factor: float = 0.0001,\n",
    "                 c_rc_deg_factor: float = 0.00001) -> ECMASOH:\n",
    "    asoh_deg = asoh.model_copy(deep=True)\n",
    "    # Calculate new values\n",
    "    qt_deg = (1 - qt_deg_factor) * asoh_deg.q_t.base_values\n",
    "    ce_deg = asoh_deg.ce - ce_deg_factor\n",
    "    r0_deg = asoh_deg.r0.base_values + r0_deg_factor\n",
    "    r_rc_deg = (1 + r_rc_deg_factor) * asoh_deg.rc_elements[0].r.base_values\n",
    "    c_rc_deg = (1 - c_rc_deg_factor) * asoh_deg.rc_elements[0].c.base_values\n",
    "    # Set new values\n",
    "    asoh_deg.q_t.base_values = qt_deg\n",
    "    asoh_deg.ce = ce_deg\n",
    "    asoh_deg.r0.base_values = r0_deg\n",
    "    asoh_deg.rc_elements[0].r.base_values = r_rc_deg\n",
    "    asoh_deg.rc_elements[0].c.base_values = c_rc_deg\n",
    "    return asoh_deg"
   ]
  },
  {
   "cell_type": "markdown",
   "metadata": {},
   "source": [
    "Let's define the Beginning of Life (BOL) A-SOH."
   ]
  },
  {
   "cell_type": "code",
   "execution_count": 5,
   "metadata": {},
   "outputs": [
    {
     "data": {
      "image/png": "[encoded data removed]",
      "text/plain": [
       "<Figure size 300x200 with 1 Axes>"
      ]
     },
     "metadata": {},
     "output_type": "display_data"
    }
   ],
   "source": [
    "# Define the values of R0 to use\n",
    "r0_vals = np.array([5,4,6]) * 1.0e-02\n",
    "\n",
    "# Get A-SOH and set R0 values and interpolation style\n",
    "asoh_bol = ECMASOH.provide_template(has_C0=False, num_RC=1, R0=r0_vals)\n",
    "asoh_bol.r0.interpolation_style = 'quadratic'\n",
    "\n",
    "# Check R0 profile\n",
    "test_socs = np.arange(-0.05, 1.06, 0.01)\n",
    "fig, ax = plt.subplots(figsize=(3,2))\n",
    "ax.plot(100 * test_socs, 1000 * asoh_bol.r0.get_value(soc=test_socs))\n",
    "ax.set_xlabel('SOC [%]')\n",
    "_ = ax.set_ylabel(r'$R_0$ $[m\\Omega]$')"
   ]
  },
  {
   "cell_type": "markdown",
   "metadata": {},
   "source": [
    "Now, let's start preparations for the co-simulation of this cell alongside its joint estimation.\n",
    "\n",
    "First, let us create a new A-SOH ground truth object with the proper updatable parameters set to help with the simulator and joint estimator. "
   ]
  },
  {
   "cell_type": "code",
   "execution_count": 9,
   "metadata": {},
   "outputs": [
    {
     "name": "stdout",
     "output_type": "stream",
     "text": [
      "Initial updatable parameters:  []\n",
      "New updatable parameters:  [10.0, 1.0, np.float64(0.05), np.float64(0.04), np.float64(0.06), 0.01, 2500.0, 0.05]\n"
     ]
    }
   ],
   "source": [
    "asoh_gt = asoh_bol.model_copy(deep=True)\n",
    "# Check that nothing is updatable yet:\n",
    "print('Initial updatable parameters: ', asoh_gt.get_parameters())\n",
    "asoh_gt.mark_updatable(name='q_t.base_values')\n",
    "asoh_gt.mark_updatable(name='ce')\n",
    "asoh_gt.mark_updatable(name='r0.base_values')\n",
    "asoh_gt.mark_updatable(name='rc_elements.0.r.base_values')\n",
    "asoh_gt.mark_updatable(name='rc_elements.0.c.base_values')\n",
    "asoh_gt.mark_updatable(name='h0.base_values')\n",
    "# Make sure we have all that is updatable\n",
    "print('New updatable parameters: ', asoh_gt.get_parameters())"
   ]
  },
  {
   "cell_type": "code",
   "execution_count": 52,
   "metadata": {},
   "outputs": [
    {
     "data": {
      "text/plain": [
       "RCComponent(updatable={'c', 'r'}, r=Resistance(updatable={'base_values'}, base_values=0.01, soc_pinpoints=None, interpolation_style='linear', reference_temperature=25, temperature_dependence_factor=0.0025), c=Capacitance(updatable={'base_values'}, base_values=2500.0, soc_pinpoints=None, interpolation_style='linear'))"
      ]
     },
     "execution_count": 52,
     "metadata": {},
     "output_type": "execute_result"
    }
   ],
   "source": [
    "chain, what = asoh_gt._get_model_chain(name='rc_elements.0.r.base_values')\n",
    "what[1]"
   ]
  },
  {
   "cell_type": "code",
   "execution_count": null,
   "metadata": {},
   "outputs": [],
   "source": []
  }
 ],
 "metadata": {
  "kernelspec": {
   "display_name": "ASOH_Diagnostics",
   "language": "python",
   "name": "python3"
  },
  "language_info": {
   "codemirror_mode": {
    "name": "ipython",
    "version": 3
   },
   "file_extension": ".py",
   "mimetype": "text/x-python",
   "name": "python",
   "nbconvert_exporter": "python",
   "pygments_lexer": "ipython3",
   "version": "3.9.6"
  }
 },
 "nbformat": 4,
 "nbformat_minor": 2
}

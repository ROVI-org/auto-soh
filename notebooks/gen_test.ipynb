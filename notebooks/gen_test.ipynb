{
 "cells": [
  {
   "cell_type": "code",
   "execution_count": 1,
   "metadata": {},
   "outputs": [],
   "source": [
    "from typing import Any\n",
    "\n",
    "from typing_extensions import Self\n",
    "\n",
    "from pydantic import BaseModel, ValidationError, model_validator\n",
    "\n",
    "\n",
    "class UserModel(BaseModel, validate_assignment=True):\n",
    "    username: str\n",
    "    password1: str\n",
    "    password2: str\n",
    "\n",
    "    @model_validator(mode='before')\n",
    "    @classmethod\n",
    "    def check_card_number_omitted(cls, data: Any) -> Any:\n",
    "        if isinstance(data, dict):\n",
    "            assert (\n",
    "                'card_number' not in data\n",
    "            ), 'card_number should not be included'\n",
    "        return data\n",
    "\n",
    "    @model_validator(mode='after')\n",
    "    def check_passwords_match(self) -> Self:\n",
    "        pw1 = self.password1\n",
    "        pw2 = self.password2\n",
    "        if pw1 is not None and pw2 is not None and pw1 != pw2:\n",
    "            raise ValueError('passwords do not match')\n",
    "        return self"
   ]
  },
  {
   "cell_type": "code",
   "execution_count": 2,
   "metadata": {},
   "outputs": [
    {
     "name": "stdout",
     "output_type": "stream",
     "text": [
      "{'username': 'scolvin', 'password1': 'zxcvbn', 'password2': 'zxcvbn'}\n"
     ]
    },
    {
     "ename": "ValidationError",
     "evalue": "1 validation error for UserModel\n  Value error, passwords do not match [type=value_error, input_value=UserModel(username='scolv...bn', password2='dafdaf'), input_type=UserModel]\n    For further information visit https://errors.pydantic.dev/2.7/v/value_error",
     "output_type": "error",
     "traceback": [
      "\u001b[0;31m---------------------------------------------------------------------------\u001b[0m",
      "\u001b[0;31mValidationError\u001b[0m                           Traceback (most recent call last)",
      "Cell \u001b[0;32mIn[2], line 3\u001b[0m\n\u001b[1;32m      1\u001b[0m test \u001b[38;5;241m=\u001b[39m UserModel(username\u001b[38;5;241m=\u001b[39m\u001b[38;5;124m'\u001b[39m\u001b[38;5;124mscolvin\u001b[39m\u001b[38;5;124m'\u001b[39m, password1\u001b[38;5;241m=\u001b[39m\u001b[38;5;124m'\u001b[39m\u001b[38;5;124mzxcvbn\u001b[39m\u001b[38;5;124m'\u001b[39m, password2\u001b[38;5;241m=\u001b[39m\u001b[38;5;124m'\u001b[39m\u001b[38;5;124mzxcvbn\u001b[39m\u001b[38;5;124m'\u001b[39m)\n\u001b[1;32m      2\u001b[0m \u001b[38;5;28mprint\u001b[39m(test\u001b[38;5;241m.\u001b[39mmodel_dump())\n\u001b[0;32m----> 3\u001b[0m \u001b[43mtest\u001b[49m\u001b[38;5;241;43m.\u001b[39;49m\u001b[43mpassword2\u001b[49m \u001b[38;5;241m=\u001b[39m \u001b[38;5;124m'\u001b[39m\u001b[38;5;124mdafdaf\u001b[39m\u001b[38;5;124m'\u001b[39m\n\u001b[1;32m      4\u001b[0m \u001b[38;5;28mprint\u001b[39m(test\u001b[38;5;241m.\u001b[39mmodel_dump())\n",
      "File \u001b[0;32m~/python_envs/ASOH_Diagnostics/lib/python3.9/site-packages/pydantic/main.py:836\u001b[0m, in \u001b[0;36mBaseModel.__setattr__\u001b[0;34m(self, name, value)\u001b[0m\n\u001b[1;32m    834\u001b[0m     attr\u001b[38;5;241m.\u001b[39m\u001b[38;5;21m__set__\u001b[39m(\u001b[38;5;28mself\u001b[39m, value)\n\u001b[1;32m    835\u001b[0m \u001b[38;5;28;01melif\u001b[39;00m \u001b[38;5;28mself\u001b[39m\u001b[38;5;241m.\u001b[39mmodel_config\u001b[38;5;241m.\u001b[39mget(\u001b[38;5;124m'\u001b[39m\u001b[38;5;124mvalidate_assignment\u001b[39m\u001b[38;5;124m'\u001b[39m, \u001b[38;5;28;01mNone\u001b[39;00m):\n\u001b[0;32m--> 836\u001b[0m     \u001b[38;5;28;43mself\u001b[39;49m\u001b[38;5;241;43m.\u001b[39;49m\u001b[43m__pydantic_validator__\u001b[49m\u001b[38;5;241;43m.\u001b[39;49m\u001b[43mvalidate_assignment\u001b[49m\u001b[43m(\u001b[49m\u001b[38;5;28;43mself\u001b[39;49m\u001b[43m,\u001b[49m\u001b[43m \u001b[49m\u001b[43mname\u001b[49m\u001b[43m,\u001b[49m\u001b[43m \u001b[49m\u001b[43mvalue\u001b[49m\u001b[43m)\u001b[49m\n\u001b[1;32m    837\u001b[0m \u001b[38;5;28;01melif\u001b[39;00m \u001b[38;5;28mself\u001b[39m\u001b[38;5;241m.\u001b[39mmodel_config\u001b[38;5;241m.\u001b[39mget(\u001b[38;5;124m'\u001b[39m\u001b[38;5;124mextra\u001b[39m\u001b[38;5;124m'\u001b[39m) \u001b[38;5;241m!=\u001b[39m \u001b[38;5;124m'\u001b[39m\u001b[38;5;124mallow\u001b[39m\u001b[38;5;124m'\u001b[39m \u001b[38;5;129;01mand\u001b[39;00m name \u001b[38;5;129;01mnot\u001b[39;00m \u001b[38;5;129;01min\u001b[39;00m \u001b[38;5;28mself\u001b[39m\u001b[38;5;241m.\u001b[39mmodel_fields:\n\u001b[1;32m    838\u001b[0m     \u001b[38;5;66;03m# TODO - matching error\u001b[39;00m\n\u001b[1;32m    839\u001b[0m     \u001b[38;5;28;01mraise\u001b[39;00m \u001b[38;5;167;01mValueError\u001b[39;00m(\u001b[38;5;124mf\u001b[39m\u001b[38;5;124m'\u001b[39m\u001b[38;5;124m\"\u001b[39m\u001b[38;5;132;01m{\u001b[39;00m\u001b[38;5;28mself\u001b[39m\u001b[38;5;241m.\u001b[39m\u001b[38;5;18m__class__\u001b[39m\u001b[38;5;241m.\u001b[39m\u001b[38;5;18m__name__\u001b[39m\u001b[38;5;132;01m}\u001b[39;00m\u001b[38;5;124m\"\u001b[39m\u001b[38;5;124m object has no field \u001b[39m\u001b[38;5;124m\"\u001b[39m\u001b[38;5;132;01m{\u001b[39;00mname\u001b[38;5;132;01m}\u001b[39;00m\u001b[38;5;124m\"\u001b[39m\u001b[38;5;124m'\u001b[39m)\n",
      "\u001b[0;31mValidationError\u001b[0m: 1 validation error for UserModel\n  Value error, passwords do not match [type=value_error, input_value=UserModel(username='scolv...bn', password2='dafdaf'), input_type=UserModel]\n    For further information visit https://errors.pydantic.dev/2.7/v/value_error"
     ]
    }
   ],
   "source": [
    "test = UserModel(username='scolvin', password1='zxcvbn', password2='zxcvbn')\n",
    "print(test.model_dump())\n",
    "test.password2 = 'dafdaf'\n",
    "print(test.model_dump())"
   ]
  },
  {
   "cell_type": "code",
   "execution_count": 1,
   "metadata": {},
   "outputs": [],
   "source": [
    "import numpy as np\n",
    "from pydantic import Field, BaseModel, model_validator, computed_field\n",
    "from warnings import warn\n",
    "from typing import Any\n",
    "from typing_extensions import Self\n",
    "\n",
    "class MultivariateGaussian(BaseModel,\n",
    "                           validate_assignment=True,\n",
    "                           arbitrary_types_allowed=True):\n",
    "    \"\"\"\n",
    "    Class to describe a multivariate Gaussian distribution\n",
    "    \"\"\"\n",
    "    mean: np.ndarray = Field(default=np.array([0]),\n",
    "                             description='Mean of the multivariate Gaussian distribution')\n",
    "    covariance: np.ndarray = Field(default=np.array([[1]]),\n",
    "                                   description='Covariance of the multivariate Gaussian distribution')\n",
    "    \n",
    "    @computed_field\n",
    "    @property\n",
    "    def num_dimensions(self) -> int:\n",
    "        return len(self.mean)\n",
    "    \n",
    "\n",
    "    @model_validator(mode='before')\n",
    "    @classmethod\n",
    "    def fields_shape(cls, data: Any) -> Any:\n",
    "        if isinstance(data, dict):\n",
    "            mean_shape = data['mean'].shape\n",
    "            cov_shape = data['covariance'].shape\n",
    "            if not mean_shape:\n",
    "                raise ValueError('Mean must be Sized and have a non-empty shape!')\n",
    "            if len(mean_shape) > 2 or (len(mean_shape) == 2 and 1 not in mean_shape):\n",
    "                raise ValueError('Mean must be a 1D vector, but array provided has shape ' + str(mean_shape) + '!')\n",
    "            elif len(mean_shape) == 2:\n",
    "                msg = 'Mean passed has shape (%d, %d), but it will be flattened to (%d,)' % (mean_shape + (max(mean_shape),))\n",
    "                warn(msg)\n",
    "                data['mean'] = data['mean'].flatten()\n",
    "            if len(cov_shape) != 2:\n",
    "                raise ValueError('Covariance must be a 2D matrix, but shape provided was ' + str(cov_shape) + '!')\n",
    "        return data\n",
    "    \n",
    "    @model_validator(mode='after')\n",
    "    def fields_dim(self) -> Self:\n",
    "        dim = self.num_dimensions\n",
    "        print('here, dim = ', dim)\n",
    "        return self\n"
   ]
  },
  {
   "cell_type": "code",
   "execution_count": 3,
   "metadata": {},
   "outputs": [
    {
     "name": "stdout",
     "output_type": "stream",
     "text": [
      "here, dim =  3\n",
      "[1 2 3]\n",
      "here, dim =  1\n",
      "[[1 2 3 4]]\n"
     ]
    },
    {
     "name": "stderr",
     "output_type": "stream",
     "text": [
      "/var/folders/89/mkngtyzs54l121mx93tt09z00000gp/T/ipykernel_68657/3841197278.py:36: UserWarning: Mean passed has shape (1, 3), but it will be flattened to (3,)\n",
      "  warn(msg)\n",
      "/var/folders/89/mkngtyzs54l121mx93tt09z00000gp/T/ipykernel_68657/3841197278.py:36: UserWarning: Mean passed has shape (1, 4), but it will be flattened to (4,)\n",
      "  warn(msg)\n"
     ]
    }
   ],
   "source": [
    "# test = MultivariateGaussian(mean=np.array([[[1,2], [3,4]],[[5,6], [7,8]],[[9,10], [11,12]]]),\n",
    "#                             cov=0)\n",
    "# test = MultivariateGaussian(mean=np.eye(2), cov=0)\n",
    "test = MultivariateGaussian(mean=np.array([[1,2,3]]), covariance=np.eye(2))\n",
    "print(test.mean)\n",
    "test.mean = np.array([[1,2,3,4]])\n",
    "print(test.mean)"
   ]
  },
  {
   "cell_type": "code",
   "execution_count": 1,
   "metadata": {},
   "outputs": [],
   "source": [
    "import numpy as np\n",
    "from pydantic import Field, BaseModel, model_validator, field_validator, ValidationInfo, computed_field\n",
    "from warnings import warn\n",
    "from typing_extensions import Self\n",
    "\n",
    "class sth(BaseModel, arbitrary_types_allowed=True, validate_assignment=True):\n",
    "    mean: np.ndarray\n",
    "    cov: np.ndarray\n",
    "\n",
    "    # @computed_field\n",
    "    @property\n",
    "    def num_dimensions(self) -> int:\n",
    "        return len(self.mean)\n",
    "    \n",
    "    @field_validator('mean', mode='before')\n",
    "    @classmethod\n",
    "    def mean_1d(cls, mu: np.ndarray):\n",
    "        mean_shape = mu.shape\n",
    "        if not mean_shape:\n",
    "            raise ValueError('Mean must be Sized and have a non-empty shape!')\n",
    "        if len(mean_shape) > 2 or (len(mean_shape) == 2 and 1 not in mean_shape):\n",
    "            raise ValueError('Mean must be a 1D vector, but array provided has shape ' + str(mean_shape) + '!')\n",
    "        elif len(mean_shape) == 2:\n",
    "            msg = 'Mean passed has shape (%d, %d), but it will be flattened to (%d,)' % (mean_shape + (max(mean_shape),))\n",
    "            warn(msg)\n",
    "            return mu.flatten()\n",
    "        return mu\n",
    "    \n",
    "    @field_validator('mean', mode='after')\n",
    "    @classmethod\n",
    "    def mean_dim(cls, mu: np.ndarray, info=ValidationInfo):\n",
    "        print(info)\n",
    "        present_mean = getattr(cls, 'mean', None)\n",
    "        dim = None if present_mean is None else len(present_mean)\n",
    "        print('here, dim = ', dim)\n",
    "        return mu\n"
   ]
  },
  {
   "cell_type": "code",
   "execution_count": 2,
   "metadata": {},
   "outputs": [
    {
     "name": "stdout",
     "output_type": "stream",
     "text": [
      "ValidationInfo(config={'title': 'sth'}, context=None, data={}, field_name='mean')\n",
      "here, dim =  None\n",
      "[1 2 3]\n",
      "ValidationInfo(config={'title': 'sth'}, context=None, data={'cov': array(0)}, field_name='mean')\n",
      "here, dim =  None\n",
      "[1 2 3 4]\n"
     ]
    },
    {
     "name": "stderr",
     "output_type": "stream",
     "text": [
      "/var/folders/89/mkngtyzs54l121mx93tt09z00000gp/T/ipykernel_67910/3324510748.py:25: UserWarning: Mean passed has shape (1, 4), but it will be flattened to (4,)\n",
      "  warn(msg)\n"
     ]
    }
   ],
   "source": [
    "# test = sth(mean=np.array([[[1,2], [3,4]],[[5,6], [7,8]],[[9,10], [11,12]]]),\n",
    "#                             cov=np.array(0))\n",
    "# test = sth(mean=np.eye(2), cov=np.array(0))\n",
    "# test = sth(mean=np.array([[1,2,3]]), cov=np.array(0))\n",
    "test = sth(mean=np.array([1,2,3]), cov=np.array(0))\n",
    "print(test.mean)\n",
    "test.mean = np.array([[1,2,3,4]])\n",
    "print(test.mean)"
   ]
  },
  {
   "cell_type": "code",
   "execution_count": 1,
   "metadata": {},
   "outputs": [],
   "source": [
    "import numpy as np\n",
    "from pydantic import Field, BaseModel, model_validator, field_validator, ValidationInfo, computed_field\n",
    "from warnings import warn\n",
    "from typing import Any\n",
    "from typing_extensions import Self\n",
    "\n",
    "class AllChecked(BaseModel, arbitrary_types_allowed=True, validate_assignment=True):\n",
    "    mean: np.ndarray\n",
    "    cov: np.ndarray\n",
    "\n",
    "    @computed_field\n",
    "    @property\n",
    "    def num_dimensions(self) -> int:\n",
    "        return len(self.mean)\n",
    "    \n",
    "    @field_validator('mean', mode='before')\n",
    "    @classmethod\n",
    "    def mean_1d(cls, mu: np.ndarray)-> np.ndarray:\n",
    "        mean_shape = mu.shape\n",
    "        if not mean_shape:\n",
    "            raise ValueError('Mean must be Sized and have a non-empty shape!')\n",
    "        if len(mean_shape) > 2 or (len(mean_shape) == 2 and 1 not in mean_shape):\n",
    "            raise ValueError('Mean must be a 1D vector, but array provided has shape ' + str(mean_shape) + '!')\n",
    "        elif len(mean_shape) == 2:\n",
    "            msg = 'Provided mean has shape (%d, %d), but it will be flattened to (%d,)' % \\\n",
    "                (mean_shape + (max(mean_shape),))\n",
    "            warn(msg)\n",
    "        return mu.flatten()\n",
    "    \n",
    "    @field_validator('cov', mode='before')\n",
    "    @classmethod\n",
    "    def cov_2d(cls, sigma: np.ndarray) -> np.ndarray:\n",
    "        cov_shape = sigma.shape\n",
    "        if len(cov_shape) != 2:\n",
    "            raise ValueError('Covariance must be a 2D matrix, but shape provided was ' + str(cov_shape) + '!')\n",
    "        return sigma\n",
    "    \n",
    "    @model_validator(mode='after')\n",
    "    def fields_dim(self) -> Self:\n",
    "        dim = self.num_dimensions\n",
    "        if self.cov.shape != (dim, dim):\n",
    "            msg = 'Wrong dimensions! Mean has shape ' + str(self.mean.shape)\n",
    "            msg += ', but covariance has shape ' + str(self.cov.shape)\n",
    "            raise ValueError(msg)\n",
    "        return self\n",
    "\n",
    "\n",
    "    "
   ]
  },
  {
   "cell_type": "code",
   "execution_count": 2,
   "metadata": {},
   "outputs": [
    {
     "name": "stdout",
     "output_type": "stream",
     "text": [
      "[1 2 3]\n"
     ]
    },
    {
     "name": "stderr",
     "output_type": "stream",
     "text": [
      "/var/folders/89/mkngtyzs54l121mx93tt09z00000gp/T/ipykernel_76442/3556383232.py:26: UserWarning: Mean passed has shape (1, 3), but it will be flattened to (3,)\n",
      "  warn(msg)\n"
     ]
    },
    {
     "ename": "ValidationError",
     "evalue": "1 validation error for AllChecked\n  Value error, Wrong dimensions! Mean has shape (4,), but covariance has shape (3, 3) [type=value_error, input_value=AllChecked(mean=array([1,...1.]]), num_dimensions=4), input_type=AllChecked]\n    For further information visit https://errors.pydantic.dev/2.7/v/value_error",
     "output_type": "error",
     "traceback": [
      "\u001b[0;31m---------------------------------------------------------------------------\u001b[0m",
      "\u001b[0;31mValidationError\u001b[0m                           Traceback (most recent call last)",
      "Cell \u001b[0;32mIn[2], line 6\u001b[0m\n\u001b[1;32m      4\u001b[0m test \u001b[38;5;241m=\u001b[39m AllChecked(mean\u001b[38;5;241m=\u001b[39mmu0, cov\u001b[38;5;241m=\u001b[39msig0)\n\u001b[1;32m      5\u001b[0m \u001b[38;5;28mprint\u001b[39m(test\u001b[38;5;241m.\u001b[39mmean)\n\u001b[0;32m----> 6\u001b[0m \u001b[43mtest\u001b[49m\u001b[38;5;241;43m.\u001b[39;49m\u001b[43mmean\u001b[49m \u001b[38;5;241m=\u001b[39m np\u001b[38;5;241m.\u001b[39marray([\u001b[38;5;241m1\u001b[39m,\u001b[38;5;241m2\u001b[39m,\u001b[38;5;241m3\u001b[39m,\u001b[38;5;241m4\u001b[39m])\n\u001b[1;32m      7\u001b[0m \u001b[38;5;28mprint\u001b[39m(test\u001b[38;5;241m.\u001b[39mmean)\n",
      "File \u001b[0;32m~/python_envs/ASOH_Diagnostics/lib/python3.9/site-packages/pydantic/main.py:836\u001b[0m, in \u001b[0;36mBaseModel.__setattr__\u001b[0;34m(self, name, value)\u001b[0m\n\u001b[1;32m    834\u001b[0m     attr\u001b[38;5;241m.\u001b[39m\u001b[38;5;21m__set__\u001b[39m(\u001b[38;5;28mself\u001b[39m, value)\n\u001b[1;32m    835\u001b[0m \u001b[38;5;28;01melif\u001b[39;00m \u001b[38;5;28mself\u001b[39m\u001b[38;5;241m.\u001b[39mmodel_config\u001b[38;5;241m.\u001b[39mget(\u001b[38;5;124m'\u001b[39m\u001b[38;5;124mvalidate_assignment\u001b[39m\u001b[38;5;124m'\u001b[39m, \u001b[38;5;28;01mNone\u001b[39;00m):\n\u001b[0;32m--> 836\u001b[0m     \u001b[38;5;28;43mself\u001b[39;49m\u001b[38;5;241;43m.\u001b[39;49m\u001b[43m__pydantic_validator__\u001b[49m\u001b[38;5;241;43m.\u001b[39;49m\u001b[43mvalidate_assignment\u001b[49m\u001b[43m(\u001b[49m\u001b[38;5;28;43mself\u001b[39;49m\u001b[43m,\u001b[49m\u001b[43m \u001b[49m\u001b[43mname\u001b[49m\u001b[43m,\u001b[49m\u001b[43m \u001b[49m\u001b[43mvalue\u001b[49m\u001b[43m)\u001b[49m\n\u001b[1;32m    837\u001b[0m \u001b[38;5;28;01melif\u001b[39;00m \u001b[38;5;28mself\u001b[39m\u001b[38;5;241m.\u001b[39mmodel_config\u001b[38;5;241m.\u001b[39mget(\u001b[38;5;124m'\u001b[39m\u001b[38;5;124mextra\u001b[39m\u001b[38;5;124m'\u001b[39m) \u001b[38;5;241m!=\u001b[39m \u001b[38;5;124m'\u001b[39m\u001b[38;5;124mallow\u001b[39m\u001b[38;5;124m'\u001b[39m \u001b[38;5;129;01mand\u001b[39;00m name \u001b[38;5;129;01mnot\u001b[39;00m \u001b[38;5;129;01min\u001b[39;00m \u001b[38;5;28mself\u001b[39m\u001b[38;5;241m.\u001b[39mmodel_fields:\n\u001b[1;32m    838\u001b[0m     \u001b[38;5;66;03m# TODO - matching error\u001b[39;00m\n\u001b[1;32m    839\u001b[0m     \u001b[38;5;28;01mraise\u001b[39;00m \u001b[38;5;167;01mValueError\u001b[39;00m(\u001b[38;5;124mf\u001b[39m\u001b[38;5;124m'\u001b[39m\u001b[38;5;124m\"\u001b[39m\u001b[38;5;132;01m{\u001b[39;00m\u001b[38;5;28mself\u001b[39m\u001b[38;5;241m.\u001b[39m\u001b[38;5;18m__class__\u001b[39m\u001b[38;5;241m.\u001b[39m\u001b[38;5;18m__name__\u001b[39m\u001b[38;5;132;01m}\u001b[39;00m\u001b[38;5;124m\"\u001b[39m\u001b[38;5;124m object has no field \u001b[39m\u001b[38;5;124m\"\u001b[39m\u001b[38;5;132;01m{\u001b[39;00mname\u001b[38;5;132;01m}\u001b[39;00m\u001b[38;5;124m\"\u001b[39m\u001b[38;5;124m'\u001b[39m)\n",
      "\u001b[0;31mValidationError\u001b[0m: 1 validation error for AllChecked\n  Value error, Wrong dimensions! Mean has shape (4,), but covariance has shape (3, 3) [type=value_error, input_value=AllChecked(mean=array([1,...1.]]), num_dimensions=4), input_type=AllChecked]\n    For further information visit https://errors.pydantic.dev/2.7/v/value_error"
     ]
    }
   ],
   "source": [
    "mu0 = np.array([[1,2,3]]) # np.eye(2)\n",
    "sig0 = np.eye(3) # np.arange(8).reshape((2,2,2)) # \n",
    "# print(type(sig0))\n",
    "test = AllChecked(mean=mu0, cov=sig0)\n",
    "print(test.mean)\n",
    "test.mean = np.array([1,2,3,4])\n",
    "print(test.mean)"
   ]
  },
  {
   "cell_type": "code",
   "execution_count": null,
   "metadata": {},
   "outputs": [],
   "source": []
  },
  {
   "cell_type": "code",
   "execution_count": null,
   "metadata": {},
   "outputs": [],
   "source": []
  }
 ],
 "metadata": {
  "kernelspec": {
   "display_name": "ASOH_Diagnostics",
   "language": "python",
   "name": "python3"
  },
  "language_info": {
   "codemirror_mode": {
    "name": "ipython",
    "version": 3
   },
   "file_extension": ".py",
   "mimetype": "text/x-python",
   "name": "python",
   "nbconvert_exporter": "python",
   "pygments_lexer": "ipython3",
   "version": "3.9.6"
  }
 },
 "nbformat": 4,
 "nbformat_minor": 2
}

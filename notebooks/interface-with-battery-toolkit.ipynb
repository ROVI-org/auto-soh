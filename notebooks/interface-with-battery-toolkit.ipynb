{
 "cells": [
  {
   "cell_type": "markdown",
   "id": "1a4c6405-3c35-4919-a2e3-a857b4630b8b",
   "metadata": {},
   "source": [
    "# Demonstrate Interface with Battery Toolkit\n",
    "Moirae provides utility operations for estimating the state of health given battery data stored in HDF5 files with the [Battery Data Toolkit[(https://github.com/ROVI-org/battery-data-toolkit) and \n",
    "storing the results back into an HDF5 file for convenient organization."
   ]
  },
  {
   "cell_type": "code",
   "execution_count": 1,
   "id": "370d0763-589f-43b2-a133-99bcd0406433",
   "metadata": {},
   "outputs": [],
   "source": [
    "%matplotlib inline\n",
    "from matplotlib import pyplot as plt\n",
    "from moirae.estimators.online.joint import JointEstimator\n",
    "from moirae.models.ecm import EquivalentCircuitModel as ECM\n",
    "from moirae.models.ecm.components import Resistance, OpenCircuitVoltage, MaxTheoreticalCapacity, ReferenceOCV\n",
    "from moirae.models.ecm import ECMASOH, ECMTransientVector, ECMInput\n",
    "from moirae.interface import run_online_estimate\n",
    "from batdata.data import BatteryDataset\n",
    "from shutil import copyfileobj\n",
    "from pathlib import Path\n",
    "import numpy as np\n",
    "import requests\n",
    "import h5py"
   ]
  },
  {
   "cell_type": "markdown",
   "id": "7f2f15e2-fc5e-4619-89be-5239b3b851d0",
   "metadata": {},
   "source": [
    "Configuration"
   ]
  },
  {
   "cell_type": "code",
   "execution_count": 2,
   "id": "a05e7ebd-c5bc-40b0-84b7-77e83fbdabd7",
   "metadata": {},
   "outputs": [],
   "source": [
    "data_url = 'https://github.com/ROVI-org/battery-data-toolkit/raw/refs/heads/main/tests/files/example-data/single-resistor-complex-charge_from-discharged.hdf'\n",
    "data_dir = Path('data')"
   ]
  },
  {
   "cell_type": "code",
   "execution_count": 3,
   "id": "f7c31634-2789-464c-a4ff-2a27f274899d",
   "metadata": {},
   "outputs": [],
   "source": [
    "data_dir.mkdir(exist_ok=True)"
   ]
  },
  {
   "cell_type": "markdown",
   "id": "f98fba0d-cc8a-4288-aafe-a53acb287adc",
   "metadata": {},
   "source": [
    "## Download and Parse the Data\n",
    "Download the data using HTTP and store locally"
   ]
  },
  {
   "cell_type": "code",
   "execution_count": 4,
   "id": "a364f83e-146d-42ce-bad9-9d3a154af168",
   "metadata": {},
   "outputs": [
    {
     "name": "stdout",
     "output_type": "stream",
     "text": [
      "Saving data to data\\single-resistor-complex-charge_from-discharged.hdf\n"
     ]
    }
   ],
   "source": [
    "data_path = data_dir / data_url.split(\"/\")[-1]\n",
    "print(f'Saving data to {data_path}')"
   ]
  },
  {
   "cell_type": "markdown",
   "id": "1b1ed8ed-51fc-4c02-af0c-15a43bb13024",
   "metadata": {},
   "source": [
    "Download if not present"
   ]
  },
  {
   "cell_type": "code",
   "execution_count": 5,
   "id": "ba583578-20d6-43c5-881d-4d9222ff47c2",
   "metadata": {},
   "outputs": [],
   "source": [
    "if not data_path.exists():\n",
    "    with data_path.open('wb') as fp:\n",
    "        copyfileobj(requests.get(data_url, stream=True).raw, fp)"
   ]
  },
  {
   "cell_type": "code",
   "execution_count": 6,
   "id": "661c3da3-164b-42e5-9832-b7b51cd8ef30",
   "metadata": {},
   "outputs": [
    {
     "name": "stderr",
     "output_type": "stream",
     "text": [
      "C:\\Users\\lward\\Work\\ROVI\\battery-data-toolkit\\batdata\\data.py:90: UserWarning: Metadata was created in a different version of batdata. supplied=0.2.0, current=0.3.2.\n",
      "  warnings.warn(f'Metadata was created in a different version of batdata. supplied={supplied_version}, current={__version__}.')\n"
     ]
    }
   ],
   "source": [
    "dataset = BatteryDataset.from_batdata_hdf(data_path)"
   ]
  },
  {
   "cell_type": "code",
   "execution_count": 7,
   "id": "730aa61c-c68b-48db-866b-6be53881ca8c",
   "metadata": {},
   "outputs": [
    {
     "data": {
      "text/plain": [
       "{'version': '0.2.0'}"
      ]
     },
     "execution_count": 7,
     "metadata": {},
     "output_type": "execute_result"
    }
   ],
   "source": [
    "dataset.metadata.model_dump(exclude_defaults=True)"
   ]
  },
  {
   "cell_type": "markdown",
   "id": "34bed34e-cb07-43a1-9bb2-f5db2e69b50b",
   "metadata": {},
   "source": [
    "This dataset contains a single cycle of battery data made using a simple battery model."
   ]
  },
  {
   "cell_type": "code",
   "execution_count": 8,
   "id": "b45e8e3e-2b21-4db8-a6e3-22d00ced2d3b",
   "metadata": {},
   "outputs": [
    {
     "data": {
      "image/png": "[encoded data removed]",
      "text/plain": [
       "<Figure size 350x210 with 1 Axes>"
      ]
     },
     "metadata": {},
     "output_type": "display_data"
    }
   ],
   "source": [
    "fig, ax = plt.subplots(figsize=(3.5, 2.1))\n",
    "\n",
    "ax.plot(dataset.raw_data['test_time'] / 3600, dataset.raw_data['voltage'])\n",
    "\n",
    "ax.set_xlabel('Test Time (hr)')\n",
    "ax.set_ylabel('V')\n",
    "fig.tight_layout()"
   ]
  },
  {
   "cell_type": "markdown",
   "id": "39f86c77-6d62-407f-b348-0c1e9e5ac203",
   "metadata": {},
   "source": [
    "## Create a ECM Model\n",
    "Our goal isn't to demonstrate the effectiveness of state estimation, so I'm going to build a model using [the known parameters](https://github.com/ROVI-org/battery-data-toolkit/blob/main/tests/files/example-data/resistor-only_complex-cycling.ipynb)."
   ]
  },
  {
   "cell_type": "code",
   "execution_count": 9,
   "id": "763cd01c-8fda-440e-865a-62723945ac8a",
   "metadata": {},
   "outputs": [],
   "source": [
    "asoh = ECMASOH(\n",
    "    q_t=MaxTheoreticalCapacity(base_values=1.),\n",
    "    r0=Resistance(base_values=0.1),\n",
    "    ocv=OpenCircuitVoltage(\n",
    "        ocv_ref=ReferenceOCV(base_values=[2., 3.]),\n",
    "        ocv_ent={'base_values': 0}\n",
    "    )\n",
    ")\n",
    "asoh.mark_updatable('r0.base_values')"
   ]
  },
  {
   "cell_type": "code",
   "execution_count": 10,
   "id": "1a5c36b0-88a1-4648-bf64-a18e35eb190a",
   "metadata": {},
   "outputs": [],
   "source": [
    "ecm_start = ECMTransientVector(soc=0., hyst=0.)"
   ]
  },
  {
   "cell_type": "markdown",
   "id": "194756ff-9eba-440a-9277-ff98d83e1887",
   "metadata": {},
   "source": [
    "## Run Estimation Using Historical Data\n",
    "The [`run_online_estimation`](https://rovi-org.github.io/auto-soh/source/interface.html#moirae.interface.run_online_estimate) performs online state estimation using\n",
    "all data available in a battery dataset.\n",
    "By default, it returns the states estimated at each step in memory."
   ]
  },
  {
   "cell_type": "code",
   "execution_count": 11,
   "id": "19d09aed-b4d9-4637-a792-62c2d080cf70",
   "metadata": {},
   "outputs": [],
   "source": [
    "ukf = JointEstimator.initialize_unscented_kalman_filter(\n",
    "    cell_model=ECM(),\n",
    "    initial_asoh=asoh,\n",
    "    initial_inputs=ECMInput(time=0., current=-1., temperature=25),\n",
    "    initial_transients=ecm_start,\n",
    "    covariance_joint=np.diag([0.02, 0.0001, 0.01])  # Three variables: soc, hysteresis, r0\n",
    ")"
   ]
  },
  {
   "cell_type": "code",
   "execution_count": 12,
   "id": "100b779d-30ea-4bc3-bdfc-b198d5b2e0fc",
   "metadata": {},
   "outputs": [
    {
     "name": "stderr",
     "output_type": "stream",
     "text": [
      "100%|██████████████████████████████████████████████████████████████████████████████████████████████████████████████████████████████████████████████████████████████████████| 3701/3701 [00:04<00:00, 880.97it/s]"
     ]
    },
    {
     "name": "stdout",
     "output_type": "stream",
     "text": [
      "CPU times: total: 562 ms\n",
      "Wall time: 4.21 s\n"
     ]
    },
    {
     "name": "stderr",
     "output_type": "stream",
     "text": [
      "\n"
     ]
    }
   ],
   "source": [
    "%%time\n",
    "states, _ = run_online_estimate(dataset, ukf, pbar=True)"
   ]
  },
  {
   "cell_type": "code",
   "execution_count": 13,
   "id": "18ad9394-0b78-49dd-a406-98dea0e523c5",
   "metadata": {},
   "outputs": [
    {
     "data": {
      "text/html": [
       "<div>\n",
       "<style scoped>\n",
       "    .dataframe tbody tr th:only-of-type {\n",
       "        vertical-align: middle;\n",
       "    }\n",
       "\n",
       "    .dataframe tbody tr th {\n",
       "        vertical-align: top;\n",
       "    }\n",
       "\n",
       "    .dataframe thead th {\n",
       "        text-align: right;\n",
       "    }\n",
       "</style>\n",
       "<table border=\"1\" class=\"dataframe\">\n",
       "  <thead>\n",
       "    <tr style=\"text-align: right;\">\n",
       "      <th></th>\n",
       "      <th>soc</th>\n",
       "      <th>hyst</th>\n",
       "      <th>r0.base_values</th>\n",
       "      <th>soc_std</th>\n",
       "      <th>hyst_std</th>\n",
       "      <th>r0.base_values_std</th>\n",
       "      <th>terminal_voltage</th>\n",
       "      <th>terminal_voltage_std</th>\n",
       "    </tr>\n",
       "  </thead>\n",
       "  <tbody>\n",
       "    <tr>\n",
       "      <th>0</th>\n",
       "      <td>0.132890</td>\n",
       "      <td>0.000665</td>\n",
       "      <td>0.033555</td>\n",
       "      <td>0.006711</td>\n",
       "      <td>0.000100</td>\n",
       "      <td>0.006678</td>\n",
       "      <td>1.900000</td>\n",
       "      <td>3.010004e-02</td>\n",
       "    </tr>\n",
       "    <tr>\n",
       "      <th>1</th>\n",
       "      <td>0.132705</td>\n",
       "      <td>0.000887</td>\n",
       "      <td>0.033259</td>\n",
       "      <td>0.006711</td>\n",
       "      <td>0.000100</td>\n",
       "      <td>0.006678</td>\n",
       "      <td>2.099444</td>\n",
       "      <td>5.000000e-08</td>\n",
       "    </tr>\n",
       "    <tr>\n",
       "      <th>2</th>\n",
       "      <td>0.132519</td>\n",
       "      <td>0.001221</td>\n",
       "      <td>0.032907</td>\n",
       "      <td>0.006711</td>\n",
       "      <td>0.000100</td>\n",
       "      <td>0.006678</td>\n",
       "      <td>2.099778</td>\n",
       "      <td>4.800000e-08</td>\n",
       "    </tr>\n",
       "    <tr>\n",
       "      <th>3</th>\n",
       "      <td>0.132334</td>\n",
       "      <td>0.001583</td>\n",
       "      <td>0.032541</td>\n",
       "      <td>0.006711</td>\n",
       "      <td>0.000100</td>\n",
       "      <td>0.006678</td>\n",
       "      <td>2.100278</td>\n",
       "      <td>4.791667e-08</td>\n",
       "    </tr>\n",
       "    <tr>\n",
       "      <th>4</th>\n",
       "      <td>0.132149</td>\n",
       "      <td>0.001952</td>\n",
       "      <td>0.032171</td>\n",
       "      <td>0.006711</td>\n",
       "      <td>0.000100</td>\n",
       "      <td>0.006678</td>\n",
       "      <td>2.100821</td>\n",
       "      <td>4.791304e-08</td>\n",
       "    </tr>\n",
       "    <tr>\n",
       "      <th>...</th>\n",
       "      <td>...</td>\n",
       "      <td>...</td>\n",
       "      <td>...</td>\n",
       "      <td>...</td>\n",
       "      <td>...</td>\n",
       "      <td>...</td>\n",
       "      <td>...</td>\n",
       "      <td>...</td>\n",
       "    </tr>\n",
       "    <tr>\n",
       "      <th>3696</th>\n",
       "      <td>0.496879</td>\n",
       "      <td>0.170470</td>\n",
       "      <td>-0.764834</td>\n",
       "      <td>0.000122</td>\n",
       "      <td>0.000122</td>\n",
       "      <td>0.000012</td>\n",
       "      <td>1.903626</td>\n",
       "      <td>4.791288e-08</td>\n",
       "    </tr>\n",
       "    <tr>\n",
       "      <th>3697</th>\n",
       "      <td>0.497064</td>\n",
       "      <td>0.170100</td>\n",
       "      <td>-0.765204</td>\n",
       "      <td>0.000122</td>\n",
       "      <td>0.000122</td>\n",
       "      <td>0.000012</td>\n",
       "      <td>1.903071</td>\n",
       "      <td>4.791288e-08</td>\n",
       "    </tr>\n",
       "    <tr>\n",
       "      <th>3698</th>\n",
       "      <td>0.497249</td>\n",
       "      <td>0.169729</td>\n",
       "      <td>-0.765575</td>\n",
       "      <td>0.000122</td>\n",
       "      <td>0.000122</td>\n",
       "      <td>0.000012</td>\n",
       "      <td>1.902515</td>\n",
       "      <td>4.791288e-08</td>\n",
       "    </tr>\n",
       "    <tr>\n",
       "      <th>3699</th>\n",
       "      <td>0.497434</td>\n",
       "      <td>0.169359</td>\n",
       "      <td>-0.765945</td>\n",
       "      <td>0.000122</td>\n",
       "      <td>0.000122</td>\n",
       "      <td>0.000012</td>\n",
       "      <td>1.901960</td>\n",
       "      <td>4.791288e-08</td>\n",
       "    </tr>\n",
       "    <tr>\n",
       "      <th>3700</th>\n",
       "      <td>0.497620</td>\n",
       "      <td>0.168989</td>\n",
       "      <td>-0.766315</td>\n",
       "      <td>0.000122</td>\n",
       "      <td>0.000122</td>\n",
       "      <td>0.000012</td>\n",
       "      <td>1.901404</td>\n",
       "      <td>4.791288e-08</td>\n",
       "    </tr>\n",
       "  </tbody>\n",
       "</table>\n",
       "<p>3701 rows × 8 columns</p>\n",
       "</div>"
      ],
      "text/plain": [
       "           soc      hyst  r0.base_values   soc_std  hyst_std  \\\n",
       "0     0.132890  0.000665        0.033555  0.006711  0.000100   \n",
       "1     0.132705  0.000887        0.033259  0.006711  0.000100   \n",
       "2     0.132519  0.001221        0.032907  0.006711  0.000100   \n",
       "3     0.132334  0.001583        0.032541  0.006711  0.000100   \n",
       "4     0.132149  0.001952        0.032171  0.006711  0.000100   \n",
       "...        ...       ...             ...       ...       ...   \n",
       "3696  0.496879  0.170470       -0.764834  0.000122  0.000122   \n",
       "3697  0.497064  0.170100       -0.765204  0.000122  0.000122   \n",
       "3698  0.497249  0.169729       -0.765575  0.000122  0.000122   \n",
       "3699  0.497434  0.169359       -0.765945  0.000122  0.000122   \n",
       "3700  0.497620  0.168989       -0.766315  0.000122  0.000122   \n",
       "\n",
       "      r0.base_values_std  terminal_voltage  terminal_voltage_std  \n",
       "0               0.006678          1.900000          3.010004e-02  \n",
       "1               0.006678          2.099444          5.000000e-08  \n",
       "2               0.006678          2.099778          4.800000e-08  \n",
       "3               0.006678          2.100278          4.791667e-08  \n",
       "4               0.006678          2.100821          4.791304e-08  \n",
       "...                  ...               ...                   ...  \n",
       "3696            0.000012          1.903626          4.791288e-08  \n",
       "3697            0.000012          1.903071          4.791288e-08  \n",
       "3698            0.000012          1.902515          4.791288e-08  \n",
       "3699            0.000012          1.901960          4.791288e-08  \n",
       "3700            0.000012          1.901404          4.791288e-08  \n",
       "\n",
       "[3701 rows x 8 columns]"
      ]
     },
     "execution_count": 13,
     "metadata": {},
     "output_type": "execute_result"
    }
   ],
   "source": [
    "states"
   ]
  },
  {
   "cell_type": "markdown",
   "id": "ea998a0b-0e9e-40a3-bd19-ea44389dabd3",
   "metadata": {},
   "source": [
    "The states are not large in this example, but you can imagine that estimating models with many parameters over long periods will gradually outstrip available memory."
   ]
  },
  {
   "cell_type": "markdown",
   "id": "a53f7f6a-e27a-47fc-9d7c-b8ef9c4b9891",
   "metadata": {},
   "source": [
    "## Run Estimate and Stream Results to Disk\n",
    "Stream results to disk by, at least, supplying the Path to an output HDF5 file. Turn off storing the states in memory too by setting `output_states=False`"
   ]
  },
  {
   "cell_type": "code",
   "execution_count": 14,
   "id": "f4d8db13-c610-4df0-9781-77ddbf5d6546",
   "metadata": {},
   "outputs": [],
   "source": [
    "output_file = Path('data') / 'interface-demo.hdf5'\n",
    "output_file.unlink(missing_ok=True)"
   ]
  },
  {
   "cell_type": "code",
   "execution_count": 15,
   "id": "22f2f100-f21e-4915-9a57-a4901c978b19",
   "metadata": {},
   "outputs": [
    {
     "name": "stderr",
     "output_type": "stream",
     "text": [
      "100%|██████████████████████████████████████████████████████████████████████████████████████████████████████████████████████████████████████████████████████████████████████| 3701/3701 [00:08<00:00, 429.71it/s]"
     ]
    },
    {
     "name": "stdout",
     "output_type": "stream",
     "text": [
      "CPU times: total: 1.78 s\n",
      "Wall time: 8.63 s\n"
     ]
    },
    {
     "name": "stderr",
     "output_type": "stream",
     "text": [
      "\n"
     ]
    }
   ],
   "source": [
    "%%time\n",
    "ukf = JointEstimator.initialize_unscented_kalman_filter(\n",
    "    cell_model=ECM(),\n",
    "    initial_asoh=asoh,\n",
    "    initial_inputs=ECMInput(time=0., current=0, temperature=25),\n",
    "    initial_transients=ecm_start,\n",
    "    covariance_joint=np.diag([0.02, 0.0001, 0.01])  # Three variables: soc, hysteresis, r0\n",
    ")\n",
    "states, _ = run_online_estimate(dataset, ukf, hdf5_output=output_file, output_states=False, pbar=True)\n",
    "assert states is None  # Look, we skipped output it"
   ]
  },
  {
   "cell_type": "markdown",
   "id": "e01b460c-6488-4fec-8598-e5b42181ae10",
   "metadata": {},
   "source": [
    "This file contains a summary of the estimates produced from the state estimator in a group named \"state_estimates\" (by default)."
   ]
  },
  {
   "cell_type": "code",
   "execution_count": 16,
   "id": "454fb7d1-10b6-4b52-8989-dd983287a5b4",
   "metadata": {},
   "outputs": [
    {
     "data": {
      "text/plain": [
       "<HDF5 group \"/state_estimates\" (2 members)>"
      ]
     },
     "execution_count": 16,
     "metadata": {},
     "output_type": "execute_result"
    }
   ],
   "source": [
    "file = h5py.File(output_file)\n",
    "group = file['state_estimates']\n",
    "group"
   ]
  },
  {
   "cell_type": "markdown",
   "id": "c05a9fd6-3eda-4cd9-bea6-1c8d6585559f",
   "metadata": {},
   "source": [
    "That group contains metadata about how the estimates were produced"
   ]
  },
  {
   "cell_type": "code",
   "execution_count": 17,
   "id": "9b2e773b-fa5c-4216-9b26-52383d8728c4",
   "metadata": {},
   "outputs": [
    {
     "name": "stdout",
     "output_type": "stream",
     "text": [
      "cell_model: \"EquivalentCircuitModel\"\n",
      "distribution_type: \"MultivariateGaussian\"\n",
      "estimator_name: \"JointEstimator\"\n",
      "initial_asoh: \"{\"updatable\":[\"r0\"],\"q_t\":{\"upda...\"\n",
      "initial_transient_state: \"{\"soc\":[[0.0]],\"q0\":null,\"i_rc\":...\"\n",
      "output_names: \"['terminal_voltage']\"\n",
      "state_names: \"['soc' 'hyst' 'r0.base_values']\"\n",
      "write_settings: \"{\"file_options\":{\"rdcc_nbytes\":1...\"\n"
     ]
    }
   ],
   "source": [
    "for k, v in group.attrs.items():\n",
    "    print(f'{k}: \"{v[:32]}{\"...\" if len(v) > 32 else \"\"}\"')"
   ]
  },
  {
   "cell_type": "markdown",
   "id": "d1eff186-4607-4172-9d4b-8ac8b0422b18",
   "metadata": {},
   "source": [
    "And the estimates themselves for both every step"
   ]
  },
  {
   "cell_type": "code",
   "execution_count": 18,
   "id": "502c6ed7-70d3-4c6a-b6df-b09ca6f29fee",
   "metadata": {},
   "outputs": [
    {
     "name": "stdout",
     "output_type": "stream",
     "text": [
      "<HDF5 group \"/state_estimates/per_cycle\" (5 members)>\n",
      "  output_covariance: (1, 1, 1)\n",
      "  output_mean: (1, 1)\n",
      "  state_covariance: (1, 3, 3)\n",
      "  state_mean: (1, 3)\n",
      "  time: (1,)\n",
      "<HDF5 group \"/state_estimates/per_timestep\" (3 members)>\n",
      "  output_mean: (3701, 1)\n",
      "  state_mean: (3701, 3)\n",
      "  time: (3701,)\n"
     ]
    }
   ],
   "source": [
    "for g in ['per_cycle', 'per_timestep']:\n",
    "    print(group[g])\n",
    "    for k, v in group[g].items():\n",
    "        print(f'  {k}: {v.shape}')"
   ]
  },
  {
   "cell_type": "code",
   "execution_count": 19,
   "id": "f6420742-79b7-45e5-9b13-40f6cd2970b7",
   "metadata": {},
   "outputs": [],
   "source": [
    "file.close()"
   ]
  },
  {
   "cell_type": "markdown",
   "id": "34eccfd0-eb8c-4f11-92cb-3fd0b04418e8",
   "metadata": {},
   "source": [
    "The default is to store the full probability distribution for the first step of each cycle and only the means at each step.\n",
    "\n",
    "The `read_state_estimates` reads these probability distributions as Moirae's probability distribution objects"
   ]
  },
  {
   "cell_type": "code",
   "execution_count": 20,
   "id": "2e5aa559-0750-45eb-ad96-1242ecd2a4c0",
   "metadata": {},
   "outputs": [],
   "source": [
    "from moirae.interface.hdf5 import read_state_estimates"
   ]
  },
  {
   "cell_type": "code",
   "execution_count": 21,
   "id": "5c04b4b0-cec1-43da-b4ad-63055d3477a8",
   "metadata": {},
   "outputs": [
    {
     "data": {
      "text/plain": [
       "(0.0,\n",
       " DeltaDistribution(mean=array([0.13289026, 0.00066452, 0.03355484])),\n",
       " DeltaDistribution(mean=array([1.9])))"
      ]
     },
     "execution_count": 21,
     "metadata": {},
     "output_type": "execute_result"
    }
   ],
   "source": [
    "next(read_state_estimates(output_file, per_timestep=True))"
   ]
  },
  {
   "cell_type": "code",
   "execution_count": 22,
   "id": "e8e6afef-a95e-413c-bac9-3d5cd797da05",
   "metadata": {},
   "outputs": [
    {
     "data": {
      "text/plain": [
       "(0.0,\n",
       " MultivariateGaussian(mean=array([0.13289026, 0.00066452, 0.03355484]), covariance=array([[ 6.71097783e-03, -6.64517722e-05,  6.64451941e-03],\n",
       "        [-6.64517722e-05,  9.96777081e-05,  3.32259027e-05],\n",
       "        [ 6.64451941e-03,  3.32259027e-05,  6.67774863e-03]])),\n",
       " MultivariateGaussian(mean=array([1.9]), covariance=array([[0.03010004]])))"
      ]
     },
     "execution_count": 22,
     "metadata": {},
     "output_type": "execute_result"
    }
   ],
   "source": [
    "next(read_state_estimates(output_file, per_timestep=False))"
   ]
  },
  {
   "cell_type": "markdown",
   "id": "8715e2ec-1bdd-4b76-b6b9-bdb5ea695190",
   "metadata": {},
   "source": [
    "The function returns an iterator which reads data from the file into memory only as needed.\n",
    "Access data incrementally with `next` or with a for loop"
   ]
  },
  {
   "cell_type": "code",
   "execution_count": 23,
   "id": "37061cfa-4381-4886-a9ab-2d218896cde4",
   "metadata": {},
   "outputs": [
    {
     "name": "stdout",
     "output_type": "stream",
     "text": [
      "CPU times: total: 78.1 ms\n",
      "Wall time: 497 ms\n"
     ]
    }
   ],
   "source": [
    "%%time\n",
    "for time, state_dist, output_dist in read_state_estimates(output_file, per_timestep=True):\n",
    "    pass"
   ]
  },
  {
   "cell_type": "markdown",
   "id": "d2f4b433-9dfe-4520-beb0-f9e18d5903d4",
   "metadata": {},
   "source": [
    "## Controlling the Outputs\n",
    "Supplying a path to the `run_online_estimate` function writes an HDF file with the above-described defaults and reasonable settings for how the HDF5 file is written (small I/O caches, moderate compression).\n",
    "Change how the estimates are written by supplying a `HDF5Writer` class"
   ]
  },
  {
   "cell_type": "code",
   "execution_count": 24,
   "id": "3d92ca02-2ea7-4da4-a485-03fe57c95992",
   "metadata": {},
   "outputs": [],
   "source": [
    "from moirae.interface.hdf5 import HDF5Writer"
   ]
  },
  {
   "cell_type": "code",
   "execution_count": 25,
   "id": "013f57a4-8b2f-4b97-aa4c-51f1b43bfc62",
   "metadata": {},
   "outputs": [],
   "source": [
    "output_file.unlink(missing_ok=True)\n",
    "writer = HDF5Writer(\n",
    "    hdf5_output=output_file,\n",
    "    per_cycle='none',\n",
    "    per_timestep='mean_var',\n",
    "    dataset_options={'compression': None},\n",
    ")"
   ]
  },
  {
   "cell_type": "code",
   "execution_count": 26,
   "id": "e7886ae7-ce5c-43ba-9238-43705889fc21",
   "metadata": {},
   "outputs": [
    {
     "name": "stderr",
     "output_type": "stream",
     "text": [
      "100%|██████████████████████████████████████████████████████████████████████████████████████████████████████████████████████████████████████████████████████████████████████| 3701/3701 [00:07<00:00, 484.60it/s]"
     ]
    },
    {
     "name": "stdout",
     "output_type": "stream",
     "text": [
      "CPU times: total: 1.84 s\n",
      "Wall time: 7.65 s\n"
     ]
    },
    {
     "name": "stderr",
     "output_type": "stream",
     "text": [
      "\n"
     ]
    }
   ],
   "source": [
    "%%time\n",
    "ukf = JointEstimator.initialize_unscented_kalman_filter(\n",
    "    cell_model=ECM(),\n",
    "    initial_asoh=asoh,\n",
    "    initial_inputs=ECMInput(time=0., current=0, temperature=25),\n",
    "    initial_transients=ecm_start,\n",
    "    covariance_joint=np.diag([0.02, 0.0001, 0.01])  # Three variables: soc, hysteresis, r0\n",
    ")\n",
    "run_online_estimate(dataset, ukf, hdf5_output=writer, output_states=False, pbar=True);"
   ]
  },
  {
   "cell_type": "markdown",
   "id": "18182118-6842-4159-a1b5-9e6ae4de5beb",
   "metadata": {},
   "source": [
    "Note how the process is slightly faster and produces a data file with different content"
   ]
  },
  {
   "cell_type": "code",
   "execution_count": 27,
   "id": "c2ddc374-a169-47e4-8a4b-76c6e2e10788",
   "metadata": {},
   "outputs": [
    {
     "name": "stdout",
     "output_type": "stream",
     "text": [
      "<HDF5 group \"/state_estimates/per_cycle\" (0 members)>\n",
      "<HDF5 group \"/state_estimates/per_timestep\" (5 members)>\n",
      "  output_mean: (3701, 1)\n",
      "  output_variance: (3701, 1)\n",
      "  state_mean: (3701, 3)\n",
      "  state_variance: (3701, 3)\n",
      "  time: (3701,)\n"
     ]
    }
   ],
   "source": [
    "with h5py.File(output_file, mode='a') as file:\n",
    "    group = file['state_estimates']\n",
    "    for g in ['per_cycle', 'per_timestep']:\n",
    "        sg = group.require_group(g)\n",
    "        print(sg)\n",
    "        for k, v in sg.items():\n",
    "            print(f'  {k}: {v.shape}')"
   ]
  },
  {
   "cell_type": "markdown",
   "id": "53f23c16-5da8-4de1-85ce-5741a248536e",
   "metadata": {},
   "source": [
    "Consult the documentation for [`HDF5Writer`](https://rovi-org.github.io/auto-soh/source/interface.html#moirae.interface.hdf5.HDF5Writer) for a full description of options."
   ]
  },
  {
   "cell_type": "code",
   "execution_count": null,
   "id": "e33d0c9a-7c7f-4c89-a335-cd23022229dc",
   "metadata": {},
   "outputs": [],
   "source": []
  }
 ],
 "metadata": {
  "kernelspec": {
   "display_name": "Python 3 (ipykernel)",
   "language": "python",
   "name": "python3"
  },
  "language_info": {
   "codemirror_mode": {
    "name": "ipython",
    "version": 3
   },
   "file_extension": ".py",
   "mimetype": "text/x-python",
   "name": "python",
   "nbconvert_exporter": "python",
   "pygments_lexer": "ipython3",
   "version": "3.9.19"
  }
 },
 "nbformat": 4,
 "nbformat_minor": 5
}

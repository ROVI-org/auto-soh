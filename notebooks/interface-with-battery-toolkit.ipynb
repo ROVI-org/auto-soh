{
 "cells": [
  {
   "cell_type": "markdown",
   "id": "1a4c6405-3c35-4919-a2e3-a857b4630b8b",
   "metadata": {},
   "source": [
    "# Demonstrate Interface with Battery Toolkit\n",
    "Moirae provides utility operations for estimating the state of health given battery data stored in HDF5 files with the [Battery Data Toolkit[(https://github.com/ROVI-org/battery-data-toolkit) and \n",
    "storing the results back into an HDF5 file for convenient organization."
   ]
  },
  {
   "cell_type": "code",
   "execution_count": 1,
   "id": "370d0763-589f-43b2-a133-99bcd0406433",
   "metadata": {},
   "outputs": [],
   "source": [
    "%matplotlib inline\n",
    "from matplotlib import pyplot as plt\n",
    "from moirae.estimators.online.joint import JointEstimator\n",
    "from moirae.models.components.soc import SOCInterpolatedHealth\n",
    "from moirae.models.ecm import EquivalentCircuitModel as ECM\n",
    "from moirae.models.ecm.components import Resistance, OpenCircuitVoltage, MaxTheoreticalCapacity\n",
    "from moirae.models.ecm import ECMASOH, ECMTransientVector, ECMInput\n",
    "from moirae.interface import run_online_estimate\n",
    "from battdat.data import BatteryDataset\n",
    "from shutil import copyfileobj\n",
    "from pathlib import Path\n",
    "from tables import File\n",
    "import numpy as np\n",
    "import requests"
   ]
  },
  {
   "cell_type": "markdown",
   "id": "7f2f15e2-fc5e-4619-89be-5239b3b851d0",
   "metadata": {},
   "source": [
    "Configuration"
   ]
  },
  {
   "cell_type": "code",
   "execution_count": 2,
   "id": "a05e7ebd-c5bc-40b0-84b7-77e83fbdabd7",
   "metadata": {},
   "outputs": [],
   "source": [
    "data_url = 'https://github.com/ROVI-org/battery-data-toolkit/raw/refs/heads/main/tests/files/example-data/single-resistor-complex-charge_from-discharged.hdf'\n",
    "data_dir = Path('data')"
   ]
  },
  {
   "cell_type": "code",
   "execution_count": 3,
   "id": "f7c31634-2789-464c-a4ff-2a27f274899d",
   "metadata": {},
   "outputs": [],
   "source": [
    "data_dir.mkdir(exist_ok=True)"
   ]
  },
  {
   "cell_type": "markdown",
   "id": "f98fba0d-cc8a-4288-aafe-a53acb287adc",
   "metadata": {},
   "source": [
    "## Download and Parse the Data\n",
    "Download the data using HTTP and store locally"
   ]
  },
  {
   "cell_type": "code",
   "execution_count": 4,
   "id": "a364f83e-146d-42ce-bad9-9d3a154af168",
   "metadata": {},
   "outputs": [
    {
     "name": "stdout",
     "output_type": "stream",
     "text": [
      "Saving data to data/single-resistor-complex-charge_from-discharged.hdf\n"
     ]
    }
   ],
   "source": [
    "data_path = data_dir / data_url.split(\"/\")[-1]\n",
    "print(f'Saving data to {data_path}')"
   ]
  },
  {
   "cell_type": "markdown",
   "id": "1b1ed8ed-51fc-4c02-af0c-15a43bb13024",
   "metadata": {},
   "source": [
    "Download if not present"
   ]
  },
  {
   "cell_type": "code",
   "execution_count": 5,
   "id": "ba583578-20d6-43c5-881d-4d9222ff47c2",
   "metadata": {},
   "outputs": [],
   "source": [
    "if not data_path.exists():\n",
    "    with data_path.open('wb') as fp:\n",
    "        copyfileobj(requests.get(data_url, stream=True).raw, fp)"
   ]
  },
  {
   "cell_type": "code",
   "execution_count": 6,
   "id": "661c3da3-164b-42e5-9832-b7b51cd8ef30",
   "metadata": {},
   "outputs": [],
   "source": [
    "dataset = BatteryDataset.from_hdf(data_path)"
   ]
  },
  {
   "cell_type": "code",
   "execution_count": 7,
   "id": "730aa61c-c68b-48db-866b-6be53881ca8c",
   "metadata": {},
   "outputs": [
    {
     "data": {
      "text/plain": [
       "{'version': '0.4.0',\n",
       " 'cycler': None,\n",
       " 'start_date': None,\n",
       " 'set_temperature': None,\n",
       " 'schedule': None}"
      ]
     },
     "execution_count": 7,
     "metadata": {},
     "output_type": "execute_result"
    }
   ],
   "source": [
    "dataset.metadata.model_dump(exclude_defaults=True)"
   ]
  },
  {
   "cell_type": "markdown",
   "id": "34bed34e-cb07-43a1-9bb2-f5db2e69b50b",
   "metadata": {},
   "source": [
    "This dataset contains a single cycle of battery data made using a simple battery model."
   ]
  },
  {
   "cell_type": "code",
   "execution_count": 8,
   "id": "b45e8e3e-2b21-4db8-a6e3-22d00ced2d3b",
   "metadata": {},
   "outputs": [
    {
     "data": {
      "image/png": "[encoded data removed]",
      "text/plain": [
       "<Figure size 350x210 with 1 Axes>"
      ]
     },
     "metadata": {},
     "output_type": "display_data"
    }
   ],
   "source": [
    "fig, ax = plt.subplots(figsize=(3.5, 2.1))\n",
    "\n",
    "raw_data = dataset.tables['raw_data']\n",
    "ax.plot(raw_data['test_time'] / 3600, raw_data['voltage'])\n",
    "\n",
    "ax.set_xlabel('Test Time (hr)')\n",
    "ax.set_ylabel('V')\n",
    "fig.tight_layout()"
   ]
  },
  {
   "cell_type": "markdown",
   "id": "39f86c77-6d62-407f-b348-0c1e9e5ac203",
   "metadata": {},
   "source": [
    "## Create a ECM Model\n",
    "Our goal isn't to demonstrate the effectiveness of state estimation, so I'm going to build a model using [the known parameters](https://github.com/ROVI-org/battery-data-toolkit/blob/main/tests/files/example-data/resistor-only_complex-cycling.ipynb)."
   ]
  },
  {
   "cell_type": "code",
   "execution_count": 9,
   "id": "763cd01c-8fda-440e-865a-62723945ac8a",
   "metadata": {},
   "outputs": [],
   "source": [
    "asoh = ECMASOH(\n",
    "    q_t=MaxTheoreticalCapacity(base_values=1.),\n",
    "    r0=Resistance(base_values=0.1),\n",
    "    ocv=OpenCircuitVoltage(\n",
    "        ocv_ref=SOCInterpolatedHealth(base_values=[2., 3.]),\n",
    "        ocv_ent={'base_values': 0}\n",
    "    )\n",
    ")\n",
    "asoh.mark_updatable('r0.base_values')"
   ]
  },
  {
   "cell_type": "code",
   "execution_count": 10,
   "id": "1a5c36b0-88a1-4648-bf64-a18e35eb190a",
   "metadata": {},
   "outputs": [],
   "source": [
    "ecm_start = ECMTransientVector(soc=0., hyst=0.)"
   ]
  },
  {
   "cell_type": "markdown",
   "id": "194756ff-9eba-440a-9277-ff98d83e1887",
   "metadata": {},
   "source": [
    "## Run Estimation Using Historical Data\n",
    "The [`run_online_estimation`](https://rovi-org.github.io/auto-soh/source/interface.html#moirae.interface.run_online_estimate) performs online state estimation using\n",
    "all data available in a battery dataset.\n",
    "By default, it returns the states estimated at each step in memory."
   ]
  },
  {
   "cell_type": "code",
   "execution_count": 11,
   "id": "19d09aed-b4d9-4637-a792-62c2d080cf70",
   "metadata": {},
   "outputs": [],
   "source": [
    "ukf = JointEstimator.initialize_unscented_kalman_filter(\n",
    "    cell_model=ECM(),\n",
    "    initial_asoh=asoh,\n",
    "    initial_inputs=ECMInput(time=0., current=-1., temperature=25),\n",
    "    initial_transients=ecm_start,\n",
    "    covariance_joint=np.diag([0.02, 0.0001, 0.01])  # Three variables: soc, hysteresis, r0\n",
    ")"
   ]
  },
  {
   "cell_type": "code",
   "execution_count": 12,
   "id": "100b779d-30ea-4bc3-bdfc-b198d5b2e0fc",
   "metadata": {},
   "outputs": [
    {
     "name": "stderr",
     "output_type": "stream",
     "text": [
      "100%|██████████████████████████████████████████████████████████████████████████████████████████████████████████████████████████████████████████████████████████████████████████████████████████████████████████████████▉| 3700/3701 [00:03<00:00, 1232.07it/s]"
     ]
    },
    {
     "name": "stdout",
     "output_type": "stream",
     "text": [
      "CPU times: user 3.01 s, sys: 8.31 ms, total: 3.02 s\n",
      "Wall time: 3.01 s\n"
     ]
    },
    {
     "name": "stderr",
     "output_type": "stream",
     "text": [
      "\n"
     ]
    }
   ],
   "source": [
    "%%time\n",
    "states, _ = run_online_estimate(dataset, ukf, pbar=True)"
   ]
  },
  {
   "cell_type": "code",
   "execution_count": 13,
   "id": "18ad9394-0b78-49dd-a406-98dea0e523c5",
   "metadata": {},
   "outputs": [
    {
     "data": {
      "text/html": [
       "<div>\n",
       "<style scoped>\n",
       "    .dataframe tbody tr th:only-of-type {\n",
       "        vertical-align: middle;\n",
       "    }\n",
       "\n",
       "    .dataframe tbody tr th {\n",
       "        vertical-align: top;\n",
       "    }\n",
       "\n",
       "    .dataframe thead th {\n",
       "        text-align: right;\n",
       "    }\n",
       "</style>\n",
       "<table border=\"1\" class=\"dataframe\">\n",
       "  <thead>\n",
       "    <tr style=\"text-align: right;\">\n",
       "      <th></th>\n",
       "      <th>soc</th>\n",
       "      <th>hyst</th>\n",
       "      <th>r0.base_values</th>\n",
       "      <th>soc_std</th>\n",
       "      <th>hyst_std</th>\n",
       "      <th>r0.base_values_std</th>\n",
       "      <th>terminal_voltage</th>\n",
       "      <th>terminal_voltage_std</th>\n",
       "    </tr>\n",
       "  </thead>\n",
       "  <tbody>\n",
       "    <tr>\n",
       "      <th>0</th>\n",
       "      <td>0.000183</td>\n",
       "      <td>3.492905e-06</td>\n",
       "      <td>0.100369</td>\n",
       "      <td>0.006709</td>\n",
       "      <td>9.430854e-05</td>\n",
       "      <td>0.006677</td>\n",
       "      <td>2.099444</td>\n",
       "      <td>3.009464e-02</td>\n",
       "    </tr>\n",
       "    <tr>\n",
       "      <th>1</th>\n",
       "      <td>0.000740</td>\n",
       "      <td>1.406633e-06</td>\n",
       "      <td>0.100370</td>\n",
       "      <td>0.006684</td>\n",
       "      <td>3.735745e-05</td>\n",
       "      <td>0.006671</td>\n",
       "      <td>2.101111</td>\n",
       "      <td>1.207782e-07</td>\n",
       "    </tr>\n",
       "    <tr>\n",
       "      <th>2</th>\n",
       "      <td>0.001296</td>\n",
       "      <td>7.450494e-07</td>\n",
       "      <td>0.100370</td>\n",
       "      <td>0.006676</td>\n",
       "      <td>1.944116e-05</td>\n",
       "      <td>0.006669</td>\n",
       "      <td>2.101667</td>\n",
       "      <td>8.856340e-08</td>\n",
       "    </tr>\n",
       "    <tr>\n",
       "      <th>3</th>\n",
       "      <td>0.001852</td>\n",
       "      <td>4.932921e-07</td>\n",
       "      <td>0.100370</td>\n",
       "      <td>0.006673</td>\n",
       "      <td>1.264526e-05</td>\n",
       "      <td>0.006668</td>\n",
       "      <td>2.102222</td>\n",
       "      <td>7.080491e-08</td>\n",
       "    </tr>\n",
       "    <tr>\n",
       "      <th>4</th>\n",
       "      <td>0.002407</td>\n",
       "      <td>3.670198e-07</td>\n",
       "      <td>0.100370</td>\n",
       "      <td>0.006671</td>\n",
       "      <td>9.243946e-06</td>\n",
       "      <td>0.006668</td>\n",
       "      <td>2.102778</td>\n",
       "      <td>6.301795e-08</td>\n",
       "    </tr>\n",
       "    <tr>\n",
       "      <th>...</th>\n",
       "      <td>...</td>\n",
       "      <td>...</td>\n",
       "      <td>...</td>\n",
       "      <td>...</td>\n",
       "      <td>...</td>\n",
       "      <td>...</td>\n",
       "      <td>...</td>\n",
       "      <td>...</td>\n",
       "    </tr>\n",
       "    <tr>\n",
       "      <th>3695</th>\n",
       "      <td>0.002778</td>\n",
       "      <td>1.997390e-16</td>\n",
       "      <td>0.100556</td>\n",
       "      <td>0.000009</td>\n",
       "      <td>1.662001e-07</td>\n",
       "      <td>0.000009</td>\n",
       "      <td>1.902222</td>\n",
       "      <td>4.795981e-08</td>\n",
       "    </tr>\n",
       "    <tr>\n",
       "      <th>3696</th>\n",
       "      <td>0.002222</td>\n",
       "      <td>2.266263e-16</td>\n",
       "      <td>0.100556</td>\n",
       "      <td>0.000009</td>\n",
       "      <td>1.662001e-07</td>\n",
       "      <td>0.000009</td>\n",
       "      <td>1.901667</td>\n",
       "      <td>4.795981e-08</td>\n",
       "    </tr>\n",
       "    <tr>\n",
       "      <th>3697</th>\n",
       "      <td>0.001667</td>\n",
       "      <td>1.880769e-16</td>\n",
       "      <td>0.100556</td>\n",
       "      <td>0.000009</td>\n",
       "      <td>1.662001e-07</td>\n",
       "      <td>0.000009</td>\n",
       "      <td>1.901111</td>\n",
       "      <td>4.795981e-08</td>\n",
       "    </tr>\n",
       "    <tr>\n",
       "      <th>3698</th>\n",
       "      <td>0.001111</td>\n",
       "      <td>2.152481e-16</td>\n",
       "      <td>0.100556</td>\n",
       "      <td>0.000009</td>\n",
       "      <td>1.662001e-07</td>\n",
       "      <td>0.000009</td>\n",
       "      <td>1.900556</td>\n",
       "      <td>4.795981e-08</td>\n",
       "    </tr>\n",
       "    <tr>\n",
       "      <th>3699</th>\n",
       "      <td>0.000556</td>\n",
       "      <td>2.093563e-16</td>\n",
       "      <td>0.100556</td>\n",
       "      <td>0.000009</td>\n",
       "      <td>1.662001e-07</td>\n",
       "      <td>0.000009</td>\n",
       "      <td>1.900000</td>\n",
       "      <td>4.795981e-08</td>\n",
       "    </tr>\n",
       "  </tbody>\n",
       "</table>\n",
       "<p>3700 rows × 8 columns</p>\n",
       "</div>"
      ],
      "text/plain": [
       "           soc          hyst  r0.base_values   soc_std      hyst_std  \\\n",
       "0     0.000183  3.492905e-06        0.100369  0.006709  9.430854e-05   \n",
       "1     0.000740  1.406633e-06        0.100370  0.006684  3.735745e-05   \n",
       "2     0.001296  7.450494e-07        0.100370  0.006676  1.944116e-05   \n",
       "3     0.001852  4.932921e-07        0.100370  0.006673  1.264526e-05   \n",
       "4     0.002407  3.670198e-07        0.100370  0.006671  9.243946e-06   \n",
       "...        ...           ...             ...       ...           ...   \n",
       "3695  0.002778  1.997390e-16        0.100556  0.000009  1.662001e-07   \n",
       "3696  0.002222  2.266263e-16        0.100556  0.000009  1.662001e-07   \n",
       "3697  0.001667  1.880769e-16        0.100556  0.000009  1.662001e-07   \n",
       "3698  0.001111  2.152481e-16        0.100556  0.000009  1.662001e-07   \n",
       "3699  0.000556  2.093563e-16        0.100556  0.000009  1.662001e-07   \n",
       "\n",
       "      r0.base_values_std  terminal_voltage  terminal_voltage_std  \n",
       "0               0.006677          2.099444          3.009464e-02  \n",
       "1               0.006671          2.101111          1.207782e-07  \n",
       "2               0.006669          2.101667          8.856340e-08  \n",
       "3               0.006668          2.102222          7.080491e-08  \n",
       "4               0.006668          2.102778          6.301795e-08  \n",
       "...                  ...               ...                   ...  \n",
       "3695            0.000009          1.902222          4.795981e-08  \n",
       "3696            0.000009          1.901667          4.795981e-08  \n",
       "3697            0.000009          1.901111          4.795981e-08  \n",
       "3698            0.000009          1.900556          4.795981e-08  \n",
       "3699            0.000009          1.900000          4.795981e-08  \n",
       "\n",
       "[3700 rows x 8 columns]"
      ]
     },
     "execution_count": 13,
     "metadata": {},
     "output_type": "execute_result"
    }
   ],
   "source": [
    "states"
   ]
  },
  {
   "cell_type": "markdown",
   "id": "ea998a0b-0e9e-40a3-bd19-ea44389dabd3",
   "metadata": {},
   "source": [
    "The states are not large in this example, but you can imagine that estimating models with many parameters over long periods will gradually outstrip available memory."
   ]
  },
  {
   "cell_type": "markdown",
   "id": "a53f7f6a-e27a-47fc-9d7c-b8ef9c4b9891",
   "metadata": {},
   "source": [
    "## Run Estimate and Stream Results to Disk\n",
    "Stream results to disk by, at least, supplying the Path to an output HDF5 file. Turn off storing the states in memory too by setting `output_states=False`"
   ]
  },
  {
   "cell_type": "code",
   "execution_count": 14,
   "id": "f4d8db13-c610-4df0-9781-77ddbf5d6546",
   "metadata": {},
   "outputs": [],
   "source": [
    "output_file = Path('data') / 'interface-demo.hdf5'\n",
    "output_file.unlink(missing_ok=True)"
   ]
  },
  {
   "cell_type": "code",
   "execution_count": 15,
   "id": "22f2f100-f21e-4915-9a57-a4901c978b19",
   "metadata": {},
   "outputs": [
    {
     "name": "stderr",
     "output_type": "stream",
     "text": [
      "100%|██████████████████████████████████████████████████████████████████████████████████████████████████████████████████████████████████████████████████████████████████████████████████████████████████████████████████▉| 3700/3701 [00:03<00:00, 1110.00it/s]"
     ]
    },
    {
     "name": "stdout",
     "output_type": "stream",
     "text": [
      "CPU times: user 3.34 s, sys: 8.09 ms, total: 3.35 s\n",
      "Wall time: 3.34 s\n"
     ]
    },
    {
     "name": "stderr",
     "output_type": "stream",
     "text": [
      "\n"
     ]
    }
   ],
   "source": [
    "%%time\n",
    "ukf = JointEstimator.initialize_unscented_kalman_filter(\n",
    "    cell_model=ECM(),\n",
    "    initial_asoh=asoh,\n",
    "    initial_inputs=ECMInput(time=0., current=0, temperature=25),\n",
    "    initial_transients=ecm_start,\n",
    "    covariance_joint=np.diag([0.02, 0.0001, 0.01])  # Three variables: soc, hysteresis, r0\n",
    ")\n",
    "states, _ = run_online_estimate(dataset, ukf, hdf5_output=output_file, output_states=False, pbar=True)\n",
    "assert states is None  # Look, we skipped output it"
   ]
  },
  {
   "cell_type": "markdown",
   "id": "e01b460c-6488-4fec-8598-e5b42181ae10",
   "metadata": {},
   "source": [
    "This file contains a summary of the estimates produced from the state estimator in a group named \"state_estimates\" (by default)."
   ]
  },
  {
   "cell_type": "code",
   "execution_count": 16,
   "id": "454fb7d1-10b6-4b52-8989-dd983287a5b4",
   "metadata": {},
   "outputs": [
    {
     "data": {
      "text/plain": [
       "/state_estimates (Group) ''\n",
       "  children := ['per_cycle' (Table), 'per_timestep' (Table)]"
      ]
     },
     "execution_count": 16,
     "metadata": {},
     "output_type": "execute_result"
    }
   ],
   "source": [
    "file = File(output_file)\n",
    "group = file.root['state_estimates']\n",
    "group"
   ]
  },
  {
   "cell_type": "markdown",
   "id": "c05a9fd6-3eda-4cd9-bea6-1c8d6585559f",
   "metadata": {},
   "source": [
    "That group contains metadata about how the estimates were produced"
   ]
  },
  {
   "cell_type": "code",
   "execution_count": 17,
   "id": "fa0f1cfd-0fdd-4cf1-b711-6b18082d13b6",
   "metadata": {},
   "outputs": [
    {
     "data": {
      "text/plain": [
       "/state_estimates._v_attrs (AttributeSet), 11 attributes:\n",
       "   [CLASS := 'GROUP',\n",
       "    TITLE := '',\n",
       "    VERSION := '1.0',\n",
       "    cell_model := 'EquivalentCircuitModel',\n",
       "    distribution_type := 'MultivariateGaussian',\n",
       "    estimator_name := 'JointEstimator',\n",
       "    initial_asoh := '{\"updatable\":[\"r0\"],\"q_t\":{\"updatable\":[],\"base_values\":[[1.0]]},\"ce\":[[1.0]],\"ocv\":{\"updatable\":[],\"ocv_ref\":{\"updatable\":[],\"base_values\":[[2.0,3.0]],\"soc_pinpoints\":[0.0,1.0],\"interpolation_style\":\"linear\"},\"ocv_ent\":{\"updatable\":[],\"base_values\":[[0]],\"soc_pinpoints\":null,\"interpolation_style\":\"linear\"},\"reference_temperature\":[[25]]},\"r0\":{\"updatable\":[\"base_values\"],\"base_values\":[[0.1]],\"soc_pinpoints\":null,\"interpolation_style\":\"linear\",\"reference_temperature\":25.0,\"temperature_dependence_factor\":[[0]]},\"c0\":null,\"rc_elements\":[],\"h0\":{\"updatable\":[],\"base_values\":[[0.0]],\"soc_pinpoints\":null,\"interpolation_style\":\"linear\",\"gamma\":[[50.0]]}}',\n",
       "    initial_transient_state := '{\"soc\":[[0.0]],\"q0\":null,\"i_rc\":[[]],\"hyst\":[[0.0]]}',\n",
       "    output_names := ('terminal_voltage',),\n",
       "    state_names := ('soc', 'hyst', 'r0.base_values'),\n",
       "    write_settings := '{\"storage_key\":\"state_estimates\",\"table_options\":{\"complib\":\"lzo\",\"complevel\":5},\"per_timestep\":\"mean\",\"per_cycle\":\"full\"}']"
      ]
     },
     "execution_count": 17,
     "metadata": {},
     "output_type": "execute_result"
    }
   ],
   "source": [
    "group._v_attrs"
   ]
  },
  {
   "cell_type": "code",
   "execution_count": 18,
   "id": "9b2e773b-fa5c-4216-9b26-52383d8728c4",
   "metadata": {},
   "outputs": [
    {
     "name": "stdout",
     "output_type": "stream",
     "text": [
      "cell_model: \"EquivalentCircuitModel\"\n",
      "distribution_type: \"MultivariateGaussian\"\n",
      "estimator_name: \"JointEstimator\"\n",
      "initial_asoh: \"{\"updatable\":[\"r0\"],\"q_t\":{\"upda...\"\n",
      "initial_transient_state: \"{\"soc\":[[0.0]],\"q0\":null,\"i_rc\":...\"\n",
      "output_names: \"('terminal_voltage',)\"\n",
      "state_names: \"('soc', 'hyst', 'r0.base_values')\"\n",
      "write_settings: \"{\"storage_key\":\"state_estimates\"...\"\n"
     ]
    }
   ],
   "source": [
    "for k in group._v_attrs._f_list():\n",
    "    v = group._v_attrs[k]\n",
    "    print(f'{k}: \"{v[:32]}{\"...\" if len(v) > 32 else \"\"}\"')"
   ]
  },
  {
   "cell_type": "markdown",
   "id": "d1eff186-4607-4172-9d4b-8ac8b0422b18",
   "metadata": {},
   "source": [
    "And the estimates themselves for both every step"
   ]
  },
  {
   "cell_type": "code",
   "execution_count": 19,
   "id": "502c6ed7-70d3-4c6a-b6df-b09ca6f29fee",
   "metadata": {},
   "outputs": [
    {
     "name": "stdout",
     "output_type": "stream",
     "text": [
      "/state_estimates/per_cycle (Table(1,)shuffle, lzo(5)) ''\n",
      "[('time', '<f8'), ('cycle', '<u4'), ('state_mean', '<f8', (3,)), ('state_covariance', '<f8', (3, 3)), ('output_mean', '<f8', (1,)), ('output_covariance', '<f8', (1, 1))]\n",
      "/state_estimates/per_timestep (Table(3700,)shuffle, lzo(5)) ''\n",
      "[('time', '<f8'), ('state_mean', '<f8', (3,)), ('output_mean', '<f8', (1,))]\n"
     ]
    }
   ],
   "source": [
    "for g in ['per_cycle', 'per_timestep']:\n",
    "    print(group[g])\n",
    "    print(group[g].dtype)"
   ]
  },
  {
   "cell_type": "code",
   "execution_count": 20,
   "id": "f6420742-79b7-45e5-9b13-40f6cd2970b7",
   "metadata": {},
   "outputs": [],
   "source": [
    "file.close()"
   ]
  },
  {
   "cell_type": "markdown",
   "id": "34eccfd0-eb8c-4f11-92cb-3fd0b04418e8",
   "metadata": {},
   "source": [
    "The default is to store the full probability distribution for the first step of each cycle and only the means at each step.\n",
    "\n",
    "The `read_state_estimates` reads these probability distributions as Moirae's probability distribution objects"
   ]
  },
  {
   "cell_type": "code",
   "execution_count": 21,
   "id": "2e5aa559-0750-45eb-ad96-1242ecd2a4c0",
   "metadata": {},
   "outputs": [],
   "source": [
    "from moirae.interface.hdf5 import read_state_estimates"
   ]
  },
  {
   "cell_type": "code",
   "execution_count": 22,
   "id": "5c04b4b0-cec1-43da-b4ad-63055d3477a8",
   "metadata": {},
   "outputs": [
    {
     "data": {
      "text/plain": [
       "(2.0,\n",
       " DeltaDistribution(mean=array([3.69139598e-04, 1.84588164e-06, 1.00184570e-01])),\n",
       " DeltaDistribution(mean=array([2.1])))"
      ]
     },
     "execution_count": 22,
     "metadata": {},
     "output_type": "execute_result"
    }
   ],
   "source": [
    "next(read_state_estimates(output_file, per_timestep=True))"
   ]
  },
  {
   "cell_type": "code",
   "execution_count": 23,
   "id": "e8e6afef-a95e-413c-bac9-3d5cd797da05",
   "metadata": {},
   "outputs": [
    {
     "data": {
      "text/plain": [
       "(2.0,\n",
       " MultivariateGaussian(mean=array([3.69139598e-04, 1.84588164e-06, 1.00184570e-01]), covariance=array([[ 6.71097783e-03, -6.64517722e-05, -6.64451941e-03],\n",
       "        [-6.64517722e-05,  9.96777081e-05, -3.32259027e-05],\n",
       "        [-6.64451941e-03, -3.32259027e-05,  6.67774863e-03]])),\n",
       " MultivariateGaussian(mean=array([2.1]), covariance=array([[0.03010004]])))"
      ]
     },
     "execution_count": 23,
     "metadata": {},
     "output_type": "execute_result"
    }
   ],
   "source": [
    "next(read_state_estimates(output_file, per_timestep=False))"
   ]
  },
  {
   "cell_type": "markdown",
   "id": "8715e2ec-1bdd-4b76-b6b9-bdb5ea695190",
   "metadata": {},
   "source": [
    "The function returns an iterator which reads data from the file into memory only as needed.\n",
    "Access data incrementally with `next` or with a for loop"
   ]
  },
  {
   "cell_type": "code",
   "execution_count": 24,
   "id": "37061cfa-4381-4886-a9ab-2d218896cde4",
   "metadata": {},
   "outputs": [
    {
     "name": "stdout",
     "output_type": "stream",
     "text": [
      "CPU times: user 18.7 ms, sys: 12 μs, total: 18.7 ms\n",
      "Wall time: 18.1 ms\n"
     ]
    }
   ],
   "source": [
    "%%time\n",
    "for time, state_dist, output_dist in read_state_estimates(output_file, per_timestep=True):\n",
    "    pass"
   ]
  },
  {
   "cell_type": "markdown",
   "id": "d2f4b433-9dfe-4520-beb0-f9e18d5903d4",
   "metadata": {},
   "source": [
    "## Controlling the Outputs\n",
    "Supplying a path to the `run_online_estimate` function writes an HDF file with the above-described defaults and reasonable settings for how the HDF5 file is written (small I/O caches, moderate compression).\n",
    "Change how the estimates are written by supplying a `HDF5Writer` class"
   ]
  },
  {
   "cell_type": "code",
   "execution_count": 25,
   "id": "3d92ca02-2ea7-4da4-a485-03fe57c95992",
   "metadata": {},
   "outputs": [],
   "source": [
    "from moirae.interface.hdf5 import HDF5Writer"
   ]
  },
  {
   "cell_type": "code",
   "execution_count": 26,
   "id": "013f57a4-8b2f-4b97-aa4c-51f1b43bfc62",
   "metadata": {},
   "outputs": [],
   "source": [
    "output_file.unlink(missing_ok=True)\n",
    "writer = HDF5Writer(\n",
    "    hdf5_output=output_file,\n",
    "    per_cycle='none',\n",
    "    per_timestep='mean_var',\n",
    "    dataset_options={'compression': None},\n",
    ")"
   ]
  },
  {
   "cell_type": "code",
   "execution_count": 27,
   "id": "e7886ae7-ce5c-43ba-9238-43705889fc21",
   "metadata": {},
   "outputs": [
    {
     "name": "stderr",
     "output_type": "stream",
     "text": [
      "100%|██████████████████████████████████████████████████████████████████████████████████████████████████████████████████████████████████████████████████████████████████████████████████████████████████████████████████▉| 3700/3701 [00:03<00:00, 1135.43it/s]"
     ]
    },
    {
     "name": "stdout",
     "output_type": "stream",
     "text": [
      "CPU times: user 3.27 s, sys: 9.03 ms, total: 3.27 s\n",
      "Wall time: 3.26 s\n"
     ]
    },
    {
     "name": "stderr",
     "output_type": "stream",
     "text": [
      "\n"
     ]
    }
   ],
   "source": [
    "%%time\n",
    "ukf = JointEstimator.initialize_unscented_kalman_filter(\n",
    "    cell_model=ECM(),\n",
    "    initial_asoh=asoh,\n",
    "    initial_inputs=ECMInput(time=0., current=0, temperature=25),\n",
    "    initial_transients=ecm_start,\n",
    "    covariance_joint=np.diag([0.02, 0.0001, 0.01])  # Three variables: soc, hysteresis, r0\n",
    ")\n",
    "run_online_estimate(dataset, ukf, hdf5_output=writer, output_states=False, pbar=True);"
   ]
  },
  {
   "cell_type": "markdown",
   "id": "18182118-6842-4159-a1b5-9e6ae4de5beb",
   "metadata": {},
   "source": [
    "Note how the process is slightly faster and produces a data file with different content"
   ]
  },
  {
   "cell_type": "code",
   "execution_count": 28,
   "id": "c2ddc374-a169-47e4-8a4b-76c6e2e10788",
   "metadata": {},
   "outputs": [
    {
     "name": "stdout",
     "output_type": "stream",
     "text": [
      "/state_estimates/per_timestep (Table(3700,)shuffle, lzo(5)) ''\n",
      "[('time', '<f8'), ('state_mean', '<f8', (3,)), ('state_variance', '<f8', (3,)), ('output_mean', '<f8', (1,)), ('output_variance', '<f8', (1,))]\n"
     ]
    }
   ],
   "source": [
    "with File(output_file, mode='a') as file:\n",
    "    group = file.root['state_estimates']\n",
    "    for g in ['per_cycle', 'per_timestep']:\n",
    "        if g in group:\n",
    "            sg = group[g]\n",
    "            print(sg)\n",
    "            print(sg.dtype)"
   ]
  },
  {
   "cell_type": "markdown",
   "id": "53f23c16-5da8-4de1-85ce-5741a248536e",
   "metadata": {},
   "source": [
    "Consult the documentation for [`HDF5Writer`](https://rovi-org.github.io/auto-soh/source/interface.html#moirae.interface.hdf5.HDF5Writer) for a full description of options."
   ]
  },
  {
   "cell_type": "code",
   "execution_count": null,
   "id": "218c213b-fef6-4915-a773-0df01ac30ed9",
   "metadata": {},
   "outputs": [],
   "source": []
  }
 ],
 "metadata": {
  "kernelspec": {
   "display_name": "Python 3 (ipykernel)",
   "language": "python",
   "name": "python3"
  },
  "language_info": {
   "codemirror_mode": {
    "name": "ipython",
    "version": 3
   },
   "file_extension": ".py",
   "mimetype": "text/x-python",
   "name": "python",
   "nbconvert_exporter": "python",
   "pygments_lexer": "ipython3",
   "version": "3.10.16"
  }
 },
 "nbformat": 4,
 "nbformat_minor": 5
}

{
 "cells": [
  {
   "cell_type": "markdown",
   "id": "9db05039-e4e6-4a8d-83fa-d8787466f60a",
   "metadata": {},
   "source": [
    "# Demonstrate Unscented Kálmán Filter (UKF)\n",
    "Demonstrate the UKF filter on estimating the resistance of a single-resistor circuit"
   ]
  },
  {
   "cell_type": "code",
   "execution_count": 1,
   "id": "6cb937d1-15f0-4e15-bc86-4556c7879791",
   "metadata": {},
   "outputs": [],
   "source": [
    "%matplotlib inline\n",
    "from matplotlib import pyplot as plt\n",
    "from asoh.observers.ukf import UnscentedKalmanFilter\n",
    "from asoh.models.ecm import ECMControl, ECMOutputs, ECMState, SingleResistorModel\n",
    "import pandas as pd\n",
    "import numpy as np"
   ]
  },
  {
   "cell_type": "markdown",
   "id": "519f96de-fa5d-45df-bf3a-a57a7dc65810",
   "metadata": {},
   "source": [
    "Configuration"
   ]
  },
  {
   "cell_type": "code",
   "execution_count": 2,
   "id": "d4bccfce-9e3a-4f03-ae35-8b6bd8ea4327",
   "metadata": {},
   "outputs": [],
   "source": [
    "actual_rint: float = 0.1  # Actual resistance \n",
    "guess_rint: float = 0.05  # Guess for resistance\n",
    "charge_time: float = 3600.  # Interval over which to charge and discharge the battery\n",
    "observations_per_charge: int = 60  # How many times to measure voltage during charge\n",
    "current: float = 1.  # Applied current during charge or discharge\n",
    "cycle_count: int = 4  # Number of cycles to simulate"
   ]
  },
  {
   "cell_type": "markdown",
   "id": "0598f72f-aeb4-4d09-973e-75b6412cf6fb",
   "metadata": {},
   "source": [
    "## Create the Model\n",
    "The ASOH package defines a dynamic system with two parts:\n",
    "1. A \"Model\" that describes how to update the state of a dynamic system\n",
    "2. A \"State\" defining the parameters for a specific system"
   ]
  },
  {
   "cell_type": "markdown",
   "id": "03f2dbff-3ddb-4c61-aa68-c65fb31259d1",
   "metadata": {},
   "source": [
    "Our model, which implements an ECM with a single resistor, does not have any controlable variables."
   ]
  },
  {
   "cell_type": "code",
   "execution_count": 3,
   "id": "faec64b2-c7c5-486a-b6f9-d985487f6f89",
   "metadata": {},
   "outputs": [],
   "source": [
    "model = SingleResistorModel()"
   ]
  },
  {
   "cell_type": "markdown",
   "id": "0bbcced9-5420-43d0-9791-04d31790b56c",
   "metadata": {},
   "source": [
    "Define the state of the system (e.g., it's charge) and the parameters which define its dynamics using the \"State\""
   ]
  },
  {
   "cell_type": "code",
   "execution_count": 4,
   "id": "39375a89-3e09-4467-983f-a2ca04786da4",
   "metadata": {},
   "outputs": [
    {
     "data": {
      "text/plain": [
       "ECMState(health_params=(), covariance=array([[1.]]), state_params=('charge',), charge=0.0, r_serial=0.1, ocv_params=(1.0, 0.5))"
      ]
     },
     "execution_count": 4,
     "metadata": {},
     "output_type": "execute_result"
    }
   ],
   "source": [
    "actual_state = ECMState(charge=0., r_serial=actual_rint, ocv_params=(1., 0.5))\n",
    "actual_state"
   ]
  },
  {
   "cell_type": "markdown",
   "id": "10f012ac-ca74-4b46-b1e2-f20b5df79e5e",
   "metadata": {},
   "source": [
    "The dynamics of a system are controlled by outside forces, which are described by a \"Control\" class.\n",
    "\n",
    "Our simple circuit uses only the applied current as control. \n",
    "\n",
    "Employ the model to update the state under the influence of this control signal"
   ]
  },
  {
   "cell_type": "code",
   "execution_count": 5,
   "id": "30950171-cce5-4a66-a6de-9204ad02bff9",
   "metadata": {},
   "outputs": [],
   "source": [
    "model.update(state=actual_state, control=ECMControl(current=1.), total_time=3600.)"
   ]
  },
  {
   "cell_type": "code",
   "execution_count": 6,
   "id": "5e3e074f-9de7-45ca-ba11-c569274d27b2",
   "metadata": {},
   "outputs": [
    {
     "name": "stdout",
     "output_type": "stream",
     "text": [
      "Charge after 1 hour of 1 A current: 1.00 A-hr\n"
     ]
    }
   ],
   "source": [
    "print(f'Charge after 1 hour of 1 A current: {actual_state.charge:.2f} A-hr')"
   ]
  },
  {
   "cell_type": "markdown",
   "id": "519ecf07-932c-4b59-9c44-2eb4913a0c56",
   "metadata": {},
   "source": [
    "The other function of the model is to predict the observables of a system given the state and control signal."
   ]
  },
  {
   "cell_type": "code",
   "execution_count": 7,
   "id": "4b36fa47-e68b-4ae5-9030-359d87acd373",
   "metadata": {},
   "outputs": [
    {
     "data": {
      "text/plain": [
       "ECMOutputs(terminal_voltage=1.4)"
      ]
     },
     "execution_count": 7,
     "metadata": {},
     "output_type": "execute_result"
    }
   ],
   "source": [
    "model.output(actual_state, control=ECMControl(current=-1.))"
   ]
  },
  {
   "cell_type": "markdown",
   "id": "1c543e87-9ea7-4ee6-9297-0107a2e0970d",
   "metadata": {},
   "source": [
    "The terminal voltage is the only observable signal from our system"
   ]
  },
  {
   "cell_type": "code",
   "execution_count": 8,
   "id": "869a51f2-91d1-43ba-8872-f8a52f3d4c80",
   "metadata": {},
   "outputs": [],
   "source": [
    "actual_state.charge = 0.  # Reset to a fully-discharged state"
   ]
  },
  {
   "cell_type": "markdown",
   "id": "060c872a-adf9-492c-bc7c-0c13d665cd56",
   "metadata": {},
   "source": [
    "## Estimate the State\n",
    "State estimation is the process of determing the parameters of a dynamic system given observations of its behavior.\n",
    "\n",
    "The ASOH package does so using an \"observer\" class which gradually alters the estimate of a state of a system given many signals over time."
   ]
  },
  {
   "cell_type": "markdown",
   "id": "d6d0cb8b-6c86-4d37-a666-7236d47800d9",
   "metadata": {},
   "source": [
    "### Defining which Parameters to Estimate\n",
    "Start with building a guess for the initial state that also lists which parameters of the system we're unsure about marked as the \"health params\""
   ]
  },
  {
   "cell_type": "code",
   "execution_count": 9,
   "id": "9c3d0c7f-a8b3-42b9-b553-bdf7af05ce2e",
   "metadata": {},
   "outputs": [
    {
     "data": {
      "text/plain": [
       "ECMState(health_params=('r_serial',), covariance=array([[1., 0.],\n",
       "       [0., 1.]]), state_params=('charge',), charge=0.0, r_serial=0.05, ocv_params=(1.0, 0.5))"
      ]
     },
     "execution_count": 9,
     "metadata": {},
     "output_type": "execute_result"
    }
   ],
   "source": [
    "state = ECMState(\n",
    "    charge=0., \n",
    "    r_serial=guess_rint, \n",
    "    ocv_params=(1., 0.5),\n",
    "    health_params=('r_serial',),\n",
    ")\n",
    "state"
   ]
  },
  {
   "cell_type": "markdown",
   "id": "c40b2ff1-1a09-4de1-bc6e-2b4960cc001d",
   "metadata": {},
   "source": [
    "Note that the state includes a covariance, which represents the probability distribution for the parameters we're fitting.\n",
    "\n",
    "In this case, those parameters are the state of charge of the system and the resistance of the resistor"
   ]
  },
  {
   "cell_type": "code",
   "execution_count": 10,
   "id": "d794c11c-1429-48c8-a39b-959e8c4fad85",
   "metadata": {},
   "outputs": [
    {
     "data": {
      "text/plain": [
       "array([[1., 0.],\n",
       "       [0., 1.]])"
      ]
     },
     "execution_count": 10,
     "metadata": {},
     "output_type": "execute_result"
    }
   ],
   "source": [
    "state.covariance"
   ]
  },
  {
   "cell_type": "code",
   "execution_count": 11,
   "id": "08d10c4d-c875-414a-bb9c-b72130af7334",
   "metadata": {},
   "outputs": [
    {
     "data": {
      "text/plain": [
       "('charge', 'r_serial')"
      ]
     },
     "execution_count": 11,
     "metadata": {},
     "output_type": "execute_result"
    }
   ],
   "source": [
    "state.full_params"
   ]
  },
  {
   "cell_type": "markdown",
   "id": "b63afd7f-e463-448e-b076-43eb7071e56c",
   "metadata": {},
   "source": [
    "## Using the Observer\n",
    "Observer classes are tied to a specific model and specific instance being evaluated. Create only by supplying the Model and State to the initial value"
   ]
  },
  {
   "cell_type": "code",
   "execution_count": 12,
   "id": "49c98efc-8845-46e3-81c9-dbc6b577ae76",
   "metadata": {},
   "outputs": [],
   "source": [
    "ukf = UnscentedKalmanFilter(model, state, covariance_process_noise=np.eye(2,) * 1e-3, covariance_sensor_noise=np.array([[1e-2]]))"
   ]
  },
  {
   "cell_type": "markdown",
   "id": "111c0ded-8b13-43ab-b3e8-e16d06867852",
   "metadata": {},
   "source": [
    "All observers define a \"step\" function that updates the estimate of a state given\n",
    "the control signal applied at a new step, \n",
    "the observed outputs,\n",
    "and the length of time between this step and the last."
   ]
  },
  {
   "cell_type": "code",
   "execution_count": 13,
   "id": "e8776d15-f418-44c3-bef7-dced0edbf27c",
   "metadata": {},
   "outputs": [
    {
     "name": "stdout",
     "output_type": "stream",
     "text": [
      "Help on method step in module asoh.observers.ukf:\n",
      "\n",
      "step(u: asoh.models.base.ControlState, y: asoh.models.base.Outputs, t_step: float) method of asoh.observers.ukf.UnscentedKalmanFilter instance\n",
      "    Update the state estimation given a new set of control states\n",
      "    \n",
      "    Args:\n",
      "        u: Control states at the new time step\n",
      "        y: Observed outputs at the new time step\n",
      "        t_step: Time elapsed between last and current timestep\n",
      "\n"
     ]
    }
   ],
   "source": [
    "help(ukf.step)"
   ]
  },
  {
   "cell_type": "markdown",
   "id": "a6ce354f-0e04-4f34-ab36-08d3eca14bce",
   "metadata": {},
   "source": [
    "We'll run very many cycles and record the changes in step after each"
   ]
  },
  {
   "cell_type": "code",
   "execution_count": 14,
   "id": "a9099779-73a6-42b5-b75e-3c6f752cf02c",
   "metadata": {},
   "outputs": [],
   "source": [
    "time = 0\n",
    "timestep = charge_time / observations_per_charge\n",
    "state_names = ('time',) + state.full_params + tuple(f'var_{s}' for s in state.full_params)\n",
    "full_states = []\n",
    "while time < cycle_count * charge_time * 2:\n",
    "    \n",
    "    # Start by charging\n",
    "    for step_current in [current, -current]:\n",
    "        control = ECMControl(current=step_current)\n",
    "        for i in range(observations_per_charge):\n",
    "            time += timestep\n",
    "            model.update(actual_state, control, timestep)\n",
    "            ukf.step(control, model.output(actual_state, control), timestep)\n",
    "            full_states.append([time] + state.full_state.tolist() + np.diag(state.covariance).tolist())\n",
    "        "
   ]
  },
  {
   "cell_type": "code",
   "execution_count": 15,
   "id": "250da60f-0054-4d76-af01-d5eee6e890e2",
   "metadata": {},
   "outputs": [],
   "source": [
    "full_states = pd.DataFrame(full_states, columns=state_names)"
   ]
  },
  {
   "cell_type": "markdown",
   "id": "89341dcd-51e3-4b81-9290-8e6f34ae0c46",
   "metadata": {},
   "source": [
    "Plot the estimated charge"
   ]
  },
  {
   "cell_type": "code",
   "execution_count": 16,
   "id": "507dfc13-b9aa-4bfb-b359-7b4f1e03c291",
   "metadata": {},
   "outputs": [
    {
     "data": {
      "image/png": "[encoded data removed]",
      "text/plain": [
       "<Figure size 350x310 with 3 Axes>"
      ]
     },
     "metadata": {},
     "output_type": "display_data"
    }
   ],
   "source": [
    "fig, axs = plt.subplots(3, 1, sharex=True, figsize=(3.5, 3.1))\n",
    "\n",
    "axs[0].plot(full_states['time'] / 3600., full_states['charge'])\n",
    "axs[0].set_xlim(axs[0].get_xlim())\n",
    "axs[0].set_ylabel('SOC (A-hr)')\n",
    "\n",
    "axs[1].plot(full_states['time'] / 3600., full_states['r_serial'])\n",
    "axs[1].plot(axs[1].get_xlim(), [actual_rint] * 2, 'k--', lw=1)\n",
    "axs[1].text(5, actual_rint, 'Actual R_int', fontsize=8)\n",
    "axs[1].set_ylabel('R_int (Ohm)')\n",
    "\n",
    "axs[2].semilogy(full_states['time'] / 3600., full_states['var_r_serial'])\n",
    "axs[2].set_ylabel('R_int, var\\n(Ohm)')\n",
    "\n",
    "axs[-1].set_xlabel('Time (hr)')\n",
    "\n",
    "fig.tight_layout()"
   ]
  },
  {
   "cell_type": "code",
   "execution_count": null,
   "id": "ebe187ec-b319-412b-8db9-fc180da98906",
   "metadata": {},
   "outputs": [],
   "source": []
  }
 ],
 "metadata": {
  "kernelspec": {
   "display_name": "Python 3 (ipykernel)",
   "language": "python",
   "name": "python3"
  },
  "language_info": {
   "codemirror_mode": {
    "name": "ipython",
    "version": 3
   },
   "file_extension": ".py",
   "mimetype": "text/x-python",
   "name": "python",
   "nbconvert_exporter": "python",
   "pygments_lexer": "ipython3",
   "version": "3.10.14"
  }
 },
 "nbformat": 4,
 "nbformat_minor": 5
}

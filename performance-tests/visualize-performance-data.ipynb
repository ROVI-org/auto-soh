{
 "cells": [
  {
   "cell_type": "markdown",
   "id": "bd3c41e7-4086-412a-a026-0ddeacb9d9bd",
   "metadata": {},
   "source": [
    "# Visualize Performance Results\n",
    "Make some basic comparisons between different configurations and the performance of the code over time"
   ]
  },
  {
   "cell_type": "code",
   "execution_count": 1,
   "id": "3e64e3a2-7c6b-4f99-acef-2293cece2010",
   "metadata": {},
   "outputs": [],
   "source": [
    "%matplotlib inline\n",
    "from matplotlib import pyplot as plt\n",
    "import pandas as pd"
   ]
  },
  {
   "cell_type": "markdown",
   "id": "3920e75b-67fc-4cf2-85f4-77d4a5bfe7c3",
   "metadata": {},
   "source": [
    "## Load the Performance Data\n",
    "Get the performance data and pull some basic versioning information"
   ]
  },
  {
   "cell_type": "code",
   "execution_count": 32,
   "id": "a52518ab-521f-4011-9dca-dbe8a6704960",
   "metadata": {},
   "outputs": [
    {
     "name": "stdout",
     "output_type": "stream",
     "text": [
      "Loaded 6 run tests\n"
     ]
    }
   ],
   "source": [
    "perf_data = pd.read_json('performance-data.jsonl', lines=True)\n",
    "print(f'Loaded {len(perf_data)} run tests')"
   ]
  },
  {
   "cell_type": "markdown",
   "id": "b53b66d4-25ab-4726-9ce6-7f7c1802e2e0",
   "metadata": {},
   "source": [
    "Make a simple timeline of versions"
   ]
  },
  {
   "cell_type": "code",
   "execution_count": 33,
   "id": "5f1f9040-4de8-450b-a641-49f7cebeae89",
   "metadata": {},
   "outputs": [
    {
     "name": "stdout",
     "output_type": "stream",
     "text": [
      "Tested 2 versions. Latest, d82aad4a9bbb4d6fe6f7df0a5a0538dd1735d478, ran starting 2025-01-15 15:54:32.834912\n"
     ]
    }
   ],
   "source": [
    "version_timeline = perf_data.groupby('version')['date'].min().sort_values()\n",
    "latest_version = version_timeline.index[-1]\n",
    "print(f'Tested {len(version_timeline)} versions. Latest, {latest_version}, ran starting {version_timeline.iloc[-1]}')"
   ]
  },
  {
   "cell_type": "markdown",
   "id": "29b17e7e-f91b-41d3-ba3a-a8d2e87e9f2c",
   "metadata": {},
   "source": [
    "## Summarize Latest Version's Runtimes\n",
    "Display all runs, grouped in a sensible way"
   ]
  },
  {
   "cell_type": "code",
   "execution_count": 34,
   "id": "11f41edf-f255-43ff-9363-2cd700279bd8",
   "metadata": {},
   "outputs": [
    {
     "name": "stdout",
     "output_type": "stream",
     "text": [
      "Have 3 runs from the latest version\n"
     ]
    }
   ],
   "source": [
    "latest_run = perf_data.query('version == @latest_version').drop(columns=['version', 'date'])\n",
    "print(f'Have {len(latest_run)} runs from the latest version')"
   ]
  },
  {
   "cell_type": "code",
   "execution_count": 35,
   "id": "fd17016c-a5cf-4d7d-b2d0-68d763873b18",
   "metadata": {},
   "outputs": [
    {
     "data": {
      "text/html": [
       "<div>\n",
       "<style scoped>\n",
       "    .dataframe tbody tr th:only-of-type {\n",
       "        vertical-align: middle;\n",
       "    }\n",
       "\n",
       "    .dataframe tbody tr th {\n",
       "        vertical-align: top;\n",
       "    }\n",
       "\n",
       "    .dataframe thead th {\n",
       "        text-align: right;\n",
       "    }\n",
       "</style>\n",
       "<table border=\"1\" class=\"dataframe\">\n",
       "  <thead>\n",
       "    <tr style=\"text-align: right;\">\n",
       "      <th></th>\n",
       "      <th></th>\n",
       "      <th></th>\n",
       "      <th></th>\n",
       "      <th>timestep_write_level</th>\n",
       "      <th>cycle_write_level</th>\n",
       "      <th>read_time</th>\n",
       "      <th>run_time</th>\n",
       "    </tr>\n",
       "    <tr>\n",
       "      <th>hostname</th>\n",
       "      <th>dataset</th>\n",
       "      <th>model</th>\n",
       "      <th>estimator</th>\n",
       "      <th></th>\n",
       "      <th></th>\n",
       "      <th></th>\n",
       "      <th></th>\n",
       "    </tr>\n",
       "  </thead>\n",
       "  <tbody>\n",
       "    <tr>\n",
       "      <th rowspan=\"3\" valign=\"top\">CSI365712</th>\n",
       "      <th rowspan=\"3\" valign=\"top\">camp</th>\n",
       "      <th rowspan=\"3\" valign=\"top\">ecm</th>\n",
       "      <th>joint</th>\n",
       "      <td>mean</td>\n",
       "      <td>full</td>\n",
       "      <td>0.265466</td>\n",
       "      <td>119.161336</td>\n",
       "    </tr>\n",
       "    <tr>\n",
       "      <th>joint</th>\n",
       "      <td>none</td>\n",
       "      <td>full</td>\n",
       "      <td>0.290513</td>\n",
       "      <td>121.746162</td>\n",
       "    </tr>\n",
       "    <tr>\n",
       "      <th>joint</th>\n",
       "      <td>mean</td>\n",
       "      <td>full</td>\n",
       "      <td>0.208443</td>\n",
       "      <td>127.369466</td>\n",
       "    </tr>\n",
       "  </tbody>\n",
       "</table>\n",
       "</div>"
      ],
      "text/plain": [
       "                                  timestep_write_level cycle_write_level  \\\n",
       "hostname  dataset model estimator                                          \n",
       "CSI365712 camp    ecm   joint                     mean              full   \n",
       "                        joint                     none              full   \n",
       "                        joint                     mean              full   \n",
       "\n",
       "                                   read_time    run_time  \n",
       "hostname  dataset model estimator                         \n",
       "CSI365712 camp    ecm   joint       0.265466  119.161336  \n",
       "                        joint       0.290513  121.746162  \n",
       "                        joint       0.208443  127.369466  "
      ]
     },
     "execution_count": 35,
     "metadata": {},
     "output_type": "execute_result"
    }
   ],
   "source": [
    "major_cols = ['hostname', 'dataset', 'model', 'estimator']\n",
    "latest_run.sort_values(major_cols).set_index(major_cols).sort_values('run_time')"
   ]
  },
  {
   "cell_type": "code",
   "execution_count": null,
   "id": "5f805bbe-9f8b-46d0-9ee4-672a6a4dc69f",
   "metadata": {},
   "outputs": [],
   "source": []
  }
 ],
 "metadata": {
  "kernelspec": {
   "display_name": "Python 3 (ipykernel)",
   "language": "python",
   "name": "python3"
  },
  "language_info": {
   "codemirror_mode": {
    "name": "ipython",
    "version": 3
   },
   "file_extension": ".py",
   "mimetype": "text/x-python",
   "name": "python",
   "nbconvert_exporter": "python",
   "pygments_lexer": "ipython3",
   "version": "3.10.15"
  }
 },
 "nbformat": 4,
 "nbformat_minor": 5
}

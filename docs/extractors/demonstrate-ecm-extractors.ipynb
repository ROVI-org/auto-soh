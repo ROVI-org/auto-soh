{
 "cells": [
  {
   "cell_type": "markdown",
   "id": "e07f935d-95ef-4800-9a40-c9d81ef9829c",
   "metadata": {},
   "source": [
    "# Demonstrate ECM Extractors\n",
    "The ECM extractors assemble the required components for Equivalent Circuit model using reference performance test data."
   ]
  },
  {
   "cell_type": "code",
   "execution_count": 1,
   "id": "87266500-4323-4018-acab-3e19ab881055",
   "metadata": {},
   "outputs": [],
   "source": [
    "%matplotlib inline\n",
    "from matplotlib import pyplot as plt\n",
    "from battdat.data import BatteryDataset\n",
    "import numpy as np"
   ]
  },
  {
   "cell_type": "markdown",
   "id": "e307cdf3-b0a3-4410-adf6-ada0b0f0e47a",
   "metadata": {},
   "source": [
    "## Load an Example Dataset\n",
    "We use an example RPT cycle from [the CAMP 2023 dataset](https://github.com/materials-data-facility/publishing-battery-data) to demonstrate parameter extraction"
   ]
  },
  {
   "cell_type": "code",
   "execution_count": 2,
   "id": "3f0648ea-d725-4b81-ba2f-323cae3399d9",
   "metadata": {},
   "outputs": [],
   "source": [
    "data = BatteryDataset.from_hdf('files/example-camp-rpt.h5')"
   ]
  },
  {
   "cell_type": "code",
   "execution_count": 3,
   "id": "68c1f387-d690-4467-ac71-0ccfad962451",
   "metadata": {},
   "outputs": [
    {
     "data": {
      "text/html": [
       "<div>\n",
       "<style scoped>\n",
       "    .dataframe tbody tr th:only-of-type {\n",
       "        vertical-align: middle;\n",
       "    }\n",
       "\n",
       "    .dataframe tbody tr th {\n",
       "        vertical-align: top;\n",
       "    }\n",
       "\n",
       "    .dataframe thead th {\n",
       "        text-align: right;\n",
       "    }\n",
       "</style>\n",
       "<table border=\"1\" class=\"dataframe\">\n",
       "  <thead>\n",
       "    <tr style=\"text-align: right;\">\n",
       "      <th></th>\n",
       "      <th>cycle_number</th>\n",
       "      <th>file_number</th>\n",
       "      <th>test_time</th>\n",
       "      <th>state</th>\n",
       "      <th>current</th>\n",
       "      <th>voltage</th>\n",
       "      <th>step_index</th>\n",
       "      <th>method</th>\n",
       "      <th>substep_index</th>\n",
       "      <th>cycle_capacity</th>\n",
       "      <th>cycle_energy</th>\n",
       "    </tr>\n",
       "  </thead>\n",
       "  <tbody>\n",
       "    <tr>\n",
       "      <th>0</th>\n",
       "      <td>1</td>\n",
       "      <td>0</td>\n",
       "      <td>120.042</td>\n",
       "      <td>b'charging'</td>\n",
       "      <td>0.260548</td>\n",
       "      <td>3.450065</td>\n",
       "      <td>0</td>\n",
       "      <td>b'constant_current'</td>\n",
       "      <td>0</td>\n",
       "      <td>0.000000</td>\n",
       "      <td>0.000000</td>\n",
       "    </tr>\n",
       "    <tr>\n",
       "      <th>1</th>\n",
       "      <td>1</td>\n",
       "      <td>0</td>\n",
       "      <td>139.182</td>\n",
       "      <td>b'charging'</td>\n",
       "      <td>0.260090</td>\n",
       "      <td>3.470207</td>\n",
       "      <td>0</td>\n",
       "      <td>b'constant_current'</td>\n",
       "      <td>0</td>\n",
       "      <td>0.001384</td>\n",
       "      <td>0.004789</td>\n",
       "    </tr>\n",
       "    <tr>\n",
       "      <th>2</th>\n",
       "      <td>1</td>\n",
       "      <td>0</td>\n",
       "      <td>439.182</td>\n",
       "      <td>b'charging'</td>\n",
       "      <td>0.260014</td>\n",
       "      <td>3.487297</td>\n",
       "      <td>0</td>\n",
       "      <td>b'constant_current'</td>\n",
       "      <td>0</td>\n",
       "      <td>0.023055</td>\n",
       "      <td>0.080177</td>\n",
       "    </tr>\n",
       "    <tr>\n",
       "      <th>3</th>\n",
       "      <td>1</td>\n",
       "      <td>0</td>\n",
       "      <td>739.182</td>\n",
       "      <td>b'charging'</td>\n",
       "      <td>0.259937</td>\n",
       "      <td>3.493553</td>\n",
       "      <td>0</td>\n",
       "      <td>b'constant_current'</td>\n",
       "      <td>0</td>\n",
       "      <td>0.044720</td>\n",
       "      <td>0.155796</td>\n",
       "    </tr>\n",
       "    <tr>\n",
       "      <th>4</th>\n",
       "      <td>1</td>\n",
       "      <td>0</td>\n",
       "      <td>1039.182</td>\n",
       "      <td>b'charging'</td>\n",
       "      <td>0.260166</td>\n",
       "      <td>3.499809</td>\n",
       "      <td>0</td>\n",
       "      <td>b'constant_current'</td>\n",
       "      <td>0</td>\n",
       "      <td>0.066391</td>\n",
       "      <td>0.231572</td>\n",
       "    </tr>\n",
       "    <tr>\n",
       "      <th>...</th>\n",
       "      <td>...</td>\n",
       "      <td>...</td>\n",
       "      <td>...</td>\n",
       "      <td>...</td>\n",
       "      <td>...</td>\n",
       "      <td>...</td>\n",
       "      <td>...</td>\n",
       "      <td>...</td>\n",
       "      <td>...</td>\n",
       "      <td>...</td>\n",
       "      <td>...</td>\n",
       "    </tr>\n",
       "    <tr>\n",
       "      <th>180</th>\n",
       "      <td>1</td>\n",
       "      <td>0</td>\n",
       "      <td>41767.320</td>\n",
       "      <td>b'hold'</td>\n",
       "      <td>0.000000</td>\n",
       "      <td>3.272145</td>\n",
       "      <td>3</td>\n",
       "      <td>b'rest'</td>\n",
       "      <td>8</td>\n",
       "      <td>-0.027665</td>\n",
       "      <td>0.011427</td>\n",
       "    </tr>\n",
       "    <tr>\n",
       "      <th>181</th>\n",
       "      <td>1</td>\n",
       "      <td>0</td>\n",
       "      <td>41777.322</td>\n",
       "      <td>b'hold'</td>\n",
       "      <td>0.000000</td>\n",
       "      <td>3.276875</td>\n",
       "      <td>3</td>\n",
       "      <td>b'rest'</td>\n",
       "      <td>8</td>\n",
       "      <td>-0.027665</td>\n",
       "      <td>0.011427</td>\n",
       "    </tr>\n",
       "    <tr>\n",
       "      <th>182</th>\n",
       "      <td>1</td>\n",
       "      <td>0</td>\n",
       "      <td>41787.318</td>\n",
       "      <td>b'hold'</td>\n",
       "      <td>0.000000</td>\n",
       "      <td>3.280995</td>\n",
       "      <td>3</td>\n",
       "      <td>b'rest'</td>\n",
       "      <td>8</td>\n",
       "      <td>-0.027665</td>\n",
       "      <td>0.011427</td>\n",
       "    </tr>\n",
       "    <tr>\n",
       "      <th>183</th>\n",
       "      <td>1</td>\n",
       "      <td>0</td>\n",
       "      <td>41797.320</td>\n",
       "      <td>b'hold'</td>\n",
       "      <td>0.000000</td>\n",
       "      <td>3.284504</td>\n",
       "      <td>3</td>\n",
       "      <td>b'rest'</td>\n",
       "      <td>8</td>\n",
       "      <td>-0.027665</td>\n",
       "      <td>0.011427</td>\n",
       "    </tr>\n",
       "    <tr>\n",
       "      <th>184</th>\n",
       "      <td>1</td>\n",
       "      <td>0</td>\n",
       "      <td>41807.310</td>\n",
       "      <td>b'hold'</td>\n",
       "      <td>0.000000</td>\n",
       "      <td>3.287556</td>\n",
       "      <td>3</td>\n",
       "      <td>b'rest'</td>\n",
       "      <td>8</td>\n",
       "      <td>-0.027665</td>\n",
       "      <td>0.011427</td>\n",
       "    </tr>\n",
       "  </tbody>\n",
       "</table>\n",
       "<p>185 rows × 11 columns</p>\n",
       "</div>"
      ],
      "text/plain": [
       "     cycle_number  file_number  test_time        state   current   voltage  \\\n",
       "0               1            0    120.042  b'charging'  0.260548  3.450065   \n",
       "1               1            0    139.182  b'charging'  0.260090  3.470207   \n",
       "2               1            0    439.182  b'charging'  0.260014  3.487297   \n",
       "3               1            0    739.182  b'charging'  0.259937  3.493553   \n",
       "4               1            0   1039.182  b'charging'  0.260166  3.499809   \n",
       "..            ...          ...        ...          ...       ...       ...   \n",
       "180             1            0  41767.320      b'hold'  0.000000  3.272145   \n",
       "181             1            0  41777.322      b'hold'  0.000000  3.276875   \n",
       "182             1            0  41787.318      b'hold'  0.000000  3.280995   \n",
       "183             1            0  41797.320      b'hold'  0.000000  3.284504   \n",
       "184             1            0  41807.310      b'hold'  0.000000  3.287556   \n",
       "\n",
       "     step_index               method  substep_index  cycle_capacity  \\\n",
       "0             0  b'constant_current'              0        0.000000   \n",
       "1             0  b'constant_current'              0        0.001384   \n",
       "2             0  b'constant_current'              0        0.023055   \n",
       "3             0  b'constant_current'              0        0.044720   \n",
       "4             0  b'constant_current'              0        0.066391   \n",
       "..          ...                  ...            ...             ...   \n",
       "180           3              b'rest'              8       -0.027665   \n",
       "181           3              b'rest'              8       -0.027665   \n",
       "182           3              b'rest'              8       -0.027665   \n",
       "183           3              b'rest'              8       -0.027665   \n",
       "184           3              b'rest'              8       -0.027665   \n",
       "\n",
       "     cycle_energy  \n",
       "0        0.000000  \n",
       "1        0.004789  \n",
       "2        0.080177  \n",
       "3        0.155796  \n",
       "4        0.231572  \n",
       "..            ...  \n",
       "180      0.011427  \n",
       "181      0.011427  \n",
       "182      0.011427  \n",
       "183      0.011427  \n",
       "184      0.011427  \n",
       "\n",
       "[185 rows x 11 columns]"
      ]
     },
     "execution_count": 3,
     "metadata": {},
     "output_type": "execute_result"
    }
   ],
   "source": [
    "data.tables['raw_data']"
   ]
  },
  {
   "cell_type": "markdown",
   "id": "a419ddf8-58b3-4895-b0ec-86b3996fe6cf",
   "metadata": {},
   "source": [
    "The dataset contain a single slow cycle that samples the entire capacity of the cell."
   ]
  },
  {
   "cell_type": "code",
   "execution_count": 4,
   "id": "95cfe761-93af-4b71-9766-e9fc49b3587b",
   "metadata": {},
   "outputs": [
    {
     "data": {
      "text/plain": [
       "Text(0.5, 0, 'Time (hr)')"
      ]
     },
     "execution_count": 4,
     "metadata": {},
     "output_type": "execute_result"
    },
    {
     "data": {
      "image/png": "[encoded data removed]",
      "text/plain": [
       "<Figure size 350x300 with 2 Axes>"
      ]
     },
     "metadata": {},
     "output_type": "display_data"
    }
   ],
   "source": [
    "fig, axs = plt.subplots(2, 1, figsize=(3.5, 3.), sharex=True)\n",
    "\n",
    "raw_data = data.tables['raw_data']\n",
    "time = (raw_data['test_time'] - raw_data['test_time'].min()) / 3600\n",
    "axs[0].plot(time, raw_data['voltage'])\n",
    "axs[0].set_ylabel('Voltage (V)')\n",
    "axs[1].plot(time, raw_data['current'])\n",
    "axs[1].set_ylabel('Current (A)')\n",
    "axs[1].set_xlabel('Time (hr)')"
   ]
  },
  {
   "cell_type": "markdown",
   "id": "02a62609-216e-4374-be9b-785aafcd34c1",
   "metadata": {},
   "source": [
    "## Determining Capacity\n",
    "The `MaxCapacityExtractor` determines capacity by integrating current over time then measuring difference between the maximum and minimum change in charge state.\n",
    "\n",
    "\n",
    "> Note: Integration is actually [implemented in battdat](https://rovi-org.github.io/battery-data-toolkit/user-guide/post-processing/cell-capacity.html#Step-3:-Assign-Capacities)."
   ]
  },
  {
   "cell_type": "code",
   "execution_count": 5,
   "id": "5892628e-1d5b-4c2c-9e91-6d9babb1d6a0",
   "metadata": {},
   "outputs": [],
   "source": [
    "from moirae.extractors.ecm import MaxCapacityExtractor"
   ]
  },
  {
   "cell_type": "code",
   "execution_count": 6,
   "id": "bcb73bb2-16ce-4701-9919-1838e51d0d09",
   "metadata": {},
   "outputs": [
    {
     "data": {
      "text/plain": [
       "MaxTheoreticalCapacity(updatable=set(), base_values=array([[1.48220808]]))"
      ]
     },
     "execution_count": 6,
     "metadata": {},
     "output_type": "execute_result"
    }
   ],
   "source": [
    "cap = MaxCapacityExtractor().extract(data)\n",
    "cap"
   ]
  },
  {
   "cell_type": "markdown",
   "id": "158a7797-991f-4f0f-934b-ffcf982c512f",
   "metadata": {},
   "source": [
    "This should match up with the measured change in charge"
   ]
  },
  {
   "cell_type": "code",
   "execution_count": 7,
   "id": "7b6bb999-2fe6-4648-aa55-4d9f6d04d3a4",
   "metadata": {},
   "outputs": [
    {
     "data": {
      "text/plain": [
       "<matplotlib.collections.FillBetweenPolyCollection at 0x7a1b3cfc9fc0>"
      ]
     },
     "execution_count": 7,
     "metadata": {},
     "output_type": "execute_result"
    },
    {
     "data": {
      "image/png": "[encoded data removed]",
      "text/plain": [
       "<Figure size 350x200 with 1 Axes>"
      ]
     },
     "metadata": {},
     "output_type": "display_data"
    }
   ],
   "source": [
    "fig, ax = plt.subplots(figsize=(3.5, 2.))\n",
    "\n",
    "ax.plot(time, raw_data['cycle_capacity'])\n",
    "ax.set_xlim(ax.get_xlim())\n",
    "ax.set_ylabel('Capacity Change (A-hr)')\n",
    "ax.set_xlabel('Time (hr)')\n",
    "\n",
    "min_cap, max_cap = raw_data['cycle_capacity'].min(), raw_data['cycle_capacity'].max()\n",
    "ax.fill_between(ax.get_xlim(), min_cap, max_cap, alpha=0.5, color='red', edgecolor='none')\n"
   ]
  },
  {
   "cell_type": "markdown",
   "id": "bee06bc8-d8ae-4ff7-a8b6-bb0a1650fbf8",
   "metadata": {},
   "source": [
    "The width of the colored span is the estimated capacity and it spans from the lowest capacity (\\~11hr) and the highest (\\~6hr)"
   ]
  },
  {
   "cell_type": "markdown",
   "id": "294433d7-87d3-4b1a-afd7-f530674125af",
   "metadata": {},
   "source": [
    "## Open-Circuit Voltage Estimation\n",
    "The `OCVExtractor` determines the Open Circuit Voltage by fitting a spline to voltage as a function of state of charge.\n",
    "\n",
    "The first step is to compute the SOC from the capacity change during the cycle and the total capacity estimated by `MaxCapacityExtractor`.\n",
    "As the actual state of charge cannot be directly measured, we assume the lowest capacity change is an SOC of 0."
   ]
  },
  {
   "cell_type": "code",
   "execution_count": 8,
   "id": "48838946-1aee-44a2-9968-bccb58a35e8d",
   "metadata": {},
   "outputs": [],
   "source": [
    "raw_data['soc'] = (raw_data['cycle_capacity'] - raw_data['cycle_capacity'].min()) / cap.base_values.item()"
   ]
  },
  {
   "cell_type": "code",
   "execution_count": 9,
   "id": "8a01d728-d9ca-4e5d-be26-9da069c8c08f",
   "metadata": {},
   "outputs": [
    {
     "data": {
      "text/plain": [
       "Text(0.5, 0, 'SOC')"
      ]
     },
     "execution_count": 9,
     "metadata": {},
     "output_type": "execute_result"
    },
    {
     "data": {
      "image/png": "[encoded data removed]",
      "text/plain": [
       "<Figure size 350x200 with 1 Axes>"
      ]
     },
     "metadata": {},
     "output_type": "display_data"
    }
   ],
   "source": [
    "fig, ax = plt.subplots(figsize=(3.5, 2.))\n",
    "\n",
    "ax.plot(raw_data['soc'], raw_data['voltage'])\n",
    "ax.set_ylabel('Voltage (V)')\n",
    "ax.set_xlabel('SOC')"
   ]
  },
  {
   "cell_type": "markdown",
   "id": "54f62b42-5c23-46c3-8601-c6f85754fea5",
   "metadata": {},
   "source": [
    "The voltage during charge and discharge are different. Moirae accounts for this by weighing points with lower current more strongly and ensures the OCV only increases with charge\n",
    "by fitting [an isotonic regression](https://scikit-learn.org/stable/modules/isotonic.html#isotonic) model to the data."
   ]
  },
  {
   "cell_type": "code",
   "execution_count": 10,
   "id": "fb809c0d-adcc-4b9b-8fc5-214c455a0fca",
   "metadata": {},
   "outputs": [],
   "source": [
    "from moirae.extractors.ecm import OCVExtractor\n",
    "ocv = OCVExtractor(capacity=cap).extract(data)"
   ]
  },
  {
   "cell_type": "code",
   "execution_count": 11,
   "id": "f9cd15a3-f8f2-46f2-9baf-1720710bd243",
   "metadata": {},
   "outputs": [
    {
     "data": {
      "text/plain": [
       "<matplotlib.legend.Legend at 0x7a1b3c7be3e0>"
      ]
     },
     "execution_count": 11,
     "metadata": {},
     "output_type": "execute_result"
    },
    {
     "data": {
      "image/png": "[encoded data removed]",
      "text/plain": [
       "<Figure size 350x200 with 1 Axes>"
      ]
     },
     "metadata": {},
     "output_type": "display_data"
    }
   ],
   "source": [
    "fig, ax = plt.subplots(figsize=(3.5, 2.))\n",
    "\n",
    "ax.plot(raw_data['soc'], raw_data['voltage'], label='Data')\n",
    "soc = np.linspace(0, 1, 64)\n",
    "fit = ocv(soc)\n",
    "ax.plot(soc, fit[0, 0, :], 'r--', label='OCV')\n",
    "ax.set_ylabel('Voltage (V)')\n",
    "ax.set_xlabel('SOC')\n",
    "\n",
    "ax.legend()"
   ]
  },
  {
   "cell_type": "markdown",
   "id": "fbbecd43-e974-4f95-b139-63a0ccff291f",
   "metadata": {},
   "source": [
    "This yields a generally-good representation of the OCV."
   ]
  },
  {
   "cell_type": "markdown",
   "id": "5482cb53-79d2-4bf3-a561-cb10aae2b3ea",
   "metadata": {},
   "source": [
    "## Instantaneous Resistance (R0) Extractor\n",
    "The `R0Extractor` estimates the instantaneous resistance in the battery as a function of SOC from current steps observed in the current-voltage-time data.\n",
    "\n",
    "We need to load a CellDataset that contains such details to demonstrate the usage of the extractor. In this case, we use a simulated dataset that represents a hybrid pulse power characterization test commonly used for electric vehicles."
   ]
  },
  {
   "cell_type": "code",
   "execution_count": 12,
   "id": "39ddf4f8-e806-4e79-af25-0156e22f377f",
   "metadata": {},
   "outputs": [],
   "source": [
    "data = BatteryDataset.from_hdf('files/hppc.h5')\n",
    "data.tables['raw_data']['state'] = data.tables['raw_data']['state'].str.decode('utf-8')"
   ]
  },
  {
   "cell_type": "markdown",
   "id": "bf86469b-72c0-4b2e-83e2-284d2c8085a2",
   "metadata": {},
   "source": [
    "First, we visualize the simulated data:"
   ]
  },
  {
   "cell_type": "code",
   "execution_count": 13,
   "id": "4a3e45eb-595a-4e6d-9663-4c7f458618d2",
   "metadata": {},
   "outputs": [
    {
     "data": {
      "text/plain": [
       "Text(0.5, 0, 'Time (hr)')"
      ]
     },
     "execution_count": 13,
     "metadata": {},
     "output_type": "execute_result"
    },
    {
     "data": {
      "image/png": "[encoded data removed]",
      "text/plain": [
       "<Figure size 350x300 with 2 Axes>"
      ]
     },
     "metadata": {},
     "output_type": "display_data"
    }
   ],
   "source": [
    "fig, axs = plt.subplots(2, 1, figsize=(3.5, 3.), sharex=True)\n",
    "\n",
    "raw_data = data.tables['raw_data']\n",
    "time = (raw_data['test_time'] - raw_data['test_time'].min()) / 3600\n",
    "axs[0].plot(time, raw_data['voltage'])\n",
    "axs[0].set_ylabel('Voltage (V)')\n",
    "axs[1].plot(time, raw_data['current'])\n",
    "axs[1].set_ylabel('Current (A)')\n",
    "axs[1].set_xlabel('Time (hr)')"
   ]
  },
  {
   "cell_type": "markdown",
   "id": "8c6f9f03-decb-4405-91a4-ca9d46cfa403",
   "metadata": {},
   "source": [
    "Now we employ the extractor to identify the current steps observed in the raw data and estimate the resistance as a function of SOC. The extractor takes as input an optional parameter, `dt_max`, that determines the maximum allowable timestep for the computation of the R0. We set this to 11 seconds, as the data collection frequency for the dataset is 10 seconds. In real applications, a much smaller `dt_max` is recommended."
   ]
  },
  {
   "cell_type": "code",
   "execution_count": 14,
   "id": "829a0cc0-7b42-4e99-83d3-52d1f1afce6d",
   "metadata": {},
   "outputs": [],
   "source": [
    "from moirae.extractors.ecm import R0Extractor\n",
    "ext = R0Extractor(capacity=10, dt_max=11)\n",
    "r0 = ext.extract(data)"
   ]
  },
  {
   "cell_type": "code",
   "execution_count": 15,
   "id": "e8952740-da78-4b2f-923d-e67c468cf582",
   "metadata": {},
   "outputs": [
    {
     "data": {
      "text/plain": [
       "<matplotlib.legend.Legend at 0x7a1b3c7771f0>"
      ]
     },
     "execution_count": 15,
     "metadata": {},
     "output_type": "execute_result"
    },
    {
     "data": {
      "image/png": "[encoded data removed]",
      "text/plain": [
       "<Figure size 350x200 with 1 Axes>"
      ]
     },
     "metadata": {},
     "output_type": "display_data"
    }
   ],
   "source": [
    "fig, ax = plt.subplots(figsize=(3.5, 2.))\n",
    "\n",
    "# ax.plot(raw_data['soc'], raw_r0, label='R0 - raw')\n",
    "soc = np.linspace(0, 1, 64)\n",
    "fit = r0.get_value(soc)\n",
    "ax.plot(soc, 0.05*np.ones(soc.shape), 'b-', label='R0 - ground truth')\n",
    "ax.plot(soc, fit[0, 0, :], 'r--', label='R0 - fit')\n",
    "ax.set_ylabel('R0 (Ohms)')\n",
    "ax.set_xlabel('SOC')\n",
    "\n",
    "ax.legend()"
   ]
  },
  {
   "cell_type": "markdown",
   "id": "b6f45d96-58eb-482f-8165-60e1dc4a9cab",
   "metadata": {},
   "source": [
    "The extracted R0 is close to the ground truth, with less than 1% error across the SOC range."
   ]
  },
  {
   "cell_type": "code",
   "execution_count": null,
   "id": "f301002f-a8ad-43bc-b5e5-a7677d7b3270",
   "metadata": {},
   "outputs": [],
   "source": []
  }
 ],
 "metadata": {
  "kernelspec": {
   "display_name": "Python 3 (ipykernel)",
   "language": "python",
   "name": "python3"
  },
  "language_info": {
   "codemirror_mode": {
    "name": "ipython",
    "version": 3
   },
   "file_extension": ".py",
   "mimetype": "text/x-python",
   "name": "python",
   "nbconvert_exporter": "python",
   "pygments_lexer": "ipython3",
   "version": "3.10.16"
  }
 },
 "nbformat": 4,
 "nbformat_minor": 5
}

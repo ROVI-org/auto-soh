{
 "cells": [
  {
   "cell_type": "markdown",
   "metadata": {},
   "source": [
    "This notebook is used to try out new implementations and to make sure new ideas\n",
    "work as expected."
   ]
  },
  {
   "cell_type": "code",
   "execution_count": 29,
   "metadata": {},
   "outputs": [
    {
     "name": "stdout",
     "output_type": "stream",
     "text": [
      "Interpolation not performed\n",
      "0.0013818740844726562\n",
      "Interpolation (hopefully) cached\n",
      "0.0002677440643310547\n",
      "Changing y_values\n",
      "Interpolation not performed\n",
      "0.00016689300537109375\n",
      "Interpolation (hopefully) cached\n",
      "0.0001537799835205078\n"
     ]
    }
   ],
   "source": [
    "import numpy as np\n",
    "from scipy.interpolate import interp1d\n",
    "from pydantic import BaseModel, computed_field, validate_call, Field, ConfigDict\n",
    "from typing import Literal, List\n",
    "import time\n",
    "import matplotlib.pyplot as plt\n",
    "\n",
    "class Interpolator(BaseModel,\n",
    "                   arbitrary_types_allowed=True,\n",
    "                   validate_assignment=True):\n",
    "    y: np.ndarray\n",
    "    x: np.ndarray\n",
    "    kind: Literal['linear', 'nearest', 'nearest-up', 'zero', 'slinear', \\\n",
    "                  'quadratic', 'cubic', 'previous', 'next'] = 'linear'\n",
    "\n",
    "    @computed_field\n",
    "    @property\n",
    "    def interp_func(self) -> int:\n",
    "        func = interp1d(self.x, self.y, \n",
    "                        kind=self.kind,\n",
    "                        bounds_error=False,\n",
    "                        fill_value='extrapolate')\n",
    "        return func\n",
    "    \n",
    "    def value(self, x_new):\n",
    "        return self.interp_func(x_new)\n",
    "\n",
    "x = np.arange(11)\n",
    "y = x ** 2\n",
    "\n",
    "interpol = Interpolator(x=x, y=y)\n",
    "x_preds0 = np.linspace(0,5,100)\n",
    "start_time = time.time()\n",
    "print('Interpolation not performed')\n",
    "y_preds00 = interpol.value(x_preds0)\n",
    "print(time.time() - start_time)\n",
    "print('Interpolation (hopefully) cached')\n",
    "x_preds1 = np.linspace(5,10,100)\n",
    "start_time = time.time()\n",
    "y_preds10 = interpol.value(x_preds1)\n",
    "print(time.time() - start_time)\n",
    "print('Changing y_values')\n",
    "print('Interpolation not performed')\n",
    "y_new = (x ** 3) / 8\n",
    "interpol.y = y_new\n",
    "start_time = time.time()\n",
    "y_preds01 = interpol.value(x_preds0)\n",
    "print(time.time() - start_time)\n",
    "print('Interpolation (hopefully) cached')\n",
    "start_time = time.time()\n",
    "y_preds11 = interpol.value(x_preds1)\n",
    "print(time.time() - start_time)"
   ]
  },
  {
   "cell_type": "code",
   "execution_count": 30,
   "metadata": {},
   "outputs": [
    {
     "data": {
      "text/plain": [
       "[<matplotlib.lines.Line2D at 0x128824640>]"
      ]
     },
     "execution_count": 30,
     "metadata": {},
     "output_type": "execute_result"
    },
    {
     "data": {
      "image/png": "[encoded data removed]",
      "text/plain": [
       "<Figure size 640x480 with 1 Axes>"
      ]
     },
     "metadata": {},
     "output_type": "display_data"
    }
   ],
   "source": [
    "plt.plot(x_preds0, y_preds00, color='red')\n",
    "plt.plot(x_preds1, y_preds10, color='blue')\n",
    "plt.plot(x_preds0, y_preds01, color='orange')\n",
    "plt.plot(x_preds1, y_preds11, color='purple')"
   ]
  },
  {
   "cell_type": "code",
   "execution_count": 31,
   "metadata": {},
   "outputs": [
    {
     "data": {
      "text/plain": [
       "array([2.5, 6.5])"
      ]
     },
     "execution_count": 31,
     "metadata": {},
     "output_type": "execute_result"
    }
   ],
   "source": [
    "func = interp1d([1,2,3], [1,4,9], bounds_error=False, fill_value='extrapolate')\n",
    "func([1.5, 2.5])"
   ]
  },
  {
   "cell_type": "code",
   "execution_count": 32,
   "metadata": {},
   "outputs": [
    {
     "name": "stdout",
     "output_type": "stream",
     "text": [
      "[1, 2, 3]\n",
      "[1, 2, 3, []]\n",
      "[1, 2, 3, [], [4, 5]]\n"
     ]
    }
   ],
   "source": [
    "a = [1,2]\n",
    "b = 3\n",
    "c = []\n",
    "d = [4,5]\n",
    "a.append(b)\n",
    "print(a)\n",
    "a.append(c)\n",
    "print(a)\n",
    "a.append(d)\n",
    "print(a)\n"
   ]
  },
  {
   "cell_type": "code",
   "execution_count": 33,
   "metadata": {},
   "outputs": [],
   "source": [
    "from typing import Literal, Union\n",
    "\n",
    "class Dummy(BaseModel):\n",
    "    a: Union[Literal[False], Literal['a']]\n",
    "\n",
    "\n",
    "b = Dummy(a=0)"
   ]
  },
  {
   "cell_type": "code",
   "execution_count": 13,
   "metadata": {},
   "outputs": [
    {
     "name": "stdout",
     "output_type": "stream",
     "text": [
      "6\n",
      "[4, 5, 6, 7.0, 8, 9]\n",
      "7\n",
      "[4, 5, 6, 7.0, 8, 9, 10]\n",
      "7\n",
      "[10, 11, 12, 7.5, 8, 9, 10]\n"
     ]
    }
   ],
   "source": [
    "from asoh.models.base import *\n",
    "import numpy as np\n",
    "\n",
    "class Dummy(HealthVariable, \n",
    "            arbitrary_types_allowed=True,\n",
    "            validate_assignment=True):\n",
    "    a: Union[float, List]\n",
    "    b: Union[float, List]\n",
    "    c: Union[float, List]\n",
    "\n",
    "test = Dummy(base_values=[1,2,3],\n",
    "             a = [4,5,6],\n",
    "             b = 7,\n",
    "             c = [8,9],\n",
    "             updatable=('a', 'b', 'c') # ('base_values','a', 'b', 'c') # ('b',) # \n",
    "             )\n",
    "print(test.updatable_len)\n",
    "print(test.get_updatable_parameter_values())\n",
    "test.c.append(10)\n",
    "print(test.updatable_len)\n",
    "print(test.get_updatable_parameter_values())\n",
    "test.update(new_values=[10,11,12, 7.5], parameters=('a','b'))\n",
    "print(test.updatable_len)\n",
    "print(test.get_updatable_parameter_values())"
   ]
  },
  {
   "cell_type": "code",
   "execution_count": 19,
   "metadata": {},
   "outputs": [
    {
     "name": "stdout",
     "output_type": "stream",
     "text": [
      "[2 3]\n",
      "[4 5]\n"
     ]
    }
   ],
   "source": [
    "class DumDummy(BaseModel):\n",
    "    a: Union[float, List, np.ndarray] = Field(allow_mutation=True)\n",
    "    b: str = Field(allow_mutation=False)\n",
    "    class Config:\n",
    "        arbitrary_types_allowed=True\n",
    "        validate_assignment=True\n",
    "\n",
    "    @validate_call(config=ConfigDict(arbitrary_types_allowed=True))\n",
    "    def update(self, val: Union[float, List, np.ndarray]):\n",
    "        self.a = val\n",
    "\n",
    "test = DumDummy(a=np.array([2,3]), b='b')\n",
    "print(test.a)\n",
    "test.update(np.array([4,5]))\n",
    "print(test.a)\n",
    "# test.b = 'b'"
   ]
  },
  {
   "cell_type": "code",
   "execution_count": 9,
   "metadata": {},
   "outputs": [
    {
     "name": "stdout",
     "output_type": "stream",
     "text": [
      "[1, 2, 3]\n",
      "[1 2 3]\n",
      "[1 2 3]\n"
     ]
    }
   ],
   "source": [
    "a = np.array([1,2,3])\n",
    "print(a.tolist())\n",
    "b = a[:]\n",
    "print(b)\n",
    "print(np.array(b))"
   ]
  },
  {
   "cell_type": "code",
   "execution_count": 8,
   "metadata": {},
   "outputs": [
    {
     "data": {
      "text/plain": [
       "\"('a', 'b', 'cd')\""
      ]
     },
     "execution_count": 8,
     "metadata": {},
     "output_type": "execute_result"
    }
   ],
   "source": [
    "str(('a', 'b', 'cd'))"
   ]
  },
  {
   "cell_type": "code",
   "execution_count": 7,
   "metadata": {},
   "outputs": [
    {
     "data": {
      "text/plain": [
       "[np.int64(2)]"
      ]
     },
     "execution_count": 7,
     "metadata": {},
     "output_type": "execute_result"
    }
   ],
   "source": [
    "b[1:2]"
   ]
  },
  {
   "cell_type": "code",
   "execution_count": 23,
   "metadata": {},
   "outputs": [
    {
     "name": "stdout",
     "output_type": "stream",
     "text": [
      "5.0\n"
     ]
    },
    {
     "ename": "ValidationError",
     "evalue": "1 validation error for Dummy\na\n  Input should be a valid number, unable to parse string as a number [type=float_parsing, input_value='a', input_type=str]\n    For further information visit https://errors.pydantic.dev/2.7/v/float_parsing",
     "output_type": "error",
     "traceback": [
      "\u001b[0;31m---------------------------------------------------------------------------\u001b[0m",
      "\u001b[0;31mValidationError\u001b[0m                           Traceback (most recent call last)",
      "Cell \u001b[0;32mIn[23], line 14\u001b[0m\n\u001b[1;32m     12\u001b[0m test \u001b[38;5;241m=\u001b[39m Dummy(a \u001b[38;5;241m=\u001b[39m \u001b[38;5;241m5\u001b[39m)\n\u001b[1;32m     13\u001b[0m \u001b[38;5;28mprint\u001b[39m(test\u001b[38;5;241m.\u001b[39ma)\n\u001b[0;32m---> 14\u001b[0m \u001b[43mtest\u001b[49m\u001b[38;5;241;43m.\u001b[39;49m\u001b[43ma\u001b[49m \u001b[38;5;241m=\u001b[39m \u001b[38;5;124m'\u001b[39m\u001b[38;5;124ma\u001b[39m\u001b[38;5;124m'\u001b[39m\n",
      "File \u001b[0;32m~/python_envs/ASOH_Diagnostics/lib/python3.9/site-packages/pydantic/main.py:836\u001b[0m, in \u001b[0;36mBaseModel.__setattr__\u001b[0;34m(self, name, value)\u001b[0m\n\u001b[1;32m    834\u001b[0m     attr\u001b[38;5;241m.\u001b[39m\u001b[38;5;21m__set__\u001b[39m(\u001b[38;5;28mself\u001b[39m, value)\n\u001b[1;32m    835\u001b[0m \u001b[38;5;28;01melif\u001b[39;00m \u001b[38;5;28mself\u001b[39m\u001b[38;5;241m.\u001b[39mmodel_config\u001b[38;5;241m.\u001b[39mget(\u001b[38;5;124m'\u001b[39m\u001b[38;5;124mvalidate_assignment\u001b[39m\u001b[38;5;124m'\u001b[39m, \u001b[38;5;28;01mNone\u001b[39;00m):\n\u001b[0;32m--> 836\u001b[0m     \u001b[38;5;28;43mself\u001b[39;49m\u001b[38;5;241;43m.\u001b[39;49m\u001b[43m__pydantic_validator__\u001b[49m\u001b[38;5;241;43m.\u001b[39;49m\u001b[43mvalidate_assignment\u001b[49m\u001b[43m(\u001b[49m\u001b[38;5;28;43mself\u001b[39;49m\u001b[43m,\u001b[49m\u001b[43m \u001b[49m\u001b[43mname\u001b[49m\u001b[43m,\u001b[49m\u001b[43m \u001b[49m\u001b[43mvalue\u001b[49m\u001b[43m)\u001b[49m\n\u001b[1;32m    837\u001b[0m \u001b[38;5;28;01melif\u001b[39;00m \u001b[38;5;28mself\u001b[39m\u001b[38;5;241m.\u001b[39mmodel_config\u001b[38;5;241m.\u001b[39mget(\u001b[38;5;124m'\u001b[39m\u001b[38;5;124mextra\u001b[39m\u001b[38;5;124m'\u001b[39m) \u001b[38;5;241m!=\u001b[39m \u001b[38;5;124m'\u001b[39m\u001b[38;5;124mallow\u001b[39m\u001b[38;5;124m'\u001b[39m \u001b[38;5;129;01mand\u001b[39;00m name \u001b[38;5;129;01mnot\u001b[39;00m \u001b[38;5;129;01min\u001b[39;00m \u001b[38;5;28mself\u001b[39m\u001b[38;5;241m.\u001b[39mmodel_fields:\n\u001b[1;32m    838\u001b[0m     \u001b[38;5;66;03m# TODO - matching error\u001b[39;00m\n\u001b[1;32m    839\u001b[0m     \u001b[38;5;28;01mraise\u001b[39;00m \u001b[38;5;167;01mValueError\u001b[39;00m(\u001b[38;5;124mf\u001b[39m\u001b[38;5;124m'\u001b[39m\u001b[38;5;124m\"\u001b[39m\u001b[38;5;132;01m{\u001b[39;00m\u001b[38;5;28mself\u001b[39m\u001b[38;5;241m.\u001b[39m\u001b[38;5;18m__class__\u001b[39m\u001b[38;5;241m.\u001b[39m\u001b[38;5;18m__name__\u001b[39m\u001b[38;5;132;01m}\u001b[39;00m\u001b[38;5;124m\"\u001b[39m\u001b[38;5;124m object has no field \u001b[39m\u001b[38;5;124m\"\u001b[39m\u001b[38;5;132;01m{\u001b[39;00mname\u001b[38;5;132;01m}\u001b[39;00m\u001b[38;5;124m\"\u001b[39m\u001b[38;5;124m'\u001b[39m)\n",
      "\u001b[0;31mValidationError\u001b[0m: 1 validation error for Dummy\na\n  Input should be a valid number, unable to parse string as a number [type=float_parsing, input_value='a', input_type=str]\n    For further information visit https://errors.pydantic.dev/2.7/v/float_parsing"
     ]
    }
   ],
   "source": [
    "class Dummy(BaseModel, validate_assignment=True):\n",
    "    a: float\n",
    "\n",
    "    @property\n",
    "    def a(self) -> float:\n",
    "        return 0.5 * self._2a\n",
    "\n",
    "    @a.setter\n",
    "    def a(self, val: float) -> None:\n",
    "        self._2a = 2 * val\n",
    "\n",
    "test = Dummy(a = 5)\n",
    "print(test.a)\n",
    "test.a = 'a'"
   ]
  },
  {
   "cell_type": "code",
   "execution_count": 30,
   "metadata": {},
   "outputs": [
    {
     "data": {
      "text/plain": [
       "[True, True, True, True]"
      ]
     },
     "execution_count": 30,
     "metadata": {},
     "output_type": "execute_result"
    }
   ],
   "source": [
    "a = np.array([123,4, np.pi, 1+2j]) # '123'\n",
    "import numbers\n",
    "[isinstance(val, numbers.Number) for val in a]"
   ]
  },
  {
   "cell_type": "code",
   "execution_count": 2,
   "metadata": {},
   "outputs": [
    {
     "data": {
      "text/plain": [
       "[1.0, 0.001]"
      ]
     },
     "execution_count": 2,
     "metadata": {},
     "output_type": "execute_result"
    }
   ],
   "source": [
    "from asoh.models.ecm import SeriesResistance\n",
    "\n",
    "r0 = SeriesResistance(base_values=1, temperature_dependence_factor=1.0e-03)\n",
    "r0.updatable += ('temperature_dependence_factor',)\n",
    "# r0.interpolation_style = 3\n",
    "r0.get_updatable_parameter_values()"
   ]
  },
  {
   "cell_type": "code",
   "execution_count": 49,
   "metadata": {},
   "outputs": [
    {
     "name": "stdout",
     "output_type": "stream",
     "text": [
      "Parent\n",
      "dict_keys(['a'])\n",
      "----------------------------\n",
      "Child\n",
      "dict_keys(['b', 'c'])\n",
      "{'b': 'b', 'c': 'c'}\n",
      "{'properties': {'b': {'default': 'b', 'title': 'B', 'type': 'string'}, 'c': {'default': 'c', 'title': 'C', 'type': 'string'}}, 'title': 'Child', 'type': 'object'}\n"
     ]
    },
    {
     "ename": "AttributeError",
     "evalue": "'Child' object has no attribute 'a'",
     "output_type": "error",
     "traceback": [
      "\u001b[0;31m---------------------------------------------------------------------------\u001b[0m",
      "\u001b[0;31mAttributeError\u001b[0m                            Traceback (most recent call last)",
      "Cell \u001b[0;32mIn[49], line 27\u001b[0m\n\u001b[1;32m     25\u001b[0m \u001b[38;5;28mprint\u001b[39m(child\u001b[38;5;241m.\u001b[39mmodel_dump())\n\u001b[1;32m     26\u001b[0m \u001b[38;5;28mprint\u001b[39m(child\u001b[38;5;241m.\u001b[39mmodel_json_schema())\n\u001b[0;32m---> 27\u001b[0m \u001b[38;5;28mprint\u001b[39m(\u001b[43mchild\u001b[49m\u001b[38;5;241;43m.\u001b[39;49m\u001b[43ma\u001b[49m)\n",
      "File \u001b[0;32m~/python_envs/ASOH_Diagnostics/lib/python3.9/site-packages/pydantic/main.py:811\u001b[0m, in \u001b[0;36mBaseModel.__getattr__\u001b[0;34m(self, item)\u001b[0m\n\u001b[1;32m    808\u001b[0m     \u001b[38;5;28;01mreturn\u001b[39;00m \u001b[38;5;28msuper\u001b[39m()\u001b[38;5;241m.\u001b[39m\u001b[38;5;21m__getattribute__\u001b[39m(item)  \u001b[38;5;66;03m# Raises AttributeError if appropriate\u001b[39;00m\n\u001b[1;32m    809\u001b[0m \u001b[38;5;28;01melse\u001b[39;00m:\n\u001b[1;32m    810\u001b[0m     \u001b[38;5;66;03m# this is the current error\u001b[39;00m\n\u001b[0;32m--> 811\u001b[0m     \u001b[38;5;28;01mraise\u001b[39;00m \u001b[38;5;167;01mAttributeError\u001b[39;00m(\u001b[38;5;124mf\u001b[39m\u001b[38;5;124m'\u001b[39m\u001b[38;5;132;01m{\u001b[39;00m\u001b[38;5;28mtype\u001b[39m(\u001b[38;5;28mself\u001b[39m)\u001b[38;5;241m.\u001b[39m\u001b[38;5;18m__name__\u001b[39m\u001b[38;5;132;01m!r}\u001b[39;00m\u001b[38;5;124m object has no attribute \u001b[39m\u001b[38;5;132;01m{\u001b[39;00mitem\u001b[38;5;132;01m!r}\u001b[39;00m\u001b[38;5;124m'\u001b[39m)\n",
      "\u001b[0;31mAttributeError\u001b[0m: 'Child' object has no attribute 'a'"
     ]
    }
   ],
   "source": [
    "from typing import Any\n",
    "from pydantic import Field, BaseModel\n",
    "from pydantic.json_schema import SkipJsonSchema\n",
    "\n",
    "class Parent(BaseModel):\n",
    "    a: str = 'a'\n",
    "\n",
    "class Child(Parent):\n",
    "    a: SkipJsonSchema[str] = Field('a', exclude=True)\n",
    "    b: str = 'b'\n",
    "    c: str = Field('c') # , exclude=True) #\n",
    "\n",
    "    def model_post_init(self, __context: Any) -> None:\n",
    "        del self.model_fields['a']\n",
    "        delattr(self, 'a')\n",
    "        return super().model_post_init(__context)\n",
    "\n",
    "parent = Parent()\n",
    "print('Parent')\n",
    "print(parent.model_fields.keys())\n",
    "print('----------------------------')\n",
    "child = Child()\n",
    "print('Child')\n",
    "print(child.model_fields.keys())\n",
    "print(child.model_dump())\n",
    "print(child.model_json_schema())\n",
    "print(child.a)"
   ]
  },
  {
   "cell_type": "code",
   "execution_count": 26,
   "metadata": {},
   "outputs": [
    {
     "data": {
      "text/plain": [
       "{'extra': 'forbid'}"
      ]
     },
     "execution_count": 26,
     "metadata": {},
     "output_type": "execute_result"
    }
   ],
   "source": [
    "child.model_config"
   ]
  },
  {
   "cell_type": "code",
   "execution_count": 28,
   "metadata": {},
   "outputs": [
    {
     "data": {
      "text/plain": [
       "{'b': FieldInfo(annotation=str, required=False, default='b'),\n",
       " 'c': FieldInfo(annotation=str, required=False, default='c', exclude=True)}"
      ]
     },
     "execution_count": 28,
     "metadata": {},
     "output_type": "execute_result"
    }
   ],
   "source": [
    "child.model_fields"
   ]
  },
  {
   "cell_type": "code",
   "execution_count": 45,
   "metadata": {},
   "outputs": [
    {
     "name": "stdout",
     "output_type": "stream",
     "text": [
      "             pydantic version: 2.7.4\n",
      "        pydantic-core version: 2.18.4\n",
      "          pydantic-core build: profile=release pgo=false\n",
      "                 install path: /Users/vventuri/python_envs/ASOH_Diagnostics/lib/python3.9/site-packages/pydantic\n",
      "               python version: 3.9.6 (default, Feb  3 2024, 15:58:27)  [Clang 15.0.0 (clang-1500.3.9.4)]\n",
      "                     platform: macOS-14.5-arm64-arm-64bit\n",
      "             related packages: typing_extensions-4.12.2\n",
      "                       commit: unknown\n"
     ]
    }
   ],
   "source": [
    "from pydantic.version import version_info as pydantic_v_info\n",
    "print(pydantic_v_info())\n"
   ]
  },
  {
   "cell_type": "code",
   "execution_count": 7,
   "metadata": {},
   "outputs": [
    {
     "name": "stdout",
     "output_type": "stream",
     "text": [
      "5\n",
      "7\n"
     ]
    },
    {
     "data": {
      "text/plain": [
       "5"
      ]
     },
     "execution_count": 7,
     "metadata": {},
     "output_type": "execute_result"
    }
   ],
   "source": [
    "class FakeList():\n",
    "    def __init__(self, a):\n",
    "        self.a = a\n",
    "\n",
    "    def __len__(self):\n",
    "        return self.a\n",
    "    \n",
    "    def __add__(self, value):\n",
    "        return value + self.a\n",
    "    \n",
    "test = FakeList(5)\n",
    "print(len(test))\n",
    "print(test + 2)\n",
    "test.a"
   ]
  },
  {
   "cell_type": "code",
   "execution_count": null,
   "metadata": {},
   "outputs": [],
   "source": []
  }
 ],
 "metadata": {
  "kernelspec": {
   "display_name": "ASOH_Diagnostics",
   "language": "python",
   "name": "python3"
  },
  "language_info": {
   "codemirror_mode": {
    "name": "ipython",
    "version": 3
   },
   "file_extension": ".py",
   "mimetype": "text/x-python",
   "name": "python",
   "nbconvert_exporter": "python",
   "pygments_lexer": "ipython3",
   "version": "3.9.6"
  }
 },
 "nbformat": 4,
 "nbformat_minor": 2
}

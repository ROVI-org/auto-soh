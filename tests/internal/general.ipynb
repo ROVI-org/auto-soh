{
 "cells": [
  {
   "cell_type": "markdown",
   "metadata": {},
   "source": [
    "This notebook is used to try out new implementations and to make sure new ideas\n",
    "work as expected."
   ]
  },
  {
   "cell_type": "code",
   "execution_count": 1,
   "metadata": {},
   "outputs": [
    {
     "name": "stdout",
     "output_type": "stream",
     "text": [
      "Interpolation not performed\n",
      "0.0003829002380371094\n",
      "Interpolation (hopefully) cached\n",
      "5.2928924560546875e-05\n",
      "Changing y_values\n",
      "Interpolation not performed\n",
      "4.482269287109375e-05\n",
      "Interpolation (hopefully) cached\n",
      "4.100799560546875e-05\n"
     ]
    }
   ],
   "source": [
    "import numpy as np\n",
    "from scipy.interpolate import interp1d\n",
    "from pydantic import BaseModel, computed_field, validate_call, Field, ConfigDict\n",
    "from typing import Literal, List\n",
    "import time\n",
    "import matplotlib.pyplot as plt\n",
    "\n",
    "class Interpolator(BaseModel,\n",
    "                   arbitrary_types_allowed=True,\n",
    "                   validate_assignment=True):\n",
    "    y: np.ndarray\n",
    "    x: np.ndarray\n",
    "    kind: Literal['linear', 'nearest', 'nearest-up', 'zero', 'slinear', \\\n",
    "                  'quadratic', 'cubic', 'previous', 'next'] = 'linear'\n",
    "\n",
    "    @computed_field\n",
    "    @property\n",
    "    def interp_func(self) -> int:\n",
    "        func = interp1d(self.x, self.y, \n",
    "                        kind=self.kind,\n",
    "                        bounds_error=False,\n",
    "                        fill_value='extrapolate')\n",
    "        return func\n",
    "    \n",
    "    def value(self, x_new):\n",
    "        return self.interp_func(x_new)\n",
    "\n",
    "x = np.arange(11)\n",
    "y = x ** 2\n",
    "\n",
    "interpol = Interpolator(x=x, y=y)\n",
    "x_preds0 = np.linspace(0,5,100)\n",
    "start_time = time.time()\n",
    "print('Interpolation not performed')\n",
    "y_preds00 = interpol.value(x_preds0)\n",
    "print(time.time() - start_time)\n",
    "print('Interpolation (hopefully) cached')\n",
    "x_preds1 = np.linspace(5,10,100)\n",
    "start_time = time.time()\n",
    "y_preds10 = interpol.value(x_preds1)\n",
    "print(time.time() - start_time)\n",
    "print('Changing y_values')\n",
    "print('Interpolation not performed')\n",
    "y_new = (x ** 3) / 8\n",
    "interpol.y = y_new\n",
    "start_time = time.time()\n",
    "y_preds01 = interpol.value(x_preds0)\n",
    "print(time.time() - start_time)\n",
    "print('Interpolation (hopefully) cached')\n",
    "start_time = time.time()\n",
    "y_preds11 = interpol.value(x_preds1)\n",
    "print(time.time() - start_time)"
   ]
  },
  {
   "cell_type": "code",
   "execution_count": 15,
   "metadata": {},
   "outputs": [
    {
     "data": {
      "text/plain": [
       "[<matplotlib.lines.Line2D at 0x138b435e0>]"
      ]
     },
     "execution_count": 15,
     "metadata": {},
     "output_type": "execute_result"
    },
    {
     "data": {
      "image/png": "[encoded data removed]",
      "text/plain": [
       "<Figure size 640x480 with 1 Axes>"
      ]
     },
     "metadata": {},
     "output_type": "display_data"
    }
   ],
   "source": [
    "plt.plot(x_preds0, y_preds00, color='red')\n",
    "plt.plot(x_preds1, y_preds10, color='blue')\n",
    "plt.plot(x_preds0, y_preds01, color='orange')\n",
    "plt.plot(x_preds1, y_preds11, color='purple')"
   ]
  },
  {
   "cell_type": "code",
   "execution_count": 16,
   "metadata": {},
   "outputs": [
    {
     "data": {
      "text/plain": [
       "array([2.5, 6.5])"
      ]
     },
     "execution_count": 16,
     "metadata": {},
     "output_type": "execute_result"
    }
   ],
   "source": [
    "func = interp1d([1,2,3], [1,4,9], bounds_error=False, fill_value='extrapolate')\n",
    "func([1.5, 2.5])"
   ]
  },
  {
   "cell_type": "code",
   "execution_count": 17,
   "metadata": {},
   "outputs": [
    {
     "name": "stdout",
     "output_type": "stream",
     "text": [
      "[1, 2, 3]\n",
      "[1, 2, 3, []]\n",
      "[1, 2, 3, [], [4, 5]]\n"
     ]
    }
   ],
   "source": [
    "a = [1,2]\n",
    "b = 3\n",
    "c = []\n",
    "d = [4,5]\n",
    "a.append(b)\n",
    "print(a)\n",
    "a.append(c)\n",
    "print(a)\n",
    "a.append(d)\n",
    "print(a)\n"
   ]
  },
  {
   "cell_type": "code",
   "execution_count": 18,
   "metadata": {},
   "outputs": [],
   "source": [
    "from typing import Literal, Union\n",
    "\n",
    "class Dummy(BaseModel):\n",
    "    a: Union[Literal[False], Literal['a']]\n",
    "\n",
    "\n",
    "b = Dummy(a=0)"
   ]
  },
  {
   "cell_type": "code",
   "execution_count": 19,
   "metadata": {},
   "outputs": [
    {
     "name": "stdout",
     "output_type": "stream",
     "text": [
      "6\n",
      "[4, 5, 6, 7.0, 8, 9]\n",
      "7\n",
      "[4, 5, 6, 7.0, 8, 9, 10]\n",
      "7\n",
      "[10, 11, 12, 7.5, 8, 9, 10]\n"
     ]
    }
   ],
   "source": [
    "from asoh.models.base import *\n",
    "import numpy as np\n",
    "\n",
    "class Dummy(HealthVariable, \n",
    "            arbitrary_types_allowed=True,\n",
    "            validate_assignment=True):\n",
    "    a: Union[float, List]\n",
    "    b: Union[float, List]\n",
    "    c: Union[float, List]\n",
    "\n",
    "test = Dummy(base_values=[1,2,3],\n",
    "             a = [4,5,6],\n",
    "             b = 7,\n",
    "             c = [8,9],\n",
    "             updatable=('a', 'b', 'c') # ('base_values','a', 'b', 'c') # ('b',) # \n",
    "             )\n",
    "print(test.updatable_len)\n",
    "print(test.get_updatable_parameter_values())\n",
    "test.c.append(10)\n",
    "print(test.updatable_len)\n",
    "print(test.get_updatable_parameter_values())\n",
    "test.update(new_values=[10,11,12, 7.5], parameters=('a','b'))\n",
    "print(test.updatable_len)\n",
    "print(test.get_updatable_parameter_values())"
   ]
  },
  {
   "cell_type": "code",
   "execution_count": 20,
   "metadata": {},
   "outputs": [
    {
     "name": "stdout",
     "output_type": "stream",
     "text": [
      "[2 3]\n",
      "[4 5]\n"
     ]
    }
   ],
   "source": [
    "class DumDummy(BaseModel):\n",
    "    a: Union[float, List, np.ndarray] = Field(allow_mutation=True)\n",
    "    b: str = Field(allow_mutation=False)\n",
    "    class Config:\n",
    "        arbitrary_types_allowed=True\n",
    "        validate_assignment=True\n",
    "\n",
    "    @validate_call(config=ConfigDict(arbitrary_types_allowed=True))\n",
    "    def update(self, val: Union[float, List, np.ndarray]):\n",
    "        self.a = val\n",
    "\n",
    "test = DumDummy(a=np.array([2,3]), b='b')\n",
    "print(test.a)\n",
    "test.update(np.array([4,5]))\n",
    "print(test.a)\n",
    "# test.b = 'b'"
   ]
  },
  {
   "cell_type": "code",
   "execution_count": 21,
   "metadata": {},
   "outputs": [
    {
     "name": "stdout",
     "output_type": "stream",
     "text": [
      "[1, 2, 3]\n",
      "[1 2 3]\n",
      "[1 2 3]\n"
     ]
    }
   ],
   "source": [
    "a = np.array([1,2,3])\n",
    "print(a.tolist())\n",
    "b = a[:]\n",
    "print(b)\n",
    "print(np.array(b))"
   ]
  },
  {
   "cell_type": "code",
   "execution_count": 22,
   "metadata": {},
   "outputs": [
    {
     "data": {
      "text/plain": [
       "\"('a', 'b', 'cd')\""
      ]
     },
     "execution_count": 22,
     "metadata": {},
     "output_type": "execute_result"
    }
   ],
   "source": [
    "str(('a', 'b', 'cd'))"
   ]
  },
  {
   "cell_type": "code",
   "execution_count": 23,
   "metadata": {},
   "outputs": [
    {
     "data": {
      "text/plain": [
       "array([2])"
      ]
     },
     "execution_count": 23,
     "metadata": {},
     "output_type": "execute_result"
    }
   ],
   "source": [
    "b[1:2]"
   ]
  },
  {
   "cell_type": "code",
   "execution_count": 24,
   "metadata": {},
   "outputs": [
    {
     "name": "stdout",
     "output_type": "stream",
     "text": [
      "5.0\n"
     ]
    },
    {
     "ename": "ValidationError",
     "evalue": "1 validation error for Dummy\na\n  Input should be a valid number, unable to parse string as a number [type=float_parsing, input_value='a', input_type=str]\n    For further information visit https://errors.pydantic.dev/2.7/v/float_parsing",
     "output_type": "error",
     "traceback": [
      "\u001b[0;31m---------------------------------------------------------------------------\u001b[0m",
      "\u001b[0;31mValidationError\u001b[0m                           Traceback (most recent call last)",
      "Cell \u001b[0;32mIn[24], line 14\u001b[0m\n\u001b[1;32m     12\u001b[0m test \u001b[38;5;241m=\u001b[39m Dummy(a \u001b[38;5;241m=\u001b[39m \u001b[38;5;241m5\u001b[39m)\n\u001b[1;32m     13\u001b[0m \u001b[38;5;28mprint\u001b[39m(test\u001b[38;5;241m.\u001b[39ma)\n\u001b[0;32m---> 14\u001b[0m \u001b[43mtest\u001b[49m\u001b[38;5;241;43m.\u001b[39;49m\u001b[43ma\u001b[49m \u001b[38;5;241m=\u001b[39m \u001b[38;5;124m'\u001b[39m\u001b[38;5;124ma\u001b[39m\u001b[38;5;124m'\u001b[39m\n",
      "File \u001b[0;32m~/python_envs/ASOH_Diagnostics/lib/python3.9/site-packages/pydantic/main.py:836\u001b[0m, in \u001b[0;36mBaseModel.__setattr__\u001b[0;34m(self, name, value)\u001b[0m\n\u001b[1;32m    834\u001b[0m     attr\u001b[38;5;241m.\u001b[39m\u001b[38;5;21m__set__\u001b[39m(\u001b[38;5;28mself\u001b[39m, value)\n\u001b[1;32m    835\u001b[0m \u001b[38;5;28;01melif\u001b[39;00m \u001b[38;5;28mself\u001b[39m\u001b[38;5;241m.\u001b[39mmodel_config\u001b[38;5;241m.\u001b[39mget(\u001b[38;5;124m'\u001b[39m\u001b[38;5;124mvalidate_assignment\u001b[39m\u001b[38;5;124m'\u001b[39m, \u001b[38;5;28;01mNone\u001b[39;00m):\n\u001b[0;32m--> 836\u001b[0m     \u001b[38;5;28;43mself\u001b[39;49m\u001b[38;5;241;43m.\u001b[39;49m\u001b[43m__pydantic_validator__\u001b[49m\u001b[38;5;241;43m.\u001b[39;49m\u001b[43mvalidate_assignment\u001b[49m\u001b[43m(\u001b[49m\u001b[38;5;28;43mself\u001b[39;49m\u001b[43m,\u001b[49m\u001b[43m \u001b[49m\u001b[43mname\u001b[49m\u001b[43m,\u001b[49m\u001b[43m \u001b[49m\u001b[43mvalue\u001b[49m\u001b[43m)\u001b[49m\n\u001b[1;32m    837\u001b[0m \u001b[38;5;28;01melif\u001b[39;00m \u001b[38;5;28mself\u001b[39m\u001b[38;5;241m.\u001b[39mmodel_config\u001b[38;5;241m.\u001b[39mget(\u001b[38;5;124m'\u001b[39m\u001b[38;5;124mextra\u001b[39m\u001b[38;5;124m'\u001b[39m) \u001b[38;5;241m!=\u001b[39m \u001b[38;5;124m'\u001b[39m\u001b[38;5;124mallow\u001b[39m\u001b[38;5;124m'\u001b[39m \u001b[38;5;129;01mand\u001b[39;00m name \u001b[38;5;129;01mnot\u001b[39;00m \u001b[38;5;129;01min\u001b[39;00m \u001b[38;5;28mself\u001b[39m\u001b[38;5;241m.\u001b[39mmodel_fields:\n\u001b[1;32m    838\u001b[0m     \u001b[38;5;66;03m# TODO - matching error\u001b[39;00m\n\u001b[1;32m    839\u001b[0m     \u001b[38;5;28;01mraise\u001b[39;00m \u001b[38;5;167;01mValueError\u001b[39;00m(\u001b[38;5;124mf\u001b[39m\u001b[38;5;124m'\u001b[39m\u001b[38;5;124m\"\u001b[39m\u001b[38;5;132;01m{\u001b[39;00m\u001b[38;5;28mself\u001b[39m\u001b[38;5;241m.\u001b[39m\u001b[38;5;18m__class__\u001b[39m\u001b[38;5;241m.\u001b[39m\u001b[38;5;18m__name__\u001b[39m\u001b[38;5;132;01m}\u001b[39;00m\u001b[38;5;124m\"\u001b[39m\u001b[38;5;124m object has no field \u001b[39m\u001b[38;5;124m\"\u001b[39m\u001b[38;5;132;01m{\u001b[39;00mname\u001b[38;5;132;01m}\u001b[39;00m\u001b[38;5;124m\"\u001b[39m\u001b[38;5;124m'\u001b[39m)\n",
      "\u001b[0;31mValidationError\u001b[0m: 1 validation error for Dummy\na\n  Input should be a valid number, unable to parse string as a number [type=float_parsing, input_value='a', input_type=str]\n    For further information visit https://errors.pydantic.dev/2.7/v/float_parsing"
     ]
    }
   ],
   "source": [
    "class Dummy(BaseModel, validate_assignment=True):\n",
    "    a: float\n",
    "\n",
    "    @property\n",
    "    def a(self) -> float:\n",
    "        return 0.5 * self._2a\n",
    "\n",
    "    @a.setter\n",
    "    def a(self, val: float) -> None:\n",
    "        self._2a = 2 * val\n",
    "\n",
    "test = Dummy(a = 5)\n",
    "print(test.a)\n",
    "test.a = 'a'"
   ]
  },
  {
   "cell_type": "code",
   "execution_count": 25,
   "metadata": {},
   "outputs": [
    {
     "data": {
      "text/plain": [
       "[True, True, True, True]"
      ]
     },
     "execution_count": 25,
     "metadata": {},
     "output_type": "execute_result"
    }
   ],
   "source": [
    "a = np.array([123,4, np.pi, 1+2j]) # '123'\n",
    "import numbers\n",
    "[isinstance(val, numbers.Number) for val in a]"
   ]
  },
  {
   "cell_type": "code",
   "execution_count": 26,
   "metadata": {},
   "outputs": [
    {
     "ename": "ImportError",
     "evalue": "cannot import name 'SeriesResistance' from 'asoh.models.ecm' (/Users/vventuri/Library/CloudStorage/Dropbox/Argonne/Code/auto-soh/asoh/models/ecm.py)",
     "output_type": "error",
     "traceback": [
      "\u001b[0;31m---------------------------------------------------------------------------\u001b[0m",
      "\u001b[0;31mImportError\u001b[0m                               Traceback (most recent call last)",
      "Cell \u001b[0;32mIn[26], line 1\u001b[0m\n\u001b[0;32m----> 1\u001b[0m \u001b[38;5;28;01mfrom\u001b[39;00m \u001b[38;5;21;01masoh\u001b[39;00m\u001b[38;5;21;01m.\u001b[39;00m\u001b[38;5;21;01mmodels\u001b[39;00m\u001b[38;5;21;01m.\u001b[39;00m\u001b[38;5;21;01mecm\u001b[39;00m \u001b[38;5;28;01mimport\u001b[39;00m SeriesResistance\n\u001b[1;32m      3\u001b[0m r0 \u001b[38;5;241m=\u001b[39m SeriesResistance(base_values\u001b[38;5;241m=\u001b[39m\u001b[38;5;241m1\u001b[39m, temperature_dependence_factor\u001b[38;5;241m=\u001b[39m\u001b[38;5;241m1.0e-03\u001b[39m)\n\u001b[1;32m      4\u001b[0m r0\u001b[38;5;241m.\u001b[39mupdatable \u001b[38;5;241m+\u001b[39m\u001b[38;5;241m=\u001b[39m (\u001b[38;5;124m'\u001b[39m\u001b[38;5;124mtemperature_dependence_factor\u001b[39m\u001b[38;5;124m'\u001b[39m,)\n",
      "\u001b[0;31mImportError\u001b[0m: cannot import name 'SeriesResistance' from 'asoh.models.ecm' (/Users/vventuri/Library/CloudStorage/Dropbox/Argonne/Code/auto-soh/asoh/models/ecm.py)"
     ]
    }
   ],
   "source": [
    "from asoh.models.ecm import SeriesResistance\n",
    "\n",
    "r0 = SeriesResistance(base_values=1, temperature_dependence_factor=1.0e-03)\n",
    "r0.updatable += ('temperature_dependence_factor',)\n",
    "# r0.interpolation_style = 3\n",
    "r0.get_updatable_parameter_values()"
   ]
  },
  {
   "cell_type": "code",
   "execution_count": 27,
   "metadata": {},
   "outputs": [
    {
     "name": "stdout",
     "output_type": "stream",
     "text": [
      "Parent\n",
      "dict_keys(['a'])\n",
      "----------------------------\n",
      "Child\n",
      "dict_keys(['b', 'c'])\n",
      "{'b': 'b', 'c': 'c'}\n",
      "{'properties': {'b': {'default': 'b', 'title': 'B', 'type': 'string'}, 'c': {'default': 'c', 'title': 'C', 'type': 'string'}}, 'title': 'Child', 'type': 'object'}\n",
      "True\n"
     ]
    },
    {
     "ename": "AttributeError",
     "evalue": "'Child' object has no attribute 'a'",
     "output_type": "error",
     "traceback": [
      "\u001b[0;31m---------------------------------------------------------------------------\u001b[0m",
      "\u001b[0;31mAttributeError\u001b[0m                            Traceback (most recent call last)",
      "Cell \u001b[0;32mIn[27], line 28\u001b[0m\n\u001b[1;32m     26\u001b[0m \u001b[38;5;28mprint\u001b[39m(child\u001b[38;5;241m.\u001b[39mmodel_json_schema())\n\u001b[1;32m     27\u001b[0m \u001b[38;5;28mprint\u001b[39m(\u001b[38;5;28misinstance\u001b[39m(child, Parent))\n\u001b[0;32m---> 28\u001b[0m \u001b[38;5;28mprint\u001b[39m(\u001b[43mchild\u001b[49m\u001b[38;5;241;43m.\u001b[39;49m\u001b[43ma\u001b[49m)\n",
      "File \u001b[0;32m~/python_envs/ASOH_Diagnostics/lib/python3.9/site-packages/pydantic/main.py:811\u001b[0m, in \u001b[0;36mBaseModel.__getattr__\u001b[0;34m(self, item)\u001b[0m\n\u001b[1;32m    808\u001b[0m     \u001b[38;5;28;01mreturn\u001b[39;00m \u001b[38;5;28msuper\u001b[39m()\u001b[38;5;241m.\u001b[39m\u001b[38;5;21m__getattribute__\u001b[39m(item)  \u001b[38;5;66;03m# Raises AttributeError if appropriate\u001b[39;00m\n\u001b[1;32m    809\u001b[0m \u001b[38;5;28;01melse\u001b[39;00m:\n\u001b[1;32m    810\u001b[0m     \u001b[38;5;66;03m# this is the current error\u001b[39;00m\n\u001b[0;32m--> 811\u001b[0m     \u001b[38;5;28;01mraise\u001b[39;00m \u001b[38;5;167;01mAttributeError\u001b[39;00m(\u001b[38;5;124mf\u001b[39m\u001b[38;5;124m'\u001b[39m\u001b[38;5;132;01m{\u001b[39;00m\u001b[38;5;28mtype\u001b[39m(\u001b[38;5;28mself\u001b[39m)\u001b[38;5;241m.\u001b[39m\u001b[38;5;18m__name__\u001b[39m\u001b[38;5;132;01m!r}\u001b[39;00m\u001b[38;5;124m object has no attribute \u001b[39m\u001b[38;5;132;01m{\u001b[39;00mitem\u001b[38;5;132;01m!r}\u001b[39;00m\u001b[38;5;124m'\u001b[39m)\n",
      "\u001b[0;31mAttributeError\u001b[0m: 'Child' object has no attribute 'a'"
     ]
    }
   ],
   "source": [
    "from typing import Any\n",
    "from pydantic import Field, BaseModel\n",
    "from pydantic.json_schema import SkipJsonSchema\n",
    "\n",
    "class Parent(BaseModel):\n",
    "    a: str = 'a'\n",
    "\n",
    "class Child(Parent):\n",
    "    a: SkipJsonSchema[str] = Field('a', exclude=True)\n",
    "    b: str = 'b'\n",
    "    c: str = Field('c') # , exclude=True) #\n",
    "\n",
    "    def model_post_init(self, __context: Any) -> None:\n",
    "        del self.model_fields['a']\n",
    "        delattr(self, 'a')\n",
    "        return super().model_post_init(__context)\n",
    "\n",
    "parent = Parent()\n",
    "print('Parent')\n",
    "print(parent.model_fields.keys())\n",
    "print('----------------------------')\n",
    "child = Child()\n",
    "print('Child')\n",
    "print(child.model_fields.keys())\n",
    "print(child.model_dump())\n",
    "print(child.model_json_schema())\n",
    "print(isinstance(child, Parent))\n",
    "print(child.a)"
   ]
  },
  {
   "cell_type": "code",
   "execution_count": 28,
   "metadata": {},
   "outputs": [
    {
     "data": {
      "text/plain": [
       "{}"
      ]
     },
     "execution_count": 28,
     "metadata": {},
     "output_type": "execute_result"
    }
   ],
   "source": [
    "child.model_config"
   ]
  },
  {
   "cell_type": "code",
   "execution_count": 29,
   "metadata": {},
   "outputs": [
    {
     "data": {
      "text/plain": [
       "{'b': FieldInfo(annotation=str, required=False, default='b'),\n",
       " 'c': FieldInfo(annotation=str, required=False, default='c')}"
      ]
     },
     "execution_count": 29,
     "metadata": {},
     "output_type": "execute_result"
    }
   ],
   "source": [
    "child.model_fields"
   ]
  },
  {
   "cell_type": "code",
   "execution_count": 30,
   "metadata": {},
   "outputs": [
    {
     "name": "stdout",
     "output_type": "stream",
     "text": [
      "             pydantic version: 2.7.4\n",
      "        pydantic-core version: 2.18.4\n",
      "          pydantic-core build: profile=release pgo=false\n",
      "                 install path: /Users/vventuri/python_envs/ASOH_Diagnostics/lib/python3.9/site-packages/pydantic\n",
      "               python version: 3.9.6 (default, Feb  3 2024, 15:58:27)  [Clang 15.0.0 (clang-1500.3.9.4)]\n",
      "                     platform: macOS-14.5-arm64-arm-64bit\n",
      "             related packages: typing_extensions-4.12.2\n",
      "                       commit: unknown\n"
     ]
    }
   ],
   "source": [
    "from pydantic.version import version_info as pydantic_v_info\n",
    "print(pydantic_v_info())\n"
   ]
  },
  {
   "cell_type": "code",
   "execution_count": 31,
   "metadata": {},
   "outputs": [
    {
     "name": "stdout",
     "output_type": "stream",
     "text": [
      "5\n",
      "7\n",
      "5\n"
     ]
    },
    {
     "data": {
      "text/plain": [
       "True"
      ]
     },
     "execution_count": 31,
     "metadata": {},
     "output_type": "execute_result"
    }
   ],
   "source": [
    "from typing import Sized\n",
    "class FakeList():\n",
    "    def __init__(self, a):\n",
    "        self.a = a\n",
    "\n",
    "    def __len__(self):\n",
    "        return self.a\n",
    "    \n",
    "    def __add__(self, value):\n",
    "        return value + self.a\n",
    "    \n",
    "test = FakeList(5)\n",
    "print(len(test))\n",
    "print(test + 2)\n",
    "print(test.a)\n",
    "isinstance(test, Sized)"
   ]
  },
  {
   "cell_type": "code",
   "execution_count": 32,
   "metadata": {},
   "outputs": [],
   "source": [
    "a = np.array([1,2,3])\n",
    "b = getattr(a, 'update', None)\n",
    "b"
   ]
  },
  {
   "cell_type": "code",
   "execution_count": 33,
   "metadata": {},
   "outputs": [
    {
     "data": {
      "text/plain": [
       "False"
      ]
     },
     "execution_count": 33,
     "metadata": {},
     "output_type": "execute_result"
    }
   ],
   "source": [
    "callable(None)"
   ]
  },
  {
   "cell_type": "code",
   "execution_count": 1,
   "metadata": {},
   "outputs": [
    {
     "name": "stdout",
     "output_type": "stream",
     "text": [
      "[0, 1, 2, 3, 4, 5, 6, 7, 8, 9, 2000.0, 2100.0, 2200.0, 2300.0, 2400.0, 2500.0, 2600.0, 2700.0]\n",
      "[array(4.5), array(2350.)]\n",
      "18\n",
      "[array(7.75), array(16.25)]\n",
      "[1, 2, 3, 4, 5, 6, 7, 8, 9, 10, 11, 12, 13, 14, 15, 16, 17, 18]\n",
      "dict_keys(['Capacitance', 'Resistance'])\n",
      "{'R': <class 'asoh.models.ecm.Resistance'>, 'C': <class 'asoh.models.ecm.Capacitance'>, 'updatable': typing.Union[typing.Literal[False], tuple[str, ...]], 'name': typing.Optional[str]}\n"
     ]
    }
   ],
   "source": [
    "import numpy as np\n",
    "from asoh.models.base import *\n",
    "from asoh.models.ecm import Resistance, Capacitance, RCComponent\n",
    "\n",
    "r = Resistance(base_values=np.arange(10, dtype=int).tolist())\n",
    "c = Capacitance(base_values=np.linspace(2000, 2700, 8, dtype=float).tolist())\n",
    "rc = RCComponent(R=r, C=c) # , updatable=('R',)) # \n",
    "print(rc.get_updatable_parameter_values())\n",
    "print(rc.value(soc=0.5))\n",
    "print(len(rc))\n",
    "new_r_vals = [1,2,3,4,5,6,7,8,9,10]\n",
    "new_c_vals = [11,12,13,14,15,16,17,18]\n",
    "rc.update(new_values=new_r_vals+new_c_vals) # 37) #, parameters=('R', 'C')) # \n",
    "print(rc.value(soc=0.75))\n",
    "print(rc.get_updatable_parameter_values())\n",
    "print(rc.model_json_schema()['$defs'].keys())\n",
    "print(rc.__annotations__)"
   ]
  },
  {
   "cell_type": "code",
   "execution_count": 2,
   "metadata": {},
   "outputs": [
    {
     "name": "stdout",
     "output_type": "stream",
     "text": [
      "('R', 'C', 'a')\n",
      "dict_keys(['updatable', 'R', 'C', 'name', 'a', 'b'])\n",
      "[1, 2, 3, 4, 5, 6, 7, 8, 9, 10, 11, 12, 13, 14, 15, 16, 17, 18, 21, 22, 23]\n",
      "21\n"
     ]
    }
   ],
   "source": [
    "class DummyHVCol(HealthVariableCollection):\n",
    "    a: HealthVariable\n",
    "    b: HealthVariable\n",
    "r2 = Resistance(base_values=[21,22,23])\n",
    "c2 = Capacitance(base_values=[31,32,33,34,35,36,37], updatable=False)\n",
    "rc2 = DummyHVCol(a=r2, b=c2)\n",
    "rc3 = rc + rc2\n",
    "print(rc3.updatable)\n",
    "print(rc3.model_fields.keys())\n",
    "print(rc3.get_updatable_parameter_values())\n",
    "print(len(rc3))\n",
    "\n",
    "# rc += rc2\n",
    "# print(rc.updatable)\n",
    "# print(rc.get_updatable_parameter_values())\n",
    "# print(len(rc))"
   ]
  },
  {
   "cell_type": "code",
   "execution_count": 3,
   "metadata": {},
   "outputs": [
    {
     "name": "stdout",
     "output_type": "stream",
     "text": [
      "[1, 2, 3, 4, 5, 6, 7, 8, 9, 10, 11, 12, 13, 14, 15, 16, 17, 18]\n",
      "18\n",
      "dict_keys(['updatable', 'R', 'C'])\n",
      "('R', 'C')\n"
     ]
    },
    {
     "name": "stderr",
     "output_type": "stream",
     "text": [
      "/Users/vventuri/Library/CloudStorage/Dropbox/Argonne/Code/auto-soh/asoh/models/base.py:241: UserWarning: Field a was set to None, so it is being removed.\n",
      "  warn(msg)\n",
      "/Users/vventuri/Library/CloudStorage/Dropbox/Argonne/Code/auto-soh/asoh/models/base.py:241: UserWarning: Field b was set to None, so it is being removed.\n",
      "  warn(msg)\n"
     ]
    }
   ],
   "source": [
    "rc4 = RCComponent(R=r, C=c)\n",
    "print(rc4.get_updatable_parameter_values())\n",
    "print(len(rc4))\n",
    "print(rc4.model_fields.keys())\n",
    "print(rc4.updatable)\n",
    "# print(rc4.a)"
   ]
  },
  {
   "cell_type": "code",
   "execution_count": 4,
   "metadata": {},
   "outputs": [
    {
     "name": "stdout",
     "output_type": "stream",
     "text": [
      "('R', 'C', 'a')\n",
      "dict_keys(['updatable', 'R', 'C'])\n",
      "[1, 2, 3, 4, 5, 6, 7, 8, 9, 10, 11, 12, 13, 14, 15, 16, 17, 18, 21, 22, 23]\n",
      "21\n",
      "base_values=[21, 22, 23] updatable=('base_values',) soc_pinpoints=[] interpolation_style='linear' reference_temperature=25 temperature_dependence_factor=0 updatable_len=3\n",
      "dict_keys(['updatable', 'R', 'C', 'a', 'b', 'updatable_len'])\n"
     ]
    }
   ],
   "source": [
    "print(rc3.updatable)\n",
    "print(rc3.model_fields.keys())\n",
    "print(rc3.get_updatable_parameter_values())\n",
    "print(len(rc3))\n",
    "print(rc3.a)\n",
    "print(rc3.model_dump().keys())"
   ]
  },
  {
   "cell_type": "code",
   "execution_count": 6,
   "metadata": {},
   "outputs": [
    {
     "ename": "ValueError",
     "evalue": "Attribute 'R' has already been set! Please use a different name.",
     "output_type": "error",
     "traceback": [
      "\u001b[0;31m---------------------------------------------------------------------------\u001b[0m",
      "\u001b[0;31mValueError\u001b[0m                                Traceback (most recent call last)",
      "Cell \u001b[0;32mIn[6], line 1\u001b[0m\n\u001b[0;32m----> 1\u001b[0m bla \u001b[38;5;241m=\u001b[39m \u001b[43mrc3\u001b[49m\u001b[43m \u001b[49m\u001b[38;5;241;43m+\u001b[39;49m\u001b[43m \u001b[49m\u001b[43mrc4\u001b[49m\n\u001b[1;32m      2\u001b[0m bla\u001b[38;5;241m.\u001b[39mget_updatable_parameter_values()\n",
      "File \u001b[0;32m~/python_envs/ASOH_Diagnostics/lib/python3.9/site-packages/pydantic/validate_call_decorator.py:59\u001b[0m, in \u001b[0;36mvalidate_call.<locals>.validate.<locals>.wrapper_function\u001b[0;34m(*args, **kwargs)\u001b[0m\n\u001b[1;32m     57\u001b[0m \u001b[38;5;129m@functools\u001b[39m\u001b[38;5;241m.\u001b[39mwraps(function)\n\u001b[1;32m     58\u001b[0m \u001b[38;5;28;01mdef\u001b[39;00m \u001b[38;5;21mwrapper_function\u001b[39m(\u001b[38;5;241m*\u001b[39margs, \u001b[38;5;241m*\u001b[39m\u001b[38;5;241m*\u001b[39mkwargs):\n\u001b[0;32m---> 59\u001b[0m     \u001b[38;5;28;01mreturn\u001b[39;00m \u001b[43mvalidate_call_wrapper\u001b[49m\u001b[43m(\u001b[49m\u001b[38;5;241;43m*\u001b[39;49m\u001b[43margs\u001b[49m\u001b[43m,\u001b[49m\u001b[43m \u001b[49m\u001b[38;5;241;43m*\u001b[39;49m\u001b[38;5;241;43m*\u001b[39;49m\u001b[43mkwargs\u001b[49m\u001b[43m)\u001b[49m\n",
      "File \u001b[0;32m~/python_envs/ASOH_Diagnostics/lib/python3.9/site-packages/pydantic/_internal/_validate_call.py:81\u001b[0m, in \u001b[0;36mValidateCallWrapper.__call__\u001b[0;34m(self, *args, **kwargs)\u001b[0m\n\u001b[1;32m     80\u001b[0m \u001b[38;5;28;01mdef\u001b[39;00m \u001b[38;5;21m__call__\u001b[39m(\u001b[38;5;28mself\u001b[39m, \u001b[38;5;241m*\u001b[39margs: Any, \u001b[38;5;241m*\u001b[39m\u001b[38;5;241m*\u001b[39mkwargs: Any) \u001b[38;5;241m-\u001b[39m\u001b[38;5;241m>\u001b[39m Any:\n\u001b[0;32m---> 81\u001b[0m     res \u001b[38;5;241m=\u001b[39m \u001b[38;5;28;43mself\u001b[39;49m\u001b[38;5;241;43m.\u001b[39;49m\u001b[43m__pydantic_validator__\u001b[49m\u001b[38;5;241;43m.\u001b[39;49m\u001b[43mvalidate_python\u001b[49m\u001b[43m(\u001b[49m\u001b[43mpydantic_core\u001b[49m\u001b[38;5;241;43m.\u001b[39;49m\u001b[43mArgsKwargs\u001b[49m\u001b[43m(\u001b[49m\u001b[43margs\u001b[49m\u001b[43m,\u001b[49m\u001b[43m \u001b[49m\u001b[43mkwargs\u001b[49m\u001b[43m)\u001b[49m\u001b[43m)\u001b[49m\n\u001b[1;32m     82\u001b[0m     \u001b[38;5;28;01mif\u001b[39;00m \u001b[38;5;28mself\u001b[39m\u001b[38;5;241m.\u001b[39m__return_pydantic_validator__:\n\u001b[1;32m     83\u001b[0m         \u001b[38;5;28;01mreturn\u001b[39;00m \u001b[38;5;28mself\u001b[39m\u001b[38;5;241m.\u001b[39m__return_pydantic_validator__(res)\n",
      "File \u001b[0;32m~/Library/CloudStorage/Dropbox/Argonne/Code/auto-soh/asoh/models/base.py:323\u001b[0m, in \u001b[0;36mHealthVariableCollection.__add__\u001b[0;34m(self, variable)\u001b[0m\n\u001b[1;32m    318\u001b[0m \u001b[38;5;250m\u001b[39m\u001b[38;5;124;03m\"\"\"\u001b[39;00m\n\u001b[1;32m    319\u001b[0m \u001b[38;5;124;03mOverloading addition operator ('+') so this can be treated like a python\u001b[39;00m\n\u001b[1;32m    320\u001b[0m \u001b[38;5;124;03mlist\u001b[39;00m\n\u001b[1;32m    321\u001b[0m \u001b[38;5;124;03m\"\"\"\u001b[39;00m\n\u001b[1;32m    322\u001b[0m new_collection \u001b[38;5;241m=\u001b[39m deepcopy(\u001b[38;5;28mself\u001b[39m)\n\u001b[0;32m--> 323\u001b[0m new_collection \u001b[38;5;241m+\u001b[39m\u001b[38;5;241m=\u001b[39m variable\n\u001b[1;32m    324\u001b[0m \u001b[38;5;28;01mreturn\u001b[39;00m new_collection\n",
      "File \u001b[0;32m~/Library/CloudStorage/Dropbox/Argonne/Code/auto-soh/asoh/models/base.py:335\u001b[0m, in \u001b[0;36mHealthVariableCollection.__iadd__\u001b[0;34m(self, variable)\u001b[0m\n\u001b[1;32m    333\u001b[0m     \u001b[38;5;28;01mfor\u001b[39;00m hv_name \u001b[38;5;129;01min\u001b[39;00m variable\u001b[38;5;241m.\u001b[39m\u001b[38;5;18m__dict__\u001b[39m\u001b[38;5;241m.\u001b[39mkeys():\n\u001b[1;32m    334\u001b[0m         \u001b[38;5;28;01mif\u001b[39;00m hv_name \u001b[38;5;241m!=\u001b[39m \u001b[38;5;124m'\u001b[39m\u001b[38;5;124mupdatable\u001b[39m\u001b[38;5;124m'\u001b[39m:\n\u001b[0;32m--> 335\u001b[0m             \u001b[38;5;28;43mself\u001b[39;49m\u001b[38;5;241;43m.\u001b[39;49m\u001b[43madd_health_variable\u001b[49m\u001b[43m(\u001b[49m\n\u001b[1;32m    336\u001b[0m \u001b[43m                \u001b[49m\u001b[43mvariable\u001b[49m\u001b[38;5;241;43m=\u001b[39;49m\u001b[38;5;28;43mgetattr\u001b[39;49m\u001b[43m(\u001b[49m\u001b[43mvariable\u001b[49m\u001b[43m,\u001b[49m\u001b[43m \u001b[49m\u001b[43mhv_name\u001b[49m\u001b[43m)\u001b[49m\u001b[43m,\u001b[49m\n\u001b[1;32m    337\u001b[0m \u001b[43m                \u001b[49m\u001b[43mname\u001b[49m\u001b[38;5;241;43m=\u001b[39;49m\u001b[43mhv_name\u001b[49m\u001b[43m)\u001b[49m\n\u001b[1;32m    338\u001b[0m \u001b[38;5;28;01melif\u001b[39;00m \u001b[38;5;28misinstance\u001b[39m(variable, HealthVariable):\n\u001b[1;32m    339\u001b[0m     \u001b[38;5;28mself\u001b[39m\u001b[38;5;241m.\u001b[39madd_health_variable(variable\u001b[38;5;241m=\u001b[39mvariable)\n",
      "File \u001b[0;32m~/python_envs/ASOH_Diagnostics/lib/python3.9/site-packages/pydantic/validate_call_decorator.py:59\u001b[0m, in \u001b[0;36mvalidate_call.<locals>.validate.<locals>.wrapper_function\u001b[0;34m(*args, **kwargs)\u001b[0m\n\u001b[1;32m     57\u001b[0m \u001b[38;5;129m@functools\u001b[39m\u001b[38;5;241m.\u001b[39mwraps(function)\n\u001b[1;32m     58\u001b[0m \u001b[38;5;28;01mdef\u001b[39;00m \u001b[38;5;21mwrapper_function\u001b[39m(\u001b[38;5;241m*\u001b[39margs, \u001b[38;5;241m*\u001b[39m\u001b[38;5;241m*\u001b[39mkwargs):\n\u001b[0;32m---> 59\u001b[0m     \u001b[38;5;28;01mreturn\u001b[39;00m \u001b[43mvalidate_call_wrapper\u001b[49m\u001b[43m(\u001b[49m\u001b[38;5;241;43m*\u001b[39;49m\u001b[43margs\u001b[49m\u001b[43m,\u001b[49m\u001b[43m \u001b[49m\u001b[38;5;241;43m*\u001b[39;49m\u001b[38;5;241;43m*\u001b[39;49m\u001b[43mkwargs\u001b[49m\u001b[43m)\u001b[49m\n",
      "File \u001b[0;32m~/python_envs/ASOH_Diagnostics/lib/python3.9/site-packages/pydantic/_internal/_validate_call.py:81\u001b[0m, in \u001b[0;36mValidateCallWrapper.__call__\u001b[0;34m(self, *args, **kwargs)\u001b[0m\n\u001b[1;32m     80\u001b[0m \u001b[38;5;28;01mdef\u001b[39;00m \u001b[38;5;21m__call__\u001b[39m(\u001b[38;5;28mself\u001b[39m, \u001b[38;5;241m*\u001b[39margs: Any, \u001b[38;5;241m*\u001b[39m\u001b[38;5;241m*\u001b[39mkwargs: Any) \u001b[38;5;241m-\u001b[39m\u001b[38;5;241m>\u001b[39m Any:\n\u001b[0;32m---> 81\u001b[0m     res \u001b[38;5;241m=\u001b[39m \u001b[38;5;28;43mself\u001b[39;49m\u001b[38;5;241;43m.\u001b[39;49m\u001b[43m__pydantic_validator__\u001b[49m\u001b[38;5;241;43m.\u001b[39;49m\u001b[43mvalidate_python\u001b[49m\u001b[43m(\u001b[49m\u001b[43mpydantic_core\u001b[49m\u001b[38;5;241;43m.\u001b[39;49m\u001b[43mArgsKwargs\u001b[49m\u001b[43m(\u001b[49m\u001b[43margs\u001b[49m\u001b[43m,\u001b[49m\u001b[43m \u001b[49m\u001b[43mkwargs\u001b[49m\u001b[43m)\u001b[49m\u001b[43m)\u001b[49m\n\u001b[1;32m     82\u001b[0m     \u001b[38;5;28;01mif\u001b[39;00m \u001b[38;5;28mself\u001b[39m\u001b[38;5;241m.\u001b[39m__return_pydantic_validator__:\n\u001b[1;32m     83\u001b[0m         \u001b[38;5;28;01mreturn\u001b[39;00m \u001b[38;5;28mself\u001b[39m\u001b[38;5;241m.\u001b[39m__return_pydantic_validator__(res)\n",
      "File \u001b[0;32m~/Library/CloudStorage/Dropbox/Argonne/Code/auto-soh/asoh/models/base.py:292\u001b[0m, in \u001b[0;36mHealthVariableCollection.add_health_variable\u001b[0;34m(self, variable, name)\u001b[0m\n\u001b[1;32m    290\u001b[0m     msg \u001b[38;5;241m=\u001b[39m \u001b[38;5;124m'\u001b[39m\u001b[38;5;124mAttribute \u001b[39m\u001b[38;5;130;01m\\'\u001b[39;00m\u001b[38;5;124m'\u001b[39m \u001b[38;5;241m+\u001b[39m name \u001b[38;5;241m+\u001b[39m \u001b[38;5;124m'\u001b[39m\u001b[38;5;130;01m\\'\u001b[39;00m\u001b[38;5;124m has already been set! \u001b[39m\u001b[38;5;124m'\u001b[39m\n\u001b[1;32m    291\u001b[0m     msg \u001b[38;5;241m+\u001b[39m\u001b[38;5;241m=\u001b[39m \u001b[38;5;124m'\u001b[39m\u001b[38;5;124mPlease use a different name.\u001b[39m\u001b[38;5;124m'\u001b[39m\n\u001b[0;32m--> 292\u001b[0m     \u001b[38;5;28;01mraise\u001b[39;00m \u001b[38;5;167;01mValueError\u001b[39;00m(msg)\n\u001b[1;32m    294\u001b[0m new_field: Dict[\u001b[38;5;28mstr\u001b[39m, FieldInfo] \u001b[38;5;241m=\u001b[39m {}\n\u001b[1;32m    295\u001b[0m new_annotation: Dict[\u001b[38;5;28mstr\u001b[39m, Optional[\u001b[38;5;28mtype\u001b[39m]] \u001b[38;5;241m=\u001b[39m {}\n",
      "\u001b[0;31mValueError\u001b[0m: Attribute 'R' has already been set! Please use a different name."
     ]
    }
   ],
   "source": [
    "bla = rc3 + rc4\n",
    "bla.get_updatable_parameter_values()"
   ]
  },
  {
   "cell_type": "code",
   "execution_count": 7,
   "metadata": {},
   "outputs": [
    {
     "data": {
      "text/plain": [
       "dict_keys(['updatable'])"
      ]
     },
     "execution_count": 7,
     "metadata": {},
     "output_type": "execute_result"
    }
   ],
   "source": [
    "test = HealthVariableCollection()\n",
    "test.model_fields.keys()"
   ]
  },
  {
   "cell_type": "code",
   "execution_count": 5,
   "metadata": {},
   "outputs": [
    {
     "name": "stdout",
     "output_type": "stream",
     "text": [
      "[1, 2, 3, 4, 5, 6, 7, 8, 9, 10, 11, 12, 13, 14, 15, 16, 17, 18, 3.141592653589793]\n",
      "[1, 2, 3, 4, 5, 6, 7, 8, 9, 10, 11, 12, 13, 14, 15, 16, 17, 18, 3.141592653589793, 1, 1, 2, 3, 5, 8, 13, 21]\n",
      "[1, 2, 3, 4, 5, 6, 7, 8, 9, 10, 11, 12, 13, 14, 15, 16, 17, 18, 6.283185307179586, 1, 1, 2, 3, 5, 8, 13, 21]\n"
     ]
    },
    {
     "ename": "ValueError",
     "evalue": "Attribute 'R' has already been set! Please use a different name.",
     "output_type": "error",
     "traceback": [
      "\u001b[0;31m---------------------------------------------------------------------------\u001b[0m",
      "\u001b[0;31mValueError\u001b[0m                                Traceback (most recent call last)",
      "Cell \u001b[0;32mIn[5], line 13\u001b[0m\n\u001b[1;32m     11\u001b[0m \u001b[38;5;66;03m# test.PI.base_values\u001b[39;00m\n\u001b[1;32m     12\u001b[0m \u001b[38;5;28mprint\u001b[39m(test\u001b[38;5;241m.\u001b[39mget_updatable_parameter_values())\n\u001b[0;32m---> 13\u001b[0m test \u001b[38;5;241m+\u001b[39m\u001b[38;5;241m=\u001b[39m test\n\u001b[1;32m     14\u001b[0m \u001b[38;5;28mprint\u001b[39m(test\u001b[38;5;241m.\u001b[39mget_updatable_parameter_values())\n",
      "File \u001b[0;32m~/Library/CloudStorage/Dropbox/Argonne/Code/auto-soh/asoh/models/base.py:322\u001b[0m, in \u001b[0;36mHealthVariableCollection.__iadd__\u001b[0;34m(self, variable)\u001b[0m\n\u001b[1;32m    320\u001b[0m     \u001b[38;5;28;01mfor\u001b[39;00m hv_name \u001b[38;5;129;01min\u001b[39;00m variable\u001b[38;5;241m.\u001b[39mmodel_fields\u001b[38;5;241m.\u001b[39mkeys():\n\u001b[1;32m    321\u001b[0m         \u001b[38;5;28;01mif\u001b[39;00m hv_name \u001b[38;5;241m!=\u001b[39m \u001b[38;5;124m'\u001b[39m\u001b[38;5;124mupdatable\u001b[39m\u001b[38;5;124m'\u001b[39m:\n\u001b[0;32m--> 322\u001b[0m             \u001b[38;5;28;43mself\u001b[39;49m\u001b[38;5;241;43m.\u001b[39;49m\u001b[43madd_health_variable\u001b[49m\u001b[43m(\u001b[49m\n\u001b[1;32m    323\u001b[0m \u001b[43m                \u001b[49m\u001b[43mvariable\u001b[49m\u001b[38;5;241;43m=\u001b[39;49m\u001b[38;5;28;43mgetattr\u001b[39;49m\u001b[43m(\u001b[49m\u001b[43mvariable\u001b[49m\u001b[43m,\u001b[49m\u001b[43m \u001b[49m\u001b[43mhv_name\u001b[49m\u001b[43m)\u001b[49m\u001b[43m,\u001b[49m\n\u001b[1;32m    324\u001b[0m \u001b[43m                \u001b[49m\u001b[43mname\u001b[49m\u001b[38;5;241;43m=\u001b[39;49m\u001b[43mhv_name\u001b[49m\u001b[43m)\u001b[49m\n\u001b[1;32m    325\u001b[0m \u001b[38;5;28;01melif\u001b[39;00m \u001b[38;5;28misinstance\u001b[39m(variable, HealthVariable):\n\u001b[1;32m    326\u001b[0m     \u001b[38;5;28mself\u001b[39m\u001b[38;5;241m.\u001b[39madd_health_variable(variable\u001b[38;5;241m=\u001b[39mvariable)\n",
      "File \u001b[0;32m~/python_envs/ASOH_Diagnostics/lib/python3.9/site-packages/pydantic/validate_call_decorator.py:59\u001b[0m, in \u001b[0;36mvalidate_call.<locals>.validate.<locals>.wrapper_function\u001b[0;34m(*args, **kwargs)\u001b[0m\n\u001b[1;32m     57\u001b[0m \u001b[38;5;129m@functools\u001b[39m\u001b[38;5;241m.\u001b[39mwraps(function)\n\u001b[1;32m     58\u001b[0m \u001b[38;5;28;01mdef\u001b[39;00m \u001b[38;5;21mwrapper_function\u001b[39m(\u001b[38;5;241m*\u001b[39margs, \u001b[38;5;241m*\u001b[39m\u001b[38;5;241m*\u001b[39mkwargs):\n\u001b[0;32m---> 59\u001b[0m     \u001b[38;5;28;01mreturn\u001b[39;00m \u001b[43mvalidate_call_wrapper\u001b[49m\u001b[43m(\u001b[49m\u001b[38;5;241;43m*\u001b[39;49m\u001b[43margs\u001b[49m\u001b[43m,\u001b[49m\u001b[43m \u001b[49m\u001b[38;5;241;43m*\u001b[39;49m\u001b[38;5;241;43m*\u001b[39;49m\u001b[43mkwargs\u001b[49m\u001b[43m)\u001b[49m\n",
      "File \u001b[0;32m~/python_envs/ASOH_Diagnostics/lib/python3.9/site-packages/pydantic/_internal/_validate_call.py:81\u001b[0m, in \u001b[0;36mValidateCallWrapper.__call__\u001b[0;34m(self, *args, **kwargs)\u001b[0m\n\u001b[1;32m     80\u001b[0m \u001b[38;5;28;01mdef\u001b[39;00m \u001b[38;5;21m__call__\u001b[39m(\u001b[38;5;28mself\u001b[39m, \u001b[38;5;241m*\u001b[39margs: Any, \u001b[38;5;241m*\u001b[39m\u001b[38;5;241m*\u001b[39mkwargs: Any) \u001b[38;5;241m-\u001b[39m\u001b[38;5;241m>\u001b[39m Any:\n\u001b[0;32m---> 81\u001b[0m     res \u001b[38;5;241m=\u001b[39m \u001b[38;5;28;43mself\u001b[39;49m\u001b[38;5;241;43m.\u001b[39;49m\u001b[43m__pydantic_validator__\u001b[49m\u001b[38;5;241;43m.\u001b[39;49m\u001b[43mvalidate_python\u001b[49m\u001b[43m(\u001b[49m\u001b[43mpydantic_core\u001b[49m\u001b[38;5;241;43m.\u001b[39;49m\u001b[43mArgsKwargs\u001b[49m\u001b[43m(\u001b[49m\u001b[43margs\u001b[49m\u001b[43m,\u001b[49m\u001b[43m \u001b[49m\u001b[43mkwargs\u001b[49m\u001b[43m)\u001b[49m\u001b[43m)\u001b[49m\n\u001b[1;32m     82\u001b[0m     \u001b[38;5;28;01mif\u001b[39;00m \u001b[38;5;28mself\u001b[39m\u001b[38;5;241m.\u001b[39m__return_pydantic_validator__:\n\u001b[1;32m     83\u001b[0m         \u001b[38;5;28;01mreturn\u001b[39;00m \u001b[38;5;28mself\u001b[39m\u001b[38;5;241m.\u001b[39m__return_pydantic_validator__(res)\n",
      "File \u001b[0;32m~/Library/CloudStorage/Dropbox/Argonne/Code/auto-soh/asoh/models/base.py:279\u001b[0m, in \u001b[0;36mHealthVariableCollection.add_health_variable\u001b[0;34m(self, variable, name)\u001b[0m\n\u001b[1;32m    277\u001b[0m     msg \u001b[38;5;241m=\u001b[39m \u001b[38;5;124m'\u001b[39m\u001b[38;5;124mAttribute \u001b[39m\u001b[38;5;130;01m\\'\u001b[39;00m\u001b[38;5;124m'\u001b[39m \u001b[38;5;241m+\u001b[39m name \u001b[38;5;241m+\u001b[39m \u001b[38;5;124m'\u001b[39m\u001b[38;5;130;01m\\'\u001b[39;00m\u001b[38;5;124m has already been set! \u001b[39m\u001b[38;5;124m'\u001b[39m\n\u001b[1;32m    278\u001b[0m     msg \u001b[38;5;241m+\u001b[39m\u001b[38;5;241m=\u001b[39m \u001b[38;5;124m'\u001b[39m\u001b[38;5;124mPlease use a different name.\u001b[39m\u001b[38;5;124m'\u001b[39m\n\u001b[0;32m--> 279\u001b[0m     \u001b[38;5;28;01mraise\u001b[39;00m \u001b[38;5;167;01mValueError\u001b[39;00m(msg)\n\u001b[1;32m    281\u001b[0m new_field: Dict[\u001b[38;5;28mstr\u001b[39m, FieldInfo] \u001b[38;5;241m=\u001b[39m {}\n\u001b[1;32m    282\u001b[0m new_annotation: Dict[\u001b[38;5;28mstr\u001b[39m, Optional[\u001b[38;5;28mtype\u001b[39m]] \u001b[38;5;241m=\u001b[39m {}\n",
      "\u001b[0;31mValueError\u001b[0m: Attribute 'R' has already been set! Please use a different name."
     ]
    }
   ],
   "source": [
    "class Dummy(HealthVariable):\n",
    "    name: str = 'dummy'\n",
    "\n",
    "pi_HV = Dummy(base_values=np.pi, name='PI')\n",
    "fib_HV = Dummy(base_values=[1,1,2,3,5,8,13,21], name='Fib')\n",
    "test = rc + pi_HV\n",
    "print(test.get_updatable_parameter_values())\n",
    "test = test + fib_HV\n",
    "print(test.get_updatable_parameter_values())\n",
    "test.update(new_values=2*np.pi, parameters=('PI',))\n",
    "# test.PI.base_values\n",
    "print(test.get_updatable_parameter_values())\n",
    "test += test\n",
    "print(test.get_updatable_parameter_values())"
   ]
  },
  {
   "cell_type": "code",
   "execution_count": 4,
   "metadata": {},
   "outputs": [
    {
     "ename": "ValidationError",
     "evalue": "1 validation error for ValidatorIterator\n0\n  Input should be a valid dictionary or instance of HealthVariable [type=model_type, input_value=1, input_type=int]\n    For further information visit https://errors.pydantic.dev/2.7/v/model_type",
     "output_type": "error",
     "traceback": [
      "\u001b[0;31m---------------------------------------------------------------------------\u001b[0m",
      "\u001b[0;31mValidationError\u001b[0m                           Traceback (most recent call last)",
      "Cell \u001b[0;32mIn[4], line 1\u001b[0m\n\u001b[0;32m----> 1\u001b[0m rc \u001b[38;5;241m+\u001b[39m\u001b[38;5;241m=\u001b[39m [\u001b[38;5;241m1\u001b[39m, \u001b[38;5;241m2\u001b[39m]\n\u001b[1;32m      2\u001b[0m \u001b[38;5;28mprint\u001b[39m(rc\u001b[38;5;241m.\u001b[39mget_updatable_parameter_values())\n",
      "File \u001b[0;32m~/python_envs/ASOH_Diagnostics/lib/python3.9/site-packages/pydantic/validate_call_decorator.py:59\u001b[0m, in \u001b[0;36mvalidate_call.<locals>.validate.<locals>.wrapper_function\u001b[0;34m(*args, **kwargs)\u001b[0m\n\u001b[1;32m     57\u001b[0m \u001b[38;5;129m@functools\u001b[39m\u001b[38;5;241m.\u001b[39mwraps(function)\n\u001b[1;32m     58\u001b[0m \u001b[38;5;28;01mdef\u001b[39;00m \u001b[38;5;21mwrapper_function\u001b[39m(\u001b[38;5;241m*\u001b[39margs, \u001b[38;5;241m*\u001b[39m\u001b[38;5;241m*\u001b[39mkwargs):\n\u001b[0;32m---> 59\u001b[0m     \u001b[38;5;28;01mreturn\u001b[39;00m \u001b[43mvalidate_call_wrapper\u001b[49m\u001b[43m(\u001b[49m\u001b[38;5;241;43m*\u001b[39;49m\u001b[43margs\u001b[49m\u001b[43m,\u001b[49m\u001b[43m \u001b[49m\u001b[38;5;241;43m*\u001b[39;49m\u001b[38;5;241;43m*\u001b[39;49m\u001b[43mkwargs\u001b[49m\u001b[43m)\u001b[49m\n",
      "File \u001b[0;32m~/python_envs/ASOH_Diagnostics/lib/python3.9/site-packages/pydantic/_internal/_validate_call.py:81\u001b[0m, in \u001b[0;36mValidateCallWrapper.__call__\u001b[0;34m(self, *args, **kwargs)\u001b[0m\n\u001b[1;32m     80\u001b[0m \u001b[38;5;28;01mdef\u001b[39;00m \u001b[38;5;21m__call__\u001b[39m(\u001b[38;5;28mself\u001b[39m, \u001b[38;5;241m*\u001b[39margs: Any, \u001b[38;5;241m*\u001b[39m\u001b[38;5;241m*\u001b[39mkwargs: Any) \u001b[38;5;241m-\u001b[39m\u001b[38;5;241m>\u001b[39m Any:\n\u001b[0;32m---> 81\u001b[0m     res \u001b[38;5;241m=\u001b[39m \u001b[38;5;28;43mself\u001b[39;49m\u001b[38;5;241;43m.\u001b[39;49m\u001b[43m__pydantic_validator__\u001b[49m\u001b[38;5;241;43m.\u001b[39;49m\u001b[43mvalidate_python\u001b[49m\u001b[43m(\u001b[49m\u001b[43mpydantic_core\u001b[49m\u001b[38;5;241;43m.\u001b[39;49m\u001b[43mArgsKwargs\u001b[49m\u001b[43m(\u001b[49m\u001b[43margs\u001b[49m\u001b[43m,\u001b[49m\u001b[43m \u001b[49m\u001b[43mkwargs\u001b[49m\u001b[43m)\u001b[49m\u001b[43m)\u001b[49m\n\u001b[1;32m     82\u001b[0m     \u001b[38;5;28;01mif\u001b[39;00m \u001b[38;5;28mself\u001b[39m\u001b[38;5;241m.\u001b[39m__return_pydantic_validator__:\n\u001b[1;32m     83\u001b[0m         \u001b[38;5;28;01mreturn\u001b[39;00m \u001b[38;5;28mself\u001b[39m\u001b[38;5;241m.\u001b[39m__return_pydantic_validator__(res)\n",
      "File \u001b[0;32m~/Library/CloudStorage/Dropbox/Argonne/Code/auto-soh/asoh/models/base.py:328\u001b[0m, in \u001b[0;36mHealthVariableCollection.__iadd__\u001b[0;34m(self, variable)\u001b[0m\n\u001b[1;32m    326\u001b[0m     \u001b[38;5;28mself\u001b[39m\u001b[38;5;241m.\u001b[39madd_health_variable(variable\u001b[38;5;241m=\u001b[39mvariable)\n\u001b[1;32m    327\u001b[0m \u001b[38;5;28;01melif\u001b[39;00m \u001b[38;5;28misinstance\u001b[39m(variable, Iterable):\n\u001b[0;32m--> 328\u001b[0m     \u001b[38;5;28;01mfor\u001b[39;00m HV \u001b[38;5;129;01min\u001b[39;00m variable:\n\u001b[1;32m    329\u001b[0m         \u001b[38;5;28mself\u001b[39m\u001b[38;5;241m.\u001b[39madd_health_variable(variable\u001b[38;5;241m=\u001b[39mHV)\n\u001b[1;32m    330\u001b[0m \u001b[38;5;28;01mreturn\u001b[39;00m \u001b[38;5;28mself\u001b[39m\n",
      "\u001b[0;31mValidationError\u001b[0m: 1 validation error for ValidatorIterator\n0\n  Input should be a valid dictionary or instance of HealthVariable [type=model_type, input_value=1, input_type=int]\n    For further information visit https://errors.pydantic.dev/2.7/v/model_type"
     ]
    }
   ],
   "source": [
    "rc += [1, 2]\n",
    "print(rc.get_updatable_parameter_values())"
   ]
  },
  {
   "cell_type": "code",
   "execution_count": 6,
   "metadata": {},
   "outputs": [
    {
     "name": "stdout",
     "output_type": "stream",
     "text": [
      "dict_keys(['Capacitance', 'Dummy', 'HealthVariable', 'Resistance'])\n",
      "{'R': <class 'asoh.models.ecm.Resistance'>, 'C': <class 'asoh.models.ecm.Capacitance'>, 'updatable': typing.Union[typing.Literal[False], tuple[str, ...]], 'PI': <class 'asoh.models.base.HealthVariable'>, 'Fib': <class '__main__.Dummy'>}\n",
      "('R', 'C', 'PI')\n"
     ]
    }
   ],
   "source": [
    "new_variable = HealthVariable(base_values=np.pi)\n",
    "\n",
    "rc.add_health_variable(variable=HealthVariable(base_values=np.pi), name='PI')\n",
    "print(rc.model_json_schema()['$defs'].keys())\n",
    "print(rc.__annotations__)\n",
    "print(rc.updatable)\n"
   ]
  },
  {
   "cell_type": "code",
   "execution_count": 3,
   "metadata": {},
   "outputs": [
    {
     "data": {
      "text/plain": [
       "{'updatable': ('R', 'C', 'PI'),\n",
       " 'R': {'base_values': [1, 2, 3, 4, 5, 6, 7, 8, 9, 10],\n",
       "  'updatable': ('base_values',),\n",
       "  'soc_pinpoints': [np.float64(0.0),\n",
       "   np.float64(0.1111111111111111),\n",
       "   np.float64(0.2222222222222222),\n",
       "   np.float64(0.3333333333333333),\n",
       "   np.float64(0.4444444444444444),\n",
       "   np.float64(0.5555555555555556),\n",
       "   np.float64(0.6666666666666666),\n",
       "   np.float64(0.7777777777777777),\n",
       "   np.float64(0.8888888888888888),\n",
       "   np.float64(1.0)],\n",
       "  'interpolation_style': 'linear',\n",
       "  'reference_temperature': 25,\n",
       "  'temperature_dependence_factor': 0,\n",
       "  'updatable_len': 10,\n",
       "  '_interp_func': <scipy.interpolate._interpolate.interp1d at 0x104c482c0>},\n",
       " 'C': {'base_values': [11, 12, 13, 14, 15, 16, 17, 18],\n",
       "  'updatable': ('base_values',),\n",
       "  'soc_pinpoints': [np.float64(0.0),\n",
       "   np.float64(0.14285714285714285),\n",
       "   np.float64(0.2857142857142857),\n",
       "   np.float64(0.42857142857142855),\n",
       "   np.float64(0.5714285714285714),\n",
       "   np.float64(0.7142857142857142),\n",
       "   np.float64(0.8571428571428571),\n",
       "   np.float64(1.0)],\n",
       "  'interpolation_style': 'linear',\n",
       "  'updatable_len': 8,\n",
       "  '_interp_func': <scipy.interpolate._interpolate.interp1d at 0x104c48720>},\n",
       " 'PI': {'base_values': 3.141592653589793,\n",
       "  'updatable': ('base_values',),\n",
       "  'updatable_len': 1},\n",
       " 'updatable_len': 19}"
      ]
     },
     "execution_count": 3,
     "metadata": {},
     "output_type": "execute_result"
    }
   ],
   "source": [
    "rc.model_dump()"
   ]
  },
  {
   "cell_type": "code",
   "execution_count": 4,
   "metadata": {},
   "outputs": [
    {
     "name": "stdout",
     "output_type": "stream",
     "text": [
      "[1, 2, 3, 4, 5, 6, 7, 8, 9, 10, 11, 12, 13, 14, 15, 16, 17, 18, 3.141592653589793]\n"
     ]
    }
   ],
   "source": [
    "print(rc.get_updatable_parameter_values())"
   ]
  },
  {
   "cell_type": "code",
   "execution_count": 5,
   "metadata": {},
   "outputs": [
    {
     "name": "stdout",
     "output_type": "stream",
     "text": [
      "dict_keys(['Capacitance', 'HealthVariable', 'Resistance'])\n",
      "{'R': <class 'asoh.models.ecm.Resistance'>, 'C': <class 'asoh.models.ecm.Capacitance'>, 'updatable': typing.Union[typing.Literal[False], tuple[str, ...]], 'PI': <class 'asoh.models.base.HealthVariable'>, 'Fib': <class 'asoh.models.base.HealthVariable'>}\n",
      "('R', 'C', 'PI', 'Fib')\n",
      "[1, 2, 3, 4, 5, 6, 7, 8, 9, 10, 11, 12, 13, 14, 15, 16, 17, 18, 3.141592653589793, 1, 1, 2, 3, 5, 8, 13]\n"
     ]
    }
   ],
   "source": [
    "rc.add_health_variable(variable=[1,1,2,3,5,8,13], name='Fib')\n",
    "print(rc.model_json_schema()['$defs'].keys())\n",
    "print(rc.__annotations__)\n",
    "print(rc.updatable)\n",
    "print(rc.get_updatable_parameter_values())"
   ]
  },
  {
   "cell_type": "code",
   "execution_count": 7,
   "metadata": {},
   "outputs": [
    {
     "name": "stdout",
     "output_type": "stream",
     "text": [
      "yes\n"
     ]
    }
   ],
   "source": [
    "if 0 != None:\n",
    "    print('yes')"
   ]
  },
  {
   "cell_type": "code",
   "execution_count": 6,
   "metadata": {},
   "outputs": [
    {
     "data": {
      "text/plain": [
       "{'updatable': ('R', 'C'),\n",
       " 'R': Resistance(base_values=[1, 2, 3, 4, 5, 6, 7, 8, 9, 10], updatable=('base_values',), soc_pinpoints=[np.float64(0.0), np.float64(0.1111111111111111), np.float64(0.2222222222222222), np.float64(0.3333333333333333), np.float64(0.4444444444444444), np.float64(0.5555555555555556), np.float64(0.6666666666666666), np.float64(0.7777777777777777), np.float64(0.8888888888888888), np.float64(1.0)], interpolation_style='linear', reference_temperature=25, temperature_dependence_factor=0, updatable_len=10),\n",
       " 'C': Capacitance(base_values=[11, 12, 13, 14, 15, 16, 17, 18], updatable=('base_values',), soc_pinpoints=[np.float64(0.0), np.float64(0.14285714285714285), np.float64(0.2857142857142857), np.float64(0.42857142857142855), np.float64(0.5714285714285714), np.float64(0.7142857142857142), np.float64(0.8571428571428571), np.float64(1.0)], interpolation_style='linear', updatable_len=8),\n",
       " 'new': HealthVariable(base_values=10.0, updatable=('base_values',), updatable_len=1)}"
      ]
     },
     "execution_count": 6,
     "metadata": {},
     "output_type": "execute_result"
    }
   ],
   "source": [
    "rc.__dict__"
   ]
  },
  {
   "cell_type": "code",
   "execution_count": 7,
   "metadata": {},
   "outputs": [
    {
     "data": {
      "text/plain": [
       "asoh.models.ecm.Resistance"
      ]
     },
     "execution_count": 7,
     "metadata": {},
     "output_type": "execute_result"
    }
   ],
   "source": [
    "type(rc.R)"
   ]
  },
  {
   "cell_type": "code",
   "execution_count": 8,
   "metadata": {},
   "outputs": [
    {
     "data": {
      "text/plain": [
       "True"
      ]
     },
     "execution_count": 8,
     "metadata": {},
     "output_type": "execute_result"
    }
   ],
   "source": [
    "isinstance(rc.R, HealthVariable)"
   ]
  },
  {
   "cell_type": "code",
   "execution_count": 12,
   "metadata": {},
   "outputs": [
    {
     "data": {
      "text/plain": [
       "True"
      ]
     },
     "execution_count": 12,
     "metadata": {},
     "output_type": "execute_result"
    }
   ],
   "source": [
    "'ab' in ['ab_1', 'ab_2', 'a', 'b', 'ab']"
   ]
  },
  {
   "cell_type": "code",
   "execution_count": 14,
   "metadata": {},
   "outputs": [
    {
     "name": "stdout",
     "output_type": "stream",
     "text": [
      "a\n"
     ]
    }
   ],
   "source": [
    "a = 'a'\n",
    "b = 'a'\n",
    "if a is not None:\n",
    "    print('a')"
   ]
  },
  {
   "cell_type": "code",
   "execution_count": 15,
   "metadata": {},
   "outputs": [
    {
     "name": "stdout",
     "output_type": "stream",
     "text": [
      "yes\n"
     ]
    },
    {
     "name": "stderr",
     "output_type": "stream",
     "text": [
      "<>:1: SyntaxWarning: \"is\" with a literal. Did you mean \"==\"?\n",
      "<>:1: SyntaxWarning: \"is\" with a literal. Did you mean \"==\"?\n",
      "/var/folders/89/mkngtyzs54l121mx93tt09z00000gp/T/ipykernel_96210/1796930161.py:1: SyntaxWarning: \"is\" with a literal. Did you mean \"==\"?\n",
      "  if 'a' is 'a':\n"
     ]
    }
   ],
   "source": [
    "if 'a' is 'a':\n",
    "    print('yes')"
   ]
  },
  {
   "cell_type": "code",
   "execution_count": 19,
   "metadata": {},
   "outputs": [
    {
     "data": {
      "text/plain": [
       "(1, 2, 3, 4)"
      ]
     },
     "execution_count": 19,
     "metadata": {},
     "output_type": "execute_result"
    }
   ],
   "source": [
    "a = (1,2,3)\n",
    "a += (4,)\n",
    "a"
   ]
  },
  {
   "cell_type": "code",
   "execution_count": 24,
   "metadata": {},
   "outputs": [
    {
     "ename": "Exception",
     "evalue": "idiot",
     "output_type": "error",
     "traceback": [
      "\u001b[0;31m---------------------------------------------------------------------------\u001b[0m",
      "\u001b[0;31mException\u001b[0m                                 Traceback (most recent call last)",
      "Cell \u001b[0;32mIn[24], line 5\u001b[0m\n\u001b[1;32m      3\u001b[0m     a[\u001b[38;5;241m4\u001b[39m] \u001b[38;5;241m=\u001b[39m \u001b[38;5;241m4\u001b[39m\n\u001b[1;32m      4\u001b[0m \u001b[38;5;28;01mexcept\u001b[39;00m \u001b[38;5;167;01mIndexError\u001b[39;00m \u001b[38;5;28;01mas\u001b[39;00m ie:\n\u001b[0;32m----> 5\u001b[0m     \u001b[38;5;28;01mraise\u001b[39;00m \u001b[38;5;167;01mException\u001b[39;00m(\u001b[38;5;124m'\u001b[39m\u001b[38;5;124midiot\u001b[39m\u001b[38;5;124m'\u001b[39m) \u001b[38;5;28;01mfrom\u001b[39;00m \u001b[38;5;28;01mNone\u001b[39;00m \u001b[38;5;66;03m# ie\u001b[39;00m\n",
      "\u001b[0;31mException\u001b[0m: idiot"
     ]
    }
   ],
   "source": [
    "a = [1,2,3]\n",
    "try:\n",
    "    a[4] = 4\n",
    "except IndexError as ie:\n",
    "    raise Exception('idiot') from None # ie"
   ]
  },
  {
   "cell_type": "code",
   "execution_count": 25,
   "metadata": {},
   "outputs": [
    {
     "data": {
      "text/plain": [
       "{'R': asoh.models.ecm.Resistance,\n",
       " 'C': asoh.models.ecm.Capacitance,\n",
       " 'updatable': typing.Union[typing.Literal[False], tuple[str, ...]]}"
      ]
     },
     "execution_count": 25,
     "metadata": {},
     "output_type": "execute_result"
    }
   ],
   "source": [
    "rc.__annotations__"
   ]
  },
  {
   "cell_type": "code",
   "execution_count": 5,
   "metadata": {},
   "outputs": [
    {
     "ename": "AttributeError",
     "evalue": "'HealthVariable' object has no attribute 'name'",
     "output_type": "error",
     "traceback": [
      "\u001b[0;31m---------------------------------------------------------------------------\u001b[0m",
      "\u001b[0;31mAttributeError\u001b[0m                            Traceback (most recent call last)",
      "Cell \u001b[0;32mIn[5], line 1\u001b[0m\n\u001b[0;32m----> 1\u001b[0m \u001b[43mrc\u001b[49m\u001b[38;5;241;43m.\u001b[39;49m\u001b[43mnew\u001b[49m\u001b[38;5;241;43m.\u001b[39;49m\u001b[43mname\u001b[49m\n",
      "File \u001b[0;32m~/python_envs/ASOH_Diagnostics/lib/python3.9/site-packages/pydantic/main.py:811\u001b[0m, in \u001b[0;36mBaseModel.__getattr__\u001b[0;34m(self, item)\u001b[0m\n\u001b[1;32m    808\u001b[0m     \u001b[38;5;28;01mreturn\u001b[39;00m \u001b[38;5;28msuper\u001b[39m()\u001b[38;5;241m.\u001b[39m\u001b[38;5;21m__getattribute__\u001b[39m(item)  \u001b[38;5;66;03m# Raises AttributeError if appropriate\u001b[39;00m\n\u001b[1;32m    809\u001b[0m \u001b[38;5;28;01melse\u001b[39;00m:\n\u001b[1;32m    810\u001b[0m     \u001b[38;5;66;03m# this is the current error\u001b[39;00m\n\u001b[0;32m--> 811\u001b[0m     \u001b[38;5;28;01mraise\u001b[39;00m \u001b[38;5;167;01mAttributeError\u001b[39;00m(\u001b[38;5;124mf\u001b[39m\u001b[38;5;124m'\u001b[39m\u001b[38;5;132;01m{\u001b[39;00m\u001b[38;5;28mtype\u001b[39m(\u001b[38;5;28mself\u001b[39m)\u001b[38;5;241m.\u001b[39m\u001b[38;5;18m__name__\u001b[39m\u001b[38;5;132;01m!r}\u001b[39;00m\u001b[38;5;124m object has no attribute \u001b[39m\u001b[38;5;132;01m{\u001b[39;00mitem\u001b[38;5;132;01m!r}\u001b[39;00m\u001b[38;5;124m'\u001b[39m)\n",
      "\u001b[0;31mAttributeError\u001b[0m: 'HealthVariable' object has no attribute 'name'"
     ]
    }
   ],
   "source": [
    "rc.new.name"
   ]
  },
  {
   "cell_type": "code",
   "execution_count": 27,
   "metadata": {},
   "outputs": [],
   "source": [
    "rc.__annotations__.update()"
   ]
  },
  {
   "cell_type": "code",
   "execution_count": 28,
   "metadata": {},
   "outputs": [
    {
     "data": {
      "text/plain": [
       "{'R': asoh.models.ecm.Resistance,\n",
       " 'C': asoh.models.ecm.Capacitance,\n",
       " 'updatable': typing.Union[typing.Literal[False], tuple[str, ...]]}"
      ]
     },
     "execution_count": 28,
     "metadata": {},
     "output_type": "execute_result"
    }
   ],
   "source": [
    "rc.__annotations__"
   ]
  },
  {
   "cell_type": "code",
   "execution_count": 2,
   "metadata": {},
   "outputs": [
    {
     "name": "stdout",
     "output_type": "stream",
     "text": [
      "True\n",
      "True\n",
      "True\n"
     ]
    }
   ],
   "source": [
    "from typing import Iterable\n",
    "\n",
    "print(isinstance([1,2,3], Iterable))\n",
    "print(isinstance((1,2,3), Iterable))\n",
    "print(isinstance(rc, Iterable))"
   ]
  },
  {
   "cell_type": "code",
   "execution_count": 6,
   "metadata": {},
   "outputs": [
    {
     "ename": "ValidationError",
     "evalue": "1 validation error for Dummy\nb\n  Field required [type=missing, input_value={'base_values': 3.141592653589793, 'name': 'PI'}, input_type=dict]\n    For further information visit https://errors.pydantic.dev/2.7/v/missing",
     "output_type": "error",
     "traceback": [
      "\u001b[0;31m---------------------------------------------------------------------------\u001b[0m",
      "\u001b[0;31mValidationError\u001b[0m                           Traceback (most recent call last)",
      "Cell \u001b[0;32mIn[6], line 5\u001b[0m\n\u001b[1;32m      2\u001b[0m     name: \u001b[38;5;28mstr\u001b[39m \u001b[38;5;241m=\u001b[39m \u001b[38;5;124m'\u001b[39m\u001b[38;5;124mdummy\u001b[39m\u001b[38;5;124m'\u001b[39m\n\u001b[1;32m      3\u001b[0m     b: Optional[\u001b[38;5;28mstr\u001b[39m]\n\u001b[0;32m----> 5\u001b[0m pi_HV \u001b[38;5;241m=\u001b[39m \u001b[43mDummy\u001b[49m\u001b[43m(\u001b[49m\u001b[43mbase_values\u001b[49m\u001b[38;5;241;43m=\u001b[39;49m\u001b[43mnp\u001b[49m\u001b[38;5;241;43m.\u001b[39;49m\u001b[43mpi\u001b[49m\u001b[43m,\u001b[49m\u001b[43m \u001b[49m\u001b[43mname\u001b[49m\u001b[38;5;241;43m=\u001b[39;49m\u001b[38;5;124;43m'\u001b[39;49m\u001b[38;5;124;43mPI\u001b[39;49m\u001b[38;5;124;43m'\u001b[39;49m\u001b[43m)\u001b[49m\n\u001b[1;32m      6\u001b[0m fib_HV \u001b[38;5;241m=\u001b[39m Dummy(base_values\u001b[38;5;241m=\u001b[39m[\u001b[38;5;241m1\u001b[39m,\u001b[38;5;241m1\u001b[39m,\u001b[38;5;241m2\u001b[39m,\u001b[38;5;241m3\u001b[39m,\u001b[38;5;241m5\u001b[39m,\u001b[38;5;241m8\u001b[39m,\u001b[38;5;241m13\u001b[39m,\u001b[38;5;241m21\u001b[39m], name\u001b[38;5;241m=\u001b[39m\u001b[38;5;124m'\u001b[39m\u001b[38;5;124mFib\u001b[39m\u001b[38;5;124m'\u001b[39m)\n\u001b[1;32m      7\u001b[0m test \u001b[38;5;241m=\u001b[39m rc \u001b[38;5;241m+\u001b[39m pi_HV\n",
      "File \u001b[0;32m~/python_envs/ASOH_Diagnostics/lib/python3.9/site-packages/pydantic/main.py:176\u001b[0m, in \u001b[0;36mBaseModel.__init__\u001b[0;34m(self, **data)\u001b[0m\n\u001b[1;32m    174\u001b[0m \u001b[38;5;66;03m# `__tracebackhide__` tells pytest and some other tools to omit this function from tracebacks\u001b[39;00m\n\u001b[1;32m    175\u001b[0m __tracebackhide__ \u001b[38;5;241m=\u001b[39m \u001b[38;5;28;01mTrue\u001b[39;00m\n\u001b[0;32m--> 176\u001b[0m \u001b[38;5;28;43mself\u001b[39;49m\u001b[38;5;241;43m.\u001b[39;49m\u001b[43m__pydantic_validator__\u001b[49m\u001b[38;5;241;43m.\u001b[39;49m\u001b[43mvalidate_python\u001b[49m\u001b[43m(\u001b[49m\u001b[43mdata\u001b[49m\u001b[43m,\u001b[49m\u001b[43m \u001b[49m\u001b[43mself_instance\u001b[49m\u001b[38;5;241;43m=\u001b[39;49m\u001b[38;5;28;43mself\u001b[39;49m\u001b[43m)\u001b[49m\n",
      "\u001b[0;31mValidationError\u001b[0m: 1 validation error for Dummy\nb\n  Field required [type=missing, input_value={'base_values': 3.141592653589793, 'name': 'PI'}, input_type=dict]\n    For further information visit https://errors.pydantic.dev/2.7/v/missing"
     ]
    }
   ],
   "source": [
    "class Dummy(HealthVariable):\n",
    "    name: str = 'dummy'\n",
    "    b: Optional[str]\n",
    "\n",
    "pi_HV = Dummy(base_values=np.pi, name='PI')\n",
    "fib_HV = Dummy(base_values=[1,1,2,3,5,8,13,21], name='Fib')\n",
    "test = rc + pi_HV\n",
    "print(test.get_updatable_parameter_values())\n",
    "test = test + fib_HV\n",
    "print(test.get_updatable_parameter_values())\n",
    "test.PI.update(new_values=[np.pi, 2*np.pi])\n",
    "test.PI.base_values\n",
    "# print(test.get_updatable_parameter_values())"
   ]
  },
  {
   "cell_type": "code",
   "execution_count": 5,
   "metadata": {},
   "outputs": [
    {
     "data": {
      "text/plain": [
       "False"
      ]
     },
     "execution_count": 5,
     "metadata": {},
     "output_type": "execute_result"
    }
   ],
   "source": [
    "import numbers\n",
    "isinstance(None, numbers.Number)"
   ]
  },
  {
   "cell_type": "code",
   "execution_count": 12,
   "metadata": {},
   "outputs": [
    {
     "name": "stdout",
     "output_type": "stream",
     "text": [
      "nice\n"
     ]
    }
   ],
   "source": [
    "a = False\n",
    "if a is None:\n",
    "    print('f')\n",
    "else:\n",
    "    print('nice')"
   ]
  },
  {
   "cell_type": "code",
   "execution_count": 6,
   "metadata": {},
   "outputs": [
    {
     "ename": "ValidationError",
     "evalue": "1 validation error for MaxTheoreticalCapacity\nname\n  Input should be 'Qt' [type=literal_error, input_value='qt', input_type=str]\n    For further information visit https://errors.pydantic.dev/2.7/v/literal_error",
     "output_type": "error",
     "traceback": [
      "\u001b[0;31m---------------------------------------------------------------------------\u001b[0m",
      "\u001b[0;31mValidationError\u001b[0m                           Traceback (most recent call last)",
      "Cell \u001b[0;32mIn[6], line 3\u001b[0m\n\u001b[1;32m      1\u001b[0m \u001b[38;5;28;01mfrom\u001b[39;00m \u001b[38;5;21;01masoh\u001b[39;00m\u001b[38;5;21;01m.\u001b[39;00m\u001b[38;5;21;01mmodels\u001b[39;00m\u001b[38;5;21;01m.\u001b[39;00m\u001b[38;5;21;01mecm\u001b[39;00m \u001b[38;5;28;01mimport\u001b[39;00m MaxTheoreticalCapacity\n\u001b[1;32m      2\u001b[0m \u001b[38;5;28;01mfrom\u001b[39;00m \u001b[38;5;21;01masoh\u001b[39;00m\u001b[38;5;21;01m.\u001b[39;00m\u001b[38;5;21;01mmodels\u001b[39;00m\u001b[38;5;21;01m.\u001b[39;00m\u001b[38;5;21;01mbase\u001b[39;00m \u001b[38;5;28;01mimport\u001b[39;00m HealthVariableCollection\n\u001b[0;32m----> 3\u001b[0m test \u001b[38;5;241m=\u001b[39m \u001b[43mMaxTheoreticalCapacity\u001b[49m\u001b[43m(\u001b[49m\u001b[43mbase_values\u001b[49m\u001b[38;5;241;43m=\u001b[39;49m\u001b[38;5;241;43m10\u001b[39;49m\u001b[43m,\u001b[49m\u001b[43m \u001b[49m\u001b[43mname\u001b[49m\u001b[38;5;241;43m=\u001b[39;49m\u001b[38;5;124;43m'\u001b[39;49m\u001b[38;5;124;43mqt\u001b[39;49m\u001b[38;5;124;43m'\u001b[39;49m\u001b[43m)\u001b[49m\n\u001b[1;32m      4\u001b[0m dummy \u001b[38;5;241m=\u001b[39m HealthVariableCollection()\n\u001b[1;32m      5\u001b[0m \u001b[38;5;28mprint\u001b[39m(dummy\u001b[38;5;241m.\u001b[39mupdatable)\n",
      "File \u001b[0;32m~/python_envs/ASOH_Diagnostics/lib/python3.9/site-packages/pydantic/main.py:176\u001b[0m, in \u001b[0;36mBaseModel.__init__\u001b[0;34m(self, **data)\u001b[0m\n\u001b[1;32m    174\u001b[0m \u001b[38;5;66;03m# `__tracebackhide__` tells pytest and some other tools to omit this function from tracebacks\u001b[39;00m\n\u001b[1;32m    175\u001b[0m __tracebackhide__ \u001b[38;5;241m=\u001b[39m \u001b[38;5;28;01mTrue\u001b[39;00m\n\u001b[0;32m--> 176\u001b[0m \u001b[38;5;28;43mself\u001b[39;49m\u001b[38;5;241;43m.\u001b[39;49m\u001b[43m__pydantic_validator__\u001b[49m\u001b[38;5;241;43m.\u001b[39;49m\u001b[43mvalidate_python\u001b[49m\u001b[43m(\u001b[49m\u001b[43mdata\u001b[49m\u001b[43m,\u001b[49m\u001b[43m \u001b[49m\u001b[43mself_instance\u001b[49m\u001b[38;5;241;43m=\u001b[39;49m\u001b[38;5;28;43mself\u001b[39;49m\u001b[43m)\u001b[49m\n",
      "\u001b[0;31mValidationError\u001b[0m: 1 validation error for MaxTheoreticalCapacity\nname\n  Input should be 'Qt' [type=literal_error, input_value='qt', input_type=str]\n    For further information visit https://errors.pydantic.dev/2.7/v/literal_error"
     ]
    }
   ],
   "source": [
    "from asoh.models.ecm import MaxTheoreticalCapacity\n",
    "from asoh.models.base import HealthVariableCollection\n",
    "test = MaxTheoreticalCapacity(base_values=10, name='qt')\n",
    "dummy = HealthVariableCollection()\n",
    "print(dummy.updatable)\n",
    "dummy += test\n",
    "dummy.Qt"
   ]
  },
  {
   "cell_type": "code",
   "execution_count": 5,
   "metadata": {},
   "outputs": [
    {
     "data": {
      "text/plain": [
       "('Qt',)"
      ]
     },
     "execution_count": 5,
     "metadata": {},
     "output_type": "execute_result"
    }
   ],
   "source": [
    "dummy.updatable"
   ]
  },
  {
   "cell_type": "code",
   "execution_count": 3,
   "metadata": {},
   "outputs": [
    {
     "data": {
      "text/plain": [
       "[36000.0]"
      ]
     },
     "execution_count": 3,
     "metadata": {},
     "output_type": "execute_result"
    }
   ],
   "source": [
    "dummy.get_updatable_parameter_values()"
   ]
  },
  {
   "cell_type": "code",
   "execution_count": 3,
   "metadata": {},
   "outputs": [
    {
     "data": {
      "text/plain": [
       "array([ 0,  5, 12, 21])"
      ]
     },
     "execution_count": 3,
     "metadata": {},
     "output_type": "execute_result"
    }
   ],
   "source": [
    "import numpy as np\n",
    "a = np.arange(4)\n",
    "b = np.arange(4,8)\n",
    "a*b"
   ]
  },
  {
   "cell_type": "code",
   "execution_count": 4,
   "metadata": {},
   "outputs": [
    {
     "data": {
      "text/plain": [
       "1"
      ]
     },
     "execution_count": 4,
     "metadata": {},
     "output_type": "execute_result"
    }
   ],
   "source": [
    "int(True)"
   ]
  },
  {
   "cell_type": "code",
   "execution_count": 12,
   "metadata": {},
   "outputs": [
    {
     "data": {
      "text/plain": [
       "array([1., 2., 3., 4., 5., 6., 7.])"
      ]
     },
     "execution_count": 12,
     "metadata": {},
     "output_type": "execute_result"
    }
   ],
   "source": [
    "np.hstack(([1,2], [], 3, (4), (), (5,6,7)))"
   ]
  },
  {
   "cell_type": "code",
   "execution_count": 2,
   "metadata": {},
   "outputs": [
    {
     "name": "stdout",
     "output_type": "stream",
     "text": [
      "2\n",
      "[ 0.5   -0.083]\n",
      "2\n",
      "[0.7 0.2]\n"
     ]
    },
    {
     "ename": "ValueError",
     "evalue": "Trying to update ('i_rc', 'hyst') with a total length of 1, but new_values iterable provided has a length of 3!",
     "output_type": "error",
     "traceback": [
      "\u001b[0;31m---------------------------------------------------------------------------\u001b[0m",
      "\u001b[0;31mValueError\u001b[0m                                Traceback (most recent call last)",
      "Cell \u001b[0;32mIn[2], line 16\u001b[0m\n\u001b[1;32m     14\u001b[0m \u001b[38;5;28mprint\u001b[39m(\u001b[38;5;28mlen\u001b[39m(test))\n\u001b[1;32m     15\u001b[0m \u001b[38;5;28mprint\u001b[39m(test\u001b[38;5;241m.\u001b[39mto_numpy())\n\u001b[0;32m---> 16\u001b[0m \u001b[43mtest\u001b[49m\u001b[38;5;241;43m.\u001b[39;49m\u001b[43mupdate\u001b[49m\u001b[43m(\u001b[49m\u001b[43mnew_values\u001b[49m\u001b[38;5;241;43m=\u001b[39;49m\u001b[43m[\u001b[49m\u001b[38;5;241;43m0.7\u001b[39;49m\u001b[43m,\u001b[49m\u001b[43m \u001b[49m\u001b[38;5;241;43m0.2\u001b[39;49m\u001b[43m,\u001b[49m\u001b[43m \u001b[49m\u001b[38;5;241;43m3.14\u001b[39;49m\u001b[43m]\u001b[49m\u001b[43m,\u001b[49m\u001b[43m \u001b[49m\u001b[43mparameters\u001b[49m\u001b[38;5;241;43m=\u001b[39;49m\u001b[43m(\u001b[49m\u001b[38;5;124;43m'\u001b[39;49m\u001b[38;5;124;43mi_rc\u001b[39;49m\u001b[38;5;124;43m'\u001b[39;49m\u001b[43m,\u001b[49m\u001b[43m \u001b[49m\u001b[38;5;124;43m'\u001b[39;49m\u001b[38;5;124;43mhyst\u001b[39;49m\u001b[38;5;124;43m'\u001b[39;49m\u001b[43m)\u001b[49m\u001b[43m)\u001b[49m\n\u001b[1;32m     17\u001b[0m \u001b[38;5;28mprint\u001b[39m(\u001b[38;5;28mlen\u001b[39m(test))\n\u001b[1;32m     18\u001b[0m \u001b[38;5;28mprint\u001b[39m(test\u001b[38;5;241m.\u001b[39mto_numpy())\n",
      "File \u001b[0;32m~/python_envs/ASOH_Diagnostics/lib/python3.9/site-packages/pydantic/validate_call_decorator.py:59\u001b[0m, in \u001b[0;36mvalidate_call.<locals>.validate.<locals>.wrapper_function\u001b[0;34m(*args, **kwargs)\u001b[0m\n\u001b[1;32m     57\u001b[0m \u001b[38;5;129m@functools\u001b[39m\u001b[38;5;241m.\u001b[39mwraps(function)\n\u001b[1;32m     58\u001b[0m \u001b[38;5;28;01mdef\u001b[39;00m \u001b[38;5;21mwrapper_function\u001b[39m(\u001b[38;5;241m*\u001b[39margs, \u001b[38;5;241m*\u001b[39m\u001b[38;5;241m*\u001b[39mkwargs):\n\u001b[0;32m---> 59\u001b[0m     \u001b[38;5;28;01mreturn\u001b[39;00m \u001b[43mvalidate_call_wrapper\u001b[49m\u001b[43m(\u001b[49m\u001b[38;5;241;43m*\u001b[39;49m\u001b[43margs\u001b[49m\u001b[43m,\u001b[49m\u001b[43m \u001b[49m\u001b[38;5;241;43m*\u001b[39;49m\u001b[38;5;241;43m*\u001b[39;49m\u001b[43mkwargs\u001b[49m\u001b[43m)\u001b[49m\n",
      "File \u001b[0;32m~/python_envs/ASOH_Diagnostics/lib/python3.9/site-packages/pydantic/_internal/_validate_call.py:81\u001b[0m, in \u001b[0;36mValidateCallWrapper.__call__\u001b[0;34m(self, *args, **kwargs)\u001b[0m\n\u001b[1;32m     80\u001b[0m \u001b[38;5;28;01mdef\u001b[39;00m \u001b[38;5;21m__call__\u001b[39m(\u001b[38;5;28mself\u001b[39m, \u001b[38;5;241m*\u001b[39margs: Any, \u001b[38;5;241m*\u001b[39m\u001b[38;5;241m*\u001b[39mkwargs: Any) \u001b[38;5;241m-\u001b[39m\u001b[38;5;241m>\u001b[39m Any:\n\u001b[0;32m---> 81\u001b[0m     res \u001b[38;5;241m=\u001b[39m \u001b[38;5;28;43mself\u001b[39;49m\u001b[38;5;241;43m.\u001b[39;49m\u001b[43m__pydantic_validator__\u001b[49m\u001b[38;5;241;43m.\u001b[39;49m\u001b[43mvalidate_python\u001b[49m\u001b[43m(\u001b[49m\u001b[43mpydantic_core\u001b[49m\u001b[38;5;241;43m.\u001b[39;49m\u001b[43mArgsKwargs\u001b[49m\u001b[43m(\u001b[49m\u001b[43margs\u001b[49m\u001b[43m,\u001b[49m\u001b[43m \u001b[49m\u001b[43mkwargs\u001b[49m\u001b[43m)\u001b[49m\u001b[43m)\u001b[49m\n\u001b[1;32m     82\u001b[0m     \u001b[38;5;28;01mif\u001b[39;00m \u001b[38;5;28mself\u001b[39m\u001b[38;5;241m.\u001b[39m__return_pydantic_validator__:\n\u001b[1;32m     83\u001b[0m         \u001b[38;5;28;01mreturn\u001b[39;00m \u001b[38;5;28mself\u001b[39m\u001b[38;5;241m.\u001b[39m__return_pydantic_validator__(res)\n",
      "File \u001b[0;32m~/Library/CloudStorage/Dropbox/Argonne/Code/auto-soh/asoh/models/base.py:155\u001b[0m, in \u001b[0;36mHiddenVector.update\u001b[0;34m(self, new_values, parameters)\u001b[0m\n\u001b[1;32m    153\u001b[0m         \u001b[38;5;28;01mreturn\u001b[39;00m\n\u001b[1;32m    154\u001b[0m \u001b[38;5;28;01mif\u001b[39;00m \u001b[38;5;28mlen\u001b[39m(new_values) \u001b[38;5;241m!=\u001b[39m total_len:\n\u001b[0;32m--> 155\u001b[0m     \u001b[38;5;28;01mraise\u001b[39;00m \u001b[38;5;167;01mValueError\u001b[39;00m(\u001b[38;5;124m'\u001b[39m\u001b[38;5;124mTrying to update \u001b[39m\u001b[38;5;124m'\u001b[39m \u001b[38;5;241m+\u001b[39m \u001b[38;5;28mstr\u001b[39m(parameters) \u001b[38;5;241m+\u001b[39m \u001b[38;5;124m'\u001b[39m\u001b[38;5;124m with \u001b[39m\u001b[38;5;124m'\u001b[39m\n\u001b[1;32m    156\u001b[0m                      \u001b[38;5;124m'\u001b[39m\u001b[38;5;124ma total length of \u001b[39m\u001b[38;5;124m'\u001b[39m \u001b[38;5;241m+\u001b[39m \u001b[38;5;28mstr\u001b[39m(total_len) \u001b[38;5;241m+\u001b[39m \u001b[38;5;124m'\u001b[39m\u001b[38;5;124m, but \u001b[39m\u001b[38;5;124m'\u001b[39m\n\u001b[1;32m    157\u001b[0m                      \u001b[38;5;124m'\u001b[39m\u001b[38;5;124mnew_values iterable provided has a length of \u001b[39m\u001b[38;5;124m'\u001b[39m \u001b[38;5;241m+\u001b[39m\n\u001b[1;32m    158\u001b[0m                      \u001b[38;5;28mstr\u001b[39m(\u001b[38;5;28mlen\u001b[39m(new_values)) \u001b[38;5;241m+\u001b[39m \u001b[38;5;124m'\u001b[39m\u001b[38;5;124m!\u001b[39m\u001b[38;5;124m'\u001b[39m)\n\u001b[1;32m    159\u001b[0m begin_id \u001b[38;5;241m=\u001b[39m \u001b[38;5;241m0\u001b[39m\n\u001b[1;32m    160\u001b[0m \u001b[38;5;28;01mfor\u001b[39;00m param_name \u001b[38;5;129;01min\u001b[39;00m parameters:\n",
      "\u001b[0;31mValueError\u001b[0m: Trying to update ('i_rc', 'hyst') with a total length of 1, but new_values iterable provided has a length of 3!"
     ]
    }
   ],
   "source": [
    "# from asoh.models.base import *\n",
    "from asoh.models.ecm import ECMHiddenVector\n",
    "\n",
    "soc = 0.5\n",
    "q0 = 0.42\n",
    "i_rc = [0.29, -1.4]\n",
    "hyst = -0.083\n",
    "\n",
    "test = ECMHiddenVector(soc=soc, hyst=hyst,) # i_rc=i_rc,) # \n",
    "print(len(test))\n",
    "print(test.to_numpy())\n",
    "# test.update(new_values=[0.7, 0.6, 0.5, 0.4, 0.3, 0.2]) \n",
    "test.update(new_values=[0.7, 0.2], parameters=('soc', 'hyst'))\n",
    "print(len(test))\n",
    "print(test.to_numpy())\n",
    "test.update(new_values=[0.7, 0.2, 3.14], parameters=('i_rc', 'hyst'))\n",
    "print(len(test))\n",
    "print(test.to_numpy())\n",
    "test.update(new_values=q0, parameters=('q0',))\n",
    "print(len(test))\n",
    "print(test.to_numpy())"
   ]
  },
  {
   "cell_type": "code",
   "execution_count": 11,
   "metadata": {},
   "outputs": [
    {
     "name": "stdout",
     "output_type": "stream",
     "text": [
      "[ECMHiddenVector(soc=0.3, q0=[], i_rc=[], hyst=0.2), ECMHiddenVector(soc=0.3, q0=[], i_rc=[], hyst=0.2), ECMHiddenVector(soc=0.3, q0=[], i_rc=[], hyst=0.2), ECMHiddenVector(soc=0.3, q0=[], i_rc=[], hyst=0.2), ECMHiddenVector(soc=0.3, q0=[], i_rc=[], hyst=0.2)]\n"
     ]
    }
   ],
   "source": [
    "a = [test.model_copy()] * 5 # [test.model_copy() for _ in range(5)] # \n",
    "a[0].update(new_values=0.3, parameters='soc')\n",
    "print(a)"
   ]
  },
  {
   "cell_type": "code",
   "execution_count": 9,
   "metadata": {},
   "outputs": [
    {
     "data": {
      "text/plain": [
       "ECMHiddenVector(soc=0.7, q0=[], i_rc=[], hyst=0.2)"
      ]
     },
     "execution_count": 9,
     "metadata": {},
     "output_type": "execute_result"
    }
   ],
   "source": [
    "test"
   ]
  },
  {
   "cell_type": "code",
   "execution_count": 19,
   "metadata": {},
   "outputs": [
    {
     "data": {
      "text/plain": [
       "array([[0, 0],\n",
       "       [1, 1],\n",
       "       [2, 2],\n",
       "       [3, 3],\n",
       "       [4, 4],\n",
       "       [5, 5],\n",
       "       [6, 6],\n",
       "       [7, 7],\n",
       "       [8, 8],\n",
       "       [9, 9]])"
      ]
     },
     "execution_count": 19,
     "metadata": {},
     "output_type": "execute_result"
    }
   ],
   "source": [
    "import numpy as np\n",
    "a = np.arange(10)\n",
    "a = a.reshape(10,-1)\n",
    "np.hstack((a,a))"
   ]
  },
  {
   "cell_type": "code",
   "execution_count": 3,
   "metadata": {},
   "outputs": [
    {
     "name": "stdout",
     "output_type": "stream",
     "text": [
      "('time', 'current', 'temperature')\n",
      "[ 0. 12.]\n",
      "('time', 'current', 'temperature')\n",
      "[ 0. 12. 30.]\n"
     ]
    }
   ],
   "source": [
    "from asoh.models.base import InputQuantities\n",
    "\n",
    "test = InputQuantities(time = 0.0, current=12.,) # temperature=30) #\n",
    "print(test.names)\n",
    "print(test.to_numpy())\n",
    "test = InputQuantities(time = 0.0, current=12., temperature=30) #\n",
    "print(test.names)\n",
    "print(test.to_numpy())"
   ]
  },
  {
   "cell_type": "code",
   "execution_count": 15,
   "metadata": {},
   "outputs": [
    {
     "name": "stdout",
     "output_type": "stream",
     "text": [
      "[3]\n"
     ]
    }
   ],
   "source": [
    "a = 1\n",
    "b = [3 for _ in range(a)]\n",
    "if b:\n",
    "    print(b)"
   ]
  },
  {
   "cell_type": "code",
   "execution_count": 17,
   "metadata": {},
   "outputs": [
    {
     "ename": "TypeError",
     "evalue": "iteration over a 0-d array",
     "output_type": "error",
     "traceback": [
      "\u001b[0;31m---------------------------------------------------------------------------\u001b[0m",
      "\u001b[0;31mTypeError\u001b[0m                                 Traceback (most recent call last)",
      "Cell \u001b[0;32mIn[17], line 3\u001b[0m\n\u001b[1;32m      1\u001b[0m \u001b[38;5;28;01mimport\u001b[39;00m \u001b[38;5;21;01mnumpy\u001b[39;00m \u001b[38;5;28;01mas\u001b[39;00m \u001b[38;5;21;01mnp\u001b[39;00m\n\u001b[1;32m      2\u001b[0m a \u001b[38;5;241m=\u001b[39m np\u001b[38;5;241m.\u001b[39marray(\u001b[38;5;241m5\u001b[39m)\n\u001b[0;32m----> 3\u001b[0m \u001b[38;5;28;01mfor\u001b[39;00m i \u001b[38;5;129;01min\u001b[39;00m a:\n\u001b[1;32m      4\u001b[0m     \u001b[38;5;28mprint\u001b[39m(i)\n",
      "\u001b[0;31mTypeError\u001b[0m: iteration over a 0-d array"
     ]
    }
   ],
   "source": [
    "import numpy as np\n",
    "a = np.array(5)\n",
    "for i in a:\n",
    "    print(i)"
   ]
  },
  {
   "cell_type": "code",
   "execution_count": 20,
   "metadata": {},
   "outputs": [
    {
     "data": {
      "text/plain": [
       "Dummy(a='a')"
      ]
     },
     "execution_count": 20,
     "metadata": {},
     "output_type": "execute_result"
    }
   ],
   "source": [
    "from pydantic import BaseModel, Field\n",
    "class Dummy(BaseModel):\n",
    "    a: str = Field(default='a')\n",
    "test = Dummy()\n",
    "test"
   ]
  },
  {
   "cell_type": "code",
   "execution_count": 43,
   "metadata": {},
   "outputs": [
    {
     "data": {
      "text/plain": [
       "[<matplotlib.lines.Line2D at 0x13f64db80>]"
      ]
     },
     "execution_count": 43,
     "metadata": {},
     "output_type": "execute_result"
    },
    {
     "data": {
      "image/png": "[encoded data removed]",
      "text/plain": [
       "<Figure size 640x480 with 1 Axes>"
      ]
     },
     "metadata": {},
     "output_type": "display_data"
    }
   ],
   "source": [
    "import numpy as np\n",
    "import matplotlib.pyplot as plt\n",
    "from asoh.models.ecm import ReferenceOCV, EntropicOCV, OpenCircuitVoltage\n",
    "\n",
    "x_scale = 0.9\n",
    "x_off = 0.05\n",
    "y_scale = 0.15\n",
    "y_off = 3.5\n",
    "\n",
    "x = np.linspace(-x_off, 1 + x_off, 100)\n",
    "mod_x = (x_scale * x) + x_off\n",
    "y = (y_scale * np.log(mod_x/(1-mod_x))) + y_off\n",
    "# plt.plot(x,y)\n",
    "fit_y = y[np.logical_and(x>=-0.025, x<=1.025)]\n",
    "refOCV = ReferenceOCV(base_values=fit_y, interpolation_style='cubic')\n",
    "plt.plot(x,y)\n",
    "plt.plot(x, refOCV.value(x))"
   ]
  },
  {
   "cell_type": "code",
   "execution_count": 45,
   "metadata": {},
   "outputs": [
    {
     "data": {
      "text/plain": [
       "array(10)"
      ]
     },
     "execution_count": 45,
     "metadata": {},
     "output_type": "execute_result"
    }
   ],
   "source": [
    "a = -5\n",
    "b = np.where(a>0, a, 10)\n",
    "b"
   ]
  },
  {
   "cell_type": "code",
   "execution_count": 53,
   "metadata": {},
   "outputs": [
    {
     "name": "stdout",
     "output_type": "stream",
     "text": [
      "equal\n"
     ]
    },
    {
     "data": {
      "text/plain": [
       "0"
      ]
     },
     "execution_count": 53,
     "metadata": {},
     "output_type": "execute_result"
    }
   ],
   "source": [
    "a = None\n",
    "b = None\n",
    "c = 5\n",
    "if a == b:\n",
    "    print('equal')\n",
    "sum([i for i in [a,b] if i is not None])"
   ]
  },
  {
   "cell_type": "code",
   "execution_count": null,
   "metadata": {},
   "outputs": [],
   "source": []
  }
 ],
 "metadata": {
  "kernelspec": {
   "display_name": "ASOH_Diagnostics",
   "language": "python",
   "name": "python3"
  },
  "language_info": {
   "codemirror_mode": {
    "name": "ipython",
    "version": 3
   },
   "file_extension": ".py",
   "mimetype": "text/x-python",
   "name": "python",
   "nbconvert_exporter": "python",
   "pygments_lexer": "ipython3",
   "version": "3.9.6"
  }
 },
 "nbformat": 4,
 "nbformat_minor": 2
}
